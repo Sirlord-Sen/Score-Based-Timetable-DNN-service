{
 "cells": [
  {
   "cell_type": "markdown",
   "metadata": {},
   "source": [
    "# Score-Based Timetable Prediction"
   ]
  },
  {
   "cell_type": "markdown",
   "metadata": {},
   "source": [
    "## Imports"
   ]
  },
  {
   "cell_type": "code",
   "execution_count": 1,
   "metadata": {},
   "outputs": [],
   "source": [
    "%matplotlib inline\n",
    "import matplotlib.pyplot as plt\n",
    "import tensorflow as tf\n",
    "import numpy as np\n",
    "# For data manipulations\n",
    "import pandas as pd\n",
    "import os\n",
    "# api for better ML\n",
    "import sklearn\n",
    "# Normalization functions\n",
    "from sklearn.preprocessing import MinMaxScaler,QuantileTransformer,RobustScaler\n",
    "from sklearn.metrics import mean_squared_error\n",
    "from numpy import genfromtxt\n",
    "#from numba import njit, cuda,jit \n",
    "import os"
   ]
  },
  {
   "cell_type": "markdown",
   "metadata": {},
   "source": [
    "We need to import several things from Keras."
   ]
  },
  {
   "cell_type": "code",
   "execution_count": 2,
   "metadata": {},
   "outputs": [
    {
     "output_type": "stream",
     "name": "stderr",
     "text": [
      "Using TensorFlow backend.\n"
     ]
    }
   ],
   "source": [
    "# Sequencial holds the box for neurons\n",
    "from tensorflow.keras.models import Sequential\n",
    "# The various neuron manupulation functions\n",
    "from tensorflow.keras.layers import Input, Dense, GRU, Embedding, LSTM, SimpleRNN, Dropout, Bidirectional, MaxPooling1D, Conv1D, TimeDistributed, Flatten,ConvLSTM2D,RepeatVector\n",
    "# These are going to adjust the weight and biases\n",
    "from tensorflow.keras.optimizers import RMSprop,Adam\n",
    "# EarlyStopping is a callback that ends code when there is no improvement in error(validation model: pop quiz)\n",
    "# ModelCheckpoint is used to put checkpoints within the training and also saves only the best weights\n",
    "# Tensorboard keeps data logs\n",
    "# ReduceLROnPlateau prevents overshoots across the global mimnimum\n",
    "from tensorflow.keras.callbacks import EarlyStopping, ModelCheckpoint, TensorBoard, ReduceLROnPlateau\n",
    "# Just for better programming\n",
    "from keras.backend.tensorflow_backend import set_session\n"
   ]
  },
  {
   "cell_type": "code",
   "execution_count": 3,
   "metadata": {},
   "outputs": [
    {
     "output_type": "stream",
     "name": "stdout",
     "text": [
      "[name: \"/device:CPU:0\"\ndevice_type: \"CPU\"\nmemory_limit: 268435456\nlocality {\n}\nincarnation: 13570203439205308339\n, name: \"/device:XLA_CPU:0\"\ndevice_type: \"XLA_CPU\"\nmemory_limit: 17179869184\nlocality {\n}\nincarnation: 9427416405351648099\nphysical_device_desc: \"device: XLA_CPU device\"\n, name: \"/device:GPU:0\"\ndevice_type: \"GPU\"\nmemory_limit: 5066607840\nlocality {\n  bus_id: 1\n  links {\n  }\n}\nincarnation: 454338882301452780\nphysical_device_desc: \"device: 0, name: NVIDIA GeForce GTX 1060, pci bus id: 0000:01:00.0, compute capability: 6.1\"\n, name: \"/device:XLA_GPU:0\"\ndevice_type: \"XLA_GPU\"\nmemory_limit: 17179869184\nlocality {\n}\nincarnation: 17007105467415447532\nphysical_device_desc: \"device: XLA_GPU device\"\n]\nNum GPUs Available:  1\n"
     ]
    }
   ],
   "source": [
    "# Checking the GPU availabilty from tensorflow\n",
    "\n",
    "from tensorflow import keras\n",
    "from tensorflow.python.client import device_lib\n",
    "\n",
    "config = tf.compat.v1.ConfigProto()\n",
    "config.gpu_options.allow_growth = True\n",
    "sess = tf.compat.v1.Session(config=config)\n",
    "print(device_lib.list_local_devices())\n",
    "\n",
    "tf.config.experimental.list_physical_devices('GPU')\n",
    "\n",
    "print(\"Num GPUs Available: \", len(tf.config.experimental.list_physical_devices('GPU')))"
   ]
  },
  {
   "cell_type": "markdown",
   "metadata": {},
   "source": [
    "This was developed using Python 3.6 (Anaconda) and package versions:"
   ]
  },
  {
   "cell_type": "code",
   "execution_count": 4,
   "metadata": {
    "scrolled": false
   },
   "outputs": [
    {
     "output_type": "execute_result",
     "data": {
      "text/plain": [
       "'2.2.0-rc3'"
      ]
     },
     "metadata": {},
     "execution_count": 4
    }
   ],
   "source": [
    "tf.__version__"
   ]
  },
  {
   "cell_type": "code",
   "execution_count": 5,
   "metadata": {
    "scrolled": true
   },
   "outputs": [
    {
     "output_type": "execute_result",
     "data": {
      "text/plain": [
       "'2.3.0-tf'"
      ]
     },
     "metadata": {},
     "execution_count": 5
    }
   ],
   "source": [
    "tf.keras.__version__"
   ]
  },
  {
   "cell_type": "code",
   "execution_count": 6,
   "metadata": {},
   "outputs": [
    {
     "output_type": "execute_result",
     "data": {
      "text/plain": [
       "'1.0.3'"
      ]
     },
     "metadata": {},
     "execution_count": 6
    }
   ],
   "source": [
    "pd.__version__"
   ]
  },
  {
   "cell_type": "markdown",
   "metadata": {},
   "source": [
    "### Load Timetable Data\n",
    "\n"
   ]
  },
  {
   "cell_type": "code",
   "execution_count": 7,
   "metadata": {},
   "outputs": [],
   "source": [
    "data_files = [ 'data_file_algebra', 'data_file_comm', 'data_file_mech']\n",
    "file=f'E:\\Dropbox\\AI\\Data_cleaning\\Thing\\Data\\Single_courses\\{data_files[0]}.csv'\n",
    "#myData = pd.read_csv(file, delimiter=',')\n",
    "myData = pd.read_csv(file, delimiter=',', usecols=['Program','Actual CWA','Score','Study Time','Lecturer Performance','Difficulty'\n",
    "])\n",
    "#figsize=(35,5)"
   ]
  },
  {
   "cell_type": "code",
   "execution_count": 8,
   "metadata": {},
   "outputs": [
    {
     "output_type": "execute_result",
     "data": {
      "text/plain": [
       "(188, 6)"
      ]
     },
     "metadata": {},
     "execution_count": 8
    }
   ],
   "source": [
    "myData.shape"
   ]
  },
  {
   "cell_type": "code",
   "execution_count": 9,
   "metadata": {},
   "outputs": [
    {
     "output_type": "execute_result",
     "data": {
      "text/plain": [
       "          Program  Actual CWA  Score  Study Time  Lecturer Performance  \\\n",
       "0      Electrical       74.00   66.0         3.0                     4   \n",
       "1        Computer       70.00   55.0         3.0                     7   \n",
       "2      Electrical       68.30   55.0         2.0                     1   \n",
       "3      Electrical       76.00   85.0         1.0                     9   \n",
       "4     Electrical        65.00   57.0         1.0                     7   \n",
       "..            ...         ...    ...         ...                   ...   \n",
       "183      Computer       65.00   40.0         3.5                     4   \n",
       "184  Agricultural       63.67   68.0         4.5                    10   \n",
       "185      Computer       56.70   54.0         0.8                     6   \n",
       "186     Computer        65.00   40.0         3.5                     4   \n",
       "187      Computer       71.24   68.0         4.5                     7   \n",
       "\n",
       "     Difficulty  \n",
       "0             9  \n",
       "1             8  \n",
       "2             9  \n",
       "3             1  \n",
       "4             5  \n",
       "..          ...  \n",
       "183          10  \n",
       "184           5  \n",
       "185           5  \n",
       "186          10  \n",
       "187           8  \n",
       "\n",
       "[188 rows x 6 columns]"
      ],
      "text/html": "<div>\n<style scoped>\n    .dataframe tbody tr th:only-of-type {\n        vertical-align: middle;\n    }\n\n    .dataframe tbody tr th {\n        vertical-align: top;\n    }\n\n    .dataframe thead th {\n        text-align: right;\n    }\n</style>\n<table border=\"1\" class=\"dataframe\">\n  <thead>\n    <tr style=\"text-align: right;\">\n      <th></th>\n      <th>Program</th>\n      <th>Actual CWA</th>\n      <th>Score</th>\n      <th>Study Time</th>\n      <th>Lecturer Performance</th>\n      <th>Difficulty</th>\n    </tr>\n  </thead>\n  <tbody>\n    <tr>\n      <th>0</th>\n      <td>Electrical</td>\n      <td>74.00</td>\n      <td>66.0</td>\n      <td>3.0</td>\n      <td>4</td>\n      <td>9</td>\n    </tr>\n    <tr>\n      <th>1</th>\n      <td>Computer</td>\n      <td>70.00</td>\n      <td>55.0</td>\n      <td>3.0</td>\n      <td>7</td>\n      <td>8</td>\n    </tr>\n    <tr>\n      <th>2</th>\n      <td>Electrical</td>\n      <td>68.30</td>\n      <td>55.0</td>\n      <td>2.0</td>\n      <td>1</td>\n      <td>9</td>\n    </tr>\n    <tr>\n      <th>3</th>\n      <td>Electrical</td>\n      <td>76.00</td>\n      <td>85.0</td>\n      <td>1.0</td>\n      <td>9</td>\n      <td>1</td>\n    </tr>\n    <tr>\n      <th>4</th>\n      <td>Electrical</td>\n      <td>65.00</td>\n      <td>57.0</td>\n      <td>1.0</td>\n      <td>7</td>\n      <td>5</td>\n    </tr>\n    <tr>\n      <th>...</th>\n      <td>...</td>\n      <td>...</td>\n      <td>...</td>\n      <td>...</td>\n      <td>...</td>\n      <td>...</td>\n    </tr>\n    <tr>\n      <th>183</th>\n      <td>Computer</td>\n      <td>65.00</td>\n      <td>40.0</td>\n      <td>3.5</td>\n      <td>4</td>\n      <td>10</td>\n    </tr>\n    <tr>\n      <th>184</th>\n      <td>Agricultural</td>\n      <td>63.67</td>\n      <td>68.0</td>\n      <td>4.5</td>\n      <td>10</td>\n      <td>5</td>\n    </tr>\n    <tr>\n      <th>185</th>\n      <td>Computer</td>\n      <td>56.70</td>\n      <td>54.0</td>\n      <td>0.8</td>\n      <td>6</td>\n      <td>5</td>\n    </tr>\n    <tr>\n      <th>186</th>\n      <td>Computer</td>\n      <td>65.00</td>\n      <td>40.0</td>\n      <td>3.5</td>\n      <td>4</td>\n      <td>10</td>\n    </tr>\n    <tr>\n      <th>187</th>\n      <td>Computer</td>\n      <td>71.24</td>\n      <td>68.0</td>\n      <td>4.5</td>\n      <td>7</td>\n      <td>8</td>\n    </tr>\n  </tbody>\n</table>\n<p>188 rows × 6 columns</p>\n</div>"
     },
     "metadata": {},
     "execution_count": 9
    }
   ],
   "source": [
    "myData"
   ]
  },
  {
   "cell_type": "markdown",
   "metadata": {},
   "source": [
    "List of the variables used in the data-set."
   ]
  },
  {
   "cell_type": "code",
   "execution_count": 10,
   "metadata": {},
   "outputs": [
    {
     "output_type": "execute_result",
     "data": {
      "text/plain": [
       "array(['Program', 'Actual CWA', 'Score', 'Study Time',\n",
       "       'Lecturer Performance', 'Difficulty'], dtype=object)"
      ]
     },
     "metadata": {},
     "execution_count": 10
    }
   ],
   "source": [
    "data_top = myData.columns.values\n",
    "data_top"
   ]
  },
  {
   "cell_type": "markdown",
   "metadata": {},
   "source": [
    "These are the top rows of the data-set."
   ]
  },
  {
   "cell_type": "code",
   "execution_count": 11,
   "metadata": {},
   "outputs": [
    {
     "output_type": "execute_result",
     "data": {
      "text/plain": [
       "       Program  Actual CWA  Score  Study Time  Lecturer Performance  \\\n",
       "0   Electrical        74.0   66.0         3.0                     4   \n",
       "1     Computer        70.0   55.0         3.0                     7   \n",
       "2   Electrical        68.3   55.0         2.0                     1   \n",
       "3   Electrical        76.0   85.0         1.0                     9   \n",
       "4  Electrical         65.0   57.0         1.0                     7   \n",
       "\n",
       "   Difficulty  \n",
       "0           9  \n",
       "1           8  \n",
       "2           9  \n",
       "3           1  \n",
       "4           5  "
      ],
      "text/html": "<div>\n<style scoped>\n    .dataframe tbody tr th:only-of-type {\n        vertical-align: middle;\n    }\n\n    .dataframe tbody tr th {\n        vertical-align: top;\n    }\n\n    .dataframe thead th {\n        text-align: right;\n    }\n</style>\n<table border=\"1\" class=\"dataframe\">\n  <thead>\n    <tr style=\"text-align: right;\">\n      <th></th>\n      <th>Program</th>\n      <th>Actual CWA</th>\n      <th>Score</th>\n      <th>Study Time</th>\n      <th>Lecturer Performance</th>\n      <th>Difficulty</th>\n    </tr>\n  </thead>\n  <tbody>\n    <tr>\n      <th>0</th>\n      <td>Electrical</td>\n      <td>74.0</td>\n      <td>66.0</td>\n      <td>3.0</td>\n      <td>4</td>\n      <td>9</td>\n    </tr>\n    <tr>\n      <th>1</th>\n      <td>Computer</td>\n      <td>70.0</td>\n      <td>55.0</td>\n      <td>3.0</td>\n      <td>7</td>\n      <td>8</td>\n    </tr>\n    <tr>\n      <th>2</th>\n      <td>Electrical</td>\n      <td>68.3</td>\n      <td>55.0</td>\n      <td>2.0</td>\n      <td>1</td>\n      <td>9</td>\n    </tr>\n    <tr>\n      <th>3</th>\n      <td>Electrical</td>\n      <td>76.0</td>\n      <td>85.0</td>\n      <td>1.0</td>\n      <td>9</td>\n      <td>1</td>\n    </tr>\n    <tr>\n      <th>4</th>\n      <td>Electrical</td>\n      <td>65.0</td>\n      <td>57.0</td>\n      <td>1.0</td>\n      <td>7</td>\n      <td>5</td>\n    </tr>\n  </tbody>\n</table>\n</div>"
     },
     "metadata": {},
     "execution_count": 11
    }
   ],
   "source": [
    "myData.head()"
   ]
  },
  {
   "cell_type": "markdown",
   "metadata": {},
   "source": [
    "### Plotting a signal"
   ]
  },
  {
   "cell_type": "code",
   "metadata": {},
   "source": [
    "figsize=(10,10)\n",
    "plt.figure(figsize=figsize)\n",
    "plt.plot(myData['Score'],myData['Study Time'], 'o')\n",
    "plt.grid(color='b', linestyle='-.', linewidth=0.5)\n",
    "plt.show()"
   ],
   "execution_count": 12,
   "outputs": [
    {
     "output_type": "display_data",
     "data": {
      "text/plain": "<Figure size 720x720 with 1 Axes>",
      "image/svg+xml": "<?xml version=\"1.0\" encoding=\"utf-8\" standalone=\"no\"?>\r\n<!DOCTYPE svg PUBLIC \"-//W3C//DTD SVG 1.1//EN\"\r\n  \"http://www.w3.org/Graphics/SVG/1.1/DTD/svg11.dtd\">\r\n<!-- Created with matplotlib (https://matplotlib.org/) -->\r\n<svg height=\"574.678125pt\" version=\"1.1\" viewBox=\"0 0 585.7625 574.678125\" width=\"585.7625pt\" xmlns=\"http://www.w3.org/2000/svg\" xmlns:xlink=\"http://www.w3.org/1999/xlink\">\r\n <defs>\r\n  <style type=\"text/css\">\r\n*{stroke-linecap:butt;stroke-linejoin:round;}\r\n  </style>\r\n </defs>\r\n <g id=\"figure_1\">\r\n  <g id=\"patch_1\">\r\n   <path d=\"M 0 574.678125 \r\nL 585.7625 574.678125 \r\nL 585.7625 0 \r\nL 0 0 \r\nz\r\n\" style=\"fill:none;\"/>\r\n  </g>\r\n  <g id=\"axes_1\">\r\n   <g id=\"patch_2\">\r\n    <path d=\"M 20.5625 550.8 \r\nL 578.5625 550.8 \r\nL 578.5625 7.2 \r\nL 20.5625 7.2 \r\nz\r\n\" style=\"fill:#ffffff;\"/>\r\n   </g>\r\n   <g id=\"matplotlib.axis_1\">\r\n    <g id=\"xtick_1\">\r\n     <g id=\"line2d_1\">\r\n      <path clip-path=\"url(#p3d501a16c5)\" d=\"M 42.220137 550.8 \r\nL 42.220137 7.2 \r\n\" style=\"fill:none;stroke:#0000ff;stroke-dasharray:3.2,0.8,0.5,0.8;stroke-dashoffset:0;stroke-width:0.5;\"/>\r\n     </g>\r\n     <g id=\"line2d_2\">\r\n      <defs>\r\n       <path d=\"M 0 0 \r\nL 0 3.5 \r\n\" id=\"m54d9d9163a\" style=\"stroke:#000000;stroke-width:0.8;\"/>\r\n      </defs>\r\n      <g>\r\n       <use style=\"stroke:#000000;stroke-width:0.8;\" x=\"42.220137\" xlink:href=\"#m54d9d9163a\" y=\"550.8\"/>\r\n      </g>\r\n     </g>\r\n     <g id=\"text_1\">\r\n      <!-- 0 -->\r\n      <defs>\r\n       <path d=\"M 31.78125 66.40625 \r\nQ 24.171875 66.40625 20.328125 58.90625 \r\nQ 16.5 51.421875 16.5 36.375 \r\nQ 16.5 21.390625 20.328125 13.890625 \r\nQ 24.171875 6.390625 31.78125 6.390625 \r\nQ 39.453125 6.390625 43.28125 13.890625 \r\nQ 47.125 21.390625 47.125 36.375 \r\nQ 47.125 51.421875 43.28125 58.90625 \r\nQ 39.453125 66.40625 31.78125 66.40625 \r\nz\r\nM 31.78125 74.21875 \r\nQ 44.046875 74.21875 50.515625 64.515625 \r\nQ 56.984375 54.828125 56.984375 36.375 \r\nQ 56.984375 17.96875 50.515625 8.265625 \r\nQ 44.046875 -1.421875 31.78125 -1.421875 \r\nQ 19.53125 -1.421875 13.0625 8.265625 \r\nQ 6.59375 17.96875 6.59375 36.375 \r\nQ 6.59375 54.828125 13.0625 64.515625 \r\nQ 19.53125 74.21875 31.78125 74.21875 \r\nz\r\n\" id=\"DejaVuSans-48\"/>\r\n      </defs>\r\n      <g transform=\"translate(39.038887 565.398438)scale(0.1 -0.1)\">\r\n       <use xlink:href=\"#DejaVuSans-48\"/>\r\n      </g>\r\n     </g>\r\n    </g>\r\n    <g id=\"xtick_2\">\r\n     <g id=\"line2d_3\">\r\n      <path clip-path=\"url(#p3d501a16c5)\" d=\"M 154.523154 550.8 \r\nL 154.523154 7.2 \r\n\" style=\"fill:none;stroke:#0000ff;stroke-dasharray:3.2,0.8,0.5,0.8;stroke-dashoffset:0;stroke-width:0.5;\"/>\r\n     </g>\r\n     <g id=\"line2d_4\">\r\n      <g>\r\n       <use style=\"stroke:#000000;stroke-width:0.8;\" x=\"154.523154\" xlink:href=\"#m54d9d9163a\" y=\"550.8\"/>\r\n      </g>\r\n     </g>\r\n     <g id=\"text_2\">\r\n      <!-- 20 -->\r\n      <defs>\r\n       <path d=\"M 19.1875 8.296875 \r\nL 53.609375 8.296875 \r\nL 53.609375 0 \r\nL 7.328125 0 \r\nL 7.328125 8.296875 \r\nQ 12.9375 14.109375 22.625 23.890625 \r\nQ 32.328125 33.6875 34.8125 36.53125 \r\nQ 39.546875 41.84375 41.421875 45.53125 \r\nQ 43.3125 49.21875 43.3125 52.78125 \r\nQ 43.3125 58.59375 39.234375 62.25 \r\nQ 35.15625 65.921875 28.609375 65.921875 \r\nQ 23.96875 65.921875 18.8125 64.3125 \r\nQ 13.671875 62.703125 7.8125 59.421875 \r\nL 7.8125 69.390625 \r\nQ 13.765625 71.78125 18.9375 73 \r\nQ 24.125 74.21875 28.421875 74.21875 \r\nQ 39.75 74.21875 46.484375 68.546875 \r\nQ 53.21875 62.890625 53.21875 53.421875 \r\nQ 53.21875 48.921875 51.53125 44.890625 \r\nQ 49.859375 40.875 45.40625 35.40625 \r\nQ 44.1875 33.984375 37.640625 27.21875 \r\nQ 31.109375 20.453125 19.1875 8.296875 \r\nz\r\n\" id=\"DejaVuSans-50\"/>\r\n      </defs>\r\n      <g transform=\"translate(148.160654 565.398438)scale(0.1 -0.1)\">\r\n       <use xlink:href=\"#DejaVuSans-50\"/>\r\n       <use x=\"63.623047\" xlink:href=\"#DejaVuSans-48\"/>\r\n      </g>\r\n     </g>\r\n    </g>\r\n    <g id=\"xtick_3\">\r\n     <g id=\"line2d_5\">\r\n      <path clip-path=\"url(#p3d501a16c5)\" d=\"M 266.826171 550.8 \r\nL 266.826171 7.2 \r\n\" style=\"fill:none;stroke:#0000ff;stroke-dasharray:3.2,0.8,0.5,0.8;stroke-dashoffset:0;stroke-width:0.5;\"/>\r\n     </g>\r\n     <g id=\"line2d_6\">\r\n      <g>\r\n       <use style=\"stroke:#000000;stroke-width:0.8;\" x=\"266.826171\" xlink:href=\"#m54d9d9163a\" y=\"550.8\"/>\r\n      </g>\r\n     </g>\r\n     <g id=\"text_3\">\r\n      <!-- 40 -->\r\n      <defs>\r\n       <path d=\"M 37.796875 64.3125 \r\nL 12.890625 25.390625 \r\nL 37.796875 25.390625 \r\nz\r\nM 35.203125 72.90625 \r\nL 47.609375 72.90625 \r\nL 47.609375 25.390625 \r\nL 58.015625 25.390625 \r\nL 58.015625 17.1875 \r\nL 47.609375 17.1875 \r\nL 47.609375 0 \r\nL 37.796875 0 \r\nL 37.796875 17.1875 \r\nL 4.890625 17.1875 \r\nL 4.890625 26.703125 \r\nz\r\n\" id=\"DejaVuSans-52\"/>\r\n      </defs>\r\n      <g transform=\"translate(260.463671 565.398438)scale(0.1 -0.1)\">\r\n       <use xlink:href=\"#DejaVuSans-52\"/>\r\n       <use x=\"63.623047\" xlink:href=\"#DejaVuSans-48\"/>\r\n      </g>\r\n     </g>\r\n    </g>\r\n    <g id=\"xtick_4\">\r\n     <g id=\"line2d_7\">\r\n      <path clip-path=\"url(#p3d501a16c5)\" d=\"M 379.129187 550.8 \r\nL 379.129187 7.2 \r\n\" style=\"fill:none;stroke:#0000ff;stroke-dasharray:3.2,0.8,0.5,0.8;stroke-dashoffset:0;stroke-width:0.5;\"/>\r\n     </g>\r\n     <g id=\"line2d_8\">\r\n      <g>\r\n       <use style=\"stroke:#000000;stroke-width:0.8;\" x=\"379.129187\" xlink:href=\"#m54d9d9163a\" y=\"550.8\"/>\r\n      </g>\r\n     </g>\r\n     <g id=\"text_4\">\r\n      <!-- 60 -->\r\n      <defs>\r\n       <path d=\"M 33.015625 40.375 \r\nQ 26.375 40.375 22.484375 35.828125 \r\nQ 18.609375 31.296875 18.609375 23.390625 \r\nQ 18.609375 15.53125 22.484375 10.953125 \r\nQ 26.375 6.390625 33.015625 6.390625 \r\nQ 39.65625 6.390625 43.53125 10.953125 \r\nQ 47.40625 15.53125 47.40625 23.390625 \r\nQ 47.40625 31.296875 43.53125 35.828125 \r\nQ 39.65625 40.375 33.015625 40.375 \r\nz\r\nM 52.59375 71.296875 \r\nL 52.59375 62.3125 \r\nQ 48.875 64.0625 45.09375 64.984375 \r\nQ 41.3125 65.921875 37.59375 65.921875 \r\nQ 27.828125 65.921875 22.671875 59.328125 \r\nQ 17.53125 52.734375 16.796875 39.40625 \r\nQ 19.671875 43.65625 24.015625 45.921875 \r\nQ 28.375 48.1875 33.59375 48.1875 \r\nQ 44.578125 48.1875 50.953125 41.515625 \r\nQ 57.328125 34.859375 57.328125 23.390625 \r\nQ 57.328125 12.15625 50.6875 5.359375 \r\nQ 44.046875 -1.421875 33.015625 -1.421875 \r\nQ 20.359375 -1.421875 13.671875 8.265625 \r\nQ 6.984375 17.96875 6.984375 36.375 \r\nQ 6.984375 53.65625 15.1875 63.9375 \r\nQ 23.390625 74.21875 37.203125 74.21875 \r\nQ 40.921875 74.21875 44.703125 73.484375 \r\nQ 48.484375 72.75 52.59375 71.296875 \r\nz\r\n\" id=\"DejaVuSans-54\"/>\r\n      </defs>\r\n      <g transform=\"translate(372.766687 565.398438)scale(0.1 -0.1)\">\r\n       <use xlink:href=\"#DejaVuSans-54\"/>\r\n       <use x=\"63.623047\" xlink:href=\"#DejaVuSans-48\"/>\r\n      </g>\r\n     </g>\r\n    </g>\r\n    <g id=\"xtick_5\">\r\n     <g id=\"line2d_9\">\r\n      <path clip-path=\"url(#p3d501a16c5)\" d=\"M 491.432204 550.8 \r\nL 491.432204 7.2 \r\n\" style=\"fill:none;stroke:#0000ff;stroke-dasharray:3.2,0.8,0.5,0.8;stroke-dashoffset:0;stroke-width:0.5;\"/>\r\n     </g>\r\n     <g id=\"line2d_10\">\r\n      <g>\r\n       <use style=\"stroke:#000000;stroke-width:0.8;\" x=\"491.432204\" xlink:href=\"#m54d9d9163a\" y=\"550.8\"/>\r\n      </g>\r\n     </g>\r\n     <g id=\"text_5\">\r\n      <!-- 80 -->\r\n      <defs>\r\n       <path d=\"M 31.78125 34.625 \r\nQ 24.75 34.625 20.71875 30.859375 \r\nQ 16.703125 27.09375 16.703125 20.515625 \r\nQ 16.703125 13.921875 20.71875 10.15625 \r\nQ 24.75 6.390625 31.78125 6.390625 \r\nQ 38.8125 6.390625 42.859375 10.171875 \r\nQ 46.921875 13.96875 46.921875 20.515625 \r\nQ 46.921875 27.09375 42.890625 30.859375 \r\nQ 38.875 34.625 31.78125 34.625 \r\nz\r\nM 21.921875 38.8125 \r\nQ 15.578125 40.375 12.03125 44.71875 \r\nQ 8.5 49.078125 8.5 55.328125 \r\nQ 8.5 64.0625 14.71875 69.140625 \r\nQ 20.953125 74.21875 31.78125 74.21875 \r\nQ 42.671875 74.21875 48.875 69.140625 \r\nQ 55.078125 64.0625 55.078125 55.328125 \r\nQ 55.078125 49.078125 51.53125 44.71875 \r\nQ 48 40.375 41.703125 38.8125 \r\nQ 48.828125 37.15625 52.796875 32.3125 \r\nQ 56.78125 27.484375 56.78125 20.515625 \r\nQ 56.78125 9.90625 50.3125 4.234375 \r\nQ 43.84375 -1.421875 31.78125 -1.421875 \r\nQ 19.734375 -1.421875 13.25 4.234375 \r\nQ 6.78125 9.90625 6.78125 20.515625 \r\nQ 6.78125 27.484375 10.78125 32.3125 \r\nQ 14.796875 37.15625 21.921875 38.8125 \r\nz\r\nM 18.3125 54.390625 \r\nQ 18.3125 48.734375 21.84375 45.5625 \r\nQ 25.390625 42.390625 31.78125 42.390625 \r\nQ 38.140625 42.390625 41.71875 45.5625 \r\nQ 45.3125 48.734375 45.3125 54.390625 \r\nQ 45.3125 60.0625 41.71875 63.234375 \r\nQ 38.140625 66.40625 31.78125 66.40625 \r\nQ 25.390625 66.40625 21.84375 63.234375 \r\nQ 18.3125 60.0625 18.3125 54.390625 \r\nz\r\n\" id=\"DejaVuSans-56\"/>\r\n      </defs>\r\n      <g transform=\"translate(485.069704 565.398438)scale(0.1 -0.1)\">\r\n       <use xlink:href=\"#DejaVuSans-56\"/>\r\n       <use x=\"63.623047\" xlink:href=\"#DejaVuSans-48\"/>\r\n      </g>\r\n     </g>\r\n    </g>\r\n   </g>\r\n   <g id=\"matplotlib.axis_2\">\r\n    <g id=\"ytick_1\">\r\n     <g id=\"line2d_11\">\r\n      <path clip-path=\"url(#p3d501a16c5)\" d=\"M 20.5625 510.14956 \r\nL 578.5625 510.14956 \r\n\" style=\"fill:none;stroke:#0000ff;stroke-dasharray:3.2,0.8,0.5,0.8;stroke-dashoffset:0;stroke-width:0.5;\"/>\r\n     </g>\r\n     <g id=\"line2d_12\">\r\n      <defs>\r\n       <path d=\"M 0 0 \r\nL -3.5 0 \r\n\" id=\"m3d7535b7ae\" style=\"stroke:#000000;stroke-width:0.8;\"/>\r\n      </defs>\r\n      <g>\r\n       <use style=\"stroke:#000000;stroke-width:0.8;\" x=\"20.5625\" xlink:href=\"#m3d7535b7ae\" y=\"510.14956\"/>\r\n      </g>\r\n     </g>\r\n     <g id=\"text_6\">\r\n      <!-- 1 -->\r\n      <defs>\r\n       <path d=\"M 12.40625 8.296875 \r\nL 28.515625 8.296875 \r\nL 28.515625 63.921875 \r\nL 10.984375 60.40625 \r\nL 10.984375 69.390625 \r\nL 28.421875 72.90625 \r\nL 38.28125 72.90625 \r\nL 38.28125 8.296875 \r\nL 54.390625 8.296875 \r\nL 54.390625 0 \r\nL 12.40625 0 \r\nz\r\n\" id=\"DejaVuSans-49\"/>\r\n      </defs>\r\n      <g transform=\"translate(7.2 513.948779)scale(0.1 -0.1)\">\r\n       <use xlink:href=\"#DejaVuSans-49\"/>\r\n      </g>\r\n     </g>\r\n    </g>\r\n    <g id=\"ytick_2\">\r\n     <g id=\"line2d_13\">\r\n      <path clip-path=\"url(#p3d501a16c5)\" d=\"M 20.5625 430.442815 \r\nL 578.5625 430.442815 \r\n\" style=\"fill:none;stroke:#0000ff;stroke-dasharray:3.2,0.8,0.5,0.8;stroke-dashoffset:0;stroke-width:0.5;\"/>\r\n     </g>\r\n     <g id=\"line2d_14\">\r\n      <g>\r\n       <use style=\"stroke:#000000;stroke-width:0.8;\" x=\"20.5625\" xlink:href=\"#m3d7535b7ae\" y=\"430.442815\"/>\r\n      </g>\r\n     </g>\r\n     <g id=\"text_7\">\r\n      <!-- 2 -->\r\n      <g transform=\"translate(7.2 434.242034)scale(0.1 -0.1)\">\r\n       <use xlink:href=\"#DejaVuSans-50\"/>\r\n      </g>\r\n     </g>\r\n    </g>\r\n    <g id=\"ytick_3\">\r\n     <g id=\"line2d_15\">\r\n      <path clip-path=\"url(#p3d501a16c5)\" d=\"M 20.5625 350.73607 \r\nL 578.5625 350.73607 \r\n\" style=\"fill:none;stroke:#0000ff;stroke-dasharray:3.2,0.8,0.5,0.8;stroke-dashoffset:0;stroke-width:0.5;\"/>\r\n     </g>\r\n     <g id=\"line2d_16\">\r\n      <g>\r\n       <use style=\"stroke:#000000;stroke-width:0.8;\" x=\"20.5625\" xlink:href=\"#m3d7535b7ae\" y=\"350.73607\"/>\r\n      </g>\r\n     </g>\r\n     <g id=\"text_8\">\r\n      <!-- 3 -->\r\n      <defs>\r\n       <path d=\"M 40.578125 39.3125 \r\nQ 47.65625 37.796875 51.625 33 \r\nQ 55.609375 28.21875 55.609375 21.1875 \r\nQ 55.609375 10.40625 48.1875 4.484375 \r\nQ 40.765625 -1.421875 27.09375 -1.421875 \r\nQ 22.515625 -1.421875 17.65625 -0.515625 \r\nQ 12.796875 0.390625 7.625 2.203125 \r\nL 7.625 11.71875 \r\nQ 11.71875 9.328125 16.59375 8.109375 \r\nQ 21.484375 6.890625 26.8125 6.890625 \r\nQ 36.078125 6.890625 40.9375 10.546875 \r\nQ 45.796875 14.203125 45.796875 21.1875 \r\nQ 45.796875 27.640625 41.28125 31.265625 \r\nQ 36.765625 34.90625 28.71875 34.90625 \r\nL 20.21875 34.90625 \r\nL 20.21875 43.015625 \r\nL 29.109375 43.015625 \r\nQ 36.375 43.015625 40.234375 45.921875 \r\nQ 44.09375 48.828125 44.09375 54.296875 \r\nQ 44.09375 59.90625 40.109375 62.90625 \r\nQ 36.140625 65.921875 28.71875 65.921875 \r\nQ 24.65625 65.921875 20.015625 65.03125 \r\nQ 15.375 64.15625 9.8125 62.3125 \r\nL 9.8125 71.09375 \r\nQ 15.4375 72.65625 20.34375 73.4375 \r\nQ 25.25 74.21875 29.59375 74.21875 \r\nQ 40.828125 74.21875 47.359375 69.109375 \r\nQ 53.90625 64.015625 53.90625 55.328125 \r\nQ 53.90625 49.265625 50.4375 45.09375 \r\nQ 46.96875 40.921875 40.578125 39.3125 \r\nz\r\n\" id=\"DejaVuSans-51\"/>\r\n      </defs>\r\n      <g transform=\"translate(7.2 354.535289)scale(0.1 -0.1)\">\r\n       <use xlink:href=\"#DejaVuSans-51\"/>\r\n      </g>\r\n     </g>\r\n    </g>\r\n    <g id=\"ytick_4\">\r\n     <g id=\"line2d_17\">\r\n      <path clip-path=\"url(#p3d501a16c5)\" d=\"M 20.5625 271.029326 \r\nL 578.5625 271.029326 \r\n\" style=\"fill:none;stroke:#0000ff;stroke-dasharray:3.2,0.8,0.5,0.8;stroke-dashoffset:0;stroke-width:0.5;\"/>\r\n     </g>\r\n     <g id=\"line2d_18\">\r\n      <g>\r\n       <use style=\"stroke:#000000;stroke-width:0.8;\" x=\"20.5625\" xlink:href=\"#m3d7535b7ae\" y=\"271.029326\"/>\r\n      </g>\r\n     </g>\r\n     <g id=\"text_9\">\r\n      <!-- 4 -->\r\n      <g transform=\"translate(7.2 274.828544)scale(0.1 -0.1)\">\r\n       <use xlink:href=\"#DejaVuSans-52\"/>\r\n      </g>\r\n     </g>\r\n    </g>\r\n    <g id=\"ytick_5\">\r\n     <g id=\"line2d_19\">\r\n      <path clip-path=\"url(#p3d501a16c5)\" d=\"M 20.5625 191.322581 \r\nL 578.5625 191.322581 \r\n\" style=\"fill:none;stroke:#0000ff;stroke-dasharray:3.2,0.8,0.5,0.8;stroke-dashoffset:0;stroke-width:0.5;\"/>\r\n     </g>\r\n     <g id=\"line2d_20\">\r\n      <g>\r\n       <use style=\"stroke:#000000;stroke-width:0.8;\" x=\"20.5625\" xlink:href=\"#m3d7535b7ae\" y=\"191.322581\"/>\r\n      </g>\r\n     </g>\r\n     <g id=\"text_10\">\r\n      <!-- 5 -->\r\n      <defs>\r\n       <path d=\"M 10.796875 72.90625 \r\nL 49.515625 72.90625 \r\nL 49.515625 64.59375 \r\nL 19.828125 64.59375 \r\nL 19.828125 46.734375 \r\nQ 21.96875 47.46875 24.109375 47.828125 \r\nQ 26.265625 48.1875 28.421875 48.1875 \r\nQ 40.625 48.1875 47.75 41.5 \r\nQ 54.890625 34.8125 54.890625 23.390625 \r\nQ 54.890625 11.625 47.5625 5.09375 \r\nQ 40.234375 -1.421875 26.90625 -1.421875 \r\nQ 22.3125 -1.421875 17.546875 -0.640625 \r\nQ 12.796875 0.140625 7.71875 1.703125 \r\nL 7.71875 11.625 \r\nQ 12.109375 9.234375 16.796875 8.0625 \r\nQ 21.484375 6.890625 26.703125 6.890625 \r\nQ 35.15625 6.890625 40.078125 11.328125 \r\nQ 45.015625 15.765625 45.015625 23.390625 \r\nQ 45.015625 31 40.078125 35.4375 \r\nQ 35.15625 39.890625 26.703125 39.890625 \r\nQ 22.75 39.890625 18.8125 39.015625 \r\nQ 14.890625 38.140625 10.796875 36.28125 \r\nz\r\n\" id=\"DejaVuSans-53\"/>\r\n      </defs>\r\n      <g transform=\"translate(7.2 195.121799)scale(0.1 -0.1)\">\r\n       <use xlink:href=\"#DejaVuSans-53\"/>\r\n      </g>\r\n     </g>\r\n    </g>\r\n    <g id=\"ytick_6\">\r\n     <g id=\"line2d_21\">\r\n      <path clip-path=\"url(#p3d501a16c5)\" d=\"M 20.5625 111.615836 \r\nL 578.5625 111.615836 \r\n\" style=\"fill:none;stroke:#0000ff;stroke-dasharray:3.2,0.8,0.5,0.8;stroke-dashoffset:0;stroke-width:0.5;\"/>\r\n     </g>\r\n     <g id=\"line2d_22\">\r\n      <g>\r\n       <use style=\"stroke:#000000;stroke-width:0.8;\" x=\"20.5625\" xlink:href=\"#m3d7535b7ae\" y=\"111.615836\"/>\r\n      </g>\r\n     </g>\r\n     <g id=\"text_11\">\r\n      <!-- 6 -->\r\n      <g transform=\"translate(7.2 115.415055)scale(0.1 -0.1)\">\r\n       <use xlink:href=\"#DejaVuSans-54\"/>\r\n      </g>\r\n     </g>\r\n    </g>\r\n    <g id=\"ytick_7\">\r\n     <g id=\"line2d_23\">\r\n      <path clip-path=\"url(#p3d501a16c5)\" d=\"M 20.5625 31.909091 \r\nL 578.5625 31.909091 \r\n\" style=\"fill:none;stroke:#0000ff;stroke-dasharray:3.2,0.8,0.5,0.8;stroke-dashoffset:0;stroke-width:0.5;\"/>\r\n     </g>\r\n     <g id=\"line2d_24\">\r\n      <g>\r\n       <use style=\"stroke:#000000;stroke-width:0.8;\" x=\"20.5625\" xlink:href=\"#m3d7535b7ae\" y=\"31.909091\"/>\r\n      </g>\r\n     </g>\r\n     <g id=\"text_12\">\r\n      <!-- 7 -->\r\n      <defs>\r\n       <path d=\"M 8.203125 72.90625 \r\nL 55.078125 72.90625 \r\nL 55.078125 68.703125 \r\nL 28.609375 0 \r\nL 18.3125 0 \r\nL 43.21875 64.59375 \r\nL 8.203125 64.59375 \r\nz\r\n\" id=\"DejaVuSans-55\"/>\r\n      </defs>\r\n      <g transform=\"translate(7.2 35.70831)scale(0.1 -0.1)\">\r\n       <use xlink:href=\"#DejaVuSans-55\"/>\r\n      </g>\r\n     </g>\r\n    </g>\r\n   </g>\r\n   <g id=\"line2d_25\">\r\n    <defs>\r\n     <path d=\"M 0 3 \r\nC 0.795609 3 1.55874 2.683901 2.12132 2.12132 \r\nC 2.683901 1.55874 3 0.795609 3 0 \r\nC 3 -0.795609 2.683901 -1.55874 2.12132 -2.12132 \r\nC 1.55874 -2.683901 0.795609 -3 0 -3 \r\nC -0.795609 -3 -1.55874 -2.683901 -2.12132 -2.12132 \r\nC -2.683901 -1.55874 -3 -0.795609 -3 0 \r\nC -3 0.795609 -2.683901 1.55874 -2.12132 2.12132 \r\nC -1.55874 2.683901 -0.795609 3 0 3 \r\nz\r\n\" id=\"m277fd45444\" style=\"stroke:#1f77b4;\"/>\r\n    </defs>\r\n    <g clip-path=\"url(#p3d501a16c5)\">\r\n     <use style=\"fill:#1f77b4;stroke:#1f77b4;\" x=\"412.820093\" xlink:href=\"#m277fd45444\" y=\"350.73607\"/>\r\n     <use style=\"fill:#1f77b4;stroke:#1f77b4;\" x=\"351.053433\" xlink:href=\"#m277fd45444\" y=\"350.73607\"/>\r\n     <use style=\"fill:#1f77b4;stroke:#1f77b4;\" x=\"351.053433\" xlink:href=\"#m277fd45444\" y=\"430.442815\"/>\r\n     <use style=\"fill:#1f77b4;stroke:#1f77b4;\" x=\"519.507959\" xlink:href=\"#m277fd45444\" y=\"510.14956\"/>\r\n     <use style=\"fill:#1f77b4;stroke:#1f77b4;\" x=\"362.283735\" xlink:href=\"#m277fd45444\" y=\"510.14956\"/>\r\n     <use style=\"fill:#1f77b4;stroke:#1f77b4;\" x=\"452.126148\" xlink:href=\"#m277fd45444\" y=\"191.322581\"/>\r\n     <use style=\"fill:#1f77b4;stroke:#1f77b4;\" x=\"266.826171\" xlink:href=\"#m277fd45444\" y=\"510.14956\"/>\r\n     <use style=\"fill:#1f77b4;stroke:#1f77b4;\" x=\"480.201903\" xlink:href=\"#m277fd45444\" y=\"390.589443\"/>\r\n     <use style=\"fill:#1f77b4;stroke:#1f77b4;\" x=\"379.129187\" xlink:href=\"#m277fd45444\" y=\"231.175953\"/>\r\n     <use style=\"fill:#1f77b4;stroke:#1f77b4;\" x=\"379.129187\" xlink:href=\"#m277fd45444\" y=\"310.882698\"/>\r\n     <use style=\"fill:#1f77b4;stroke:#1f77b4;\" x=\"480.201903\" xlink:href=\"#m277fd45444\" y=\"310.882698\"/>\r\n     <use style=\"fill:#1f77b4;stroke:#1f77b4;\" x=\"553.198864\" xlink:href=\"#m277fd45444\" y=\"390.589443\"/>\r\n     <use style=\"fill:#1f77b4;stroke:#1f77b4;\" x=\"435.280696\" xlink:href=\"#m277fd45444\" y=\"231.175953\"/>\r\n     <use style=\"fill:#1f77b4;stroke:#1f77b4;\" x=\"491.432204\" xlink:href=\"#m277fd45444\" y=\"390.589443\"/>\r\n     <use style=\"fill:#1f77b4;stroke:#1f77b4;\" x=\"452.126148\" xlink:href=\"#m277fd45444\" y=\"310.882698\"/>\r\n     <use style=\"fill:#1f77b4;stroke:#1f77b4;\" x=\"457.741299\" xlink:href=\"#m277fd45444\" y=\"390.589443\"/>\r\n     <use style=\"fill:#1f77b4;stroke:#1f77b4;\" x=\"474.586752\" xlink:href=\"#m277fd45444\" y=\"390.589443\"/>\r\n     <use style=\"fill:#1f77b4;stroke:#1f77b4;\" x=\"446.510998\" xlink:href=\"#m277fd45444\" y=\"526.090909\"/>\r\n     <use style=\"fill:#1f77b4;stroke:#1f77b4;\" x=\"390.359489\" xlink:href=\"#m277fd45444\" y=\"390.589443\"/>\r\n     <use style=\"fill:#1f77b4;stroke:#1f77b4;\" x=\"390.359489\" xlink:href=\"#m277fd45444\" y=\"390.589443\"/>\r\n     <use style=\"fill:#1f77b4;stroke:#1f77b4;\" x=\"457.741299\" xlink:href=\"#m277fd45444\" y=\"310.882698\"/>\r\n     <use style=\"fill:#1f77b4;stroke:#1f77b4;\" x=\"401.589791\" xlink:href=\"#m277fd45444\" y=\"526.090909\"/>\r\n     <use style=\"fill:#1f77b4;stroke:#1f77b4;\" x=\"491.432204\" xlink:href=\"#m277fd45444\" y=\"231.175953\"/>\r\n     <use style=\"fill:#1f77b4;stroke:#1f77b4;\" x=\"452.126148\" xlink:href=\"#m277fd45444\" y=\"526.090909\"/>\r\n     <use style=\"fill:#1f77b4;stroke:#1f77b4;\" x=\"480.201903\" xlink:href=\"#m277fd45444\" y=\"231.175953\"/>\r\n     <use style=\"fill:#1f77b4;stroke:#1f77b4;\" x=\"480.201903\" xlink:href=\"#m277fd45444\" y=\"231.175953\"/>\r\n     <use style=\"fill:#1f77b4;stroke:#1f77b4;\" x=\"390.359489\" xlink:href=\"#m277fd45444\" y=\"470.296188\"/>\r\n     <use style=\"fill:#1f77b4;stroke:#1f77b4;\" x=\"373.514037\" xlink:href=\"#m277fd45444\" y=\"390.589443\"/>\r\n     <use style=\"fill:#1f77b4;stroke:#1f77b4;\" x=\"440.895847\" xlink:href=\"#m277fd45444\" y=\"31.909091\"/>\r\n     <use style=\"fill:#1f77b4;stroke:#1f77b4;\" x=\"379.129187\" xlink:href=\"#m277fd45444\" y=\"470.296188\"/>\r\n     <use style=\"fill:#1f77b4;stroke:#1f77b4;\" x=\"463.35645\" xlink:href=\"#m277fd45444\" y=\"231.175953\"/>\r\n     <use style=\"fill:#1f77b4;stroke:#1f77b4;\" x=\"429.665545\" xlink:href=\"#m277fd45444\" y=\"310.882698\"/>\r\n     <use style=\"fill:#1f77b4;stroke:#1f77b4;\" x=\"491.432204\" xlink:href=\"#m277fd45444\" y=\"470.296188\"/>\r\n     <use style=\"fill:#1f77b4;stroke:#1f77b4;\" x=\"373.514037\" xlink:href=\"#m277fd45444\" y=\"526.090909\"/>\r\n     <use style=\"fill:#1f77b4;stroke:#1f77b4;\" x=\"513.892808\" xlink:href=\"#m277fd45444\" y=\"310.882698\"/>\r\n     <use style=\"fill:#1f77b4;stroke:#1f77b4;\" x=\"367.898886\" xlink:href=\"#m277fd45444\" y=\"470.296188\"/>\r\n     <use style=\"fill:#1f77b4;stroke:#1f77b4;\" x=\"435.280696\" xlink:href=\"#m277fd45444\" y=\"310.882698\"/>\r\n     <use style=\"fill:#1f77b4;stroke:#1f77b4;\" x=\"446.510998\" xlink:href=\"#m277fd45444\" y=\"231.175953\"/>\r\n     <use style=\"fill:#1f77b4;stroke:#1f77b4;\" x=\"401.589791\" xlink:href=\"#m277fd45444\" y=\"390.589443\"/>\r\n     <use style=\"fill:#1f77b4;stroke:#1f77b4;\" x=\"367.898886\" xlink:href=\"#m277fd45444\" y=\"231.175953\"/>\r\n     <use style=\"fill:#1f77b4;stroke:#1f77b4;\" x=\"457.741299\" xlink:href=\"#m277fd45444\" y=\"470.296188\"/>\r\n     <use style=\"fill:#1f77b4;stroke:#1f77b4;\" x=\"446.510998\" xlink:href=\"#m277fd45444\" y=\"231.175953\"/>\r\n     <use style=\"fill:#1f77b4;stroke:#1f77b4;\" x=\"266.826171\" xlink:href=\"#m277fd45444\" y=\"390.589443\"/>\r\n     <use style=\"fill:#1f77b4;stroke:#1f77b4;\" x=\"407.204942\" xlink:href=\"#m277fd45444\" y=\"470.296188\"/>\r\n     <use style=\"fill:#1f77b4;stroke:#1f77b4;\" x=\"474.586752\" xlink:href=\"#m277fd45444\" y=\"390.589443\"/>\r\n     <use style=\"fill:#1f77b4;stroke:#1f77b4;\" x=\"440.895847\" xlink:href=\"#m277fd45444\" y=\"470.296188\"/>\r\n     <use style=\"fill:#1f77b4;stroke:#1f77b4;\" x=\"379.129187\" xlink:href=\"#m277fd45444\" y=\"390.589443\"/>\r\n     <use style=\"fill:#1f77b4;stroke:#1f77b4;\" x=\"418.435243\" xlink:href=\"#m277fd45444\" y=\"231.175953\"/>\r\n     <use style=\"fill:#1f77b4;stroke:#1f77b4;\" x=\"491.432204\" xlink:href=\"#m277fd45444\" y=\"390.589443\"/>\r\n     <use style=\"fill:#1f77b4;stroke:#1f77b4;\" x=\"412.820093\" xlink:href=\"#m277fd45444\" y=\"231.175953\"/>\r\n     <use style=\"fill:#1f77b4;stroke:#1f77b4;\" x=\"463.35645\" xlink:href=\"#m277fd45444\" y=\"310.882698\"/>\r\n     <use style=\"fill:#1f77b4;stroke:#1f77b4;\" x=\"424.050394\" xlink:href=\"#m277fd45444\" y=\"310.882698\"/>\r\n     <use style=\"fill:#1f77b4;stroke:#1f77b4;\" x=\"553.198864\" xlink:href=\"#m277fd45444\" y=\"390.589443\"/>\r\n     <use style=\"fill:#1f77b4;stroke:#1f77b4;\" x=\"351.053433\" xlink:href=\"#m277fd45444\" y=\"310.882698\"/>\r\n     <use style=\"fill:#1f77b4;stroke:#1f77b4;\" x=\"446.510998\" xlink:href=\"#m277fd45444\" y=\"231.175953\"/>\r\n     <use style=\"fill:#1f77b4;stroke:#1f77b4;\" x=\"379.129187\" xlink:href=\"#m277fd45444\" y=\"31.909091\"/>\r\n     <use style=\"fill:#1f77b4;stroke:#1f77b4;\" x=\"395.97464\" xlink:href=\"#m277fd45444\" y=\"526.090909\"/>\r\n     <use style=\"fill:#1f77b4;stroke:#1f77b4;\" x=\"418.435243\" xlink:href=\"#m277fd45444\" y=\"526.090909\"/>\r\n     <use style=\"fill:#1f77b4;stroke:#1f77b4;\" x=\"379.129187\" xlink:href=\"#m277fd45444\" y=\"231.175953\"/>\r\n     <use style=\"fill:#1f77b4;stroke:#1f77b4;\" x=\"395.97464\" xlink:href=\"#m277fd45444\" y=\"526.090909\"/>\r\n     <use style=\"fill:#1f77b4;stroke:#1f77b4;\" x=\"384.744338\" xlink:href=\"#m277fd45444\" y=\"390.589443\"/>\r\n     <use style=\"fill:#1f77b4;stroke:#1f77b4;\" x=\"429.665545\" xlink:href=\"#m277fd45444\" y=\"191.322581\"/>\r\n     <use style=\"fill:#1f77b4;stroke:#1f77b4;\" x=\"553.198864\" xlink:href=\"#m277fd45444\" y=\"310.882698\"/>\r\n     <use style=\"fill:#1f77b4;stroke:#1f77b4;\" x=\"480.201903\" xlink:href=\"#m277fd45444\" y=\"470.296188\"/>\r\n     <use style=\"fill:#1f77b4;stroke:#1f77b4;\" x=\"480.201903\" xlink:href=\"#m277fd45444\" y=\"310.882698\"/>\r\n     <use style=\"fill:#1f77b4;stroke:#1f77b4;\" x=\"407.204942\" xlink:href=\"#m277fd45444\" y=\"470.296188\"/>\r\n     <use style=\"fill:#1f77b4;stroke:#1f77b4;\" x=\"474.586752\" xlink:href=\"#m277fd45444\" y=\"71.762463\"/>\r\n     <use style=\"fill:#1f77b4;stroke:#1f77b4;\" x=\"485.817054\" xlink:href=\"#m277fd45444\" y=\"231.175953\"/>\r\n     <use style=\"fill:#1f77b4;stroke:#1f77b4;\" x=\"480.201903\" xlink:href=\"#m277fd45444\" y=\"310.882698\"/>\r\n     <use style=\"fill:#1f77b4;stroke:#1f77b4;\" x=\"294.901925\" xlink:href=\"#m277fd45444\" y=\"470.296188\"/>\r\n     <use style=\"fill:#1f77b4;stroke:#1f77b4;\" x=\"322.977679\" xlink:href=\"#m277fd45444\" y=\"390.589443\"/>\r\n     <use style=\"fill:#1f77b4;stroke:#1f77b4;\" x=\"412.820093\" xlink:href=\"#m277fd45444\" y=\"526.090909\"/>\r\n     <use style=\"fill:#1f77b4;stroke:#1f77b4;\" x=\"390.359489\" xlink:href=\"#m277fd45444\" y=\"390.589443\"/>\r\n     <use style=\"fill:#1f77b4;stroke:#1f77b4;\" x=\"491.432204\" xlink:href=\"#m277fd45444\" y=\"310.882698\"/>\r\n     <use style=\"fill:#1f77b4;stroke:#1f77b4;\" x=\"373.514037\" xlink:href=\"#m277fd45444\" y=\"470.296188\"/>\r\n     <use style=\"fill:#1f77b4;stroke:#1f77b4;\" x=\"497.047355\" xlink:href=\"#m277fd45444\" y=\"231.175953\"/>\r\n     <use style=\"fill:#1f77b4;stroke:#1f77b4;\" x=\"435.280696\" xlink:href=\"#m277fd45444\" y=\"390.589443\"/>\r\n     <use style=\"fill:#1f77b4;stroke:#1f77b4;\" x=\"446.510998\" xlink:href=\"#m277fd45444\" y=\"526.090909\"/>\r\n     <use style=\"fill:#1f77b4;stroke:#1f77b4;\" x=\"401.589791\" xlink:href=\"#m277fd45444\" y=\"310.882698\"/>\r\n     <use style=\"fill:#1f77b4;stroke:#1f77b4;\" x=\"440.895847\" xlink:href=\"#m277fd45444\" y=\"470.296188\"/>\r\n     <use style=\"fill:#1f77b4;stroke:#1f77b4;\" x=\"446.510998\" xlink:href=\"#m277fd45444\" y=\"310.882698\"/>\r\n     <use style=\"fill:#1f77b4;stroke:#1f77b4;\" x=\"502.662506\" xlink:href=\"#m277fd45444\" y=\"470.296188\"/>\r\n     <use style=\"fill:#1f77b4;stroke:#1f77b4;\" x=\"485.817054\" xlink:href=\"#m277fd45444\" y=\"390.589443\"/>\r\n     <use style=\"fill:#1f77b4;stroke:#1f77b4;\" x=\"457.741299\" xlink:href=\"#m277fd45444\" y=\"310.882698\"/>\r\n     <use style=\"fill:#1f77b4;stroke:#1f77b4;\" x=\"373.514037\" xlink:href=\"#m277fd45444\" y=\"390.589443\"/>\r\n     <use style=\"fill:#1f77b4;stroke:#1f77b4;\" x=\"435.280696\" xlink:href=\"#m277fd45444\" y=\"390.589443\"/>\r\n     <use style=\"fill:#1f77b4;stroke:#1f77b4;\" x=\"418.435243\" xlink:href=\"#m277fd45444\" y=\"310.882698\"/>\r\n     <use style=\"fill:#1f77b4;stroke:#1f77b4;\" x=\"407.204942\" xlink:href=\"#m277fd45444\" y=\"231.175953\"/>\r\n     <use style=\"fill:#1f77b4;stroke:#1f77b4;\" x=\"497.047355\" xlink:href=\"#m277fd45444\" y=\"310.882698\"/>\r\n     <use style=\"fill:#1f77b4;stroke:#1f77b4;\" x=\"294.901925\" xlink:href=\"#m277fd45444\" y=\"310.882698\"/>\r\n     <use style=\"fill:#1f77b4;stroke:#1f77b4;\" x=\"446.510998\" xlink:href=\"#m277fd45444\" y=\"390.589443\"/>\r\n     <use style=\"fill:#1f77b4;stroke:#1f77b4;\" x=\"362.283735\" xlink:href=\"#m277fd45444\" y=\"390.589443\"/>\r\n     <use style=\"fill:#1f77b4;stroke:#1f77b4;\" x=\"435.280696\" xlink:href=\"#m277fd45444\" y=\"231.175953\"/>\r\n     <use style=\"fill:#1f77b4;stroke:#1f77b4;\" x=\"508.277657\" xlink:href=\"#m277fd45444\" y=\"310.882698\"/>\r\n     <use style=\"fill:#1f77b4;stroke:#1f77b4;\" x=\"327.245194\" xlink:href=\"#m277fd45444\" y=\"310.882698\"/>\r\n     <use style=\"fill:#1f77b4;stroke:#1f77b4;\" x=\"334.207981\" xlink:href=\"#m277fd45444\" y=\"310.882698\"/>\r\n     <use style=\"fill:#1f77b4;stroke:#1f77b4;\" x=\"424.050394\" xlink:href=\"#m277fd45444\" y=\"390.589443\"/>\r\n     <use style=\"fill:#1f77b4;stroke:#1f77b4;\" x=\"452.126148\" xlink:href=\"#m277fd45444\" y=\"310.882698\"/>\r\n     <use style=\"fill:#1f77b4;stroke:#1f77b4;\" x=\"440.895847\" xlink:href=\"#m277fd45444\" y=\"310.882698\"/>\r\n     <use style=\"fill:#1f77b4;stroke:#1f77b4;\" x=\"508.277657\" xlink:href=\"#m277fd45444\" y=\"231.175953\"/>\r\n     <use style=\"fill:#1f77b4;stroke:#1f77b4;\" x=\"306.132226\" xlink:href=\"#m277fd45444\" y=\"310.882698\"/>\r\n     <use style=\"fill:#1f77b4;stroke:#1f77b4;\" x=\"452.126148\" xlink:href=\"#m277fd45444\" y=\"470.296188\"/>\r\n     <use style=\"fill:#1f77b4;stroke:#1f77b4;\" x=\"407.204942\" xlink:href=\"#m277fd45444\" y=\"390.589443\"/>\r\n     <use style=\"fill:#1f77b4;stroke:#1f77b4;\" x=\"339.823132\" xlink:href=\"#m277fd45444\" y=\"470.296188\"/>\r\n     <use style=\"fill:#1f77b4;stroke:#1f77b4;\" x=\"351.053433\" xlink:href=\"#m277fd45444\" y=\"191.322581\"/>\r\n     <use style=\"fill:#1f77b4;stroke:#1f77b4;\" x=\"407.204942\" xlink:href=\"#m277fd45444\" y=\"231.175953\"/>\r\n     <use style=\"fill:#1f77b4;stroke:#1f77b4;\" x=\"367.898886\" xlink:href=\"#m277fd45444\" y=\"390.589443\"/>\r\n     <use style=\"fill:#1f77b4;stroke:#1f77b4;\" x=\"502.662506\" xlink:href=\"#m277fd45444\" y=\"231.175953\"/>\r\n     <use style=\"fill:#1f77b4;stroke:#1f77b4;\" x=\"384.744338\" xlink:href=\"#m277fd45444\" y=\"310.882698\"/>\r\n     <use style=\"fill:#1f77b4;stroke:#1f77b4;\" x=\"424.050394\" xlink:href=\"#m277fd45444\" y=\"31.909091\"/>\r\n     <use style=\"fill:#1f77b4;stroke:#1f77b4;\" x=\"407.204942\" xlink:href=\"#m277fd45444\" y=\"390.589443\"/>\r\n     <use style=\"fill:#1f77b4;stroke:#1f77b4;\" x=\"519.507959\" xlink:href=\"#m277fd45444\" y=\"231.175953\"/>\r\n     <use style=\"fill:#1f77b4;stroke:#1f77b4;\" x=\"457.741299\" xlink:href=\"#m277fd45444\" y=\"231.175953\"/>\r\n     <use style=\"fill:#1f77b4;stroke:#1f77b4;\" x=\"379.129187\" xlink:href=\"#m277fd45444\" y=\"470.296188\"/>\r\n     <use style=\"fill:#1f77b4;stroke:#1f77b4;\" x=\"424.050394\" xlink:href=\"#m277fd45444\" y=\"390.589443\"/>\r\n     <use style=\"fill:#1f77b4;stroke:#1f77b4;\" x=\"367.898886\" xlink:href=\"#m277fd45444\" y=\"310.882698\"/>\r\n     <use style=\"fill:#1f77b4;stroke:#1f77b4;\" x=\"513.892808\" xlink:href=\"#m277fd45444\" y=\"310.882698\"/>\r\n     <use style=\"fill:#1f77b4;stroke:#1f77b4;\" x=\"294.901925\" xlink:href=\"#m277fd45444\" y=\"390.589443\"/>\r\n     <use style=\"fill:#1f77b4;stroke:#1f77b4;\" x=\"491.432204\" xlink:href=\"#m277fd45444\" y=\"390.589443\"/>\r\n     <use style=\"fill:#1f77b4;stroke:#1f77b4;\" x=\"390.359489\" xlink:href=\"#m277fd45444\" y=\"310.882698\"/>\r\n     <use style=\"fill:#1f77b4;stroke:#1f77b4;\" x=\"424.050394\" xlink:href=\"#m277fd45444\" y=\"191.322581\"/>\r\n     <use style=\"fill:#1f77b4;stroke:#1f77b4;\" x=\"463.35645\" xlink:href=\"#m277fd45444\" y=\"111.615836\"/>\r\n     <use style=\"fill:#1f77b4;stroke:#1f77b4;\" x=\"395.97464\" xlink:href=\"#m277fd45444\" y=\"390.589443\"/>\r\n     <use style=\"fill:#1f77b4;stroke:#1f77b4;\" x=\"502.662506\" xlink:href=\"#m277fd45444\" y=\"231.175953\"/>\r\n     <use style=\"fill:#1f77b4;stroke:#1f77b4;\" x=\"45.926136\" xlink:href=\"#m277fd45444\" y=\"390.589443\"/>\r\n     <use style=\"fill:#1f77b4;stroke:#1f77b4;\" x=\"519.507959\" xlink:href=\"#m277fd45444\" y=\"310.882698\"/>\r\n     <use style=\"fill:#1f77b4;stroke:#1f77b4;\" x=\"334.207981\" xlink:href=\"#m277fd45444\" y=\"526.090909\"/>\r\n     <use style=\"fill:#1f77b4;stroke:#1f77b4;\" x=\"390.359489\" xlink:href=\"#m277fd45444\" y=\"231.175953\"/>\r\n     <use style=\"fill:#1f77b4;stroke:#1f77b4;\" x=\"384.744338\" xlink:href=\"#m277fd45444\" y=\"310.882698\"/>\r\n     <use style=\"fill:#1f77b4;stroke:#1f77b4;\" x=\"446.510998\" xlink:href=\"#m277fd45444\" y=\"390.589443\"/>\r\n     <use style=\"fill:#1f77b4;stroke:#1f77b4;\" x=\"480.201903\" xlink:href=\"#m277fd45444\" y=\"231.175953\"/>\r\n     <use style=\"fill:#1f77b4;stroke:#1f77b4;\" x=\"435.280696\" xlink:href=\"#m277fd45444\" y=\"470.296188\"/>\r\n     <use style=\"fill:#1f77b4;stroke:#1f77b4;\" x=\"468.971601\" xlink:href=\"#m277fd45444\" y=\"231.175953\"/>\r\n     <use style=\"fill:#1f77b4;stroke:#1f77b4;\" x=\"424.050394\" xlink:href=\"#m277fd45444\" y=\"390.589443\"/>\r\n     <use style=\"fill:#1f77b4;stroke:#1f77b4;\" x=\"390.359489\" xlink:href=\"#m277fd45444\" y=\"310.882698\"/>\r\n     <use style=\"fill:#1f77b4;stroke:#1f77b4;\" x=\"351.053433\" xlink:href=\"#m277fd45444\" y=\"390.589443\"/>\r\n     <use style=\"fill:#1f77b4;stroke:#1f77b4;\" x=\"463.35645\" xlink:href=\"#m277fd45444\" y=\"231.175953\"/>\r\n     <use style=\"fill:#1f77b4;stroke:#1f77b4;\" x=\"429.665545\" xlink:href=\"#m277fd45444\" y=\"390.589443\"/>\r\n     <use style=\"fill:#1f77b4;stroke:#1f77b4;\" x=\"351.053433\" xlink:href=\"#m277fd45444\" y=\"470.296188\"/>\r\n     <use style=\"fill:#1f77b4;stroke:#1f77b4;\" x=\"345.438282\" xlink:href=\"#m277fd45444\" y=\"470.296188\"/>\r\n     <use style=\"fill:#1f77b4;stroke:#1f77b4;\" x=\"440.895847\" xlink:href=\"#m277fd45444\" y=\"390.589443\"/>\r\n     <use style=\"fill:#1f77b4;stroke:#1f77b4;\" x=\"418.435243\" xlink:href=\"#m277fd45444\" y=\"470.296188\"/>\r\n     <use style=\"fill:#1f77b4;stroke:#1f77b4;\" x=\"379.129187\" xlink:href=\"#m277fd45444\" y=\"390.589443\"/>\r\n     <use style=\"fill:#1f77b4;stroke:#1f77b4;\" x=\"463.35645\" xlink:href=\"#m277fd45444\" y=\"390.589443\"/>\r\n     <use style=\"fill:#1f77b4;stroke:#1f77b4;\" x=\"345.438282\" xlink:href=\"#m277fd45444\" y=\"470.296188\"/>\r\n     <use style=\"fill:#1f77b4;stroke:#1f77b4;\" x=\"446.510998\" xlink:href=\"#m277fd45444\" y=\"310.882698\"/>\r\n     <use style=\"fill:#1f77b4;stroke:#1f77b4;\" x=\"429.665545\" xlink:href=\"#m277fd45444\" y=\"470.296188\"/>\r\n     <use style=\"fill:#1f77b4;stroke:#1f77b4;\" x=\"446.510998\" xlink:href=\"#m277fd45444\" y=\"310.882698\"/>\r\n     <use style=\"fill:#1f77b4;stroke:#1f77b4;\" x=\"463.35645\" xlink:href=\"#m277fd45444\" y=\"390.589443\"/>\r\n     <use style=\"fill:#1f77b4;stroke:#1f77b4;\" x=\"339.823132\" xlink:href=\"#m277fd45444\" y=\"310.882698\"/>\r\n     <use style=\"fill:#1f77b4;stroke:#1f77b4;\" x=\"407.204942\" xlink:href=\"#m277fd45444\" y=\"310.882698\"/>\r\n     <use style=\"fill:#1f77b4;stroke:#1f77b4;\" x=\"424.050394\" xlink:href=\"#m277fd45444\" y=\"231.175953\"/>\r\n     <use style=\"fill:#1f77b4;stroke:#1f77b4;\" x=\"362.283735\" xlink:href=\"#m277fd45444\" y=\"526.090909\"/>\r\n     <use style=\"fill:#1f77b4;stroke:#1f77b4;\" x=\"424.050394\" xlink:href=\"#m277fd45444\" y=\"390.589443\"/>\r\n     <use style=\"fill:#1f77b4;stroke:#1f77b4;\" x=\"446.510998\" xlink:href=\"#m277fd45444\" y=\"470.296188\"/>\r\n     <use style=\"fill:#1f77b4;stroke:#1f77b4;\" x=\"485.817054\" xlink:href=\"#m277fd45444\" y=\"310.882698\"/>\r\n     <use style=\"fill:#1f77b4;stroke:#1f77b4;\" x=\"485.817054\" xlink:href=\"#m277fd45444\" y=\"310.882698\"/>\r\n     <use style=\"fill:#1f77b4;stroke:#1f77b4;\" x=\"553.198864\" xlink:href=\"#m277fd45444\" y=\"510.14956\"/>\r\n     <use style=\"fill:#1f77b4;stroke:#1f77b4;\" x=\"519.507959\" xlink:href=\"#m277fd45444\" y=\"390.589443\"/>\r\n     <use style=\"fill:#1f77b4;stroke:#1f77b4;\" x=\"266.826171\" xlink:href=\"#m277fd45444\" y=\"318.853372\"/>\r\n     <use style=\"fill:#1f77b4;stroke:#1f77b4;\" x=\"395.97464\" xlink:href=\"#m277fd45444\" y=\"390.589443\"/>\r\n     <use style=\"fill:#1f77b4;stroke:#1f77b4;\" x=\"379.129187\" xlink:href=\"#m277fd45444\" y=\"310.882698\"/>\r\n     <use style=\"fill:#1f77b4;stroke:#1f77b4;\" x=\"491.432204\" xlink:href=\"#m277fd45444\" y=\"526.090909\"/>\r\n     <use style=\"fill:#1f77b4;stroke:#1f77b4;\" x=\"266.826171\" xlink:href=\"#m277fd45444\" y=\"390.589443\"/>\r\n     <use style=\"fill:#1f77b4;stroke:#1f77b4;\" x=\"362.283735\" xlink:href=\"#m277fd45444\" y=\"310.882698\"/>\r\n     <use style=\"fill:#1f77b4;stroke:#1f77b4;\" x=\"429.665545\" xlink:href=\"#m277fd45444\" y=\"231.175953\"/>\r\n     <use style=\"fill:#1f77b4;stroke:#1f77b4;\" x=\"480.201903\" xlink:href=\"#m277fd45444\" y=\"231.175953\"/>\r\n     <use style=\"fill:#1f77b4;stroke:#1f77b4;\" x=\"435.280696\" xlink:href=\"#m277fd45444\" y=\"526.090909\"/>\r\n     <use style=\"fill:#1f77b4;stroke:#1f77b4;\" x=\"480.201903\" xlink:href=\"#m277fd45444\" y=\"390.589443\"/>\r\n     <use style=\"fill:#1f77b4;stroke:#1f77b4;\" x=\"480.201903\" xlink:href=\"#m277fd45444\" y=\"231.175953\"/>\r\n     <use style=\"fill:#1f77b4;stroke:#1f77b4;\" x=\"435.280696\" xlink:href=\"#m277fd45444\" y=\"390.589443\"/>\r\n     <use style=\"fill:#1f77b4;stroke:#1f77b4;\" x=\"424.050394\" xlink:href=\"#m277fd45444\" y=\"390.589443\"/>\r\n     <use style=\"fill:#1f77b4;stroke:#1f77b4;\" x=\"379.129187\" xlink:href=\"#m277fd45444\" y=\"390.589443\"/>\r\n     <use style=\"fill:#1f77b4;stroke:#1f77b4;\" x=\"306.132226\" xlink:href=\"#m277fd45444\" y=\"310.882698\"/>\r\n     <use style=\"fill:#1f77b4;stroke:#1f77b4;\" x=\"367.898886\" xlink:href=\"#m277fd45444\" y=\"470.296188\"/>\r\n     <use style=\"fill:#1f77b4;stroke:#1f77b4;\" x=\"322.977679\" xlink:href=\"#m277fd45444\" y=\"470.296188\"/>\r\n     <use style=\"fill:#1f77b4;stroke:#1f77b4;\" x=\"435.280696\" xlink:href=\"#m277fd45444\" y=\"390.589443\"/>\r\n     <use style=\"fill:#1f77b4;stroke:#1f77b4;\" x=\"519.507959\" xlink:href=\"#m277fd45444\" y=\"390.589443\"/>\r\n     <use style=\"fill:#1f77b4;stroke:#1f77b4;\" x=\"390.359489\" xlink:href=\"#m277fd45444\" y=\"390.589443\"/>\r\n     <use style=\"fill:#1f77b4;stroke:#1f77b4;\" x=\"266.826171\" xlink:href=\"#m277fd45444\" y=\"526.090909\"/>\r\n     <use style=\"fill:#1f77b4;stroke:#1f77b4;\" x=\"362.283735\" xlink:href=\"#m277fd45444\" y=\"231.175953\"/>\r\n     <use style=\"fill:#1f77b4;stroke:#1f77b4;\" x=\"401.589791\" xlink:href=\"#m277fd45444\" y=\"231.175953\"/>\r\n     <use style=\"fill:#1f77b4;stroke:#1f77b4;\" x=\"367.898886\" xlink:href=\"#m277fd45444\" y=\"310.882698\"/>\r\n     <use style=\"fill:#1f77b4;stroke:#1f77b4;\" x=\"266.826171\" xlink:href=\"#m277fd45444\" y=\"310.882698\"/>\r\n     <use style=\"fill:#1f77b4;stroke:#1f77b4;\" x=\"424.050394\" xlink:href=\"#m277fd45444\" y=\"231.175953\"/>\r\n     <use style=\"fill:#1f77b4;stroke:#1f77b4;\" x=\"345.438282\" xlink:href=\"#m277fd45444\" y=\"526.090909\"/>\r\n     <use style=\"fill:#1f77b4;stroke:#1f77b4;\" x=\"266.826171\" xlink:href=\"#m277fd45444\" y=\"310.882698\"/>\r\n     <use style=\"fill:#1f77b4;stroke:#1f77b4;\" x=\"424.050394\" xlink:href=\"#m277fd45444\" y=\"231.175953\"/>\r\n    </g>\r\n   </g>\r\n   <g id=\"patch_3\">\r\n    <path d=\"M 20.5625 550.8 \r\nL 20.5625 7.2 \r\n\" style=\"fill:none;stroke:#000000;stroke-linecap:square;stroke-linejoin:miter;stroke-width:0.8;\"/>\r\n   </g>\r\n   <g id=\"patch_4\">\r\n    <path d=\"M 578.5625 550.8 \r\nL 578.5625 7.2 \r\n\" style=\"fill:none;stroke:#000000;stroke-linecap:square;stroke-linejoin:miter;stroke-width:0.8;\"/>\r\n   </g>\r\n   <g id=\"patch_5\">\r\n    <path d=\"M 20.5625 550.8 \r\nL 578.5625 550.8 \r\n\" style=\"fill:none;stroke:#000000;stroke-linecap:square;stroke-linejoin:miter;stroke-width:0.8;\"/>\r\n   </g>\r\n   <g id=\"patch_6\">\r\n    <path d=\"M 20.5625 7.2 \r\nL 578.5625 7.2 \r\n\" style=\"fill:none;stroke:#000000;stroke-linecap:square;stroke-linejoin:miter;stroke-width:0.8;\"/>\r\n   </g>\r\n  </g>\r\n </g>\r\n <defs>\r\n  <clipPath id=\"p3d501a16c5\">\r\n   <rect height=\"543.6\" width=\"558\" x=\"20.5625\" y=\"7.2\"/>\r\n  </clipPath>\r\n </defs>\r\n</svg>\r\n",
      "image/png": "[encoded data removed]"
     },
     "metadata": {
      "needs_background": "light"
     }
    }
   ]
  },
  {
   "cell_type": "code",
   "execution_count": 13,
   "metadata": {},
   "outputs": [
    {
     "output_type": "execute_result",
     "data": {
      "text/plain": [
       "(188, 6)"
      ]
     },
     "metadata": {},
     "execution_count": 13
    }
   ],
   "source": [
    "myData.values.shape"
   ]
  },
  {
   "cell_type": "code",
   "execution_count": 15,
   "metadata": {},
   "outputs": [
    {
     "output_type": "execute_result",
     "data": {
      "text/plain": [
       "      Program  Actual CWA  Score  Study Time  Lecturer Performance  Difficulty\n",
       "0  Electrical        74.0   66.0         3.0                     4           9"
      ],
      "text/html": "<div>\n<style scoped>\n    .dataframe tbody tr th:only-of-type {\n        vertical-align: middle;\n    }\n\n    .dataframe tbody tr th {\n        vertical-align: top;\n    }\n\n    .dataframe thead th {\n        text-align: right;\n    }\n</style>\n<table border=\"1\" class=\"dataframe\">\n  <thead>\n    <tr style=\"text-align: right;\">\n      <th></th>\n      <th>Program</th>\n      <th>Actual CWA</th>\n      <th>Score</th>\n      <th>Study Time</th>\n      <th>Lecturer Performance</th>\n      <th>Difficulty</th>\n    </tr>\n  </thead>\n  <tbody>\n    <tr>\n      <th>0</th>\n      <td>Electrical</td>\n      <td>74.0</td>\n      <td>66.0</td>\n      <td>3.0</td>\n      <td>4</td>\n      <td>9</td>\n    </tr>\n  </tbody>\n</table>\n</div>"
     },
     "metadata": {},
     "execution_count": 15
    }
   ],
   "source": [
    "myData.head(1)"
   ]
  },
  {
   "cell_type": "code",
   "execution_count": 17,
   "metadata": {},
   "outputs": [
    {
     "output_type": "display_data",
     "data": {
      "text/plain": "<Figure size 720x720 with 0 Axes>"
     },
     "metadata": {}
    },
    {
     "output_type": "display_data",
     "data": {
      "text/plain": "<Figure size 720x720 with 5 Axes>",
      "image/svg+xml": "<?xml version=\"1.0\" encoding=\"utf-8\" standalone=\"no\"?>\r\n<!DOCTYPE svg PUBLIC \"-//W3C//DTD SVG 1.1//EN\"\r\n  \"http://www.w3.org/Graphics/SVG/1.1/DTD/svg11.dtd\">\r\n<!-- Created with matplotlib (https://matplotlib.org/) -->\r\n<svg height=\"528.925252pt\" version=\"1.1\" viewBox=\"0 0 601.665625 528.925252\" width=\"601.665625pt\" xmlns=\"http://www.w3.org/2000/svg\" xmlns:xlink=\"http://www.w3.org/1999/xlink\">\r\n <defs>\r\n  <style type=\"text/css\">\r\n*{stroke-linecap:butt;stroke-linejoin:round;}\r\n  </style>\r\n </defs>\r\n <g id=\"figure_1\">\r\n  <g id=\"patch_1\">\r\n   <path d=\"M 0 528.925252 \r\nL 601.665625 528.925252 \r\nL 601.665625 0 \r\nL 0 0 \r\nz\r\n\" style=\"fill:none;\"/>\r\n  </g>\r\n  <g id=\"axes_1\">\r\n   <g id=\"patch_2\">\r\n    <path d=\"M 36.465625 91.613793 \r\nL 594.465625 91.613793 \r\nL 594.465625 7.2 \r\nL 36.465625 7.2 \r\nz\r\n\" style=\"fill:#ffffff;\"/>\r\n   </g>\r\n   <g id=\"matplotlib.axis_1\">\r\n    <g id=\"xtick_1\">\r\n     <g id=\"line2d_1\">\r\n      <defs>\r\n       <path d=\"M 0 0 \r\nL 0 3.5 \r\n\" id=\"m769b7ac07c\" style=\"stroke:#000000;stroke-width:0.8;\"/>\r\n      </defs>\r\n      <g>\r\n       <use style=\"stroke:#000000;stroke-width:0.8;\" x=\"61.829261\" xlink:href=\"#m769b7ac07c\" y=\"91.613793\"/>\r\n      </g>\r\n     </g>\r\n    </g>\r\n    <g id=\"xtick_2\">\r\n     <g id=\"line2d_2\">\r\n      <g>\r\n       <use style=\"stroke:#000000;stroke-width:0.8;\" x=\"129.646471\" xlink:href=\"#m769b7ac07c\" y=\"91.613793\"/>\r\n      </g>\r\n     </g>\r\n    </g>\r\n    <g id=\"xtick_3\">\r\n     <g id=\"line2d_3\">\r\n      <g>\r\n       <use style=\"stroke:#000000;stroke-width:0.8;\" x=\"197.46368\" xlink:href=\"#m769b7ac07c\" y=\"91.613793\"/>\r\n      </g>\r\n     </g>\r\n    </g>\r\n    <g id=\"xtick_4\">\r\n     <g id=\"line2d_4\">\r\n      <g>\r\n       <use style=\"stroke:#000000;stroke-width:0.8;\" x=\"265.28089\" xlink:href=\"#m769b7ac07c\" y=\"91.613793\"/>\r\n      </g>\r\n     </g>\r\n    </g>\r\n    <g id=\"xtick_5\">\r\n     <g id=\"line2d_5\">\r\n      <g>\r\n       <use style=\"stroke:#000000;stroke-width:0.8;\" x=\"333.098099\" xlink:href=\"#m769b7ac07c\" y=\"91.613793\"/>\r\n      </g>\r\n     </g>\r\n    </g>\r\n    <g id=\"xtick_6\">\r\n     <g id=\"line2d_6\">\r\n      <g>\r\n       <use style=\"stroke:#000000;stroke-width:0.8;\" x=\"400.915309\" xlink:href=\"#m769b7ac07c\" y=\"91.613793\"/>\r\n      </g>\r\n     </g>\r\n    </g>\r\n    <g id=\"xtick_7\">\r\n     <g id=\"line2d_7\">\r\n      <g>\r\n       <use style=\"stroke:#000000;stroke-width:0.8;\" x=\"468.732519\" xlink:href=\"#m769b7ac07c\" y=\"91.613793\"/>\r\n      </g>\r\n     </g>\r\n    </g>\r\n    <g id=\"xtick_8\">\r\n     <g id=\"line2d_8\">\r\n      <g>\r\n       <use style=\"stroke:#000000;stroke-width:0.8;\" x=\"536.549728\" xlink:href=\"#m769b7ac07c\" y=\"91.613793\"/>\r\n      </g>\r\n     </g>\r\n    </g>\r\n   </g>\r\n   <g id=\"matplotlib.axis_2\">\r\n    <g id=\"ytick_1\">\r\n     <g id=\"line2d_9\">\r\n      <defs>\r\n       <path d=\"M 0 0 \r\nL -3.5 0 \r\n\" id=\"ma13a9a9a03\" style=\"stroke:#000000;stroke-width:0.8;\"/>\r\n      </defs>\r\n      <g>\r\n       <use style=\"stroke:#000000;stroke-width:0.8;\" x=\"36.465625\" xlink:href=\"#ma13a9a9a03\" y=\"90.518523\"/>\r\n      </g>\r\n     </g>\r\n     <g id=\"text_1\">\r\n      <!-- 0 -->\r\n      <defs>\r\n       <path d=\"M 31.78125 66.40625 \r\nQ 24.171875 66.40625 20.328125 58.90625 \r\nQ 16.5 51.421875 16.5 36.375 \r\nQ 16.5 21.390625 20.328125 13.890625 \r\nQ 24.171875 6.390625 31.78125 6.390625 \r\nQ 39.453125 6.390625 43.28125 13.890625 \r\nQ 47.125 21.390625 47.125 36.375 \r\nQ 47.125 51.421875 43.28125 58.90625 \r\nQ 39.453125 66.40625 31.78125 66.40625 \r\nz\r\nM 31.78125 74.21875 \r\nQ 44.046875 74.21875 50.515625 64.515625 \r\nQ 56.984375 54.828125 56.984375 36.375 \r\nQ 56.984375 17.96875 50.515625 8.265625 \r\nQ 44.046875 -1.421875 31.78125 -1.421875 \r\nQ 19.53125 -1.421875 13.0625 8.265625 \r\nQ 6.59375 17.96875 6.59375 36.375 \r\nQ 6.59375 54.828125 13.0625 64.515625 \r\nQ 19.53125 74.21875 31.78125 74.21875 \r\nz\r\n\" id=\"DejaVuSans-48\"/>\r\n      </defs>\r\n      <g transform=\"translate(23.103125 94.317742)scale(0.1 -0.1)\">\r\n       <use xlink:href=\"#DejaVuSans-48\"/>\r\n      </g>\r\n     </g>\r\n    </g>\r\n    <g id=\"ytick_2\">\r\n     <g id=\"line2d_10\">\r\n      <g>\r\n       <use style=\"stroke:#000000;stroke-width:0.8;\" x=\"36.465625\" xlink:href=\"#ma13a9a9a03\" y=\"66.883001\"/>\r\n      </g>\r\n     </g>\r\n     <g id=\"text_2\">\r\n      <!-- 25 -->\r\n      <defs>\r\n       <path d=\"M 19.1875 8.296875 \r\nL 53.609375 8.296875 \r\nL 53.609375 0 \r\nL 7.328125 0 \r\nL 7.328125 8.296875 \r\nQ 12.9375 14.109375 22.625 23.890625 \r\nQ 32.328125 33.6875 34.8125 36.53125 \r\nQ 39.546875 41.84375 41.421875 45.53125 \r\nQ 43.3125 49.21875 43.3125 52.78125 \r\nQ 43.3125 58.59375 39.234375 62.25 \r\nQ 35.15625 65.921875 28.609375 65.921875 \r\nQ 23.96875 65.921875 18.8125 64.3125 \r\nQ 13.671875 62.703125 7.8125 59.421875 \r\nL 7.8125 69.390625 \r\nQ 13.765625 71.78125 18.9375 73 \r\nQ 24.125 74.21875 28.421875 74.21875 \r\nQ 39.75 74.21875 46.484375 68.546875 \r\nQ 53.21875 62.890625 53.21875 53.421875 \r\nQ 53.21875 48.921875 51.53125 44.890625 \r\nQ 49.859375 40.875 45.40625 35.40625 \r\nQ 44.1875 33.984375 37.640625 27.21875 \r\nQ 31.109375 20.453125 19.1875 8.296875 \r\nz\r\n\" id=\"DejaVuSans-50\"/>\r\n       <path d=\"M 10.796875 72.90625 \r\nL 49.515625 72.90625 \r\nL 49.515625 64.59375 \r\nL 19.828125 64.59375 \r\nL 19.828125 46.734375 \r\nQ 21.96875 47.46875 24.109375 47.828125 \r\nQ 26.265625 48.1875 28.421875 48.1875 \r\nQ 40.625 48.1875 47.75 41.5 \r\nQ 54.890625 34.8125 54.890625 23.390625 \r\nQ 54.890625 11.625 47.5625 5.09375 \r\nQ 40.234375 -1.421875 26.90625 -1.421875 \r\nQ 22.3125 -1.421875 17.546875 -0.640625 \r\nQ 12.796875 0.140625 7.71875 1.703125 \r\nL 7.71875 11.625 \r\nQ 12.109375 9.234375 16.796875 8.0625 \r\nQ 21.484375 6.890625 26.703125 6.890625 \r\nQ 35.15625 6.890625 40.078125 11.328125 \r\nQ 45.015625 15.765625 45.015625 23.390625 \r\nQ 45.015625 31 40.078125 35.4375 \r\nQ 35.15625 39.890625 26.703125 39.890625 \r\nQ 22.75 39.890625 18.8125 39.015625 \r\nQ 14.890625 38.140625 10.796875 36.28125 \r\nz\r\n\" id=\"DejaVuSans-53\"/>\r\n      </defs>\r\n      <g transform=\"translate(16.740625 70.68222)scale(0.1 -0.1)\">\r\n       <use xlink:href=\"#DejaVuSans-50\"/>\r\n       <use x=\"63.623047\" xlink:href=\"#DejaVuSans-53\"/>\r\n      </g>\r\n     </g>\r\n    </g>\r\n    <g id=\"ytick_3\">\r\n     <g id=\"line2d_11\">\r\n      <g>\r\n       <use style=\"stroke:#000000;stroke-width:0.8;\" x=\"36.465625\" xlink:href=\"#ma13a9a9a03\" y=\"43.24748\"/>\r\n      </g>\r\n     </g>\r\n     <g id=\"text_3\">\r\n      <!-- 50 -->\r\n      <g transform=\"translate(16.740625 47.046698)scale(0.1 -0.1)\">\r\n       <use xlink:href=\"#DejaVuSans-53\"/>\r\n       <use x=\"63.623047\" xlink:href=\"#DejaVuSans-48\"/>\r\n      </g>\r\n     </g>\r\n    </g>\r\n    <g id=\"ytick_4\">\r\n     <g id=\"line2d_12\">\r\n      <g>\r\n       <use style=\"stroke:#000000;stroke-width:0.8;\" x=\"36.465625\" xlink:href=\"#ma13a9a9a03\" y=\"19.611958\"/>\r\n      </g>\r\n     </g>\r\n     <g id=\"text_4\">\r\n      <!-- 75 -->\r\n      <defs>\r\n       <path d=\"M 8.203125 72.90625 \r\nL 55.078125 72.90625 \r\nL 55.078125 68.703125 \r\nL 28.609375 0 \r\nL 18.3125 0 \r\nL 43.21875 64.59375 \r\nL 8.203125 64.59375 \r\nz\r\n\" id=\"DejaVuSans-55\"/>\r\n      </defs>\r\n      <g transform=\"translate(16.740625 23.411177)scale(0.1 -0.1)\">\r\n       <use xlink:href=\"#DejaVuSans-55\"/>\r\n       <use x=\"63.623047\" xlink:href=\"#DejaVuSans-53\"/>\r\n      </g>\r\n     </g>\r\n    </g>\r\n   </g>\r\n   <g id=\"line2d_13\">\r\n    <path clip-path=\"url(#p1cc6de5207)\" d=\"M 61.829261 20.557379 \r\nL 64.54195 24.339062 \r\nL 67.254638 25.946278 \r\nL 69.967327 18.666537 \r\nL 72.680015 29.066167 \r\nL 75.392703 19.611958 \r\nL 78.105392 40.97847 \r\nL 80.81808 26.088091 \r\nL 83.530768 25.14267 \r\nL 88.956145 15.830274 \r\nL 91.668834 15.017212 \r\nL 94.381522 29.198525 \r\nL 97.09421 24.282337 \r\nL 99.806899 28.120746 \r\nL 102.519587 32.526407 \r\nL 105.232275 17.588757 \r\nL 107.944964 17.541486 \r\nL 110.657652 27.175325 \r\nL 113.370341 30.011587 \r\nL 116.083029 20.954456 \r\nL 118.795717 21.578433 \r\nL 121.508406 15.745187 \r\nL 124.221094 26.229904 \r\nL 126.933783 17.172772 \r\nL 129.646471 24.24452 \r\nL 132.359159 23.544909 \r\nL 135.071848 21.824243 \r\nL 137.784536 20.557379 \r\nL 140.497224 28.120746 \r\nL 143.209913 19.044705 \r\nL 145.922601 20.481745 \r\nL 148.63529 20.557379 \r\nL 151.347978 26.229904 \r\nL 154.060666 15.575011 \r\nL 156.773355 29.066167 \r\nL 159.486043 21.5028 \r\nL 162.198731 20.765371 \r\nL 164.91142 23.507092 \r\nL 167.624108 25.804465 \r\nL 170.336797 26.229904 \r\nL 173.049485 20.557379 \r\nL 175.762173 45.80957 \r\nL 178.474862 24.443059 \r\nL 181.18755 16.945871 \r\nL 183.900239 14.884854 \r\nL 186.612927 25.568109 \r\nL 189.325615 22.826389 \r\nL 192.038304 24.282337 \r\nL 194.750992 19.148702 \r\nL 197.46368 23.970348 \r\nL 200.176369 21.758063 \r\nL 202.889057 11.604243 \r\nL 205.601746 30.011587 \r\nL 208.314434 25.993549 \r\nL 211.027122 23.403096 \r\nL 213.739811 17.721116 \r\nL 216.452499 22.845297 \r\nL 219.165187 30.011587 \r\nL 221.877876 17.721116 \r\nL 224.590564 25.095399 \r\nL 227.303253 19.611958 \r\nL 230.015941 16.482615 \r\nL 232.728629 22.391495 \r\nL 235.441318 25.284483 \r\nL 238.154006 24.925223 \r\nL 240.866695 19.101431 \r\nL 243.579383 15.225205 \r\nL 246.292071 11.036991 \r\nL 249.00476 39.465796 \r\nL 251.717448 27.269867 \r\nL 254.430136 23.393641 \r\nL 257.142825 25.104853 \r\nL 259.855513 25.61538 \r\nL 262.568202 31.47699 \r\nL 265.28089 16.775695 \r\nL 267.993578 33.793271 \r\nL 270.706267 20.103577 \r\nL 273.418955 31.165001 \r\nL 276.131643 20.027943 \r\nL 278.844332 36.638988 \r\nL 281.55702 30.957008 \r\nL 284.269709 12.048591 \r\nL 286.982397 27.175325 \r\nL 289.695085 30.957008 \r\nL 292.407774 29.066167 \r\nL 295.120462 30.011587 \r\nL 297.833151 33.793271 \r\nL 300.545839 26.418988 \r\nL 303.258527 30.503206 \r\nL 305.971216 29.066167 \r\nL 308.683904 34.265981 \r\nL 311.396592 23.95144 \r\nL 314.109281 11.793327 \r\nL 316.821969 41.63081 \r\nL 319.534658 28.120746 \r\nL 322.247346 34.738692 \r\nL 324.960034 26.674252 \r\nL 327.672723 19.923947 \r\nL 330.385411 18.193827 \r\nL 333.098099 30.957008 \r\nL 335.810788 23.724539 \r\nL 338.523476 27.175325 \r\nL 341.236165 39.465796 \r\nL 343.948853 26.532439 \r\nL 346.661541 21.030089 \r\nL 349.37423 19.507962 \r\nL 352.086918 13.939433 \r\nL 354.799607 25.558655 \r\nL 357.512295 20.557379 \r\nL 360.224983 43.24748 \r\nL 362.937672 87.776803 \r\nL 365.65036 24.301245 \r\nL 368.363048 33.660912 \r\nL 371.075737 24.613234 \r\nL 373.788425 26.51353 \r\nL 376.501114 13.674715 \r\nL 379.213802 28.30983 \r\nL 381.92649 20.009035 \r\nL 384.639179 24.528146 \r\nL 387.351867 26.258267 \r\nL 390.064555 19.611958 \r\nL 392.777244 33.897267 \r\nL 395.489932 13.892162 \r\nL 398.202621 31.165001 \r\nL 400.915309 19.328332 \r\nL 403.627997 32.658766 \r\nL 406.340686 22.306407 \r\nL 409.053374 25.558655 \r\nL 411.766063 27.175325 \r\nL 414.478751 19.091976 \r\nL 417.191439 25.624835 \r\nL 419.904128 30.957008 \r\nL 422.616816 35.788109 \r\nL 425.329504 24.78341 \r\nL 428.042193 29.066167 \r\nL 430.754881 28.149108 \r\nL 433.46757 31.902429 \r\nL 436.180258 29.066167 \r\nL 438.892946 31.902429 \r\nL 441.605635 18.052013 \r\nL 444.318323 29.066167 \r\nL 447.031011 34.738692 \r\nL 449.7437 19.611958 \r\nL 452.456388 23.762355 \r\nL 455.169077 16.775695 \r\nL 457.881765 24.339062 \r\nL 460.594453 16.775695 \r\nL 463.307142 14.884854 \r\nL 466.01983 34.10526 \r\nL 468.732519 25.048128 \r\nL 471.445207 22.126777 \r\nL 474.157895 35.684113 \r\nL 476.870584 32.84785 \r\nL 479.583272 16.775695 \r\nL 482.29596 23.393641 \r\nL 485.008649 21.370441 \r\nL 487.721337 12.020228 \r\nL 490.434026 11.500247 \r\nL 493.146714 30.011587 \r\nL 495.859402 33.897267 \r\nL 498.572091 24.367425 \r\nL 501.284779 17.721116 \r\nL 503.997467 33.424557 \r\nL 506.710156 35.504483 \r\nL 509.422844 20.443928 \r\nL 512.135533 24.149978 \r\nL 514.848221 19.611958 \r\nL 517.560909 21.417712 \r\nL 520.273598 24.149978 \r\nL 522.986286 29.189071 \r\nL 525.698975 24.622688 \r\nL 528.411663 24.291791 \r\nL 531.124351 32.658766 \r\nL 533.83704 29.066167 \r\nL 536.549728 37.574954 \r\nL 539.262416 31.618803 \r\nL 541.975105 19.337786 \r\nL 544.687793 15.924816 \r\nL 547.400482 47.407331 \r\nL 550.11317 28.120746 \r\nL 552.825858 25.048128 \r\nL 555.538547 30.957008 \r\nL 558.251235 29.066167 \r\nL 560.963923 30.323576 \r\nL 563.676612 36.91316 \r\nL 566.3893 29.066167 \r\nL 569.101989 23.16674 \r\nL 569.101989 23.16674 \r\n\" style=\"fill:none;stroke:#1f77b4;stroke-linecap:square;stroke-width:1.5;\"/>\r\n   </g>\r\n   <g id=\"patch_3\">\r\n    <path d=\"M 36.465625 91.613793 \r\nL 36.465625 7.2 \r\n\" style=\"fill:none;stroke:#000000;stroke-linecap:square;stroke-linejoin:miter;stroke-width:0.8;\"/>\r\n   </g>\r\n   <g id=\"patch_4\">\r\n    <path d=\"M 594.465625 91.613793 \r\nL 594.465625 7.2 \r\n\" style=\"fill:none;stroke:#000000;stroke-linecap:square;stroke-linejoin:miter;stroke-width:0.8;\"/>\r\n   </g>\r\n   <g id=\"patch_5\">\r\n    <path d=\"M 36.465625 91.613793 \r\nL 594.465625 91.613793 \r\n\" style=\"fill:none;stroke:#000000;stroke-linecap:square;stroke-linejoin:miter;stroke-width:0.8;\"/>\r\n   </g>\r\n   <g id=\"patch_6\">\r\n    <path d=\"M 36.465625 7.2 \r\nL 594.465625 7.2 \r\n\" style=\"fill:none;stroke:#000000;stroke-linecap:square;stroke-linejoin:miter;stroke-width:0.8;\"/>\r\n   </g>\r\n   <g id=\"legend_1\">\r\n    <g id=\"patch_7\">\r\n     <path d=\"M 43.465625 86.613793 \r\nL 133.132812 86.613793 \r\nQ 135.132812 86.613793 135.132812 84.613793 \r\nL 135.132812 70.935668 \r\nQ 135.132812 68.935668 133.132812 68.935668 \r\nL 43.465625 68.935668 \r\nQ 41.465625 68.935668 41.465625 70.935668 \r\nL 41.465625 84.613793 \r\nQ 41.465625 86.613793 43.465625 86.613793 \r\nz\r\n\" style=\"fill:#ffffff;opacity:0.8;stroke:#cccccc;stroke-linejoin:miter;\"/>\r\n    </g>\r\n    <g id=\"line2d_14\">\r\n     <path d=\"M 45.465625 77.034106 \r\nL 65.465625 77.034106 \r\n\" style=\"fill:none;stroke:#1f77b4;stroke-linecap:square;stroke-width:1.5;\"/>\r\n    </g>\r\n    <g id=\"line2d_15\"/>\r\n    <g id=\"text_5\">\r\n     <!-- Actual CWA -->\r\n     <defs>\r\n      <path d=\"M 34.1875 63.1875 \r\nL 20.796875 26.90625 \r\nL 47.609375 26.90625 \r\nz\r\nM 28.609375 72.90625 \r\nL 39.796875 72.90625 \r\nL 67.578125 0 \r\nL 57.328125 0 \r\nL 50.6875 18.703125 \r\nL 17.828125 18.703125 \r\nL 11.1875 0 \r\nL 0.78125 0 \r\nz\r\n\" id=\"DejaVuSans-65\"/>\r\n      <path d=\"M 48.78125 52.59375 \r\nL 48.78125 44.1875 \r\nQ 44.96875 46.296875 41.140625 47.34375 \r\nQ 37.3125 48.390625 33.40625 48.390625 \r\nQ 24.65625 48.390625 19.8125 42.84375 \r\nQ 14.984375 37.3125 14.984375 27.296875 \r\nQ 14.984375 17.28125 19.8125 11.734375 \r\nQ 24.65625 6.203125 33.40625 6.203125 \r\nQ 37.3125 6.203125 41.140625 7.25 \r\nQ 44.96875 8.296875 48.78125 10.40625 \r\nL 48.78125 2.09375 \r\nQ 45.015625 0.34375 40.984375 -0.53125 \r\nQ 36.96875 -1.421875 32.421875 -1.421875 \r\nQ 20.0625 -1.421875 12.78125 6.34375 \r\nQ 5.515625 14.109375 5.515625 27.296875 \r\nQ 5.515625 40.671875 12.859375 48.328125 \r\nQ 20.21875 56 33.015625 56 \r\nQ 37.15625 56 41.109375 55.140625 \r\nQ 45.0625 54.296875 48.78125 52.59375 \r\nz\r\n\" id=\"DejaVuSans-99\"/>\r\n      <path d=\"M 18.3125 70.21875 \r\nL 18.3125 54.6875 \r\nL 36.8125 54.6875 \r\nL 36.8125 47.703125 \r\nL 18.3125 47.703125 \r\nL 18.3125 18.015625 \r\nQ 18.3125 11.328125 20.140625 9.421875 \r\nQ 21.96875 7.515625 27.59375 7.515625 \r\nL 36.8125 7.515625 \r\nL 36.8125 0 \r\nL 27.59375 0 \r\nQ 17.1875 0 13.234375 3.875 \r\nQ 9.28125 7.765625 9.28125 18.015625 \r\nL 9.28125 47.703125 \r\nL 2.6875 47.703125 \r\nL 2.6875 54.6875 \r\nL 9.28125 54.6875 \r\nL 9.28125 70.21875 \r\nz\r\n\" id=\"DejaVuSans-116\"/>\r\n      <path d=\"M 8.5 21.578125 \r\nL 8.5 54.6875 \r\nL 17.484375 54.6875 \r\nL 17.484375 21.921875 \r\nQ 17.484375 14.15625 20.5 10.265625 \r\nQ 23.53125 6.390625 29.59375 6.390625 \r\nQ 36.859375 6.390625 41.078125 11.03125 \r\nQ 45.3125 15.671875 45.3125 23.6875 \r\nL 45.3125 54.6875 \r\nL 54.296875 54.6875 \r\nL 54.296875 0 \r\nL 45.3125 0 \r\nL 45.3125 8.40625 \r\nQ 42.046875 3.421875 37.71875 1 \r\nQ 33.40625 -1.421875 27.6875 -1.421875 \r\nQ 18.265625 -1.421875 13.375 4.4375 \r\nQ 8.5 10.296875 8.5 21.578125 \r\nz\r\nM 31.109375 56 \r\nz\r\n\" id=\"DejaVuSans-117\"/>\r\n      <path d=\"M 34.28125 27.484375 \r\nQ 23.390625 27.484375 19.1875 25 \r\nQ 14.984375 22.515625 14.984375 16.5 \r\nQ 14.984375 11.71875 18.140625 8.90625 \r\nQ 21.296875 6.109375 26.703125 6.109375 \r\nQ 34.1875 6.109375 38.703125 11.40625 \r\nQ 43.21875 16.703125 43.21875 25.484375 \r\nL 43.21875 27.484375 \r\nz\r\nM 52.203125 31.203125 \r\nL 52.203125 0 \r\nL 43.21875 0 \r\nL 43.21875 8.296875 \r\nQ 40.140625 3.328125 35.546875 0.953125 \r\nQ 30.953125 -1.421875 24.3125 -1.421875 \r\nQ 15.921875 -1.421875 10.953125 3.296875 \r\nQ 6 8.015625 6 15.921875 \r\nQ 6 25.140625 12.171875 29.828125 \r\nQ 18.359375 34.515625 30.609375 34.515625 \r\nL 43.21875 34.515625 \r\nL 43.21875 35.40625 \r\nQ 43.21875 41.609375 39.140625 45 \r\nQ 35.0625 48.390625 27.6875 48.390625 \r\nQ 23 48.390625 18.546875 47.265625 \r\nQ 14.109375 46.140625 10.015625 43.890625 \r\nL 10.015625 52.203125 \r\nQ 14.9375 54.109375 19.578125 55.046875 \r\nQ 24.21875 56 28.609375 56 \r\nQ 40.484375 56 46.34375 49.84375 \r\nQ 52.203125 43.703125 52.203125 31.203125 \r\nz\r\n\" id=\"DejaVuSans-97\"/>\r\n      <path d=\"M 9.421875 75.984375 \r\nL 18.40625 75.984375 \r\nL 18.40625 0 \r\nL 9.421875 0 \r\nz\r\n\" id=\"DejaVuSans-108\"/>\r\n      <path id=\"DejaVuSans-32\"/>\r\n      <path d=\"M 64.40625 67.28125 \r\nL 64.40625 56.890625 \r\nQ 59.421875 61.53125 53.78125 63.8125 \r\nQ 48.140625 66.109375 41.796875 66.109375 \r\nQ 29.296875 66.109375 22.65625 58.46875 \r\nQ 16.015625 50.828125 16.015625 36.375 \r\nQ 16.015625 21.96875 22.65625 14.328125 \r\nQ 29.296875 6.6875 41.796875 6.6875 \r\nQ 48.140625 6.6875 53.78125 8.984375 \r\nQ 59.421875 11.28125 64.40625 15.921875 \r\nL 64.40625 5.609375 \r\nQ 59.234375 2.09375 53.4375 0.328125 \r\nQ 47.65625 -1.421875 41.21875 -1.421875 \r\nQ 24.65625 -1.421875 15.125 8.703125 \r\nQ 5.609375 18.84375 5.609375 36.375 \r\nQ 5.609375 53.953125 15.125 64.078125 \r\nQ 24.65625 74.21875 41.21875 74.21875 \r\nQ 47.75 74.21875 53.53125 72.484375 \r\nQ 59.328125 70.75 64.40625 67.28125 \r\nz\r\n\" id=\"DejaVuSans-67\"/>\r\n      <path d=\"M 3.328125 72.90625 \r\nL 13.28125 72.90625 \r\nL 28.609375 11.28125 \r\nL 43.890625 72.90625 \r\nL 54.984375 72.90625 \r\nL 70.3125 11.28125 \r\nL 85.59375 72.90625 \r\nL 95.609375 72.90625 \r\nL 77.296875 0 \r\nL 64.890625 0 \r\nL 49.515625 63.28125 \r\nL 33.984375 0 \r\nL 21.578125 0 \r\nz\r\n\" id=\"DejaVuSans-87\"/>\r\n     </defs>\r\n     <g transform=\"translate(73.465625 80.534106)scale(0.1 -0.1)\">\r\n      <use xlink:href=\"#DejaVuSans-65\"/>\r\n      <use x=\"66.658203\" xlink:href=\"#DejaVuSans-99\"/>\r\n      <use x=\"121.638672\" xlink:href=\"#DejaVuSans-116\"/>\r\n      <use x=\"160.847656\" xlink:href=\"#DejaVuSans-117\"/>\r\n      <use x=\"224.226562\" xlink:href=\"#DejaVuSans-97\"/>\r\n      <use x=\"285.505859\" xlink:href=\"#DejaVuSans-108\"/>\r\n      <use x=\"313.289062\" xlink:href=\"#DejaVuSans-32\"/>\r\n      <use x=\"345.076172\" xlink:href=\"#DejaVuSans-67\"/>\r\n      <use x=\"414.900391\" xlink:href=\"#DejaVuSans-87\"/>\r\n      <use x=\"508.277344\" xlink:href=\"#DejaVuSans-65\"/>\r\n     </g>\r\n    </g>\r\n   </g>\r\n  </g>\r\n  <g id=\"axes_2\">\r\n   <g id=\"patch_8\">\r\n    <path d=\"M 36.465625 192.910345 \r\nL 594.465625 192.910345 \r\nL 594.465625 108.496552 \r\nL 36.465625 108.496552 \r\nz\r\n\" style=\"fill:#ffffff;\"/>\r\n   </g>\r\n   <g id=\"matplotlib.axis_3\">\r\n    <g id=\"xtick_9\">\r\n     <g id=\"line2d_16\">\r\n      <g>\r\n       <use style=\"stroke:#000000;stroke-width:0.8;\" x=\"61.829261\" xlink:href=\"#m769b7ac07c\" y=\"192.910345\"/>\r\n      </g>\r\n     </g>\r\n    </g>\r\n    <g id=\"xtick_10\">\r\n     <g id=\"line2d_17\">\r\n      <g>\r\n       <use style=\"stroke:#000000;stroke-width:0.8;\" x=\"129.646471\" xlink:href=\"#m769b7ac07c\" y=\"192.910345\"/>\r\n      </g>\r\n     </g>\r\n    </g>\r\n    <g id=\"xtick_11\">\r\n     <g id=\"line2d_18\">\r\n      <g>\r\n       <use style=\"stroke:#000000;stroke-width:0.8;\" x=\"197.46368\" xlink:href=\"#m769b7ac07c\" y=\"192.910345\"/>\r\n      </g>\r\n     </g>\r\n    </g>\r\n    <g id=\"xtick_12\">\r\n     <g id=\"line2d_19\">\r\n      <g>\r\n       <use style=\"stroke:#000000;stroke-width:0.8;\" x=\"265.28089\" xlink:href=\"#m769b7ac07c\" y=\"192.910345\"/>\r\n      </g>\r\n     </g>\r\n    </g>\r\n    <g id=\"xtick_13\">\r\n     <g id=\"line2d_20\">\r\n      <g>\r\n       <use style=\"stroke:#000000;stroke-width:0.8;\" x=\"333.098099\" xlink:href=\"#m769b7ac07c\" y=\"192.910345\"/>\r\n      </g>\r\n     </g>\r\n    </g>\r\n    <g id=\"xtick_14\">\r\n     <g id=\"line2d_21\">\r\n      <g>\r\n       <use style=\"stroke:#000000;stroke-width:0.8;\" x=\"400.915309\" xlink:href=\"#m769b7ac07c\" y=\"192.910345\"/>\r\n      </g>\r\n     </g>\r\n    </g>\r\n    <g id=\"xtick_15\">\r\n     <g id=\"line2d_22\">\r\n      <g>\r\n       <use style=\"stroke:#000000;stroke-width:0.8;\" x=\"468.732519\" xlink:href=\"#m769b7ac07c\" y=\"192.910345\"/>\r\n      </g>\r\n     </g>\r\n    </g>\r\n    <g id=\"xtick_16\">\r\n     <g id=\"line2d_23\">\r\n      <g>\r\n       <use style=\"stroke:#000000;stroke-width:0.8;\" x=\"536.549728\" xlink:href=\"#m769b7ac07c\" y=\"192.910345\"/>\r\n      </g>\r\n     </g>\r\n    </g>\r\n   </g>\r\n   <g id=\"matplotlib.axis_4\">\r\n    <g id=\"ytick_5\">\r\n     <g id=\"line2d_24\">\r\n      <g>\r\n       <use style=\"stroke:#000000;stroke-width:0.8;\" x=\"36.465625\" xlink:href=\"#ma13a9a9a03\" y=\"189.633995\"/>\r\n      </g>\r\n     </g>\r\n     <g id=\"text_6\">\r\n      <!-- 0 -->\r\n      <g transform=\"translate(23.103125 193.433214)scale(0.1 -0.1)\">\r\n       <use xlink:href=\"#DejaVuSans-48\"/>\r\n      </g>\r\n     </g>\r\n    </g>\r\n    <g id=\"ytick_6\">\r\n     <g id=\"line2d_25\">\r\n      <g>\r\n       <use style=\"stroke:#000000;stroke-width:0.8;\" x=\"36.465625\" xlink:href=\"#ma13a9a9a03\" y=\"168.397607\"/>\r\n      </g>\r\n     </g>\r\n     <g id=\"text_7\">\r\n      <!-- 25 -->\r\n      <g transform=\"translate(16.740625 172.196826)scale(0.1 -0.1)\">\r\n       <use xlink:href=\"#DejaVuSans-50\"/>\r\n       <use x=\"63.623047\" xlink:href=\"#DejaVuSans-53\"/>\r\n      </g>\r\n     </g>\r\n    </g>\r\n    <g id=\"ytick_7\">\r\n     <g id=\"line2d_26\">\r\n      <g>\r\n       <use style=\"stroke:#000000;stroke-width:0.8;\" x=\"36.465625\" xlink:href=\"#ma13a9a9a03\" y=\"147.161219\"/>\r\n      </g>\r\n     </g>\r\n     <g id=\"text_8\">\r\n      <!-- 50 -->\r\n      <g transform=\"translate(16.740625 150.960437)scale(0.1 -0.1)\">\r\n       <use xlink:href=\"#DejaVuSans-53\"/>\r\n       <use x=\"63.623047\" xlink:href=\"#DejaVuSans-48\"/>\r\n      </g>\r\n     </g>\r\n    </g>\r\n    <g id=\"ytick_8\">\r\n     <g id=\"line2d_27\">\r\n      <g>\r\n       <use style=\"stroke:#000000;stroke-width:0.8;\" x=\"36.465625\" xlink:href=\"#ma13a9a9a03\" y=\"125.924831\"/>\r\n      </g>\r\n     </g>\r\n     <g id=\"text_9\">\r\n      <!-- 75 -->\r\n      <g transform=\"translate(16.740625 129.724049)scale(0.1 -0.1)\">\r\n       <use xlink:href=\"#DejaVuSans-55\"/>\r\n       <use x=\"63.623047\" xlink:href=\"#DejaVuSans-53\"/>\r\n      </g>\r\n     </g>\r\n    </g>\r\n   </g>\r\n   <g id=\"line2d_28\">\r\n    <path clip-path=\"url(#p7719059e1c)\" d=\"M 61.829261 133.56993 \r\nL 64.54195 142.913941 \r\nL 67.254638 142.913941 \r\nL 69.967327 117.430275 \r\nL 72.680015 141.21503 \r\nL 75.392703 127.623742 \r\nL 78.105392 155.655774 \r\nL 80.81808 123.376464 \r\nL 83.530768 138.666664 \r\nL 86.243457 138.666664 \r\nL 88.956145 123.376464 \r\nL 91.668834 112.333542 \r\nL 94.381522 130.172108 \r\nL 97.09421 121.677553 \r\nL 99.806899 127.623742 \r\nL 102.519587 126.774286 \r\nL 105.232275 124.22592 \r\nL 107.944964 128.473197 \r\nL 110.657652 136.967752 \r\nL 113.370341 136.967752 \r\nL 116.083029 126.774286 \r\nL 118.795717 135.268841 \r\nL 121.508406 121.677553 \r\nL 124.221094 127.623742 \r\nL 126.933783 123.376464 \r\nL 129.646471 123.376464 \r\nL 132.359159 136.967752 \r\nL 135.071848 139.516119 \r\nL 137.784536 129.322653 \r\nL 140.497224 138.666664 \r\nL 143.209913 125.924831 \r\nL 145.922601 131.021564 \r\nL 148.63529 121.677553 \r\nL 151.347978 139.516119 \r\nL 154.060666 118.279731 \r\nL 156.773355 140.365575 \r\nL 159.486043 130.172108 \r\nL 162.198731 128.473197 \r\nL 164.91142 135.268841 \r\nL 167.624108 140.365575 \r\nL 170.336797 126.774286 \r\nL 173.049485 128.473197 \r\nL 175.762173 155.655774 \r\nL 178.474862 134.419386 \r\nL 181.18755 124.22592 \r\nL 183.900239 129.322653 \r\nL 186.612927 138.666664 \r\nL 189.325615 132.720475 \r\nL 192.038304 121.677553 \r\nL 194.750992 133.56993 \r\nL 197.46368 125.924831 \r\nL 200.176369 131.871019 \r\nL 202.889057 112.333542 \r\nL 205.601746 142.913941 \r\nL 208.314434 128.473197 \r\nL 211.027122 138.666664 \r\nL 213.739811 136.118297 \r\nL 216.452499 132.720475 \r\nL 219.165187 138.666664 \r\nL 221.877876 136.118297 \r\nL 224.590564 137.817208 \r\nL 227.303253 131.021564 \r\nL 230.015941 112.333542 \r\nL 232.728629 123.376464 \r\nL 235.441318 123.376464 \r\nL 238.154006 134.419386 \r\nL 240.866695 124.22592 \r\nL 243.579383 122.527009 \r\nL 246.292071 123.376464 \r\nL 249.00476 151.408496 \r\nL 251.717448 147.161219 \r\nL 254.430136 133.56993 \r\nL 257.142825 136.967752 \r\nL 259.855513 121.677553 \r\nL 262.568202 139.516119 \r\nL 265.28089 120.828098 \r\nL 267.993578 130.172108 \r\nL 270.706267 128.473197 \r\nL 273.418955 135.268841 \r\nL 276.131643 129.322653 \r\nL 278.844332 128.473197 \r\nL 281.55702 119.978642 \r\nL 284.269709 122.527009 \r\nL 286.982397 126.774286 \r\nL 289.695085 139.516119 \r\nL 292.407774 130.172108 \r\nL 295.120462 132.720475 \r\nL 297.833151 134.419386 \r\nL 300.545839 120.828098 \r\nL 303.258527 151.408496 \r\nL 305.971216 128.473197 \r\nL 308.683904 141.21503 \r\nL 314.109281 119.129187 \r\nL 316.821969 146.515633 \r\nL 319.534658 145.462308 \r\nL 322.247346 131.871019 \r\nL 324.960034 127.623742 \r\nL 327.672723 129.322653 \r\nL 330.385411 119.129187 \r\nL 333.098099 149.709585 \r\nL 335.810788 127.623742 \r\nL 338.523476 134.419386 \r\nL 341.236165 144.612852 \r\nL 343.948853 142.913941 \r\nL 346.661541 134.419386 \r\nL 349.37423 140.365575 \r\nL 352.086918 119.978642 \r\nL 354.799607 137.817208 \r\nL 357.512295 131.871019 \r\nL 360.224983 134.419386 \r\nL 362.937672 117.430275 \r\nL 365.65036 126.774286 \r\nL 368.363048 138.666664 \r\nL 371.075737 131.871019 \r\nL 373.788425 140.365575 \r\nL 376.501114 118.279731 \r\nL 379.213802 151.408496 \r\nL 381.92649 121.677553 \r\nL 384.639179 136.967752 \r\nL 387.351867 131.871019 \r\nL 390.064555 125.924831 \r\nL 392.777244 136.118297 \r\nL 395.489932 119.978642 \r\nL 398.202621 189.073354 \r\nL 400.915309 117.430275 \r\nL 403.627997 145.462308 \r\nL 406.340686 136.967752 \r\nL 409.053374 137.817208 \r\nL 411.766063 128.473197 \r\nL 414.478751 123.376464 \r\nL 417.191439 130.172108 \r\nL 419.904128 125.075375 \r\nL 422.616816 131.871019 \r\nL 425.329504 136.967752 \r\nL 428.042193 142.913941 \r\nL 430.754881 125.924831 \r\nL 433.46757 131.021564 \r\nL 436.180258 142.913941 \r\nL 438.892946 143.763397 \r\nL 441.605635 129.322653 \r\nL 444.318323 132.720475 \r\nL 447.031011 138.666664 \r\nL 449.7437 125.924831 \r\nL 452.456388 143.763397 \r\nL 455.169077 128.473197 \r\nL 457.881765 131.021564 \r\nL 463.307142 125.924831 \r\nL 466.01983 144.612852 \r\nL 468.732519 134.419386 \r\nL 471.445207 131.871019 \r\nL 474.157895 141.21503 \r\nL 476.870584 131.871019 \r\nL 479.583272 128.473197 \r\nL 482.29596 122.527009 \r\nL 485.008649 122.527009 \r\nL 487.721337 112.333542 \r\nL 490.434026 117.430275 \r\nL 493.146714 155.655774 \r\nL 495.859402 136.118297 \r\nL 498.572091 138.666664 \r\nL 501.284779 121.677553 \r\nL 503.997467 155.655774 \r\nL 506.710156 141.21503 \r\nL 509.422844 131.021564 \r\nL 512.135533 123.376464 \r\nL 514.848221 130.172108 \r\nL 517.560909 123.376464 \r\nL 520.273598 123.376464 \r\nL 522.986286 130.172108 \r\nL 525.698975 131.871019 \r\nL 528.411663 138.666664 \r\nL 531.124351 149.709585 \r\nL 533.83704 140.365575 \r\nL 536.549728 147.161219 \r\nL 539.262416 130.172108 \r\nL 541.975105 117.430275 \r\nL 544.687793 136.967752 \r\nL 547.400482 155.655774 \r\nL 550.11317 141.21503 \r\nL 552.825858 135.268841 \r\nL 555.538547 140.365575 \r\nL 558.251235 155.655774 \r\nL 560.963923 131.871019 \r\nL 566.3893 155.655774 \r\nL 569.101989 131.871019 \r\nL 569.101989 131.871019 \r\n\" style=\"fill:none;stroke:#ff7f0e;stroke-linecap:square;stroke-width:1.5;\"/>\r\n   </g>\r\n   <g id=\"patch_9\">\r\n    <path d=\"M 36.465625 192.910345 \r\nL 36.465625 108.496552 \r\n\" style=\"fill:none;stroke:#000000;stroke-linecap:square;stroke-linejoin:miter;stroke-width:0.8;\"/>\r\n   </g>\r\n   <g id=\"patch_10\">\r\n    <path d=\"M 594.465625 192.910345 \r\nL 594.465625 108.496552 \r\n\" style=\"fill:none;stroke:#000000;stroke-linecap:square;stroke-linejoin:miter;stroke-width:0.8;\"/>\r\n   </g>\r\n   <g id=\"patch_11\">\r\n    <path d=\"M 36.465625 192.910345 \r\nL 594.465625 192.910345 \r\n\" style=\"fill:none;stroke:#000000;stroke-linecap:square;stroke-linejoin:miter;stroke-width:0.8;\"/>\r\n   </g>\r\n   <g id=\"patch_12\">\r\n    <path d=\"M 36.465625 108.496552 \r\nL 594.465625 108.496552 \r\n\" style=\"fill:none;stroke:#000000;stroke-linecap:square;stroke-linejoin:miter;stroke-width:0.8;\"/>\r\n   </g>\r\n   <g id=\"legend_2\">\r\n    <g id=\"patch_13\">\r\n     <path d=\"M 43.465625 187.910345 \r\nL 103.470313 187.910345 \r\nQ 105.470313 187.910345 105.470313 185.910345 \r\nL 105.470313 172.23222 \r\nQ 105.470313 170.23222 103.470313 170.23222 \r\nL 43.465625 170.23222 \r\nQ 41.465625 170.23222 41.465625 172.23222 \r\nL 41.465625 185.910345 \r\nQ 41.465625 187.910345 43.465625 187.910345 \r\nz\r\n\" style=\"fill:#ffffff;opacity:0.8;stroke:#cccccc;stroke-linejoin:miter;\"/>\r\n    </g>\r\n    <g id=\"line2d_29\">\r\n     <path d=\"M 45.465625 178.330657 \r\nL 65.465625 178.330657 \r\n\" style=\"fill:none;stroke:#ff7f0e;stroke-linecap:square;stroke-width:1.5;\"/>\r\n    </g>\r\n    <g id=\"line2d_30\"/>\r\n    <g id=\"text_10\">\r\n     <!-- Score -->\r\n     <defs>\r\n      <path d=\"M 53.515625 70.515625 \r\nL 53.515625 60.890625 \r\nQ 47.90625 63.578125 42.921875 64.890625 \r\nQ 37.9375 66.21875 33.296875 66.21875 \r\nQ 25.25 66.21875 20.875 63.09375 \r\nQ 16.5 59.96875 16.5 54.203125 \r\nQ 16.5 49.359375 19.40625 46.890625 \r\nQ 22.3125 44.4375 30.421875 42.921875 \r\nL 36.375 41.703125 \r\nQ 47.40625 39.59375 52.65625 34.296875 \r\nQ 57.90625 29 57.90625 20.125 \r\nQ 57.90625 9.515625 50.796875 4.046875 \r\nQ 43.703125 -1.421875 29.984375 -1.421875 \r\nQ 24.8125 -1.421875 18.96875 -0.25 \r\nQ 13.140625 0.921875 6.890625 3.21875 \r\nL 6.890625 13.375 \r\nQ 12.890625 10.015625 18.65625 8.296875 \r\nQ 24.421875 6.59375 29.984375 6.59375 \r\nQ 38.421875 6.59375 43.015625 9.90625 \r\nQ 47.609375 13.234375 47.609375 19.390625 \r\nQ 47.609375 24.75 44.3125 27.78125 \r\nQ 41.015625 30.8125 33.5 32.328125 \r\nL 27.484375 33.5 \r\nQ 16.453125 35.6875 11.515625 40.375 \r\nQ 6.59375 45.0625 6.59375 53.421875 \r\nQ 6.59375 63.09375 13.40625 68.65625 \r\nQ 20.21875 74.21875 32.171875 74.21875 \r\nQ 37.3125 74.21875 42.625 73.28125 \r\nQ 47.953125 72.359375 53.515625 70.515625 \r\nz\r\n\" id=\"DejaVuSans-83\"/>\r\n      <path d=\"M 30.609375 48.390625 \r\nQ 23.390625 48.390625 19.1875 42.75 \r\nQ 14.984375 37.109375 14.984375 27.296875 \r\nQ 14.984375 17.484375 19.15625 11.84375 \r\nQ 23.34375 6.203125 30.609375 6.203125 \r\nQ 37.796875 6.203125 41.984375 11.859375 \r\nQ 46.1875 17.53125 46.1875 27.296875 \r\nQ 46.1875 37.015625 41.984375 42.703125 \r\nQ 37.796875 48.390625 30.609375 48.390625 \r\nz\r\nM 30.609375 56 \r\nQ 42.328125 56 49.015625 48.375 \r\nQ 55.71875 40.765625 55.71875 27.296875 \r\nQ 55.71875 13.875 49.015625 6.21875 \r\nQ 42.328125 -1.421875 30.609375 -1.421875 \r\nQ 18.84375 -1.421875 12.171875 6.21875 \r\nQ 5.515625 13.875 5.515625 27.296875 \r\nQ 5.515625 40.765625 12.171875 48.375 \r\nQ 18.84375 56 30.609375 56 \r\nz\r\n\" id=\"DejaVuSans-111\"/>\r\n      <path d=\"M 41.109375 46.296875 \r\nQ 39.59375 47.171875 37.8125 47.578125 \r\nQ 36.03125 48 33.890625 48 \r\nQ 26.265625 48 22.1875 43.046875 \r\nQ 18.109375 38.09375 18.109375 28.8125 \r\nL 18.109375 0 \r\nL 9.078125 0 \r\nL 9.078125 54.6875 \r\nL 18.109375 54.6875 \r\nL 18.109375 46.1875 \r\nQ 20.953125 51.171875 25.484375 53.578125 \r\nQ 30.03125 56 36.53125 56 \r\nQ 37.453125 56 38.578125 55.875 \r\nQ 39.703125 55.765625 41.0625 55.515625 \r\nz\r\n\" id=\"DejaVuSans-114\"/>\r\n      <path d=\"M 56.203125 29.59375 \r\nL 56.203125 25.203125 \r\nL 14.890625 25.203125 \r\nQ 15.484375 15.921875 20.484375 11.0625 \r\nQ 25.484375 6.203125 34.421875 6.203125 \r\nQ 39.59375 6.203125 44.453125 7.46875 \r\nQ 49.3125 8.734375 54.109375 11.28125 \r\nL 54.109375 2.78125 \r\nQ 49.265625 0.734375 44.1875 -0.34375 \r\nQ 39.109375 -1.421875 33.890625 -1.421875 \r\nQ 20.796875 -1.421875 13.15625 6.1875 \r\nQ 5.515625 13.8125 5.515625 26.8125 \r\nQ 5.515625 40.234375 12.765625 48.109375 \r\nQ 20.015625 56 32.328125 56 \r\nQ 43.359375 56 49.78125 48.890625 \r\nQ 56.203125 41.796875 56.203125 29.59375 \r\nz\r\nM 47.21875 32.234375 \r\nQ 47.125 39.59375 43.09375 43.984375 \r\nQ 39.0625 48.390625 32.421875 48.390625 \r\nQ 24.90625 48.390625 20.390625 44.140625 \r\nQ 15.875 39.890625 15.1875 32.171875 \r\nz\r\n\" id=\"DejaVuSans-101\"/>\r\n     </defs>\r\n     <g transform=\"translate(73.465625 181.830657)scale(0.1 -0.1)\">\r\n      <use xlink:href=\"#DejaVuSans-83\"/>\r\n      <use x=\"63.476562\" xlink:href=\"#DejaVuSans-99\"/>\r\n      <use x=\"118.457031\" xlink:href=\"#DejaVuSans-111\"/>\r\n      <use x=\"179.638672\" xlink:href=\"#DejaVuSans-114\"/>\r\n      <use x=\"218.501953\" xlink:href=\"#DejaVuSans-101\"/>\r\n     </g>\r\n    </g>\r\n   </g>\r\n  </g>\r\n  <g id=\"axes_3\">\r\n   <g id=\"patch_14\">\r\n    <path d=\"M 36.465625 294.206897 \r\nL 594.465625 294.206897 \r\nL 594.465625 209.793103 \r\nL 36.465625 209.793103 \r\nz\r\n\" style=\"fill:#ffffff;\"/>\r\n   </g>\r\n   <g id=\"matplotlib.axis_5\">\r\n    <g id=\"xtick_17\">\r\n     <g id=\"line2d_31\">\r\n      <g>\r\n       <use style=\"stroke:#000000;stroke-width:0.8;\" x=\"61.829261\" xlink:href=\"#m769b7ac07c\" y=\"294.206897\"/>\r\n      </g>\r\n     </g>\r\n    </g>\r\n    <g id=\"xtick_18\">\r\n     <g id=\"line2d_32\">\r\n      <g>\r\n       <use style=\"stroke:#000000;stroke-width:0.8;\" x=\"129.646471\" xlink:href=\"#m769b7ac07c\" y=\"294.206897\"/>\r\n      </g>\r\n     </g>\r\n    </g>\r\n    <g id=\"xtick_19\">\r\n     <g id=\"line2d_33\">\r\n      <g>\r\n       <use style=\"stroke:#000000;stroke-width:0.8;\" x=\"197.46368\" xlink:href=\"#m769b7ac07c\" y=\"294.206897\"/>\r\n      </g>\r\n     </g>\r\n    </g>\r\n    <g id=\"xtick_20\">\r\n     <g id=\"line2d_34\">\r\n      <g>\r\n       <use style=\"stroke:#000000;stroke-width:0.8;\" x=\"265.28089\" xlink:href=\"#m769b7ac07c\" y=\"294.206897\"/>\r\n      </g>\r\n     </g>\r\n    </g>\r\n    <g id=\"xtick_21\">\r\n     <g id=\"line2d_35\">\r\n      <g>\r\n       <use style=\"stroke:#000000;stroke-width:0.8;\" x=\"333.098099\" xlink:href=\"#m769b7ac07c\" y=\"294.206897\"/>\r\n      </g>\r\n     </g>\r\n    </g>\r\n    <g id=\"xtick_22\">\r\n     <g id=\"line2d_36\">\r\n      <g>\r\n       <use style=\"stroke:#000000;stroke-width:0.8;\" x=\"400.915309\" xlink:href=\"#m769b7ac07c\" y=\"294.206897\"/>\r\n      </g>\r\n     </g>\r\n    </g>\r\n    <g id=\"xtick_23\">\r\n     <g id=\"line2d_37\">\r\n      <g>\r\n       <use style=\"stroke:#000000;stroke-width:0.8;\" x=\"468.732519\" xlink:href=\"#m769b7ac07c\" y=\"294.206897\"/>\r\n      </g>\r\n     </g>\r\n    </g>\r\n    <g id=\"xtick_24\">\r\n     <g id=\"line2d_38\">\r\n      <g>\r\n       <use style=\"stroke:#000000;stroke-width:0.8;\" x=\"536.549728\" xlink:href=\"#m769b7ac07c\" y=\"294.206897\"/>\r\n      </g>\r\n     </g>\r\n    </g>\r\n   </g>\r\n   <g id=\"matplotlib.axis_6\">\r\n    <g id=\"ytick_9\">\r\n     <g id=\"line2d_39\">\r\n      <g>\r\n       <use style=\"stroke:#000000;stroke-width:0.8;\" x=\"36.465625\" xlink:href=\"#ma13a9a9a03\" y=\"275.517039\"/>\r\n      </g>\r\n     </g>\r\n     <g id=\"text_11\">\r\n      <!-- 2 -->\r\n      <g transform=\"translate(23.103125 279.316258)scale(0.1 -0.1)\">\r\n       <use xlink:href=\"#DejaVuSans-50\"/>\r\n      </g>\r\n     </g>\r\n    </g>\r\n    <g id=\"ytick_10\">\r\n     <g id=\"line2d_40\">\r\n      <g>\r\n       <use style=\"stroke:#000000;stroke-width:0.8;\" x=\"36.465625\" xlink:href=\"#ma13a9a9a03\" y=\"250.762261\"/>\r\n      </g>\r\n     </g>\r\n     <g id=\"text_12\">\r\n      <!-- 4 -->\r\n      <defs>\r\n       <path d=\"M 37.796875 64.3125 \r\nL 12.890625 25.390625 \r\nL 37.796875 25.390625 \r\nz\r\nM 35.203125 72.90625 \r\nL 47.609375 72.90625 \r\nL 47.609375 25.390625 \r\nL 58.015625 25.390625 \r\nL 58.015625 17.1875 \r\nL 47.609375 17.1875 \r\nL 47.609375 0 \r\nL 37.796875 0 \r\nL 37.796875 17.1875 \r\nL 4.890625 17.1875 \r\nL 4.890625 26.703125 \r\nz\r\n\" id=\"DejaVuSans-52\"/>\r\n      </defs>\r\n      <g transform=\"translate(23.103125 254.56148)scale(0.1 -0.1)\">\r\n       <use xlink:href=\"#DejaVuSans-52\"/>\r\n      </g>\r\n     </g>\r\n    </g>\r\n    <g id=\"ytick_11\">\r\n     <g id=\"line2d_41\">\r\n      <g>\r\n       <use style=\"stroke:#000000;stroke-width:0.8;\" x=\"36.465625\" xlink:href=\"#ma13a9a9a03\" y=\"226.007483\"/>\r\n      </g>\r\n     </g>\r\n     <g id=\"text_13\">\r\n      <!-- 6 -->\r\n      <defs>\r\n       <path d=\"M 33.015625 40.375 \r\nQ 26.375 40.375 22.484375 35.828125 \r\nQ 18.609375 31.296875 18.609375 23.390625 \r\nQ 18.609375 15.53125 22.484375 10.953125 \r\nQ 26.375 6.390625 33.015625 6.390625 \r\nQ 39.65625 6.390625 43.53125 10.953125 \r\nQ 47.40625 15.53125 47.40625 23.390625 \r\nQ 47.40625 31.296875 43.53125 35.828125 \r\nQ 39.65625 40.375 33.015625 40.375 \r\nz\r\nM 52.59375 71.296875 \r\nL 52.59375 62.3125 \r\nQ 48.875 64.0625 45.09375 64.984375 \r\nQ 41.3125 65.921875 37.59375 65.921875 \r\nQ 27.828125 65.921875 22.671875 59.328125 \r\nQ 17.53125 52.734375 16.796875 39.40625 \r\nQ 19.671875 43.65625 24.015625 45.921875 \r\nQ 28.375 48.1875 33.59375 48.1875 \r\nQ 44.578125 48.1875 50.953125 41.515625 \r\nQ 57.328125 34.859375 57.328125 23.390625 \r\nQ 57.328125 12.15625 50.6875 5.359375 \r\nQ 44.046875 -1.421875 33.015625 -1.421875 \r\nQ 20.359375 -1.421875 13.671875 8.265625 \r\nQ 6.984375 17.96875 6.984375 36.375 \r\nQ 6.984375 53.65625 15.1875 63.9375 \r\nQ 23.390625 74.21875 37.203125 74.21875 \r\nQ 40.921875 74.21875 44.703125 73.484375 \r\nQ 48.484375 72.75 52.59375 71.296875 \r\nz\r\n\" id=\"DejaVuSans-54\"/>\r\n      </defs>\r\n      <g transform=\"translate(23.103125 229.806702)scale(0.1 -0.1)\">\r\n       <use xlink:href=\"#DejaVuSans-54\"/>\r\n      </g>\r\n     </g>\r\n    </g>\r\n   </g>\r\n   <g id=\"line2d_42\">\r\n    <path clip-path=\"url(#p180472a44b)\" d=\"M 61.829261 263.13965 \r\nL 64.54195 263.13965 \r\nL 69.967327 287.894428 \r\nL 72.680015 287.894428 \r\nL 75.392703 238.384872 \r\nL 78.105392 287.894428 \r\nL 80.81808 269.328345 \r\nL 83.530768 244.573567 \r\nL 86.243457 256.950956 \r\nL 88.956145 256.950956 \r\nL 91.668834 269.328345 \r\nL 94.381522 244.573567 \r\nL 97.09421 269.328345 \r\nL 99.806899 256.950956 \r\nL 102.519587 269.328345 \r\nL 105.232275 269.328345 \r\nL 107.944964 290.369906 \r\nL 110.657652 269.328345 \r\nL 113.370341 269.328345 \r\nL 116.083029 256.950956 \r\nL 118.795717 290.369906 \r\nL 121.508406 244.573567 \r\nL 124.221094 290.369906 \r\nL 126.933783 244.573567 \r\nL 129.646471 244.573567 \r\nL 132.359159 281.705734 \r\nL 135.071848 269.328345 \r\nL 137.784536 213.630094 \r\nL 140.497224 281.705734 \r\nL 143.209913 244.573567 \r\nL 145.922601 256.950956 \r\nL 148.63529 281.705734 \r\nL 151.347978 290.369906 \r\nL 154.060666 256.950956 \r\nL 156.773355 281.705734 \r\nL 159.486043 256.950956 \r\nL 162.198731 244.573567 \r\nL 164.91142 269.328345 \r\nL 167.624108 244.573567 \r\nL 170.336797 281.705734 \r\nL 173.049485 244.573567 \r\nL 175.762173 269.328345 \r\nL 178.474862 281.705734 \r\nL 181.18755 269.328345 \r\nL 183.900239 281.705734 \r\nL 186.612927 269.328345 \r\nL 189.325615 244.573567 \r\nL 192.038304 269.328345 \r\nL 194.750992 244.573567 \r\nL 197.46368 256.950956 \r\nL 200.176369 256.950956 \r\nL 202.889057 269.328345 \r\nL 208.314434 244.573567 \r\nL 211.027122 213.630094 \r\nL 213.739811 290.369906 \r\nL 216.452499 290.369906 \r\nL 219.165187 244.573567 \r\nL 221.877876 290.369906 \r\nL 224.590564 269.328345 \r\nL 227.303253 238.384872 \r\nL 230.015941 256.950956 \r\nL 232.728629 281.705734 \r\nL 235.441318 256.950956 \r\nL 238.154006 281.705734 \r\nL 240.866695 219.818789 \r\nL 243.579383 244.573567 \r\nL 246.292071 256.950956 \r\nL 249.00476 281.705734 \r\nL 251.717448 269.328345 \r\nL 254.430136 290.369906 \r\nL 257.142825 269.328345 \r\nL 259.855513 256.950956 \r\nL 262.568202 281.705734 \r\nL 265.28089 244.573567 \r\nL 267.993578 269.328345 \r\nL 270.706267 290.369906 \r\nL 273.418955 256.950956 \r\nL 276.131643 281.705734 \r\nL 278.844332 256.950956 \r\nL 281.55702 281.705734 \r\nL 286.982397 256.950956 \r\nL 289.695085 269.328345 \r\nL 292.407774 269.328345 \r\nL 297.833151 244.573567 \r\nL 300.545839 256.950956 \r\nL 303.258527 256.950956 \r\nL 305.971216 269.328345 \r\nL 308.683904 269.328345 \r\nL 311.396592 244.573567 \r\nL 314.109281 256.950956 \r\nL 319.534658 256.950956 \r\nL 322.247346 269.328345 \r\nL 324.960034 256.950956 \r\nL 327.672723 256.950956 \r\nL 330.385411 244.573567 \r\nL 333.098099 256.950956 \r\nL 335.810788 281.705734 \r\nL 338.523476 269.328345 \r\nL 341.236165 281.705734 \r\nL 343.948853 238.384872 \r\nL 346.661541 244.573567 \r\nL 349.37423 269.328345 \r\nL 352.086918 244.573567 \r\nL 354.799607 256.950956 \r\nL 357.512295 213.630094 \r\nL 360.224983 269.328345 \r\nL 362.937672 244.573567 \r\nL 365.65036 244.573567 \r\nL 368.363048 281.705734 \r\nL 373.788425 256.950956 \r\nL 376.501114 256.950956 \r\nL 379.213802 269.328345 \r\nL 381.92649 269.328345 \r\nL 384.639179 256.950956 \r\nL 387.351867 238.384872 \r\nL 390.064555 226.007483 \r\nL 392.777244 269.328345 \r\nL 395.489932 244.573567 \r\nL 398.202621 269.328345 \r\nL 400.915309 256.950956 \r\nL 403.627997 290.369906 \r\nL 406.340686 244.573567 \r\nL 411.766063 269.328345 \r\nL 414.478751 244.573567 \r\nL 417.191439 281.705734 \r\nL 419.904128 244.573567 \r\nL 422.616816 269.328345 \r\nL 425.329504 256.950956 \r\nL 428.042193 269.328345 \r\nL 430.754881 244.573567 \r\nL 433.46757 269.328345 \r\nL 436.180258 281.705734 \r\nL 438.892946 281.705734 \r\nL 441.605635 269.328345 \r\nL 444.318323 281.705734 \r\nL 447.031011 269.328345 \r\nL 449.7437 269.328345 \r\nL 452.456388 281.705734 \r\nL 455.169077 256.950956 \r\nL 457.881765 281.705734 \r\nL 460.594453 256.950956 \r\nL 463.307142 269.328345 \r\nL 466.01983 256.950956 \r\nL 468.732519 256.950956 \r\nL 471.445207 244.573567 \r\nL 474.157895 290.369906 \r\nL 476.870584 269.328345 \r\nL 479.583272 281.705734 \r\nL 482.29596 256.950956 \r\nL 485.008649 256.950956 \r\nL 487.721337 287.894428 \r\nL 490.434026 269.328345 \r\nL 493.146714 258.188695 \r\nL 495.859402 269.328345 \r\nL 498.572091 256.950956 \r\nL 501.284779 290.369906 \r\nL 503.997467 269.328345 \r\nL 509.422844 244.573567 \r\nL 512.135533 244.573567 \r\nL 514.848221 290.369906 \r\nL 517.560909 269.328345 \r\nL 520.273598 244.573567 \r\nL 522.986286 269.328345 \r\nL 528.411663 269.328345 \r\nL 531.124351 256.950956 \r\nL 533.83704 281.705734 \r\nL 536.549728 281.705734 \r\nL 539.262416 269.328345 \r\nL 544.687793 269.328345 \r\nL 547.400482 290.369906 \r\nL 550.11317 244.573567 \r\nL 552.825858 244.573567 \r\nL 555.538547 256.950956 \r\nL 558.251235 256.950956 \r\nL 560.963923 244.573567 \r\nL 563.676612 290.369906 \r\nL 566.3893 256.950956 \r\nL 569.101989 244.573567 \r\nL 569.101989 244.573567 \r\n\" style=\"fill:none;stroke:#2ca02c;stroke-linecap:square;stroke-width:1.5;\"/>\r\n   </g>\r\n   <g id=\"patch_15\">\r\n    <path d=\"M 36.465625 294.206897 \r\nL 36.465625 209.793103 \r\n\" style=\"fill:none;stroke:#000000;stroke-linecap:square;stroke-linejoin:miter;stroke-width:0.8;\"/>\r\n   </g>\r\n   <g id=\"patch_16\">\r\n    <path d=\"M 594.465625 294.206897 \r\nL 594.465625 209.793103 \r\n\" style=\"fill:none;stroke:#000000;stroke-linecap:square;stroke-linejoin:miter;stroke-width:0.8;\"/>\r\n   </g>\r\n   <g id=\"patch_17\">\r\n    <path d=\"M 36.465625 294.206897 \r\nL 594.465625 294.206897 \r\n\" style=\"fill:none;stroke:#000000;stroke-linecap:square;stroke-linejoin:miter;stroke-width:0.8;\"/>\r\n   </g>\r\n   <g id=\"patch_18\">\r\n    <path d=\"M 36.465625 209.793103 \r\nL 594.465625 209.793103 \r\n\" style=\"fill:none;stroke:#000000;stroke-linecap:square;stroke-linejoin:miter;stroke-width:0.8;\"/>\r\n   </g>\r\n   <g id=\"legend_3\">\r\n    <g id=\"patch_19\">\r\n     <path d=\"M 498.946875 232.471228 \r\nL 587.465625 232.471228 \r\nQ 589.465625 232.471228 589.465625 230.471228 \r\nL 589.465625 216.793103 \r\nQ 589.465625 214.793103 587.465625 214.793103 \r\nL 498.946875 214.793103 \r\nQ 496.946875 214.793103 496.946875 216.793103 \r\nL 496.946875 230.471228 \r\nQ 496.946875 232.471228 498.946875 232.471228 \r\nz\r\n\" style=\"fill:#ffffff;opacity:0.8;stroke:#cccccc;stroke-linejoin:miter;\"/>\r\n    </g>\r\n    <g id=\"line2d_43\">\r\n     <path d=\"M 500.946875 222.891541 \r\nL 520.946875 222.891541 \r\n\" style=\"fill:none;stroke:#2ca02c;stroke-linecap:square;stroke-width:1.5;\"/>\r\n    </g>\r\n    <g id=\"line2d_44\"/>\r\n    <g id=\"text_14\">\r\n     <!-- Study Time -->\r\n     <defs>\r\n      <path d=\"M 45.40625 46.390625 \r\nL 45.40625 75.984375 \r\nL 54.390625 75.984375 \r\nL 54.390625 0 \r\nL 45.40625 0 \r\nL 45.40625 8.203125 \r\nQ 42.578125 3.328125 38.25 0.953125 \r\nQ 33.9375 -1.421875 27.875 -1.421875 \r\nQ 17.96875 -1.421875 11.734375 6.484375 \r\nQ 5.515625 14.40625 5.515625 27.296875 \r\nQ 5.515625 40.1875 11.734375 48.09375 \r\nQ 17.96875 56 27.875 56 \r\nQ 33.9375 56 38.25 53.625 \r\nQ 42.578125 51.265625 45.40625 46.390625 \r\nz\r\nM 14.796875 27.296875 \r\nQ 14.796875 17.390625 18.875 11.75 \r\nQ 22.953125 6.109375 30.078125 6.109375 \r\nQ 37.203125 6.109375 41.296875 11.75 \r\nQ 45.40625 17.390625 45.40625 27.296875 \r\nQ 45.40625 37.203125 41.296875 42.84375 \r\nQ 37.203125 48.484375 30.078125 48.484375 \r\nQ 22.953125 48.484375 18.875 42.84375 \r\nQ 14.796875 37.203125 14.796875 27.296875 \r\nz\r\n\" id=\"DejaVuSans-100\"/>\r\n      <path d=\"M 32.171875 -5.078125 \r\nQ 28.375 -14.84375 24.75 -17.8125 \r\nQ 21.140625 -20.796875 15.09375 -20.796875 \r\nL 7.90625 -20.796875 \r\nL 7.90625 -13.28125 \r\nL 13.1875 -13.28125 \r\nQ 16.890625 -13.28125 18.9375 -11.515625 \r\nQ 21 -9.765625 23.484375 -3.21875 \r\nL 25.09375 0.875 \r\nL 2.984375 54.6875 \r\nL 12.5 54.6875 \r\nL 29.59375 11.921875 \r\nL 46.6875 54.6875 \r\nL 56.203125 54.6875 \r\nz\r\n\" id=\"DejaVuSans-121\"/>\r\n      <path d=\"M -0.296875 72.90625 \r\nL 61.375 72.90625 \r\nL 61.375 64.59375 \r\nL 35.5 64.59375 \r\nL 35.5 0 \r\nL 25.59375 0 \r\nL 25.59375 64.59375 \r\nL -0.296875 64.59375 \r\nz\r\n\" id=\"DejaVuSans-84\"/>\r\n      <path d=\"M 9.421875 54.6875 \r\nL 18.40625 54.6875 \r\nL 18.40625 0 \r\nL 9.421875 0 \r\nz\r\nM 9.421875 75.984375 \r\nL 18.40625 75.984375 \r\nL 18.40625 64.59375 \r\nL 9.421875 64.59375 \r\nz\r\n\" id=\"DejaVuSans-105\"/>\r\n      <path d=\"M 52 44.1875 \r\nQ 55.375 50.25 60.0625 53.125 \r\nQ 64.75 56 71.09375 56 \r\nQ 79.640625 56 84.28125 50.015625 \r\nQ 88.921875 44.046875 88.921875 33.015625 \r\nL 88.921875 0 \r\nL 79.890625 0 \r\nL 79.890625 32.71875 \r\nQ 79.890625 40.578125 77.09375 44.375 \r\nQ 74.3125 48.1875 68.609375 48.1875 \r\nQ 61.625 48.1875 57.5625 43.546875 \r\nQ 53.515625 38.921875 53.515625 30.90625 \r\nL 53.515625 0 \r\nL 44.484375 0 \r\nL 44.484375 32.71875 \r\nQ 44.484375 40.625 41.703125 44.40625 \r\nQ 38.921875 48.1875 33.109375 48.1875 \r\nQ 26.21875 48.1875 22.15625 43.53125 \r\nQ 18.109375 38.875 18.109375 30.90625 \r\nL 18.109375 0 \r\nL 9.078125 0 \r\nL 9.078125 54.6875 \r\nL 18.109375 54.6875 \r\nL 18.109375 46.1875 \r\nQ 21.1875 51.21875 25.484375 53.609375 \r\nQ 29.78125 56 35.6875 56 \r\nQ 41.65625 56 45.828125 52.96875 \r\nQ 50 49.953125 52 44.1875 \r\nz\r\n\" id=\"DejaVuSans-109\"/>\r\n     </defs>\r\n     <g transform=\"translate(528.946875 226.391541)scale(0.1 -0.1)\">\r\n      <use xlink:href=\"#DejaVuSans-83\"/>\r\n      <use x=\"63.476562\" xlink:href=\"#DejaVuSans-116\"/>\r\n      <use x=\"102.685547\" xlink:href=\"#DejaVuSans-117\"/>\r\n      <use x=\"166.064453\" xlink:href=\"#DejaVuSans-100\"/>\r\n      <use x=\"229.541016\" xlink:href=\"#DejaVuSans-121\"/>\r\n      <use x=\"288.720703\" xlink:href=\"#DejaVuSans-32\"/>\r\n      <use x=\"320.507812\" xlink:href=\"#DejaVuSans-84\"/>\r\n      <use x=\"378.466797\" xlink:href=\"#DejaVuSans-105\"/>\r\n      <use x=\"406.25\" xlink:href=\"#DejaVuSans-109\"/>\r\n      <use x=\"503.662109\" xlink:href=\"#DejaVuSans-101\"/>\r\n     </g>\r\n    </g>\r\n   </g>\r\n  </g>\r\n  <g id=\"axes_4\">\r\n   <g id=\"patch_20\">\r\n    <path d=\"M 36.465625 395.503448 \r\nL 594.465625 395.503448 \r\nL 594.465625 311.089655 \r\nL 36.465625 311.089655 \r\nz\r\n\" style=\"fill:#ffffff;\"/>\r\n   </g>\r\n   <g id=\"matplotlib.axis_7\">\r\n    <g id=\"xtick_25\">\r\n     <g id=\"line2d_45\">\r\n      <g>\r\n       <use style=\"stroke:#000000;stroke-width:0.8;\" x=\"61.829261\" xlink:href=\"#m769b7ac07c\" y=\"395.503448\"/>\r\n      </g>\r\n     </g>\r\n    </g>\r\n    <g id=\"xtick_26\">\r\n     <g id=\"line2d_46\">\r\n      <g>\r\n       <use style=\"stroke:#000000;stroke-width:0.8;\" x=\"129.646471\" xlink:href=\"#m769b7ac07c\" y=\"395.503448\"/>\r\n      </g>\r\n     </g>\r\n    </g>\r\n    <g id=\"xtick_27\">\r\n     <g id=\"line2d_47\">\r\n      <g>\r\n       <use style=\"stroke:#000000;stroke-width:0.8;\" x=\"197.46368\" xlink:href=\"#m769b7ac07c\" y=\"395.503448\"/>\r\n      </g>\r\n     </g>\r\n    </g>\r\n    <g id=\"xtick_28\">\r\n     <g id=\"line2d_48\">\r\n      <g>\r\n       <use style=\"stroke:#000000;stroke-width:0.8;\" x=\"265.28089\" xlink:href=\"#m769b7ac07c\" y=\"395.503448\"/>\r\n      </g>\r\n     </g>\r\n    </g>\r\n    <g id=\"xtick_29\">\r\n     <g id=\"line2d_49\">\r\n      <g>\r\n       <use style=\"stroke:#000000;stroke-width:0.8;\" x=\"333.098099\" xlink:href=\"#m769b7ac07c\" y=\"395.503448\"/>\r\n      </g>\r\n     </g>\r\n    </g>\r\n    <g id=\"xtick_30\">\r\n     <g id=\"line2d_50\">\r\n      <g>\r\n       <use style=\"stroke:#000000;stroke-width:0.8;\" x=\"400.915309\" xlink:href=\"#m769b7ac07c\" y=\"395.503448\"/>\r\n      </g>\r\n     </g>\r\n    </g>\r\n    <g id=\"xtick_31\">\r\n     <g id=\"line2d_51\">\r\n      <g>\r\n       <use style=\"stroke:#000000;stroke-width:0.8;\" x=\"468.732519\" xlink:href=\"#m769b7ac07c\" y=\"395.503448\"/>\r\n      </g>\r\n     </g>\r\n    </g>\r\n    <g id=\"xtick_32\">\r\n     <g id=\"line2d_52\">\r\n      <g>\r\n       <use style=\"stroke:#000000;stroke-width:0.8;\" x=\"536.549728\" xlink:href=\"#m769b7ac07c\" y=\"395.503448\"/>\r\n      </g>\r\n     </g>\r\n    </g>\r\n   </g>\r\n   <g id=\"matplotlib.axis_8\">\r\n    <g id=\"ytick_12\">\r\n     <g id=\"line2d_53\">\r\n      <g>\r\n       <use style=\"stroke:#000000;stroke-width:0.8;\" x=\"36.465625\" xlink:href=\"#ma13a9a9a03\" y=\"378.876489\"/>\r\n      </g>\r\n     </g>\r\n     <g id=\"text_15\">\r\n      <!-- 2.5 -->\r\n      <defs>\r\n       <path d=\"M 10.6875 12.40625 \r\nL 21 12.40625 \r\nL 21 0 \r\nL 10.6875 0 \r\nz\r\n\" id=\"DejaVuSans-46\"/>\r\n      </defs>\r\n      <g transform=\"translate(13.5625 382.675708)scale(0.1 -0.1)\">\r\n       <use xlink:href=\"#DejaVuSans-50\"/>\r\n       <use x=\"63.623047\" xlink:href=\"#DejaVuSans-46\"/>\r\n       <use x=\"95.410156\" xlink:href=\"#DejaVuSans-53\"/>\r\n      </g>\r\n     </g>\r\n    </g>\r\n    <g id=\"ytick_13\">\r\n     <g id=\"line2d_54\">\r\n      <g>\r\n       <use style=\"stroke:#000000;stroke-width:0.8;\" x=\"36.465625\" xlink:href=\"#ma13a9a9a03\" y=\"357.559875\"/>\r\n      </g>\r\n     </g>\r\n     <g id=\"text_16\">\r\n      <!-- 5.0 -->\r\n      <g transform=\"translate(13.5625 361.359093)scale(0.1 -0.1)\">\r\n       <use xlink:href=\"#DejaVuSans-53\"/>\r\n       <use x=\"63.623047\" xlink:href=\"#DejaVuSans-46\"/>\r\n       <use x=\"95.410156\" xlink:href=\"#DejaVuSans-48\"/>\r\n      </g>\r\n     </g>\r\n    </g>\r\n    <g id=\"ytick_14\">\r\n     <g id=\"line2d_55\">\r\n      <g>\r\n       <use style=\"stroke:#000000;stroke-width:0.8;\" x=\"36.465625\" xlink:href=\"#ma13a9a9a03\" y=\"336.24326\"/>\r\n      </g>\r\n     </g>\r\n     <g id=\"text_17\">\r\n      <!-- 7.5 -->\r\n      <g transform=\"translate(13.5625 340.042479)scale(0.1 -0.1)\">\r\n       <use xlink:href=\"#DejaVuSans-55\"/>\r\n       <use x=\"63.623047\" xlink:href=\"#DejaVuSans-46\"/>\r\n       <use x=\"95.410156\" xlink:href=\"#DejaVuSans-53\"/>\r\n      </g>\r\n     </g>\r\n    </g>\r\n    <g id=\"ytick_15\">\r\n     <g id=\"line2d_56\">\r\n      <g>\r\n       <use style=\"stroke:#000000;stroke-width:0.8;\" x=\"36.465625\" xlink:href=\"#ma13a9a9a03\" y=\"314.926646\"/>\r\n      </g>\r\n     </g>\r\n     <g id=\"text_18\">\r\n      <!-- 10.0 -->\r\n      <defs>\r\n       <path d=\"M 12.40625 8.296875 \r\nL 28.515625 8.296875 \r\nL 28.515625 63.921875 \r\nL 10.984375 60.40625 \r\nL 10.984375 69.390625 \r\nL 28.421875 72.90625 \r\nL 38.28125 72.90625 \r\nL 38.28125 8.296875 \r\nL 54.390625 8.296875 \r\nL 54.390625 0 \r\nL 12.40625 0 \r\nz\r\n\" id=\"DejaVuSans-49\"/>\r\n      </defs>\r\n      <g transform=\"translate(7.2 318.725865)scale(0.1 -0.1)\">\r\n       <use xlink:href=\"#DejaVuSans-49\"/>\r\n       <use x=\"63.623047\" xlink:href=\"#DejaVuSans-48\"/>\r\n       <use x=\"127.246094\" xlink:href=\"#DejaVuSans-46\"/>\r\n       <use x=\"159.033203\" xlink:href=\"#DejaVuSans-48\"/>\r\n      </g>\r\n     </g>\r\n    </g>\r\n   </g>\r\n   <g id=\"line2d_57\">\r\n    <path clip-path=\"url(#pb8c836b6f4)\" d=\"M 61.829261 366.08652 \r\nL 64.54195 340.506583 \r\nL 67.254638 391.666458 \r\nL 69.967327 323.453292 \r\nL 72.680015 340.506583 \r\nL 75.392703 349.033229 \r\nL 78.105392 340.506583 \r\nL 80.81808 383.139812 \r\nL 83.530768 340.506583 \r\nL 88.956145 340.506583 \r\nL 91.668834 314.926646 \r\nL 94.381522 366.08652 \r\nL 97.09421 340.506583 \r\nL 99.806899 323.453292 \r\nL 102.519587 374.613166 \r\nL 105.232275 366.08652 \r\nL 107.944964 331.979937 \r\nL 110.657652 314.926646 \r\nL 113.370341 323.453292 \r\nL 116.083029 357.559875 \r\nL 118.795717 374.613166 \r\nL 121.508406 340.506583 \r\nL 124.221094 349.033229 \r\nL 126.933783 331.979937 \r\nL 129.646471 349.033229 \r\nL 132.359159 357.559875 \r\nL 135.071848 383.139812 \r\nL 137.784536 366.08652 \r\nL 143.209913 349.033229 \r\nL 145.922601 391.666458 \r\nL 148.63529 349.033229 \r\nL 151.347978 374.613166 \r\nL 154.060666 366.08652 \r\nL 156.773355 383.139812 \r\nL 159.486043 374.613166 \r\nL 162.198731 349.033229 \r\nL 164.91142 357.559875 \r\nL 167.624108 383.139812 \r\nL 170.336797 349.033229 \r\nL 175.762173 383.139812 \r\nL 178.474862 383.139812 \r\nL 181.18755 357.559875 \r\nL 183.900239 340.506583 \r\nL 186.612927 357.559875 \r\nL 192.038304 340.506583 \r\nL 194.750992 366.08652 \r\nL 197.46368 366.08652 \r\nL 200.176369 331.979937 \r\nL 202.889057 323.453292 \r\nL 205.601746 357.559875 \r\nL 208.314434 331.979937 \r\nL 211.027122 349.033229 \r\nL 213.739811 340.506583 \r\nL 216.452499 323.453292 \r\nL 219.165187 340.506583 \r\nL 221.877876 340.506583 \r\nL 224.590564 323.453292 \r\nL 227.303253 391.666458 \r\nL 230.015941 323.453292 \r\nL 232.728629 323.453292 \r\nL 235.441318 340.506583 \r\nL 238.154006 340.506583 \r\nL 240.866695 323.453292 \r\nL 243.579383 323.453292 \r\nL 246.292071 340.506583 \r\nL 251.717448 357.559875 \r\nL 254.430136 357.559875 \r\nL 257.142825 374.613166 \r\nL 259.855513 357.559875 \r\nL 262.568202 357.559875 \r\nL 265.28089 331.979937 \r\nL 267.993578 314.926646 \r\nL 270.706267 366.08652 \r\nL 273.418955 391.666458 \r\nL 276.131643 357.559875 \r\nL 278.844332 331.979937 \r\nL 281.55702 314.926646 \r\nL 284.269709 331.979937 \r\nL 286.982397 314.926646 \r\nL 289.695085 323.453292 \r\nL 292.407774 357.559875 \r\nL 295.120462 349.033229 \r\nL 297.833151 331.979937 \r\nL 300.545839 323.453292 \r\nL 303.258527 366.08652 \r\nL 305.971216 331.979937 \r\nL 308.683904 323.453292 \r\nL 311.396592 349.033229 \r\nL 314.109281 331.979937 \r\nL 316.821969 357.559875 \r\nL 319.534658 366.08652 \r\nL 322.247346 366.08652 \r\nL 324.960034 357.559875 \r\nL 327.672723 314.926646 \r\nL 330.385411 340.506583 \r\nL 333.098099 331.979937 \r\nL 338.523476 349.033229 \r\nL 341.236165 349.033229 \r\nL 343.948853 374.613166 \r\nL 346.661541 349.033229 \r\nL 349.37423 374.613166 \r\nL 352.086918 323.453292 \r\nL 354.799607 340.506583 \r\nL 360.224983 340.506583 \r\nL 362.937672 331.979937 \r\nL 365.65036 349.033229 \r\nL 368.363048 331.979937 \r\nL 371.075737 340.506583 \r\nL 373.788425 340.506583 \r\nL 376.501114 331.979937 \r\nL 379.213802 340.506583 \r\nL 381.92649 331.979937 \r\nL 384.639179 357.559875 \r\nL 387.351867 331.979937 \r\nL 390.064555 323.453292 \r\nL 392.777244 357.559875 \r\nL 395.489932 349.033229 \r\nL 398.202621 349.033229 \r\nL 400.915309 340.506583 \r\nL 403.627997 340.506583 \r\nL 406.340686 357.559875 \r\nL 409.053374 340.506583 \r\nL 411.766063 340.506583 \r\nL 414.478751 314.926646 \r\nL 417.191439 374.613166 \r\nL 419.904128 323.453292 \r\nL 422.616816 331.979937 \r\nL 425.329504 323.453292 \r\nL 428.042193 357.559875 \r\nL 430.754881 323.453292 \r\nL 433.46757 349.033229 \r\nL 436.180258 340.506583 \r\nL 438.892946 349.033229 \r\nL 441.605635 366.08652 \r\nL 444.318323 357.559875 \r\nL 447.031011 357.559875 \r\nL 449.7437 340.506583 \r\nL 452.456388 391.666458 \r\nL 455.169077 357.559875 \r\nL 460.594453 357.559875 \r\nL 463.307142 323.453292 \r\nL 466.01983 340.506583 \r\nL 468.732519 383.139812 \r\nL 471.445207 349.033229 \r\nL 474.157895 383.139812 \r\nL 476.870584 323.453292 \r\nL 479.583272 349.033229 \r\nL 482.29596 331.979937 \r\nL 485.008649 357.559875 \r\nL 487.721337 331.979937 \r\nL 490.434026 331.979937 \r\nL 493.146714 366.08652 \r\nL 495.859402 357.559875 \r\nL 498.572091 323.453292 \r\nL 501.284779 349.033229 \r\nL 503.997467 349.033229 \r\nL 506.710156 340.506583 \r\nL 509.422844 357.559875 \r\nL 514.848221 323.453292 \r\nL 520.273598 340.506583 \r\nL 522.986286 323.453292 \r\nL 525.698975 331.979937 \r\nL 528.411663 331.979937 \r\nL 531.124351 349.033229 \r\nL 533.83704 383.139812 \r\nL 536.549728 349.033229 \r\nL 541.975105 314.926646 \r\nL 544.687793 340.506583 \r\nL 547.400482 374.613166 \r\nL 550.11317 374.613166 \r\nL 552.825858 331.979937 \r\nL 555.538547 331.979937 \r\nL 558.251235 366.08652 \r\nL 560.963923 314.926646 \r\nL 563.676612 349.033229 \r\nL 566.3893 366.08652 \r\nL 569.101989 340.506583 \r\nL 569.101989 340.506583 \r\n\" style=\"fill:none;stroke:#d62728;stroke-linecap:square;stroke-width:1.5;\"/>\r\n   </g>\r\n   <g id=\"patch_21\">\r\n    <path d=\"M 36.465625 395.503448 \r\nL 36.465625 311.089655 \r\n\" style=\"fill:none;stroke:#000000;stroke-linecap:square;stroke-linejoin:miter;stroke-width:0.8;\"/>\r\n   </g>\r\n   <g id=\"patch_22\">\r\n    <path d=\"M 594.465625 395.503448 \r\nL 594.465625 311.089655 \r\n\" style=\"fill:none;stroke:#000000;stroke-linecap:square;stroke-linejoin:miter;stroke-width:0.8;\"/>\r\n   </g>\r\n   <g id=\"patch_23\">\r\n    <path d=\"M 36.465625 395.503448 \r\nL 594.465625 395.503448 \r\n\" style=\"fill:none;stroke:#000000;stroke-linecap:square;stroke-linejoin:miter;stroke-width:0.8;\"/>\r\n   </g>\r\n   <g id=\"patch_24\">\r\n    <path d=\"M 36.465625 311.089655 \r\nL 594.465625 311.089655 \r\n\" style=\"fill:none;stroke:#000000;stroke-linecap:square;stroke-linejoin:miter;stroke-width:0.8;\"/>\r\n   </g>\r\n   <g id=\"legend_4\">\r\n    <g id=\"patch_25\">\r\n     <path d=\"M 245.466406 390.503448 \r\nL 385.464844 390.503448 \r\nQ 387.464844 390.503448 387.464844 388.503448 \r\nL 387.464844 374.825323 \r\nQ 387.464844 372.825323 385.464844 372.825323 \r\nL 245.466406 372.825323 \r\nQ 243.466406 372.825323 243.466406 374.825323 \r\nL 243.466406 388.503448 \r\nQ 243.466406 390.503448 245.466406 390.503448 \r\nz\r\n\" style=\"fill:#ffffff;opacity:0.8;stroke:#cccccc;stroke-linejoin:miter;\"/>\r\n    </g>\r\n    <g id=\"line2d_58\">\r\n     <path d=\"M 247.466406 380.923761 \r\nL 267.466406 380.923761 \r\n\" style=\"fill:none;stroke:#d62728;stroke-linecap:square;stroke-width:1.5;\"/>\r\n    </g>\r\n    <g id=\"line2d_59\"/>\r\n    <g id=\"text_19\">\r\n     <!-- Lecturer Performance -->\r\n     <defs>\r\n      <path d=\"M 9.8125 72.90625 \r\nL 19.671875 72.90625 \r\nL 19.671875 8.296875 \r\nL 55.171875 8.296875 \r\nL 55.171875 0 \r\nL 9.8125 0 \r\nz\r\n\" id=\"DejaVuSans-76\"/>\r\n      <path d=\"M 19.671875 64.796875 \r\nL 19.671875 37.40625 \r\nL 32.078125 37.40625 \r\nQ 38.96875 37.40625 42.71875 40.96875 \r\nQ 46.484375 44.53125 46.484375 51.125 \r\nQ 46.484375 57.671875 42.71875 61.234375 \r\nQ 38.96875 64.796875 32.078125 64.796875 \r\nz\r\nM 9.8125 72.90625 \r\nL 32.078125 72.90625 \r\nQ 44.34375 72.90625 50.609375 67.359375 \r\nQ 56.890625 61.8125 56.890625 51.125 \r\nQ 56.890625 40.328125 50.609375 34.8125 \r\nQ 44.34375 29.296875 32.078125 29.296875 \r\nL 19.671875 29.296875 \r\nL 19.671875 0 \r\nL 9.8125 0 \r\nz\r\n\" id=\"DejaVuSans-80\"/>\r\n      <path d=\"M 37.109375 75.984375 \r\nL 37.109375 68.5 \r\nL 28.515625 68.5 \r\nQ 23.6875 68.5 21.796875 66.546875 \r\nQ 19.921875 64.59375 19.921875 59.515625 \r\nL 19.921875 54.6875 \r\nL 34.71875 54.6875 \r\nL 34.71875 47.703125 \r\nL 19.921875 47.703125 \r\nL 19.921875 0 \r\nL 10.890625 0 \r\nL 10.890625 47.703125 \r\nL 2.296875 47.703125 \r\nL 2.296875 54.6875 \r\nL 10.890625 54.6875 \r\nL 10.890625 58.5 \r\nQ 10.890625 67.625 15.140625 71.796875 \r\nQ 19.390625 75.984375 28.609375 75.984375 \r\nz\r\n\" id=\"DejaVuSans-102\"/>\r\n      <path d=\"M 54.890625 33.015625 \r\nL 54.890625 0 \r\nL 45.90625 0 \r\nL 45.90625 32.71875 \r\nQ 45.90625 40.484375 42.875 44.328125 \r\nQ 39.84375 48.1875 33.796875 48.1875 \r\nQ 26.515625 48.1875 22.3125 43.546875 \r\nQ 18.109375 38.921875 18.109375 30.90625 \r\nL 18.109375 0 \r\nL 9.078125 0 \r\nL 9.078125 54.6875 \r\nL 18.109375 54.6875 \r\nL 18.109375 46.1875 \r\nQ 21.34375 51.125 25.703125 53.5625 \r\nQ 30.078125 56 35.796875 56 \r\nQ 45.21875 56 50.046875 50.171875 \r\nQ 54.890625 44.34375 54.890625 33.015625 \r\nz\r\n\" id=\"DejaVuSans-110\"/>\r\n     </defs>\r\n     <g transform=\"translate(275.466406 384.423761)scale(0.1 -0.1)\">\r\n      <use xlink:href=\"#DejaVuSans-76\"/>\r\n      <use x=\"53.962891\" xlink:href=\"#DejaVuSans-101\"/>\r\n      <use x=\"115.486328\" xlink:href=\"#DejaVuSans-99\"/>\r\n      <use x=\"170.466797\" xlink:href=\"#DejaVuSans-116\"/>\r\n      <use x=\"209.675781\" xlink:href=\"#DejaVuSans-117\"/>\r\n      <use x=\"273.054688\" xlink:href=\"#DejaVuSans-114\"/>\r\n      <use x=\"311.917969\" xlink:href=\"#DejaVuSans-101\"/>\r\n      <use x=\"373.441406\" xlink:href=\"#DejaVuSans-114\"/>\r\n      <use x=\"414.554688\" xlink:href=\"#DejaVuSans-32\"/>\r\n      <use x=\"446.341797\" xlink:href=\"#DejaVuSans-80\"/>\r\n      <use x=\"503.019531\" xlink:href=\"#DejaVuSans-101\"/>\r\n      <use x=\"564.542969\" xlink:href=\"#DejaVuSans-114\"/>\r\n      <use x=\"605.65625\" xlink:href=\"#DejaVuSans-102\"/>\r\n      <use x=\"640.861328\" xlink:href=\"#DejaVuSans-111\"/>\r\n      <use x=\"702.042969\" xlink:href=\"#DejaVuSans-114\"/>\r\n      <use x=\"741.40625\" xlink:href=\"#DejaVuSans-109\"/>\r\n      <use x=\"838.818359\" xlink:href=\"#DejaVuSans-97\"/>\r\n      <use x=\"900.097656\" xlink:href=\"#DejaVuSans-110\"/>\r\n      <use x=\"963.476562\" xlink:href=\"#DejaVuSans-99\"/>\r\n      <use x=\"1018.457031\" xlink:href=\"#DejaVuSans-101\"/>\r\n     </g>\r\n    </g>\r\n   </g>\r\n  </g>\r\n  <g id=\"axes_5\">\r\n   <g id=\"patch_26\">\r\n    <path d=\"M 36.465625 496.8 \r\nL 594.465625 496.8 \r\nL 594.465625 412.386207 \r\nL 36.465625 412.386207 \r\nz\r\n\" style=\"fill:#ffffff;\"/>\r\n   </g>\r\n   <g id=\"matplotlib.axis_9\">\r\n    <g id=\"xtick_33\">\r\n     <g id=\"line2d_60\">\r\n      <g>\r\n       <use style=\"stroke:#000000;stroke-width:0.8;\" x=\"61.829261\" xlink:href=\"#m769b7ac07c\" y=\"496.8\"/>\r\n      </g>\r\n     </g>\r\n     <g id=\"text_20\">\r\n      <!-- 0 -->\r\n      <g transform=\"translate(55.279331 513.56169)rotate(-30)scale(0.1 -0.1)\">\r\n       <use xlink:href=\"#DejaVuSans-48\"/>\r\n      </g>\r\n     </g>\r\n    </g>\r\n    <g id=\"xtick_34\">\r\n     <g id=\"line2d_61\">\r\n      <g>\r\n       <use style=\"stroke:#000000;stroke-width:0.8;\" x=\"129.646471\" xlink:href=\"#m769b7ac07c\" y=\"496.8\"/>\r\n      </g>\r\n     </g>\r\n     <g id=\"text_21\">\r\n      <!-- 25 -->\r\n      <g transform=\"translate(117.586454 516.74294)rotate(-30)scale(0.1 -0.1)\">\r\n       <use xlink:href=\"#DejaVuSans-50\"/>\r\n       <use x=\"63.623047\" xlink:href=\"#DejaVuSans-53\"/>\r\n      </g>\r\n     </g>\r\n    </g>\r\n    <g id=\"xtick_35\">\r\n     <g id=\"line2d_62\">\r\n      <g>\r\n       <use style=\"stroke:#000000;stroke-width:0.8;\" x=\"197.46368\" xlink:href=\"#m769b7ac07c\" y=\"496.8\"/>\r\n      </g>\r\n     </g>\r\n     <g id=\"text_22\">\r\n      <!-- 50 -->\r\n      <g transform=\"translate(185.403663 516.74294)rotate(-30)scale(0.1 -0.1)\">\r\n       <use xlink:href=\"#DejaVuSans-53\"/>\r\n       <use x=\"63.623047\" xlink:href=\"#DejaVuSans-48\"/>\r\n      </g>\r\n     </g>\r\n    </g>\r\n    <g id=\"xtick_36\">\r\n     <g id=\"line2d_63\">\r\n      <g>\r\n       <use style=\"stroke:#000000;stroke-width:0.8;\" x=\"265.28089\" xlink:href=\"#m769b7ac07c\" y=\"496.8\"/>\r\n      </g>\r\n     </g>\r\n     <g id=\"text_23\">\r\n      <!-- 75 -->\r\n      <g transform=\"translate(253.220873 516.74294)rotate(-30)scale(0.1 -0.1)\">\r\n       <use xlink:href=\"#DejaVuSans-55\"/>\r\n       <use x=\"63.623047\" xlink:href=\"#DejaVuSans-53\"/>\r\n      </g>\r\n     </g>\r\n    </g>\r\n    <g id=\"xtick_37\">\r\n     <g id=\"line2d_64\">\r\n      <g>\r\n       <use style=\"stroke:#000000;stroke-width:0.8;\" x=\"333.098099\" xlink:href=\"#m769b7ac07c\" y=\"496.8\"/>\r\n      </g>\r\n     </g>\r\n     <g id=\"text_24\">\r\n      <!-- 100 -->\r\n      <g transform=\"translate(315.527996 519.92419)rotate(-30)scale(0.1 -0.1)\">\r\n       <use xlink:href=\"#DejaVuSans-49\"/>\r\n       <use x=\"63.623047\" xlink:href=\"#DejaVuSans-48\"/>\r\n       <use x=\"127.246094\" xlink:href=\"#DejaVuSans-48\"/>\r\n      </g>\r\n     </g>\r\n    </g>\r\n    <g id=\"xtick_38\">\r\n     <g id=\"line2d_65\">\r\n      <g>\r\n       <use style=\"stroke:#000000;stroke-width:0.8;\" x=\"400.915309\" xlink:href=\"#m769b7ac07c\" y=\"496.8\"/>\r\n      </g>\r\n     </g>\r\n     <g id=\"text_25\">\r\n      <!-- 125 -->\r\n      <g transform=\"translate(383.345205 519.92419)rotate(-30)scale(0.1 -0.1)\">\r\n       <use xlink:href=\"#DejaVuSans-49\"/>\r\n       <use x=\"63.623047\" xlink:href=\"#DejaVuSans-50\"/>\r\n       <use x=\"127.246094\" xlink:href=\"#DejaVuSans-53\"/>\r\n      </g>\r\n     </g>\r\n    </g>\r\n    <g id=\"xtick_39\">\r\n     <g id=\"line2d_66\">\r\n      <g>\r\n       <use style=\"stroke:#000000;stroke-width:0.8;\" x=\"468.732519\" xlink:href=\"#m769b7ac07c\" y=\"496.8\"/>\r\n      </g>\r\n     </g>\r\n     <g id=\"text_26\">\r\n      <!-- 150 -->\r\n      <g transform=\"translate(451.162415 519.92419)rotate(-30)scale(0.1 -0.1)\">\r\n       <use xlink:href=\"#DejaVuSans-49\"/>\r\n       <use x=\"63.623047\" xlink:href=\"#DejaVuSans-53\"/>\r\n       <use x=\"127.246094\" xlink:href=\"#DejaVuSans-48\"/>\r\n      </g>\r\n     </g>\r\n    </g>\r\n    <g id=\"xtick_40\">\r\n     <g id=\"line2d_67\">\r\n      <g>\r\n       <use style=\"stroke:#000000;stroke-width:0.8;\" x=\"536.549728\" xlink:href=\"#m769b7ac07c\" y=\"496.8\"/>\r\n      </g>\r\n     </g>\r\n     <g id=\"text_27\">\r\n      <!-- 175 -->\r\n      <g transform=\"translate(518.979624 519.92419)rotate(-30)scale(0.1 -0.1)\">\r\n       <use xlink:href=\"#DejaVuSans-49\"/>\r\n       <use x=\"63.623047\" xlink:href=\"#DejaVuSans-55\"/>\r\n       <use x=\"127.246094\" xlink:href=\"#DejaVuSans-53\"/>\r\n      </g>\r\n     </g>\r\n    </g>\r\n   </g>\r\n   <g id=\"matplotlib.axis_10\">\r\n    <g id=\"ytick_16\">\r\n     <g id=\"line2d_68\">\r\n      <g>\r\n       <use style=\"stroke:#000000;stroke-width:0.8;\" x=\"36.465625\" xlink:href=\"#ma13a9a9a03\" y=\"480.173041\"/>\r\n      </g>\r\n     </g>\r\n     <g id=\"text_28\">\r\n      <!-- 2.5 -->\r\n      <g transform=\"translate(13.5625 483.97226)scale(0.1 -0.1)\">\r\n       <use xlink:href=\"#DejaVuSans-50\"/>\r\n       <use x=\"63.623047\" xlink:href=\"#DejaVuSans-46\"/>\r\n       <use x=\"95.410156\" xlink:href=\"#DejaVuSans-53\"/>\r\n      </g>\r\n     </g>\r\n    </g>\r\n    <g id=\"ytick_17\">\r\n     <g id=\"line2d_69\">\r\n      <g>\r\n       <use style=\"stroke:#000000;stroke-width:0.8;\" x=\"36.465625\" xlink:href=\"#ma13a9a9a03\" y=\"458.856426\"/>\r\n      </g>\r\n     </g>\r\n     <g id=\"text_29\">\r\n      <!-- 5.0 -->\r\n      <g transform=\"translate(13.5625 462.655645)scale(0.1 -0.1)\">\r\n       <use xlink:href=\"#DejaVuSans-53\"/>\r\n       <use x=\"63.623047\" xlink:href=\"#DejaVuSans-46\"/>\r\n       <use x=\"95.410156\" xlink:href=\"#DejaVuSans-48\"/>\r\n      </g>\r\n     </g>\r\n    </g>\r\n    <g id=\"ytick_18\">\r\n     <g id=\"line2d_70\">\r\n      <g>\r\n       <use style=\"stroke:#000000;stroke-width:0.8;\" x=\"36.465625\" xlink:href=\"#ma13a9a9a03\" y=\"437.539812\"/>\r\n      </g>\r\n     </g>\r\n     <g id=\"text_30\">\r\n      <!-- 7.5 -->\r\n      <g transform=\"translate(13.5625 441.339031)scale(0.1 -0.1)\">\r\n       <use xlink:href=\"#DejaVuSans-55\"/>\r\n       <use x=\"63.623047\" xlink:href=\"#DejaVuSans-46\"/>\r\n       <use x=\"95.410156\" xlink:href=\"#DejaVuSans-53\"/>\r\n      </g>\r\n     </g>\r\n    </g>\r\n    <g id=\"ytick_19\">\r\n     <g id=\"line2d_71\">\r\n      <g>\r\n       <use style=\"stroke:#000000;stroke-width:0.8;\" x=\"36.465625\" xlink:href=\"#ma13a9a9a03\" y=\"416.223197\"/>\r\n      </g>\r\n     </g>\r\n     <g id=\"text_31\">\r\n      <!-- 10.0 -->\r\n      <g transform=\"translate(7.2 420.022416)scale(0.1 -0.1)\">\r\n       <use xlink:href=\"#DejaVuSans-49\"/>\r\n       <use x=\"63.623047\" xlink:href=\"#DejaVuSans-48\"/>\r\n       <use x=\"127.246094\" xlink:href=\"#DejaVuSans-46\"/>\r\n       <use x=\"159.033203\" xlink:href=\"#DejaVuSans-48\"/>\r\n      </g>\r\n     </g>\r\n    </g>\r\n   </g>\r\n   <g id=\"line2d_72\">\r\n    <path clip-path=\"url(#p13bcc6fadf)\" d=\"M 61.829261 424.749843 \r\nL 64.54195 433.276489 \r\nL 67.254638 424.749843 \r\nL 69.967327 492.963009 \r\nL 72.680015 458.856426 \r\nL 75.392703 441.803135 \r\nL 78.105392 416.223197 \r\nL 80.81808 424.749843 \r\nL 88.956145 475.909718 \r\nL 91.668834 467.383072 \r\nL 94.381522 467.383072 \r\nL 97.09421 441.803135 \r\nL 99.806899 450.329781 \r\nL 102.519587 450.329781 \r\nL 105.232275 433.276489 \r\nL 107.944964 467.383072 \r\nL 110.657652 458.856426 \r\nL 113.370341 441.803135 \r\nL 116.083029 467.383072 \r\nL 121.508406 467.383072 \r\nL 124.221094 458.856426 \r\nL 126.933783 441.803135 \r\nL 129.646471 458.856426 \r\nL 132.359159 433.276489 \r\nL 135.071848 433.276489 \r\nL 137.784536 424.749843 \r\nL 140.497224 450.329781 \r\nL 143.209913 441.803135 \r\nL 145.922601 458.856426 \r\nL 148.63529 492.963009 \r\nL 151.347978 467.383072 \r\nL 154.060666 467.383072 \r\nL 156.773355 416.223197 \r\nL 159.486043 475.909718 \r\nL 162.198731 433.276489 \r\nL 164.91142 450.329781 \r\nL 167.624108 416.223197 \r\nL 170.336797 458.856426 \r\nL 173.049485 450.329781 \r\nL 175.762173 458.856426 \r\nL 178.474862 475.909718 \r\nL 181.18755 467.383072 \r\nL 189.325615 416.223197 \r\nL 194.750992 467.383072 \r\nL 197.46368 484.436364 \r\nL 200.176369 424.749843 \r\nL 202.889057 484.436364 \r\nL 205.601746 433.276489 \r\nL 208.314434 424.749843 \r\nL 211.027122 458.856426 \r\nL 213.739811 416.223197 \r\nL 216.452499 416.223197 \r\nL 219.165187 441.803135 \r\nL 221.877876 416.223197 \r\nL 224.590564 433.276489 \r\nL 227.303253 492.963009 \r\nL 230.015941 450.329781 \r\nL 232.728629 450.329781 \r\nL 235.441318 458.856426 \r\nL 238.154006 458.856426 \r\nL 240.866695 433.276489 \r\nL 243.579383 475.909718 \r\nL 246.292071 441.803135 \r\nL 249.00476 441.803135 \r\nL 251.717448 424.749843 \r\nL 254.430136 416.223197 \r\nL 257.142825 475.909718 \r\nL 259.855513 458.856426 \r\nL 262.568202 433.276489 \r\nL 265.28089 475.909718 \r\nL 267.993578 441.803135 \r\nL 270.706267 441.803135 \r\nL 273.418955 450.329781 \r\nL 276.131643 441.803135 \r\nL 278.844332 450.329781 \r\nL 281.55702 433.276489 \r\nL 284.269709 450.329781 \r\nL 286.982397 492.963009 \r\nL 289.695085 484.436364 \r\nL 292.407774 450.329781 \r\nL 295.120462 433.276489 \r\nL 297.833151 433.276489 \r\nL 300.545839 484.436364 \r\nL 303.258527 416.223197 \r\nL 305.971216 450.329781 \r\nL 308.683904 441.803135 \r\nL 311.396592 458.856426 \r\nL 314.109281 433.276489 \r\nL 316.821969 467.383072 \r\nL 319.534658 433.276489 \r\nL 324.960034 450.329781 \r\nL 327.672723 433.276489 \r\nL 333.098099 433.276489 \r\nL 335.810788 450.329781 \r\nL 338.523476 441.803135 \r\nL 341.236165 424.749843 \r\nL 343.948853 424.749843 \r\nL 346.661541 441.803135 \r\nL 349.37423 424.749843 \r\nL 354.799607 441.803135 \r\nL 357.512295 433.276489 \r\nL 360.224983 416.223197 \r\nL 362.937672 458.856426 \r\nL 365.65036 450.329781 \r\nL 368.363048 450.329781 \r\nL 373.788425 433.276489 \r\nL 376.501114 467.383072 \r\nL 379.213802 424.749843 \r\nL 387.351867 450.329781 \r\nL 390.064555 433.276489 \r\nL 392.777244 458.856426 \r\nL 395.489932 458.856426 \r\nL 398.202621 441.803135 \r\nL 400.915309 450.329781 \r\nL 403.627997 433.276489 \r\nL 406.340686 450.329781 \r\nL 409.053374 441.803135 \r\nL 411.766063 441.803135 \r\nL 414.478751 458.856426 \r\nL 419.904128 458.856426 \r\nL 422.616816 450.329781 \r\nL 425.329504 433.276489 \r\nL 428.042193 475.909718 \r\nL 430.754881 441.803135 \r\nL 436.180258 424.749843 \r\nL 438.892946 450.329781 \r\nL 441.605635 433.276489 \r\nL 444.318323 441.803135 \r\nL 447.031011 458.856426 \r\nL 449.7437 458.856426 \r\nL 452.456388 424.749843 \r\nL 455.169077 475.909718 \r\nL 457.881765 458.856426 \r\nL 460.594453 475.909718 \r\nL 463.307142 484.436364 \r\nL 466.01983 458.856426 \r\nL 474.157895 458.856426 \r\nL 476.870584 441.803135 \r\nL 482.29596 475.909718 \r\nL 485.008649 458.856426 \r\nL 487.721337 433.276489 \r\nL 490.434026 484.436364 \r\nL 493.146714 416.223197 \r\nL 495.859402 458.856426 \r\nL 498.572091 450.329781 \r\nL 501.284779 492.963009 \r\nL 503.997467 441.803135 \r\nL 506.710156 458.856426 \r\nL 509.422844 484.436364 \r\nL 512.135533 424.749843 \r\nL 514.848221 458.856426 \r\nL 517.560909 475.909718 \r\nL 520.273598 424.749843 \r\nL 522.986286 441.803135 \r\nL 525.698975 441.803135 \r\nL 528.411663 475.909718 \r\nL 531.124351 450.329781 \r\nL 533.83704 416.223197 \r\nL 536.549728 475.909718 \r\nL 539.262416 450.329781 \r\nL 541.975105 458.856426 \r\nL 544.687793 433.276489 \r\nL 550.11317 433.276489 \r\nL 552.825858 416.223197 \r\nL 555.538547 433.276489 \r\nL 558.251235 416.223197 \r\nL 560.963923 458.856426 \r\nL 563.676612 458.856426 \r\nL 566.3893 416.223197 \r\nL 569.101989 433.276489 \r\nL 569.101989 433.276489 \r\n\" style=\"fill:none;stroke:#9467bd;stroke-linecap:square;stroke-width:1.5;\"/>\r\n   </g>\r\n   <g id=\"patch_27\">\r\n    <path d=\"M 36.465625 496.8 \r\nL 36.465625 412.386207 \r\n\" style=\"fill:none;stroke:#000000;stroke-linecap:square;stroke-linejoin:miter;stroke-width:0.8;\"/>\r\n   </g>\r\n   <g id=\"patch_28\">\r\n    <path d=\"M 594.465625 496.8 \r\nL 594.465625 412.386207 \r\n\" style=\"fill:none;stroke:#000000;stroke-linecap:square;stroke-linejoin:miter;stroke-width:0.8;\"/>\r\n   </g>\r\n   <g id=\"patch_29\">\r\n    <path d=\"M 36.465625 496.8 \r\nL 594.465625 496.8 \r\n\" style=\"fill:none;stroke:#000000;stroke-linecap:square;stroke-linejoin:miter;stroke-width:0.8;\"/>\r\n   </g>\r\n   <g id=\"patch_30\">\r\n    <path d=\"M 36.465625 412.386207 \r\nL 594.465625 412.386207 \r\n\" style=\"fill:none;stroke:#000000;stroke-linecap:square;stroke-linejoin:miter;stroke-width:0.8;\"/>\r\n   </g>\r\n   <g id=\"legend_5\">\r\n    <g id=\"patch_31\">\r\n     <path d=\"M 43.465625 491.8 \r\nL 120.215625 491.8 \r\nQ 122.215625 491.8 122.215625 489.8 \r\nL 122.215625 476.121875 \r\nQ 122.215625 474.121875 120.215625 474.121875 \r\nL 43.465625 474.121875 \r\nQ 41.465625 474.121875 41.465625 476.121875 \r\nL 41.465625 489.8 \r\nQ 41.465625 491.8 43.465625 491.8 \r\nz\r\n\" style=\"fill:#ffffff;opacity:0.8;stroke:#cccccc;stroke-linejoin:miter;\"/>\r\n    </g>\r\n    <g id=\"line2d_73\">\r\n     <path d=\"M 45.465625 482.220313 \r\nL 65.465625 482.220313 \r\n\" style=\"fill:none;stroke:#9467bd;stroke-linecap:square;stroke-width:1.5;\"/>\r\n    </g>\r\n    <g id=\"line2d_74\"/>\r\n    <g id=\"text_32\">\r\n     <!-- Difficulty -->\r\n     <defs>\r\n      <path d=\"M 19.671875 64.796875 \r\nL 19.671875 8.109375 \r\nL 31.59375 8.109375 \r\nQ 46.6875 8.109375 53.6875 14.9375 \r\nQ 60.6875 21.78125 60.6875 36.53125 \r\nQ 60.6875 51.171875 53.6875 57.984375 \r\nQ 46.6875 64.796875 31.59375 64.796875 \r\nz\r\nM 9.8125 72.90625 \r\nL 30.078125 72.90625 \r\nQ 51.265625 72.90625 61.171875 64.09375 \r\nQ 71.09375 55.28125 71.09375 36.53125 \r\nQ 71.09375 17.671875 61.125 8.828125 \r\nQ 51.171875 0 30.078125 0 \r\nL 9.8125 0 \r\nz\r\n\" id=\"DejaVuSans-68\"/>\r\n     </defs>\r\n     <g transform=\"translate(73.465625 485.720313)scale(0.1 -0.1)\">\r\n      <use xlink:href=\"#DejaVuSans-68\"/>\r\n      <use x=\"77.001953\" xlink:href=\"#DejaVuSans-105\"/>\r\n      <use x=\"104.785156\" xlink:href=\"#DejaVuSans-102\"/>\r\n      <use x=\"139.990234\" xlink:href=\"#DejaVuSans-102\"/>\r\n      <use x=\"175.195312\" xlink:href=\"#DejaVuSans-105\"/>\r\n      <use x=\"202.978516\" xlink:href=\"#DejaVuSans-99\"/>\r\n      <use x=\"257.958984\" xlink:href=\"#DejaVuSans-117\"/>\r\n      <use x=\"321.337891\" xlink:href=\"#DejaVuSans-108\"/>\r\n      <use x=\"349.121094\" xlink:href=\"#DejaVuSans-116\"/>\r\n      <use x=\"388.330078\" xlink:href=\"#DejaVuSans-121\"/>\r\n     </g>\r\n    </g>\r\n   </g>\r\n  </g>\r\n </g>\r\n <defs>\r\n  <clipPath id=\"p1cc6de5207\">\r\n   <rect height=\"84.413793\" width=\"558\" x=\"36.465625\" y=\"7.2\"/>\r\n  </clipPath>\r\n  <clipPath id=\"p7719059e1c\">\r\n   <rect height=\"84.413793\" width=\"558\" x=\"36.465625\" y=\"108.496552\"/>\r\n  </clipPath>\r\n  <clipPath id=\"p180472a44b\">\r\n   <rect height=\"84.413793\" width=\"558\" x=\"36.465625\" y=\"209.793103\"/>\r\n  </clipPath>\r\n  <clipPath id=\"pb8c836b6f4\">\r\n   <rect height=\"84.413793\" width=\"558\" x=\"36.465625\" y=\"311.089655\"/>\r\n  </clipPath>\r\n  <clipPath id=\"p13bcc6fadf\">\r\n   <rect height=\"84.413793\" width=\"558\" x=\"36.465625\" y=\"412.386207\"/>\r\n  </clipPath>\r\n </defs>\r\n</svg>\r\n",
      "image/png": "[encoded data removed]"
     },
     "metadata": {
      "needs_background": "light"
     }
    }
   ],
   "source": [
    "plt.figure(figsize=(10,10))\n",
    "myData.plot(subplots=True, figsize=(10,10))\n",
    "plt.show()"
   ]
  },
  {
   "cell_type": "markdown",
   "metadata": {},
   "source": [
    "We can remove any signal which is deemed unimportant"
   ]
  },
  {
   "cell_type": "code",
   "execution_count": 18,
   "metadata": {},
   "outputs": [
    {
     "output_type": "execute_result",
     "data": {
      "text/plain": [
       "   Actual CWA  Score  Study Time  Lecturer Performance  Difficulty\n",
       "0        74.0   66.0         3.0                     4           9\n",
       "1        70.0   55.0         3.0                     7           8\n",
       "2        68.3   55.0         2.0                     1           9\n",
       "3        76.0   85.0         1.0                     9           1\n",
       "4        65.0   57.0         1.0                     7           5"
      ],
      "text/html": "<div>\n<style scoped>\n    .dataframe tbody tr th:only-of-type {\n        vertical-align: middle;\n    }\n\n    .dataframe tbody tr th {\n        vertical-align: top;\n    }\n\n    .dataframe thead th {\n        text-align: right;\n    }\n</style>\n<table border=\"1\" class=\"dataframe\">\n  <thead>\n    <tr style=\"text-align: right;\">\n      <th></th>\n      <th>Actual CWA</th>\n      <th>Score</th>\n      <th>Study Time</th>\n      <th>Lecturer Performance</th>\n      <th>Difficulty</th>\n    </tr>\n  </thead>\n  <tbody>\n    <tr>\n      <th>0</th>\n      <td>74.0</td>\n      <td>66.0</td>\n      <td>3.0</td>\n      <td>4</td>\n      <td>9</td>\n    </tr>\n    <tr>\n      <th>1</th>\n      <td>70.0</td>\n      <td>55.0</td>\n      <td>3.0</td>\n      <td>7</td>\n      <td>8</td>\n    </tr>\n    <tr>\n      <th>2</th>\n      <td>68.3</td>\n      <td>55.0</td>\n      <td>2.0</td>\n      <td>1</td>\n      <td>9</td>\n    </tr>\n    <tr>\n      <th>3</th>\n      <td>76.0</td>\n      <td>85.0</td>\n      <td>1.0</td>\n      <td>9</td>\n      <td>1</td>\n    </tr>\n    <tr>\n      <th>4</th>\n      <td>65.0</td>\n      <td>57.0</td>\n      <td>1.0</td>\n      <td>7</td>\n      <td>5</td>\n    </tr>\n  </tbody>\n</table>\n</div>"
     },
     "metadata": {},
     "execution_count": 18
    }
   ],
   "source": [
    "myData.drop(( 'Program'), axis=1, inplace=True)\n",
    "myData.astype('Float32')\n",
    "myData.head()"
   ]
  },
  {
   "cell_type": "code",
   "execution_count": 19,
   "metadata": {},
   "outputs": [
    {
     "output_type": "execute_result",
     "data": {
      "text/plain": [
       "(188, 5)"
      ]
     },
     "metadata": {},
     "execution_count": 19
    }
   ],
   "source": [
    "myData.shape"
   ]
  },
  {
   "cell_type": "markdown",
   "metadata": {},
   "source": [
    "### Target Data for Prediction\n",
    "\n"
   ]
  },
  {
   "cell_type": "markdown",
   "metadata": {},
   "source": [
    "We will try and predict these signals."
   ]
  },
  {
   "cell_type": "code",
   "execution_count": 20,
   "metadata": {},
   "outputs": [],
   "source": [
    "target_names = ['Score']"
   ]
  },
  {
   "cell_type": "markdown",
   "metadata": {},
   "source": [
    "The following is the number of time-steps that we will shift the target-data. Our data-set is resampled to have an observation for each hour, so there are 24 observations for 24 hours.\n",
    "\n",
    "If we want to predict the weather 24 hours into the future, we shift the data 6 time-steps. If we want to predict the weather 7 days into the future, we shift the data 7 * 6 time-steps."
   ]
  },
  {
   "cell_type": "markdown",
   "metadata": {},
   "source": [
    "Create a new data-frame with the time-shifted data.\n",
    "\n",
    "**Note the negative time-shift!**"
   ]
  },
  {
   "cell_type": "code",
   "execution_count": 21,
   "metadata": {},
   "outputs": [
    {
     "output_type": "execute_result",
     "data": {
      "text/plain": [
       "   Score\n",
       "0   66.0\n",
       "1   55.0\n",
       "2   55.0\n",
       "3   85.0\n",
       "4   57.0"
      ],
      "text/html": "<div>\n<style scoped>\n    .dataframe tbody tr th:only-of-type {\n        vertical-align: middle;\n    }\n\n    .dataframe tbody tr th {\n        vertical-align: top;\n    }\n\n    .dataframe thead th {\n        text-align: right;\n    }\n</style>\n<table border=\"1\" class=\"dataframe\">\n  <thead>\n    <tr style=\"text-align: right;\">\n      <th></th>\n      <th>Score</th>\n    </tr>\n  </thead>\n  <tbody>\n    <tr>\n      <th>0</th>\n      <td>66.0</td>\n    </tr>\n    <tr>\n      <th>1</th>\n      <td>55.0</td>\n    </tr>\n    <tr>\n      <th>2</th>\n      <td>55.0</td>\n    </tr>\n    <tr>\n      <th>3</th>\n      <td>85.0</td>\n    </tr>\n    <tr>\n      <th>4</th>\n      <td>57.0</td>\n    </tr>\n  </tbody>\n</table>\n</div>"
     },
     "metadata": {},
     "execution_count": 21
    }
   ],
   "source": [
    "df_targets = myData[target_names]\n",
    "df_targets.head()"
   ]
  },
  {
   "cell_type": "markdown",
   "metadata": {},
   "source": [
    "### NumPy Arrays\n",
    "\n",
    "We now convert the Pandas data-frames to NumPy arrays that can be input to the neural network. We also remove the last part of the numpy arrays, because the target-data has `NaN` for the shifted period, and we only want to have valid data and we need the same array-shapes for the input- and output-data.\n",
    "\n",
    "These are the input-signals:"
   ]
  },
  {
   "cell_type": "code",
   "execution_count": 22,
   "metadata": {},
   "outputs": [
    {
     "output_type": "execute_result",
     "data": {
      "text/plain": [
       "     Actual CWA  Score  Study Time  Lecturer Performance  Difficulty\n",
       "0         74.00   66.0         3.0                     4           9\n",
       "1         70.00   55.0         3.0                     7           8\n",
       "2         68.30   55.0         2.0                     1           9\n",
       "3         76.00   85.0         1.0                     9           1\n",
       "4         65.00   57.0         1.0                     7           5\n",
       "..          ...    ...         ...                   ...         ...\n",
       "183       65.00   40.0         3.5                     4          10\n",
       "184       63.67   68.0         4.5                    10           5\n",
       "185       56.70   54.0         0.8                     6           5\n",
       "186       65.00   40.0         3.5                     4          10\n",
       "187       71.24   68.0         4.5                     7           8\n",
       "\n",
       "[188 rows x 5 columns]"
      ],
      "text/html": "<div>\n<style scoped>\n    .dataframe tbody tr th:only-of-type {\n        vertical-align: middle;\n    }\n\n    .dataframe tbody tr th {\n        vertical-align: top;\n    }\n\n    .dataframe thead th {\n        text-align: right;\n    }\n</style>\n<table border=\"1\" class=\"dataframe\">\n  <thead>\n    <tr style=\"text-align: right;\">\n      <th></th>\n      <th>Actual CWA</th>\n      <th>Score</th>\n      <th>Study Time</th>\n      <th>Lecturer Performance</th>\n      <th>Difficulty</th>\n    </tr>\n  </thead>\n  <tbody>\n    <tr>\n      <th>0</th>\n      <td>74.00</td>\n      <td>66.0</td>\n      <td>3.0</td>\n      <td>4</td>\n      <td>9</td>\n    </tr>\n    <tr>\n      <th>1</th>\n      <td>70.00</td>\n      <td>55.0</td>\n      <td>3.0</td>\n      <td>7</td>\n      <td>8</td>\n    </tr>\n    <tr>\n      <th>2</th>\n      <td>68.30</td>\n      <td>55.0</td>\n      <td>2.0</td>\n      <td>1</td>\n      <td>9</td>\n    </tr>\n    <tr>\n      <th>3</th>\n      <td>76.00</td>\n      <td>85.0</td>\n      <td>1.0</td>\n      <td>9</td>\n      <td>1</td>\n    </tr>\n    <tr>\n      <th>4</th>\n      <td>65.00</td>\n      <td>57.0</td>\n      <td>1.0</td>\n      <td>7</td>\n      <td>5</td>\n    </tr>\n    <tr>\n      <th>...</th>\n      <td>...</td>\n      <td>...</td>\n      <td>...</td>\n      <td>...</td>\n      <td>...</td>\n    </tr>\n    <tr>\n      <th>183</th>\n      <td>65.00</td>\n      <td>40.0</td>\n      <td>3.5</td>\n      <td>4</td>\n      <td>10</td>\n    </tr>\n    <tr>\n      <th>184</th>\n      <td>63.67</td>\n      <td>68.0</td>\n      <td>4.5</td>\n      <td>10</td>\n      <td>5</td>\n    </tr>\n    <tr>\n      <th>185</th>\n      <td>56.70</td>\n      <td>54.0</td>\n      <td>0.8</td>\n      <td>6</td>\n      <td>5</td>\n    </tr>\n    <tr>\n      <th>186</th>\n      <td>65.00</td>\n      <td>40.0</td>\n      <td>3.5</td>\n      <td>4</td>\n      <td>10</td>\n    </tr>\n    <tr>\n      <th>187</th>\n      <td>71.24</td>\n      <td>68.0</td>\n      <td>4.5</td>\n      <td>7</td>\n      <td>8</td>\n    </tr>\n  </tbody>\n</table>\n<p>188 rows × 5 columns</p>\n</div>"
     },
     "metadata": {},
     "execution_count": 22
    }
   ],
   "source": [
    "myData"
   ]
  },
  {
   "cell_type": "code",
   "execution_count": 23,
   "metadata": {},
   "outputs": [
    {
     "output_type": "execute_result",
     "data": {
      "text/plain": [
       "     Actual CWA  Study Time  Lecturer Performance  Difficulty\n",
       "0         74.00         3.0                     4           9\n",
       "1         70.00         3.0                     7           8\n",
       "2         68.30         2.0                     1           9\n",
       "3         76.00         1.0                     9           1\n",
       "4         65.00         1.0                     7           5\n",
       "..          ...         ...                   ...         ...\n",
       "183       65.00         3.5                     4          10\n",
       "184       63.67         4.5                    10           5\n",
       "185       56.70         0.8                     6           5\n",
       "186       65.00         3.5                     4          10\n",
       "187       71.24         4.5                     7           8\n",
       "\n",
       "[188 rows x 4 columns]"
      ],
      "text/html": "<div>\n<style scoped>\n    .dataframe tbody tr th:only-of-type {\n        vertical-align: middle;\n    }\n\n    .dataframe tbody tr th {\n        vertical-align: top;\n    }\n\n    .dataframe thead th {\n        text-align: right;\n    }\n</style>\n<table border=\"1\" class=\"dataframe\">\n  <thead>\n    <tr style=\"text-align: right;\">\n      <th></th>\n      <th>Actual CWA</th>\n      <th>Study Time</th>\n      <th>Lecturer Performance</th>\n      <th>Difficulty</th>\n    </tr>\n  </thead>\n  <tbody>\n    <tr>\n      <th>0</th>\n      <td>74.00</td>\n      <td>3.0</td>\n      <td>4</td>\n      <td>9</td>\n    </tr>\n    <tr>\n      <th>1</th>\n      <td>70.00</td>\n      <td>3.0</td>\n      <td>7</td>\n      <td>8</td>\n    </tr>\n    <tr>\n      <th>2</th>\n      <td>68.30</td>\n      <td>2.0</td>\n      <td>1</td>\n      <td>9</td>\n    </tr>\n    <tr>\n      <th>3</th>\n      <td>76.00</td>\n      <td>1.0</td>\n      <td>9</td>\n      <td>1</td>\n    </tr>\n    <tr>\n      <th>4</th>\n      <td>65.00</td>\n      <td>1.0</td>\n      <td>7</td>\n      <td>5</td>\n    </tr>\n    <tr>\n      <th>...</th>\n      <td>...</td>\n      <td>...</td>\n      <td>...</td>\n      <td>...</td>\n    </tr>\n    <tr>\n      <th>183</th>\n      <td>65.00</td>\n      <td>3.5</td>\n      <td>4</td>\n      <td>10</td>\n    </tr>\n    <tr>\n      <th>184</th>\n      <td>63.67</td>\n      <td>4.5</td>\n      <td>10</td>\n      <td>5</td>\n    </tr>\n    <tr>\n      <th>185</th>\n      <td>56.70</td>\n      <td>0.8</td>\n      <td>6</td>\n      <td>5</td>\n    </tr>\n    <tr>\n      <th>186</th>\n      <td>65.00</td>\n      <td>3.5</td>\n      <td>4</td>\n      <td>10</td>\n    </tr>\n    <tr>\n      <th>187</th>\n      <td>71.24</td>\n      <td>4.5</td>\n      <td>7</td>\n      <td>8</td>\n    </tr>\n  </tbody>\n</table>\n<p>188 rows × 4 columns</p>\n</div>"
     },
     "metadata": {},
     "execution_count": 23
    }
   ],
   "source": [
    "myData_1=myData.copy()\n",
    "myData_1.drop(( 'Score'), axis=1, inplace=True)\n",
    "myData_1"
   ]
  },
  {
   "cell_type": "code",
   "execution_count": 24,
   "metadata": {},
   "outputs": [
    {
     "output_type": "execute_result",
     "data": {
      "text/plain": [
       "         0    1     2     3\n",
       "183  65.00  3.5   4.0  10.0\n",
       "184  63.67  4.5  10.0   5.0\n",
       "185  56.70  0.8   6.0   5.0\n",
       "186  65.00  3.5   4.0  10.0\n",
       "187  71.24  4.5   7.0   8.0"
      ],
      "text/html": "<div>\n<style scoped>\n    .dataframe tbody tr th:only-of-type {\n        vertical-align: middle;\n    }\n\n    .dataframe tbody tr th {\n        vertical-align: top;\n    }\n\n    .dataframe thead th {\n        text-align: right;\n    }\n</style>\n<table border=\"1\" class=\"dataframe\">\n  <thead>\n    <tr style=\"text-align: right;\">\n      <th></th>\n      <th>0</th>\n      <th>1</th>\n      <th>2</th>\n      <th>3</th>\n    </tr>\n  </thead>\n  <tbody>\n    <tr>\n      <th>183</th>\n      <td>65.00</td>\n      <td>3.5</td>\n      <td>4.0</td>\n      <td>10.0</td>\n    </tr>\n    <tr>\n      <th>184</th>\n      <td>63.67</td>\n      <td>4.5</td>\n      <td>10.0</td>\n      <td>5.0</td>\n    </tr>\n    <tr>\n      <th>185</th>\n      <td>56.70</td>\n      <td>0.8</td>\n      <td>6.0</td>\n      <td>5.0</td>\n    </tr>\n    <tr>\n      <th>186</th>\n      <td>65.00</td>\n      <td>3.5</td>\n      <td>4.0</td>\n      <td>10.0</td>\n    </tr>\n    <tr>\n      <th>187</th>\n      <td>71.24</td>\n      <td>4.5</td>\n      <td>7.0</td>\n      <td>8.0</td>\n    </tr>\n  </tbody>\n</table>\n</div>"
     },
     "metadata": {},
     "execution_count": 24
    }
   ],
   "source": [
    "x_data = myData_1.values\n",
    "pd.DataFrame(x_data).tail()"
   ]
  },
  {
   "cell_type": "code",
   "execution_count": 25,
   "metadata": {},
   "outputs": [
    {
     "output_type": "stream",
     "name": "stdout",
     "text": [
      "<class 'numpy.ndarray'>\nShape: (188, 4)\n"
     ]
    }
   ],
   "source": [
    "print(type(x_data))\n",
    "print(\"Shape:\", x_data.shape)\n"
   ]
  },
  {
   "cell_type": "markdown",
   "metadata": {},
   "source": [
    "These are the output-signals (or target-signals):"
   ]
  },
  {
   "cell_type": "code",
   "execution_count": 26,
   "metadata": {},
   "outputs": [
    {
     "output_type": "execute_result",
     "data": {
      "text/plain": [
       "        0\n",
       "183  40.0\n",
       "184  68.0\n",
       "185  54.0\n",
       "186  40.0\n",
       "187  68.0"
      ],
      "text/html": "<div>\n<style scoped>\n    .dataframe tbody tr th:only-of-type {\n        vertical-align: middle;\n    }\n\n    .dataframe tbody tr th {\n        vertical-align: top;\n    }\n\n    .dataframe thead th {\n        text-align: right;\n    }\n</style>\n<table border=\"1\" class=\"dataframe\">\n  <thead>\n    <tr style=\"text-align: right;\">\n      <th></th>\n      <th>0</th>\n    </tr>\n  </thead>\n  <tbody>\n    <tr>\n      <th>183</th>\n      <td>40.0</td>\n    </tr>\n    <tr>\n      <th>184</th>\n      <td>68.0</td>\n    </tr>\n    <tr>\n      <th>185</th>\n      <td>54.0</td>\n    </tr>\n    <tr>\n      <th>186</th>\n      <td>40.0</td>\n    </tr>\n    <tr>\n      <th>187</th>\n      <td>68.0</td>\n    </tr>\n  </tbody>\n</table>\n</div>"
     },
     "metadata": {},
     "execution_count": 26
    }
   ],
   "source": [
    "y_data = df_targets.values\n",
    "pd.DataFrame(y_data).tail()"
   ]
  },
  {
   "cell_type": "code",
   "execution_count": 27,
   "metadata": {
    "scrolled": true
   },
   "outputs": [
    {
     "output_type": "stream",
     "name": "stdout",
     "text": [
      "<class 'numpy.ndarray'>\nShape: (188, 1)\n"
     ]
    }
   ],
   "source": [
    "print(type(y_data))\n",
    "print(\"Shape:\", y_data.shape)"
   ]
  },
  {
   "cell_type": "code",
   "execution_count": 28,
   "metadata": {},
   "outputs": [
    {
     "output_type": "execute_result",
     "data": {
      "text/plain": [
       "188"
      ]
     },
     "metadata": {},
     "execution_count": 28
    }
   ],
   "source": [
    "num_data = len(x_data)\n",
    "num_data"
   ]
  },
  {
   "cell_type": "markdown",
   "metadata": {},
   "source": [
    "This is the fraction of the data-set that will be used for the training-set:"
   ]
  },
  {
   "cell_type": "code",
   "execution_count": 29,
   "metadata": {},
   "outputs": [
    {
     "output_type": "stream",
     "name": "stdout",
     "text": [
      "(4,) (1,)\n"
     ]
    }
   ],
   "source": [
    "# the dataset knows the number of features, e.g. 2\n",
    "for i in range(1): print(x_data[i].shape,y_data[i].shape)"
   ]
  },
  {
   "cell_type": "code",
   "execution_count": 30,
   "metadata": {},
   "outputs": [],
   "source": [
    "train_split = 0.9"
   ]
  },
  {
   "cell_type": "markdown",
   "metadata": {},
   "source": [
    "This is the number of observations in the training-set:"
   ]
  },
  {
   "cell_type": "code",
   "execution_count": 31,
   "metadata": {},
   "outputs": [
    {
     "output_type": "execute_result",
     "data": {
      "text/plain": [
       "169"
      ]
     },
     "metadata": {},
     "execution_count": 31
    }
   ],
   "source": [
    "num_train = int(train_split * num_data)\n",
    "num_train"
   ]
  },
  {
   "cell_type": "markdown",
   "metadata": {},
   "source": [
    "This is the number of observations in the test-set:"
   ]
  },
  {
   "cell_type": "code",
   "execution_count": 32,
   "metadata": {},
   "outputs": [
    {
     "output_type": "execute_result",
     "data": {
      "text/plain": [
       "19"
      ]
     },
     "metadata": {},
     "execution_count": 32
    }
   ],
   "source": [
    "num_test = num_data - num_train\n",
    "num_test"
   ]
  },
  {
   "cell_type": "markdown",
   "metadata": {},
   "source": [
    "These are the input-signals for the training- and test-sets:"
   ]
  },
  {
   "cell_type": "code",
   "execution_count": 33,
   "metadata": {},
   "outputs": [
    {
     "output_type": "execute_result",
     "data": {
      "text/plain": [
       "188"
      ]
     },
     "metadata": {},
     "execution_count": 33
    }
   ],
   "source": [
    "x_train = x_data[0:num_train]\n",
    "x_test = x_data[num_train:]\n",
    "len(x_train) + len(x_test)"
   ]
  },
  {
   "cell_type": "markdown",
   "metadata": {},
   "source": [
    "These are the output-signals for the training- and test-sets:"
   ]
  },
  {
   "cell_type": "code",
   "execution_count": 34,
   "metadata": {},
   "outputs": [
    {
     "output_type": "execute_result",
     "data": {
      "text/plain": [
       "188"
      ]
     },
     "metadata": {},
     "execution_count": 34
    }
   ],
   "source": [
    "y_train = y_data[0:num_train]\n",
    "y_test = y_data[num_train:]\n",
    "len(y_train) + len(y_test)"
   ]
  },
  {
   "cell_type": "markdown",
   "metadata": {},
   "source": [
    "This is the number of input-signals:"
   ]
  },
  {
   "cell_type": "code",
   "execution_count": 35,
   "metadata": {},
   "outputs": [
    {
     "output_type": "execute_result",
     "data": {
      "text/plain": [
       "4"
      ]
     },
     "metadata": {},
     "execution_count": 35
    }
   ],
   "source": [
    "num_x_signals = x_data.shape[1]\n",
    "num_x_signals"
   ]
  },
  {
   "cell_type": "markdown",
   "metadata": {},
   "source": [
    "This is the number of output-signals:"
   ]
  },
  {
   "cell_type": "code",
   "execution_count": 36,
   "metadata": {
    "scrolled": true
   },
   "outputs": [
    {
     "output_type": "execute_result",
     "data": {
      "text/plain": [
       "1"
      ]
     },
     "metadata": {},
     "execution_count": 36
    }
   ],
   "source": [
    "num_y_signals = y_data.shape[1]\n",
    "num_y_signals"
   ]
  },
  {
   "cell_type": "markdown",
   "metadata": {},
   "source": [
    "### Scaled Data\n",
    "\n",
    "The data-set contains a wide range of values:"
   ]
  },
  {
   "cell_type": "code",
   "execution_count": 37,
   "metadata": {},
   "outputs": [
    {
     "output_type": "stream",
     "name": "stdout",
     "text": [
      "Min: 0.8\nMax: 84.07\n"
     ]
    }
   ],
   "source": [
    "print(\"Min:\", np.min(x_train))\n",
    "print(\"Max:\", np.max(x_train))"
   ]
  },
  {
   "cell_type": "markdown",
   "metadata": {},
   "source": [
    "The neural network works best on values roughly between -1 and 1, so we need to scale the data before it is being input to the neural network. We can use `scikit-learn` for this.\n",
    "\n",
    "We first create a scaler-object for the input-signals."
   ]
  },
  {
   "cell_type": "code",
   "execution_count": 38,
   "metadata": {},
   "outputs": [],
   "source": [
    "x_scaler = MinMaxScaler()"
   ]
  },
  {
   "cell_type": "code",
   "execution_count": 39,
   "metadata": {},
   "outputs": [
    {
     "output_type": "execute_result",
     "data": {
      "text/plain": [
       "(169, 4)"
      ]
     },
     "metadata": {},
     "execution_count": 39
    }
   ],
   "source": [
    "x_train.shape"
   ]
  },
  {
   "cell_type": "markdown",
   "metadata": {},
   "source": [
    "We then detect the range of values from the training-data and scale the training-data."
   ]
  },
  {
   "cell_type": "code",
   "execution_count": 40,
   "metadata": {},
   "outputs": [],
   "source": [
    "x_train_scaled = x_scaler.fit_transform(x_train)"
   ]
  },
  {
   "cell_type": "markdown",
   "metadata": {},
   "source": [
    "Apart from a small rounding-error, the data has been scaled to be between 0 and 1."
   ]
  },
  {
   "cell_type": "code",
   "execution_count": 41,
   "metadata": {},
   "outputs": [
    {
     "output_type": "stream",
     "name": "stdout",
     "text": [
      "Min: 0.0\nMax: 1.0000000000000002\n"
     ]
    }
   ],
   "source": [
    "print(\"Min:\", np.min(x_train_scaled))\n",
    "print(\"Max:\", np.max(x_train_scaled))"
   ]
  },
  {
   "cell_type": "markdown",
   "metadata": {},
   "source": [
    "We use the same scaler-object for the input-signals in the test-set."
   ]
  },
  {
   "cell_type": "code",
   "execution_count": 42,
   "metadata": {
    "scrolled": true
   },
   "outputs": [
    {
     "output_type": "display_data",
     "data": {
      "text/plain": "<Figure size 360x360 with 0 Axes>"
     },
     "metadata": {}
    },
    {
     "output_type": "display_data",
     "data": {
      "text/plain": "<Figure size 360x360 with 4 Axes>",
      "image/svg+xml": "<?xml version=\"1.0\" encoding=\"utf-8\" standalone=\"no\"?>\r\n<!DOCTYPE svg PUBLIC \"-//W3C//DTD SVG 1.1//EN\"\r\n  \"http://www.w3.org/Graphics/SVG/1.1/DTD/svg11.dtd\">\r\n<!-- Created with matplotlib (https://matplotlib.org/) -->\r\n<svg height=\"285.714315pt\" version=\"1.1\" viewBox=\"0 0 316.303125 285.714315\" width=\"316.303125pt\" xmlns=\"http://www.w3.org/2000/svg\" xmlns:xlink=\"http://www.w3.org/1999/xlink\">\r\n <defs>\r\n  <style type=\"text/css\">\r\n*{stroke-linecap:butt;stroke-linejoin:round;}\r\n  </style>\r\n </defs>\r\n <g id=\"figure_1\">\r\n  <g id=\"patch_1\">\r\n   <path d=\"M 0 285.714315 \r\nL 316.303125 285.714315 \r\nL 316.303125 0 \r\nL 0 0 \r\nz\r\n\" style=\"fill:none;\"/>\r\n  </g>\r\n  <g id=\"axes_1\">\r\n   <g id=\"patch_2\">\r\n    <path d=\"M 30.103125 60.417391 \r\nL 309.103125 60.417391 \r\nL 309.103125 7.2 \r\nL 30.103125 7.2 \r\nz\r\n\" style=\"fill:#ffffff;\"/>\r\n   </g>\r\n   <g id=\"matplotlib.axis_1\">\r\n    <g id=\"xtick_1\">\r\n     <g id=\"line2d_1\">\r\n      <defs>\r\n       <path d=\"M 0 0 \r\nL 0 3.5 \r\n\" id=\"mf05414a22d\" style=\"stroke:#000000;stroke-width:0.8;\"/>\r\n      </defs>\r\n      <g>\r\n       <use style=\"stroke:#000000;stroke-width:0.8;\" x=\"42.784943\" xlink:href=\"#mf05414a22d\" y=\"60.417391\"/>\r\n      </g>\r\n     </g>\r\n    </g>\r\n    <g id=\"xtick_2\">\r\n     <g id=\"line2d_2\">\r\n      <g>\r\n       <use style=\"stroke:#000000;stroke-width:0.8;\" x=\"78.012216\" xlink:href=\"#mf05414a22d\" y=\"60.417391\"/>\r\n      </g>\r\n     </g>\r\n    </g>\r\n    <g id=\"xtick_3\">\r\n     <g id=\"line2d_3\">\r\n      <g>\r\n       <use style=\"stroke:#000000;stroke-width:0.8;\" x=\"113.239489\" xlink:href=\"#mf05414a22d\" y=\"60.417391\"/>\r\n      </g>\r\n     </g>\r\n    </g>\r\n    <g id=\"xtick_4\">\r\n     <g id=\"line2d_4\">\r\n      <g>\r\n       <use style=\"stroke:#000000;stroke-width:0.8;\" x=\"148.466761\" xlink:href=\"#mf05414a22d\" y=\"60.417391\"/>\r\n      </g>\r\n     </g>\r\n    </g>\r\n    <g id=\"xtick_5\">\r\n     <g id=\"line2d_5\">\r\n      <g>\r\n       <use style=\"stroke:#000000;stroke-width:0.8;\" x=\"183.694034\" xlink:href=\"#mf05414a22d\" y=\"60.417391\"/>\r\n      </g>\r\n     </g>\r\n    </g>\r\n    <g id=\"xtick_6\">\r\n     <g id=\"line2d_6\">\r\n      <g>\r\n       <use style=\"stroke:#000000;stroke-width:0.8;\" x=\"218.921307\" xlink:href=\"#mf05414a22d\" y=\"60.417391\"/>\r\n      </g>\r\n     </g>\r\n    </g>\r\n    <g id=\"xtick_7\">\r\n     <g id=\"line2d_7\">\r\n      <g>\r\n       <use style=\"stroke:#000000;stroke-width:0.8;\" x=\"254.14858\" xlink:href=\"#mf05414a22d\" y=\"60.417391\"/>\r\n      </g>\r\n     </g>\r\n    </g>\r\n    <g id=\"xtick_8\">\r\n     <g id=\"line2d_8\">\r\n      <g>\r\n       <use style=\"stroke:#000000;stroke-width:0.8;\" x=\"289.375852\" xlink:href=\"#mf05414a22d\" y=\"60.417391\"/>\r\n      </g>\r\n     </g>\r\n    </g>\r\n   </g>\r\n   <g id=\"matplotlib.axis_2\">\r\n    <g id=\"ytick_1\">\r\n     <g id=\"line2d_9\">\r\n      <defs>\r\n       <path d=\"M 0 0 \r\nL -3.5 0 \r\n\" id=\"mb6b65dd75b\" style=\"stroke:#000000;stroke-width:0.8;\"/>\r\n      </defs>\r\n      <g>\r\n       <use style=\"stroke:#000000;stroke-width:0.8;\" x=\"30.103125\" xlink:href=\"#mb6b65dd75b\" y=\"49.278496\"/>\r\n      </g>\r\n     </g>\r\n     <g id=\"text_1\">\r\n      <!-- 0.6 -->\r\n      <defs>\r\n       <path d=\"M 31.78125 66.40625 \r\nQ 24.171875 66.40625 20.328125 58.90625 \r\nQ 16.5 51.421875 16.5 36.375 \r\nQ 16.5 21.390625 20.328125 13.890625 \r\nQ 24.171875 6.390625 31.78125 6.390625 \r\nQ 39.453125 6.390625 43.28125 13.890625 \r\nQ 47.125 21.390625 47.125 36.375 \r\nQ 47.125 51.421875 43.28125 58.90625 \r\nQ 39.453125 66.40625 31.78125 66.40625 \r\nz\r\nM 31.78125 74.21875 \r\nQ 44.046875 74.21875 50.515625 64.515625 \r\nQ 56.984375 54.828125 56.984375 36.375 \r\nQ 56.984375 17.96875 50.515625 8.265625 \r\nQ 44.046875 -1.421875 31.78125 -1.421875 \r\nQ 19.53125 -1.421875 13.0625 8.265625 \r\nQ 6.59375 17.96875 6.59375 36.375 \r\nQ 6.59375 54.828125 13.0625 64.515625 \r\nQ 19.53125 74.21875 31.78125 74.21875 \r\nz\r\n\" id=\"DejaVuSans-48\"/>\r\n       <path d=\"M 10.6875 12.40625 \r\nL 21 12.40625 \r\nL 21 0 \r\nL 10.6875 0 \r\nz\r\n\" id=\"DejaVuSans-46\"/>\r\n       <path d=\"M 33.015625 40.375 \r\nQ 26.375 40.375 22.484375 35.828125 \r\nQ 18.609375 31.296875 18.609375 23.390625 \r\nQ 18.609375 15.53125 22.484375 10.953125 \r\nQ 26.375 6.390625 33.015625 6.390625 \r\nQ 39.65625 6.390625 43.53125 10.953125 \r\nQ 47.40625 15.53125 47.40625 23.390625 \r\nQ 47.40625 31.296875 43.53125 35.828125 \r\nQ 39.65625 40.375 33.015625 40.375 \r\nz\r\nM 52.59375 71.296875 \r\nL 52.59375 62.3125 \r\nQ 48.875 64.0625 45.09375 64.984375 \r\nQ 41.3125 65.921875 37.59375 65.921875 \r\nQ 27.828125 65.921875 22.671875 59.328125 \r\nQ 17.53125 52.734375 16.796875 39.40625 \r\nQ 19.671875 43.65625 24.015625 45.921875 \r\nQ 28.375 48.1875 33.59375 48.1875 \r\nQ 44.578125 48.1875 50.953125 41.515625 \r\nQ 57.328125 34.859375 57.328125 23.390625 \r\nQ 57.328125 12.15625 50.6875 5.359375 \r\nQ 44.046875 -1.421875 33.015625 -1.421875 \r\nQ 20.359375 -1.421875 13.671875 8.265625 \r\nQ 6.984375 17.96875 6.984375 36.375 \r\nQ 6.984375 53.65625 15.1875 63.9375 \r\nQ 23.390625 74.21875 37.203125 74.21875 \r\nQ 40.921875 74.21875 44.703125 73.484375 \r\nQ 48.484375 72.75 52.59375 71.296875 \r\nz\r\n\" id=\"DejaVuSans-54\"/>\r\n      </defs>\r\n      <g transform=\"translate(7.2 53.077715)scale(0.1 -0.1)\">\r\n       <use xlink:href=\"#DejaVuSans-48\"/>\r\n       <use x=\"63.623047\" xlink:href=\"#DejaVuSans-46\"/>\r\n       <use x=\"95.410156\" xlink:href=\"#DejaVuSans-54\"/>\r\n      </g>\r\n     </g>\r\n    </g>\r\n    <g id=\"ytick_2\">\r\n     <g id=\"line2d_10\">\r\n      <g>\r\n       <use style=\"stroke:#000000;stroke-width:0.8;\" x=\"30.103125\" xlink:href=\"#mb6b65dd75b\" y=\"25.693152\"/>\r\n      </g>\r\n     </g>\r\n     <g id=\"text_2\">\r\n      <!-- 0.8 -->\r\n      <defs>\r\n       <path d=\"M 31.78125 34.625 \r\nQ 24.75 34.625 20.71875 30.859375 \r\nQ 16.703125 27.09375 16.703125 20.515625 \r\nQ 16.703125 13.921875 20.71875 10.15625 \r\nQ 24.75 6.390625 31.78125 6.390625 \r\nQ 38.8125 6.390625 42.859375 10.171875 \r\nQ 46.921875 13.96875 46.921875 20.515625 \r\nQ 46.921875 27.09375 42.890625 30.859375 \r\nQ 38.875 34.625 31.78125 34.625 \r\nz\r\nM 21.921875 38.8125 \r\nQ 15.578125 40.375 12.03125 44.71875 \r\nQ 8.5 49.078125 8.5 55.328125 \r\nQ 8.5 64.0625 14.71875 69.140625 \r\nQ 20.953125 74.21875 31.78125 74.21875 \r\nQ 42.671875 74.21875 48.875 69.140625 \r\nQ 55.078125 64.0625 55.078125 55.328125 \r\nQ 55.078125 49.078125 51.53125 44.71875 \r\nQ 48 40.375 41.703125 38.8125 \r\nQ 48.828125 37.15625 52.796875 32.3125 \r\nQ 56.78125 27.484375 56.78125 20.515625 \r\nQ 56.78125 9.90625 50.3125 4.234375 \r\nQ 43.84375 -1.421875 31.78125 -1.421875 \r\nQ 19.734375 -1.421875 13.25 4.234375 \r\nQ 6.78125 9.90625 6.78125 20.515625 \r\nQ 6.78125 27.484375 10.78125 32.3125 \r\nQ 14.796875 37.15625 21.921875 38.8125 \r\nz\r\nM 18.3125 54.390625 \r\nQ 18.3125 48.734375 21.84375 45.5625 \r\nQ 25.390625 42.390625 31.78125 42.390625 \r\nQ 38.140625 42.390625 41.71875 45.5625 \r\nQ 45.3125 48.734375 45.3125 54.390625 \r\nQ 45.3125 60.0625 41.71875 63.234375 \r\nQ 38.140625 66.40625 31.78125 66.40625 \r\nQ 25.390625 66.40625 21.84375 63.234375 \r\nQ 18.3125 60.0625 18.3125 54.390625 \r\nz\r\n\" id=\"DejaVuSans-56\"/>\r\n      </defs>\r\n      <g transform=\"translate(7.2 29.492371)scale(0.1 -0.1)\">\r\n       <use xlink:href=\"#DejaVuSans-48\"/>\r\n       <use x=\"63.623047\" xlink:href=\"#DejaVuSans-46\"/>\r\n       <use x=\"95.410156\" xlink:href=\"#DejaVuSans-56\"/>\r\n      </g>\r\n     </g>\r\n    </g>\r\n   </g>\r\n   <g id=\"line2d_11\">\r\n    <path clip-path=\"url(#padb04ac629)\" d=\"M 42.784943 22.258648 \r\nL 56.875852 30.002265 \r\nL 70.966761 22.985066 \r\nL 85.05767 22.476573 \r\nL 99.14858 35.334174 \r\nL 113.239489 29.813396 \r\nL 127.330398 42.888922 \r\nL 141.421307 33.736054 \r\nL 155.512216 14.863711 \r\nL 169.603125 9.618972 \r\nL 183.694034 57.998419 \r\nL 197.784943 28.36056 \r\nL 211.875852 23.638842 \r\nL 225.966761 32.719068 \r\nL 240.05767 29.813396 \r\nL 254.14858 31.745668 \r\nL 268.239489 41.871937 \r\nL 282.330398 29.813396 \r\nL 296.421307 20.747698 \r\n\" style=\"fill:none;stroke:#1f77b4;stroke-linecap:square;stroke-width:1.5;\"/>\r\n   </g>\r\n   <g id=\"patch_3\">\r\n    <path d=\"M 30.103125 60.417391 \r\nL 30.103125 7.2 \r\n\" style=\"fill:none;stroke:#000000;stroke-linecap:square;stroke-linejoin:miter;stroke-width:0.8;\"/>\r\n   </g>\r\n   <g id=\"patch_4\">\r\n    <path d=\"M 309.103125 60.417391 \r\nL 309.103125 7.2 \r\n\" style=\"fill:none;stroke:#000000;stroke-linecap:square;stroke-linejoin:miter;stroke-width:0.8;\"/>\r\n   </g>\r\n   <g id=\"patch_5\">\r\n    <path d=\"M 30.103125 60.417391 \r\nL 309.103125 60.417391 \r\n\" style=\"fill:none;stroke:#000000;stroke-linecap:square;stroke-linejoin:miter;stroke-width:0.8;\"/>\r\n   </g>\r\n   <g id=\"patch_6\">\r\n    <path d=\"M 30.103125 7.2 \r\nL 309.103125 7.2 \r\n\" style=\"fill:none;stroke:#000000;stroke-linecap:square;stroke-linejoin:miter;stroke-width:0.8;\"/>\r\n   </g>\r\n   <g id=\"legend_1\">\r\n    <g id=\"patch_7\">\r\n     <path d=\"M 37.103125 55.417391 \r\nL 75.465625 55.417391 \r\nQ 77.465625 55.417391 77.465625 53.417391 \r\nL 77.465625 39.739266 \r\nQ 77.465625 37.739266 75.465625 37.739266 \r\nL 37.103125 37.739266 \r\nQ 35.103125 37.739266 35.103125 39.739266 \r\nL 35.103125 53.417391 \r\nQ 35.103125 55.417391 37.103125 55.417391 \r\nz\r\n\" style=\"fill:#ffffff;opacity:0.8;stroke:#cccccc;stroke-linejoin:miter;\"/>\r\n    </g>\r\n    <g id=\"line2d_12\">\r\n     <path d=\"M 39.103125 45.837704 \r\nL 59.103125 45.837704 \r\n\" style=\"fill:none;stroke:#1f77b4;stroke-linecap:square;stroke-width:1.5;\"/>\r\n    </g>\r\n    <g id=\"line2d_13\"/>\r\n    <g id=\"text_3\">\r\n     <!-- 0 -->\r\n     <g transform=\"translate(67.103125 49.337704)scale(0.1 -0.1)\">\r\n      <use xlink:href=\"#DejaVuSans-48\"/>\r\n     </g>\r\n    </g>\r\n   </g>\r\n  </g>\r\n  <g id=\"axes_2\">\r\n   <g id=\"patch_8\">\r\n    <path d=\"M 30.103125 124.278261 \r\nL 309.103125 124.278261 \r\nL 309.103125 71.06087 \r\nL 30.103125 71.06087 \r\nz\r\n\" style=\"fill:#ffffff;\"/>\r\n   </g>\r\n   <g id=\"matplotlib.axis_3\">\r\n    <g id=\"xtick_9\">\r\n     <g id=\"line2d_14\">\r\n      <g>\r\n       <use style=\"stroke:#000000;stroke-width:0.8;\" x=\"42.784943\" xlink:href=\"#mf05414a22d\" y=\"124.278261\"/>\r\n      </g>\r\n     </g>\r\n    </g>\r\n    <g id=\"xtick_10\">\r\n     <g id=\"line2d_15\">\r\n      <g>\r\n       <use style=\"stroke:#000000;stroke-width:0.8;\" x=\"78.012216\" xlink:href=\"#mf05414a22d\" y=\"124.278261\"/>\r\n      </g>\r\n     </g>\r\n    </g>\r\n    <g id=\"xtick_11\">\r\n     <g id=\"line2d_16\">\r\n      <g>\r\n       <use style=\"stroke:#000000;stroke-width:0.8;\" x=\"113.239489\" xlink:href=\"#mf05414a22d\" y=\"124.278261\"/>\r\n      </g>\r\n     </g>\r\n    </g>\r\n    <g id=\"xtick_12\">\r\n     <g id=\"line2d_17\">\r\n      <g>\r\n       <use style=\"stroke:#000000;stroke-width:0.8;\" x=\"148.466761\" xlink:href=\"#mf05414a22d\" y=\"124.278261\"/>\r\n      </g>\r\n     </g>\r\n    </g>\r\n    <g id=\"xtick_13\">\r\n     <g id=\"line2d_18\">\r\n      <g>\r\n       <use style=\"stroke:#000000;stroke-width:0.8;\" x=\"183.694034\" xlink:href=\"#mf05414a22d\" y=\"124.278261\"/>\r\n      </g>\r\n     </g>\r\n    </g>\r\n    <g id=\"xtick_14\">\r\n     <g id=\"line2d_19\">\r\n      <g>\r\n       <use style=\"stroke:#000000;stroke-width:0.8;\" x=\"218.921307\" xlink:href=\"#mf05414a22d\" y=\"124.278261\"/>\r\n      </g>\r\n     </g>\r\n    </g>\r\n    <g id=\"xtick_15\">\r\n     <g id=\"line2d_20\">\r\n      <g>\r\n       <use style=\"stroke:#000000;stroke-width:0.8;\" x=\"254.14858\" xlink:href=\"#mf05414a22d\" y=\"124.278261\"/>\r\n      </g>\r\n     </g>\r\n    </g>\r\n    <g id=\"xtick_16\">\r\n     <g id=\"line2d_21\">\r\n      <g>\r\n       <use style=\"stroke:#000000;stroke-width:0.8;\" x=\"289.375852\" xlink:href=\"#mf05414a22d\" y=\"124.278261\"/>\r\n      </g>\r\n     </g>\r\n    </g>\r\n   </g>\r\n   <g id=\"matplotlib.axis_4\">\r\n    <g id=\"ytick_3\">\r\n     <g id=\"line2d_22\">\r\n      <g>\r\n       <use style=\"stroke:#000000;stroke-width:0.8;\" x=\"30.103125\" xlink:href=\"#mb6b65dd75b\" y=\"121.859289\"/>\r\n      </g>\r\n     </g>\r\n     <g id=\"text_4\">\r\n      <!-- 0.0 -->\r\n      <g transform=\"translate(7.2 125.658507)scale(0.1 -0.1)\">\r\n       <use xlink:href=\"#DejaVuSans-48\"/>\r\n       <use x=\"63.623047\" xlink:href=\"#DejaVuSans-46\"/>\r\n       <use x=\"95.410156\" xlink:href=\"#DejaVuSans-48\"/>\r\n      </g>\r\n     </g>\r\n    </g>\r\n    <g id=\"ytick_4\">\r\n     <g id=\"line2d_23\">\r\n      <g>\r\n       <use style=\"stroke:#000000;stroke-width:0.8;\" x=\"30.103125\" xlink:href=\"#mb6b65dd75b\" y=\"81.325158\"/>\r\n      </g>\r\n     </g>\r\n     <g id=\"text_5\">\r\n      <!-- 0.5 -->\r\n      <defs>\r\n       <path d=\"M 10.796875 72.90625 \r\nL 49.515625 72.90625 \r\nL 49.515625 64.59375 \r\nL 19.828125 64.59375 \r\nL 19.828125 46.734375 \r\nQ 21.96875 47.46875 24.109375 47.828125 \r\nQ 26.265625 48.1875 28.421875 48.1875 \r\nQ 40.625 48.1875 47.75 41.5 \r\nQ 54.890625 34.8125 54.890625 23.390625 \r\nQ 54.890625 11.625 47.5625 5.09375 \r\nQ 40.234375 -1.421875 26.90625 -1.421875 \r\nQ 22.3125 -1.421875 17.546875 -0.640625 \r\nQ 12.796875 0.140625 7.71875 1.703125 \r\nL 7.71875 11.625 \r\nQ 12.109375 9.234375 16.796875 8.0625 \r\nQ 21.484375 6.890625 26.703125 6.890625 \r\nQ 35.15625 6.890625 40.078125 11.328125 \r\nQ 45.015625 15.765625 45.015625 23.390625 \r\nQ 45.015625 31 40.078125 35.4375 \r\nQ 35.15625 39.890625 26.703125 39.890625 \r\nQ 22.75 39.890625 18.8125 39.015625 \r\nQ 14.890625 38.140625 10.796875 36.28125 \r\nz\r\n\" id=\"DejaVuSans-53\"/>\r\n      </defs>\r\n      <g transform=\"translate(7.2 85.124376)scale(0.1 -0.1)\">\r\n       <use xlink:href=\"#DejaVuSans-48\"/>\r\n       <use x=\"63.623047\" xlink:href=\"#DejaVuSans-46\"/>\r\n       <use x=\"95.410156\" xlink:href=\"#DejaVuSans-53\"/>\r\n      </g>\r\n     </g>\r\n    </g>\r\n   </g>\r\n   <g id=\"line2d_24\">\r\n    <path clip-path=\"url(#p0838bac811)\" d=\"M 42.784943 73.479842 \r\nL 56.875852 99.630894 \r\nL 70.966761 99.630894 \r\nL 85.05767 99.630894 \r\nL 99.14858 86.555368 \r\nL 113.239489 112.70642 \r\nL 127.330398 112.70642 \r\nL 141.421307 99.630894 \r\nL 155.512216 99.630894 \r\nL 169.603125 99.630894 \r\nL 183.694034 121.859289 \r\nL 197.784943 73.479842 \r\nL 211.875852 73.479842 \r\nL 225.966761 86.555368 \r\nL 240.05767 86.555368 \r\nL 254.14858 73.479842 \r\nL 268.239489 121.859289 \r\nL 282.330398 86.555368 \r\nL 296.421307 73.479842 \r\n\" style=\"fill:none;stroke:#ff7f0e;stroke-linecap:square;stroke-width:1.5;\"/>\r\n   </g>\r\n   <g id=\"patch_9\">\r\n    <path d=\"M 30.103125 124.278261 \r\nL 30.103125 71.06087 \r\n\" style=\"fill:none;stroke:#000000;stroke-linecap:square;stroke-linejoin:miter;stroke-width:0.8;\"/>\r\n   </g>\r\n   <g id=\"patch_10\">\r\n    <path d=\"M 309.103125 124.278261 \r\nL 309.103125 71.06087 \r\n\" style=\"fill:none;stroke:#000000;stroke-linecap:square;stroke-linejoin:miter;stroke-width:0.8;\"/>\r\n   </g>\r\n   <g id=\"patch_11\">\r\n    <path d=\"M 30.103125 124.278261 \r\nL 309.103125 124.278261 \r\n\" style=\"fill:none;stroke:#000000;stroke-linecap:square;stroke-linejoin:miter;stroke-width:0.8;\"/>\r\n   </g>\r\n   <g id=\"patch_12\">\r\n    <path d=\"M 30.103125 71.06087 \r\nL 309.103125 71.06087 \r\n\" style=\"fill:none;stroke:#000000;stroke-linecap:square;stroke-linejoin:miter;stroke-width:0.8;\"/>\r\n   </g>\r\n   <g id=\"legend_2\">\r\n    <g id=\"patch_13\">\r\n     <path d=\"M 37.103125 119.278261 \r\nL 75.465625 119.278261 \r\nQ 77.465625 119.278261 77.465625 117.278261 \r\nL 77.465625 103.600136 \r\nQ 77.465625 101.600136 75.465625 101.600136 \r\nL 37.103125 101.600136 \r\nQ 35.103125 101.600136 35.103125 103.600136 \r\nL 35.103125 117.278261 \r\nQ 35.103125 119.278261 37.103125 119.278261 \r\nz\r\n\" style=\"fill:#ffffff;opacity:0.8;stroke:#cccccc;stroke-linejoin:miter;\"/>\r\n    </g>\r\n    <g id=\"line2d_25\">\r\n     <path d=\"M 39.103125 109.698573 \r\nL 59.103125 109.698573 \r\n\" style=\"fill:none;stroke:#ff7f0e;stroke-linecap:square;stroke-width:1.5;\"/>\r\n    </g>\r\n    <g id=\"line2d_26\"/>\r\n    <g id=\"text_6\">\r\n     <!-- 1 -->\r\n     <defs>\r\n      <path d=\"M 12.40625 8.296875 \r\nL 28.515625 8.296875 \r\nL 28.515625 63.921875 \r\nL 10.984375 60.40625 \r\nL 10.984375 69.390625 \r\nL 28.421875 72.90625 \r\nL 38.28125 72.90625 \r\nL 38.28125 8.296875 \r\nL 54.390625 8.296875 \r\nL 54.390625 0 \r\nL 12.40625 0 \r\nz\r\n\" id=\"DejaVuSans-49\"/>\r\n     </defs>\r\n     <g transform=\"translate(67.103125 113.198573)scale(0.1 -0.1)\">\r\n      <use xlink:href=\"#DejaVuSans-49\"/>\r\n     </g>\r\n    </g>\r\n   </g>\r\n  </g>\r\n  <g id=\"axes_3\">\r\n   <g id=\"patch_14\">\r\n    <path d=\"M 30.103125 188.13913 \r\nL 309.103125 188.13913 \r\nL 309.103125 134.921739 \r\nL 30.103125 134.921739 \r\nz\r\n\" style=\"fill:#ffffff;\"/>\r\n   </g>\r\n   <g id=\"matplotlib.axis_5\">\r\n    <g id=\"xtick_17\">\r\n     <g id=\"line2d_27\">\r\n      <g>\r\n       <use style=\"stroke:#000000;stroke-width:0.8;\" x=\"42.784943\" xlink:href=\"#mf05414a22d\" y=\"188.13913\"/>\r\n      </g>\r\n     </g>\r\n    </g>\r\n    <g id=\"xtick_18\">\r\n     <g id=\"line2d_28\">\r\n      <g>\r\n       <use style=\"stroke:#000000;stroke-width:0.8;\" x=\"78.012216\" xlink:href=\"#mf05414a22d\" y=\"188.13913\"/>\r\n      </g>\r\n     </g>\r\n    </g>\r\n    <g id=\"xtick_19\">\r\n     <g id=\"line2d_29\">\r\n      <g>\r\n       <use style=\"stroke:#000000;stroke-width:0.8;\" x=\"113.239489\" xlink:href=\"#mf05414a22d\" y=\"188.13913\"/>\r\n      </g>\r\n     </g>\r\n    </g>\r\n    <g id=\"xtick_20\">\r\n     <g id=\"line2d_30\">\r\n      <g>\r\n       <use style=\"stroke:#000000;stroke-width:0.8;\" x=\"148.466761\" xlink:href=\"#mf05414a22d\" y=\"188.13913\"/>\r\n      </g>\r\n     </g>\r\n    </g>\r\n    <g id=\"xtick_21\">\r\n     <g id=\"line2d_31\">\r\n      <g>\r\n       <use style=\"stroke:#000000;stroke-width:0.8;\" x=\"183.694034\" xlink:href=\"#mf05414a22d\" y=\"188.13913\"/>\r\n      </g>\r\n     </g>\r\n    </g>\r\n    <g id=\"xtick_22\">\r\n     <g id=\"line2d_32\">\r\n      <g>\r\n       <use style=\"stroke:#000000;stroke-width:0.8;\" x=\"218.921307\" xlink:href=\"#mf05414a22d\" y=\"188.13913\"/>\r\n      </g>\r\n     </g>\r\n    </g>\r\n    <g id=\"xtick_23\">\r\n     <g id=\"line2d_33\">\r\n      <g>\r\n       <use style=\"stroke:#000000;stroke-width:0.8;\" x=\"254.14858\" xlink:href=\"#mf05414a22d\" y=\"188.13913\"/>\r\n      </g>\r\n     </g>\r\n    </g>\r\n    <g id=\"xtick_24\">\r\n     <g id=\"line2d_34\">\r\n      <g>\r\n       <use style=\"stroke:#000000;stroke-width:0.8;\" x=\"289.375852\" xlink:href=\"#mf05414a22d\" y=\"188.13913\"/>\r\n      </g>\r\n     </g>\r\n    </g>\r\n   </g>\r\n   <g id=\"matplotlib.axis_6\">\r\n    <g id=\"ytick_5\">\r\n     <g id=\"line2d_35\">\r\n      <g>\r\n       <use style=\"stroke:#000000;stroke-width:0.8;\" x=\"30.103125\" xlink:href=\"#mb6b65dd75b\" y=\"164.55415\"/>\r\n      </g>\r\n     </g>\r\n     <g id=\"text_7\">\r\n      <!-- 0.5 -->\r\n      <g transform=\"translate(7.2 168.353369)scale(0.1 -0.1)\">\r\n       <use xlink:href=\"#DejaVuSans-48\"/>\r\n       <use x=\"63.623047\" xlink:href=\"#DejaVuSans-46\"/>\r\n       <use x=\"95.410156\" xlink:href=\"#DejaVuSans-53\"/>\r\n      </g>\r\n     </g>\r\n    </g>\r\n    <g id=\"ytick_6\">\r\n     <g id=\"line2d_36\">\r\n      <g>\r\n       <use style=\"stroke:#000000;stroke-width:0.8;\" x=\"30.103125\" xlink:href=\"#mb6b65dd75b\" y=\"137.340711\"/>\r\n      </g>\r\n     </g>\r\n     <g id=\"text_8\">\r\n      <!-- 1.0 -->\r\n      <g transform=\"translate(7.2 141.13993)scale(0.1 -0.1)\">\r\n       <use xlink:href=\"#DejaVuSans-49\"/>\r\n       <use x=\"63.623047\" xlink:href=\"#DejaVuSans-46\"/>\r\n       <use x=\"95.410156\" xlink:href=\"#DejaVuSans-48\"/>\r\n      </g>\r\n     </g>\r\n    </g>\r\n   </g>\r\n   <g id=\"line2d_37\">\r\n    <path clip-path=\"url(#pdea5f7a4a2)\" d=\"M 42.784943 155.483004 \r\nL 56.875852 143.388142 \r\nL 70.966761 149.435573 \r\nL 85.05767 149.435573 \r\nL 99.14858 161.530435 \r\nL 113.239489 185.720158 \r\nL 127.330398 161.530435 \r\nL 141.421307 149.435573 \r\nL 155.512216 137.340711 \r\nL 169.603125 155.483004 \r\nL 183.694034 179.672727 \r\nL 197.784943 179.672727 \r\nL 211.875852 149.435573 \r\nL 225.966761 149.435573 \r\nL 240.05767 173.625296 \r\nL 254.14858 137.340711 \r\nL 268.239489 161.530435 \r\nL 282.330398 173.625296 \r\nL 296.421307 155.483004 \r\n\" style=\"fill:none;stroke:#2ca02c;stroke-linecap:square;stroke-width:1.5;\"/>\r\n   </g>\r\n   <g id=\"patch_15\">\r\n    <path d=\"M 30.103125 188.13913 \r\nL 30.103125 134.921739 \r\n\" style=\"fill:none;stroke:#000000;stroke-linecap:square;stroke-linejoin:miter;stroke-width:0.8;\"/>\r\n   </g>\r\n   <g id=\"patch_16\">\r\n    <path d=\"M 309.103125 188.13913 \r\nL 309.103125 134.921739 \r\n\" style=\"fill:none;stroke:#000000;stroke-linecap:square;stroke-linejoin:miter;stroke-width:0.8;\"/>\r\n   </g>\r\n   <g id=\"patch_17\">\r\n    <path d=\"M 30.103125 188.13913 \r\nL 309.103125 188.13913 \r\n\" style=\"fill:none;stroke:#000000;stroke-linecap:square;stroke-linejoin:miter;stroke-width:0.8;\"/>\r\n   </g>\r\n   <g id=\"patch_18\">\r\n    <path d=\"M 30.103125 134.921739 \r\nL 309.103125 134.921739 \r\n\" style=\"fill:none;stroke:#000000;stroke-linecap:square;stroke-linejoin:miter;stroke-width:0.8;\"/>\r\n   </g>\r\n   <g id=\"legend_3\">\r\n    <g id=\"patch_19\">\r\n     <path d=\"M 37.103125 183.13913 \r\nL 75.465625 183.13913 \r\nQ 77.465625 183.13913 77.465625 181.13913 \r\nL 77.465625 167.461005 \r\nQ 77.465625 165.461005 75.465625 165.461005 \r\nL 37.103125 165.461005 \r\nQ 35.103125 165.461005 35.103125 167.461005 \r\nL 35.103125 181.13913 \r\nQ 35.103125 183.13913 37.103125 183.13913 \r\nz\r\n\" style=\"fill:#ffffff;opacity:0.8;stroke:#cccccc;stroke-linejoin:miter;\"/>\r\n    </g>\r\n    <g id=\"line2d_38\">\r\n     <path d=\"M 39.103125 173.559443 \r\nL 59.103125 173.559443 \r\n\" style=\"fill:none;stroke:#2ca02c;stroke-linecap:square;stroke-width:1.5;\"/>\r\n    </g>\r\n    <g id=\"line2d_39\"/>\r\n    <g id=\"text_9\">\r\n     <!-- 2 -->\r\n     <defs>\r\n      <path d=\"M 19.1875 8.296875 \r\nL 53.609375 8.296875 \r\nL 53.609375 0 \r\nL 7.328125 0 \r\nL 7.328125 8.296875 \r\nQ 12.9375 14.109375 22.625 23.890625 \r\nQ 32.328125 33.6875 34.8125 36.53125 \r\nQ 39.546875 41.84375 41.421875 45.53125 \r\nQ 43.3125 49.21875 43.3125 52.78125 \r\nQ 43.3125 58.59375 39.234375 62.25 \r\nQ 35.15625 65.921875 28.609375 65.921875 \r\nQ 23.96875 65.921875 18.8125 64.3125 \r\nQ 13.671875 62.703125 7.8125 59.421875 \r\nL 7.8125 69.390625 \r\nQ 13.765625 71.78125 18.9375 73 \r\nQ 24.125 74.21875 28.421875 74.21875 \r\nQ 39.75 74.21875 46.484375 68.546875 \r\nQ 53.21875 62.890625 53.21875 53.421875 \r\nQ 53.21875 48.921875 51.53125 44.890625 \r\nQ 49.859375 40.875 45.40625 35.40625 \r\nQ 44.1875 33.984375 37.640625 27.21875 \r\nQ 31.109375 20.453125 19.1875 8.296875 \r\nz\r\n\" id=\"DejaVuSans-50\"/>\r\n     </defs>\r\n     <g transform=\"translate(67.103125 177.059443)scale(0.1 -0.1)\">\r\n      <use xlink:href=\"#DejaVuSans-50\"/>\r\n     </g>\r\n    </g>\r\n   </g>\r\n  </g>\r\n  <g id=\"axes_4\">\r\n   <g id=\"patch_20\">\r\n    <path d=\"M 30.103125 252 \r\nL 309.103125 252 \r\nL 309.103125 198.782609 \r\nL 30.103125 198.782609 \r\nz\r\n\" style=\"fill:#ffffff;\"/>\r\n   </g>\r\n   <g id=\"matplotlib.axis_7\">\r\n    <g id=\"xtick_25\">\r\n     <g id=\"line2d_40\">\r\n      <g>\r\n       <use style=\"stroke:#000000;stroke-width:0.8;\" x=\"42.784943\" xlink:href=\"#mf05414a22d\" y=\"252\"/>\r\n      </g>\r\n     </g>\r\n     <g id=\"text_10\">\r\n      <!-- 0.0 -->\r\n      <g transform=\"translate(27.972589 273.532002)rotate(-30)scale(0.1 -0.1)\">\r\n       <use xlink:href=\"#DejaVuSans-48\"/>\r\n       <use x=\"63.623047\" xlink:href=\"#DejaVuSans-46\"/>\r\n       <use x=\"95.410156\" xlink:href=\"#DejaVuSans-48\"/>\r\n      </g>\r\n     </g>\r\n    </g>\r\n    <g id=\"xtick_26\">\r\n     <g id=\"line2d_41\">\r\n      <g>\r\n       <use style=\"stroke:#000000;stroke-width:0.8;\" x=\"78.012216\" xlink:href=\"#mf05414a22d\" y=\"252\"/>\r\n      </g>\r\n     </g>\r\n     <g id=\"text_11\">\r\n      <!-- 2.5 -->\r\n      <g transform=\"translate(63.199862 273.532002)rotate(-30)scale(0.1 -0.1)\">\r\n       <use xlink:href=\"#DejaVuSans-50\"/>\r\n       <use x=\"63.623047\" xlink:href=\"#DejaVuSans-46\"/>\r\n       <use x=\"95.410156\" xlink:href=\"#DejaVuSans-53\"/>\r\n      </g>\r\n     </g>\r\n    </g>\r\n    <g id=\"xtick_27\">\r\n     <g id=\"line2d_42\">\r\n      <g>\r\n       <use style=\"stroke:#000000;stroke-width:0.8;\" x=\"113.239489\" xlink:href=\"#mf05414a22d\" y=\"252\"/>\r\n      </g>\r\n     </g>\r\n     <g id=\"text_12\">\r\n      <!-- 5.0 -->\r\n      <g transform=\"translate(98.427135 273.532002)rotate(-30)scale(0.1 -0.1)\">\r\n       <use xlink:href=\"#DejaVuSans-53\"/>\r\n       <use x=\"63.623047\" xlink:href=\"#DejaVuSans-46\"/>\r\n       <use x=\"95.410156\" xlink:href=\"#DejaVuSans-48\"/>\r\n      </g>\r\n     </g>\r\n    </g>\r\n    <g id=\"xtick_28\">\r\n     <g id=\"line2d_43\">\r\n      <g>\r\n       <use style=\"stroke:#000000;stroke-width:0.8;\" x=\"148.466761\" xlink:href=\"#mf05414a22d\" y=\"252\"/>\r\n      </g>\r\n     </g>\r\n     <g id=\"text_13\">\r\n      <!-- 7.5 -->\r\n      <defs>\r\n       <path d=\"M 8.203125 72.90625 \r\nL 55.078125 72.90625 \r\nL 55.078125 68.703125 \r\nL 28.609375 0 \r\nL 18.3125 0 \r\nL 43.21875 64.59375 \r\nL 8.203125 64.59375 \r\nz\r\n\" id=\"DejaVuSans-55\"/>\r\n      </defs>\r\n      <g transform=\"translate(133.654407 273.532002)rotate(-30)scale(0.1 -0.1)\">\r\n       <use xlink:href=\"#DejaVuSans-55\"/>\r\n       <use x=\"63.623047\" xlink:href=\"#DejaVuSans-46\"/>\r\n       <use x=\"95.410156\" xlink:href=\"#DejaVuSans-53\"/>\r\n      </g>\r\n     </g>\r\n    </g>\r\n    <g id=\"xtick_29\">\r\n     <g id=\"line2d_44\">\r\n      <g>\r\n       <use style=\"stroke:#000000;stroke-width:0.8;\" x=\"183.694034\" xlink:href=\"#mf05414a22d\" y=\"252\"/>\r\n      </g>\r\n     </g>\r\n     <g id=\"text_14\">\r\n      <!-- 10.0 -->\r\n      <g transform=\"translate(163.371593 276.713252)rotate(-30)scale(0.1 -0.1)\">\r\n       <use xlink:href=\"#DejaVuSans-49\"/>\r\n       <use x=\"63.623047\" xlink:href=\"#DejaVuSans-48\"/>\r\n       <use x=\"127.246094\" xlink:href=\"#DejaVuSans-46\"/>\r\n       <use x=\"159.033203\" xlink:href=\"#DejaVuSans-48\"/>\r\n      </g>\r\n     </g>\r\n    </g>\r\n    <g id=\"xtick_30\">\r\n     <g id=\"line2d_45\">\r\n      <g>\r\n       <use style=\"stroke:#000000;stroke-width:0.8;\" x=\"218.921307\" xlink:href=\"#mf05414a22d\" y=\"252\"/>\r\n      </g>\r\n     </g>\r\n     <g id=\"text_15\">\r\n      <!-- 12.5 -->\r\n      <g transform=\"translate(198.598866 276.713252)rotate(-30)scale(0.1 -0.1)\">\r\n       <use xlink:href=\"#DejaVuSans-49\"/>\r\n       <use x=\"63.623047\" xlink:href=\"#DejaVuSans-50\"/>\r\n       <use x=\"127.246094\" xlink:href=\"#DejaVuSans-46\"/>\r\n       <use x=\"159.033203\" xlink:href=\"#DejaVuSans-53\"/>\r\n      </g>\r\n     </g>\r\n    </g>\r\n    <g id=\"xtick_31\">\r\n     <g id=\"line2d_46\">\r\n      <g>\r\n       <use style=\"stroke:#000000;stroke-width:0.8;\" x=\"254.14858\" xlink:href=\"#mf05414a22d\" y=\"252\"/>\r\n      </g>\r\n     </g>\r\n     <g id=\"text_16\">\r\n      <!-- 15.0 -->\r\n      <g transform=\"translate(233.826139 276.713252)rotate(-30)scale(0.1 -0.1)\">\r\n       <use xlink:href=\"#DejaVuSans-49\"/>\r\n       <use x=\"63.623047\" xlink:href=\"#DejaVuSans-53\"/>\r\n       <use x=\"127.246094\" xlink:href=\"#DejaVuSans-46\"/>\r\n       <use x=\"159.033203\" xlink:href=\"#DejaVuSans-48\"/>\r\n      </g>\r\n     </g>\r\n    </g>\r\n    <g id=\"xtick_32\">\r\n     <g id=\"line2d_47\">\r\n      <g>\r\n       <use style=\"stroke:#000000;stroke-width:0.8;\" x=\"289.375852\" xlink:href=\"#mf05414a22d\" y=\"252\"/>\r\n      </g>\r\n     </g>\r\n     <g id=\"text_17\">\r\n      <!-- 17.5 -->\r\n      <g transform=\"translate(269.053412 276.713252)rotate(-30)scale(0.1 -0.1)\">\r\n       <use xlink:href=\"#DejaVuSans-49\"/>\r\n       <use x=\"63.623047\" xlink:href=\"#DejaVuSans-55\"/>\r\n       <use x=\"127.246094\" xlink:href=\"#DejaVuSans-46\"/>\r\n       <use x=\"159.033203\" xlink:href=\"#DejaVuSans-53\"/>\r\n      </g>\r\n     </g>\r\n    </g>\r\n   </g>\r\n   <g id=\"matplotlib.axis_8\">\r\n    <g id=\"ytick_7\">\r\n     <g id=\"line2d_48\">\r\n      <g>\r\n       <use style=\"stroke:#000000;stroke-width:0.8;\" x=\"30.103125\" xlink:href=\"#mb6b65dd75b\" y=\"232.302654\"/>\r\n      </g>\r\n     </g>\r\n     <g id=\"text_18\">\r\n      <!-- 0.5 -->\r\n      <g transform=\"translate(7.2 236.101873)scale(0.1 -0.1)\">\r\n       <use xlink:href=\"#DejaVuSans-48\"/>\r\n       <use x=\"63.623047\" xlink:href=\"#DejaVuSans-46\"/>\r\n       <use x=\"95.410156\" xlink:href=\"#DejaVuSans-53\"/>\r\n      </g>\r\n     </g>\r\n    </g>\r\n    <g id=\"ytick_8\">\r\n     <g id=\"line2d_49\">\r\n      <g>\r\n       <use style=\"stroke:#000000;stroke-width:0.8;\" x=\"30.103125\" xlink:href=\"#mb6b65dd75b\" y=\"201.201581\"/>\r\n      </g>\r\n     </g>\r\n     <g id=\"text_19\">\r\n      <!-- 1.0 -->\r\n      <g transform=\"translate(7.2 205.0008)scale(0.1 -0.1)\">\r\n       <use xlink:href=\"#DejaVuSans-49\"/>\r\n       <use x=\"63.623047\" xlink:href=\"#DejaVuSans-46\"/>\r\n       <use x=\"95.410156\" xlink:href=\"#DejaVuSans-48\"/>\r\n      </g>\r\n     </g>\r\n    </g>\r\n   </g>\r\n   <g id=\"line2d_50\">\r\n    <path clip-path=\"url(#p8100362961)\" d=\"M 42.784943 208.112931 \r\nL 56.875852 221.93563 \r\nL 70.966761 221.93563 \r\nL 85.05767 249.581028 \r\nL 99.14858 228.846979 \r\nL 113.239489 201.201581 \r\nL 127.330398 249.581028 \r\nL 141.421307 228.846979 \r\nL 155.512216 235.758329 \r\nL 169.603125 215.02428 \r\nL 183.694034 215.02428 \r\nL 197.784943 215.02428 \r\nL 211.875852 201.201581 \r\nL 225.966761 215.02428 \r\nL 240.05767 201.201581 \r\nL 254.14858 235.758329 \r\nL 268.239489 235.758329 \r\nL 282.330398 201.201581 \r\nL 296.421307 215.02428 \r\n\" style=\"fill:none;stroke:#d62728;stroke-linecap:square;stroke-width:1.5;\"/>\r\n   </g>\r\n   <g id=\"patch_21\">\r\n    <path d=\"M 30.103125 252 \r\nL 30.103125 198.782609 \r\n\" style=\"fill:none;stroke:#000000;stroke-linecap:square;stroke-linejoin:miter;stroke-width:0.8;\"/>\r\n   </g>\r\n   <g id=\"patch_22\">\r\n    <path d=\"M 309.103125 252 \r\nL 309.103125 198.782609 \r\n\" style=\"fill:none;stroke:#000000;stroke-linecap:square;stroke-linejoin:miter;stroke-width:0.8;\"/>\r\n   </g>\r\n   <g id=\"patch_23\">\r\n    <path d=\"M 30.103125 252 \r\nL 309.103125 252 \r\n\" style=\"fill:none;stroke:#000000;stroke-linecap:square;stroke-linejoin:miter;stroke-width:0.8;\"/>\r\n   </g>\r\n   <g id=\"patch_24\">\r\n    <path d=\"M 30.103125 198.782609 \r\nL 309.103125 198.782609 \r\n\" style=\"fill:none;stroke:#000000;stroke-linecap:square;stroke-linejoin:miter;stroke-width:0.8;\"/>\r\n   </g>\r\n   <g id=\"legend_4\">\r\n    <g id=\"patch_25\">\r\n     <path d=\"M 37.103125 247 \r\nL 75.465625 247 \r\nQ 77.465625 247 77.465625 245 \r\nL 77.465625 231.321875 \r\nQ 77.465625 229.321875 75.465625 229.321875 \r\nL 37.103125 229.321875 \r\nQ 35.103125 229.321875 35.103125 231.321875 \r\nL 35.103125 245 \r\nQ 35.103125 247 37.103125 247 \r\nz\r\n\" style=\"fill:#ffffff;opacity:0.8;stroke:#cccccc;stroke-linejoin:miter;\"/>\r\n    </g>\r\n    <g id=\"line2d_51\">\r\n     <path d=\"M 39.103125 237.420312 \r\nL 59.103125 237.420312 \r\n\" style=\"fill:none;stroke:#d62728;stroke-linecap:square;stroke-width:1.5;\"/>\r\n    </g>\r\n    <g id=\"line2d_52\"/>\r\n    <g id=\"text_20\">\r\n     <!-- 3 -->\r\n     <defs>\r\n      <path d=\"M 40.578125 39.3125 \r\nQ 47.65625 37.796875 51.625 33 \r\nQ 55.609375 28.21875 55.609375 21.1875 \r\nQ 55.609375 10.40625 48.1875 4.484375 \r\nQ 40.765625 -1.421875 27.09375 -1.421875 \r\nQ 22.515625 -1.421875 17.65625 -0.515625 \r\nQ 12.796875 0.390625 7.625 2.203125 \r\nL 7.625 11.71875 \r\nQ 11.71875 9.328125 16.59375 8.109375 \r\nQ 21.484375 6.890625 26.8125 6.890625 \r\nQ 36.078125 6.890625 40.9375 10.546875 \r\nQ 45.796875 14.203125 45.796875 21.1875 \r\nQ 45.796875 27.640625 41.28125 31.265625 \r\nQ 36.765625 34.90625 28.71875 34.90625 \r\nL 20.21875 34.90625 \r\nL 20.21875 43.015625 \r\nL 29.109375 43.015625 \r\nQ 36.375 43.015625 40.234375 45.921875 \r\nQ 44.09375 48.828125 44.09375 54.296875 \r\nQ 44.09375 59.90625 40.109375 62.90625 \r\nQ 36.140625 65.921875 28.71875 65.921875 \r\nQ 24.65625 65.921875 20.015625 65.03125 \r\nQ 15.375 64.15625 9.8125 62.3125 \r\nL 9.8125 71.09375 \r\nQ 15.4375 72.65625 20.34375 73.4375 \r\nQ 25.25 74.21875 29.59375 74.21875 \r\nQ 40.828125 74.21875 47.359375 69.109375 \r\nQ 53.90625 64.015625 53.90625 55.328125 \r\nQ 53.90625 49.265625 50.4375 45.09375 \r\nQ 46.96875 40.921875 40.578125 39.3125 \r\nz\r\n\" id=\"DejaVuSans-51\"/>\r\n     </defs>\r\n     <g transform=\"translate(67.103125 240.920312)scale(0.1 -0.1)\">\r\n      <use xlink:href=\"#DejaVuSans-51\"/>\r\n     </g>\r\n    </g>\r\n   </g>\r\n  </g>\r\n </g>\r\n <defs>\r\n  <clipPath id=\"padb04ac629\">\r\n   <rect height=\"53.217391\" width=\"279\" x=\"30.103125\" y=\"7.2\"/>\r\n  </clipPath>\r\n  <clipPath id=\"p0838bac811\">\r\n   <rect height=\"53.217391\" width=\"279\" x=\"30.103125\" y=\"71.06087\"/>\r\n  </clipPath>\r\n  <clipPath id=\"pdea5f7a4a2\">\r\n   <rect height=\"53.217391\" width=\"279\" x=\"30.103125\" y=\"134.921739\"/>\r\n  </clipPath>\r\n  <clipPath id=\"p8100362961\">\r\n   <rect height=\"53.217391\" width=\"279\" x=\"30.103125\" y=\"198.782609\"/>\r\n  </clipPath>\r\n </defs>\r\n</svg>\r\n",
      "image/png": "[encoded data removed]"
     },
     "metadata": {
      "needs_background": "light"
     }
    }
   ],
   "source": [
    "x_test_scaled = x_scaler.fit_transform(x_test)\n",
    "plt.figure(figsize=(5,5))\n",
    "pd.DataFrame(x_test_scaled).plot(subplots=True, figsize=(5,5))\n",
    "plt.show()"
   ]
  },
  {
   "cell_type": "markdown",
   "metadata": {},
   "source": [
    "Create a separate scaler-object for the target-data."
   ]
  },
  {
   "cell_type": "code",
   "execution_count": 43,
   "metadata": {},
   "outputs": [
    {
     "output_type": "display_data",
     "data": {
      "text/plain": "<Figure size 360x360 with 0 Axes>"
     },
     "metadata": {}
    },
    {
     "output_type": "display_data",
     "data": {
      "text/plain": "<Figure size 360x360 with 1 Axes>",
      "image/svg+xml": "<?xml version=\"1.0\" encoding=\"utf-8\" standalone=\"no\"?>\r\n<!DOCTYPE svg PUBLIC \"-//W3C//DTD SVG 1.1//EN\"\r\n  \"http://www.w3.org/Graphics/SVG/1.1/DTD/svg11.dtd\">\r\n<!-- Created with matplotlib (https://matplotlib.org/) -->\r\n<svg height=\"285.714315pt\" version=\"1.1\" viewBox=\"0 0 316.303125 285.714315\" width=\"316.303125pt\" xmlns=\"http://www.w3.org/2000/svg\" xmlns:xlink=\"http://www.w3.org/1999/xlink\">\r\n <defs>\r\n  <style type=\"text/css\">\r\n*{stroke-linecap:butt;stroke-linejoin:round;}\r\n  </style>\r\n </defs>\r\n <g id=\"figure_1\">\r\n  <g id=\"patch_1\">\r\n   <path d=\"M 0 285.714315 \r\nL 316.303125 285.714315 \r\nL 316.303125 0 \r\nL 0 0 \r\nz\r\n\" style=\"fill:none;\"/>\r\n  </g>\r\n  <g id=\"axes_1\">\r\n   <g id=\"patch_2\">\r\n    <path d=\"M 30.103125 252 \r\nL 309.103125 252 \r\nL 309.103125 7.2 \r\nL 30.103125 7.2 \r\nz\r\n\" style=\"fill:#ffffff;\"/>\r\n   </g>\r\n   <g id=\"matplotlib.axis_1\">\r\n    <g id=\"xtick_1\">\r\n     <g id=\"line2d_1\">\r\n      <defs>\r\n       <path d=\"M 0 0 \r\nL 0 3.5 \r\n\" id=\"m6d88ba116e\" style=\"stroke:#000000;stroke-width:0.8;\"/>\r\n      </defs>\r\n      <g>\r\n       <use style=\"stroke:#000000;stroke-width:0.8;\" x=\"42.784943\" xlink:href=\"#m6d88ba116e\" y=\"252\"/>\r\n      </g>\r\n     </g>\r\n     <g id=\"text_1\">\r\n      <!-- 0.0 -->\r\n      <defs>\r\n       <path d=\"M 31.78125 66.40625 \r\nQ 24.171875 66.40625 20.328125 58.90625 \r\nQ 16.5 51.421875 16.5 36.375 \r\nQ 16.5 21.390625 20.328125 13.890625 \r\nQ 24.171875 6.390625 31.78125 6.390625 \r\nQ 39.453125 6.390625 43.28125 13.890625 \r\nQ 47.125 21.390625 47.125 36.375 \r\nQ 47.125 51.421875 43.28125 58.90625 \r\nQ 39.453125 66.40625 31.78125 66.40625 \r\nz\r\nM 31.78125 74.21875 \r\nQ 44.046875 74.21875 50.515625 64.515625 \r\nQ 56.984375 54.828125 56.984375 36.375 \r\nQ 56.984375 17.96875 50.515625 8.265625 \r\nQ 44.046875 -1.421875 31.78125 -1.421875 \r\nQ 19.53125 -1.421875 13.0625 8.265625 \r\nQ 6.59375 17.96875 6.59375 36.375 \r\nQ 6.59375 54.828125 13.0625 64.515625 \r\nQ 19.53125 74.21875 31.78125 74.21875 \r\nz\r\n\" id=\"DejaVuSans-48\"/>\r\n       <path d=\"M 10.6875 12.40625 \r\nL 21 12.40625 \r\nL 21 0 \r\nL 10.6875 0 \r\nz\r\n\" id=\"DejaVuSans-46\"/>\r\n      </defs>\r\n      <g transform=\"translate(27.972589 273.532002)rotate(-30)scale(0.1 -0.1)\">\r\n       <use xlink:href=\"#DejaVuSans-48\"/>\r\n       <use x=\"63.623047\" xlink:href=\"#DejaVuSans-46\"/>\r\n       <use x=\"95.410156\" xlink:href=\"#DejaVuSans-48\"/>\r\n      </g>\r\n     </g>\r\n    </g>\r\n    <g id=\"xtick_2\">\r\n     <g id=\"line2d_2\">\r\n      <g>\r\n       <use style=\"stroke:#000000;stroke-width:0.8;\" x=\"78.012216\" xlink:href=\"#m6d88ba116e\" y=\"252\"/>\r\n      </g>\r\n     </g>\r\n     <g id=\"text_2\">\r\n      <!-- 2.5 -->\r\n      <defs>\r\n       <path d=\"M 19.1875 8.296875 \r\nL 53.609375 8.296875 \r\nL 53.609375 0 \r\nL 7.328125 0 \r\nL 7.328125 8.296875 \r\nQ 12.9375 14.109375 22.625 23.890625 \r\nQ 32.328125 33.6875 34.8125 36.53125 \r\nQ 39.546875 41.84375 41.421875 45.53125 \r\nQ 43.3125 49.21875 43.3125 52.78125 \r\nQ 43.3125 58.59375 39.234375 62.25 \r\nQ 35.15625 65.921875 28.609375 65.921875 \r\nQ 23.96875 65.921875 18.8125 64.3125 \r\nQ 13.671875 62.703125 7.8125 59.421875 \r\nL 7.8125 69.390625 \r\nQ 13.765625 71.78125 18.9375 73 \r\nQ 24.125 74.21875 28.421875 74.21875 \r\nQ 39.75 74.21875 46.484375 68.546875 \r\nQ 53.21875 62.890625 53.21875 53.421875 \r\nQ 53.21875 48.921875 51.53125 44.890625 \r\nQ 49.859375 40.875 45.40625 35.40625 \r\nQ 44.1875 33.984375 37.640625 27.21875 \r\nQ 31.109375 20.453125 19.1875 8.296875 \r\nz\r\n\" id=\"DejaVuSans-50\"/>\r\n       <path d=\"M 10.796875 72.90625 \r\nL 49.515625 72.90625 \r\nL 49.515625 64.59375 \r\nL 19.828125 64.59375 \r\nL 19.828125 46.734375 \r\nQ 21.96875 47.46875 24.109375 47.828125 \r\nQ 26.265625 48.1875 28.421875 48.1875 \r\nQ 40.625 48.1875 47.75 41.5 \r\nQ 54.890625 34.8125 54.890625 23.390625 \r\nQ 54.890625 11.625 47.5625 5.09375 \r\nQ 40.234375 -1.421875 26.90625 -1.421875 \r\nQ 22.3125 -1.421875 17.546875 -0.640625 \r\nQ 12.796875 0.140625 7.71875 1.703125 \r\nL 7.71875 11.625 \r\nQ 12.109375 9.234375 16.796875 8.0625 \r\nQ 21.484375 6.890625 26.703125 6.890625 \r\nQ 35.15625 6.890625 40.078125 11.328125 \r\nQ 45.015625 15.765625 45.015625 23.390625 \r\nQ 45.015625 31 40.078125 35.4375 \r\nQ 35.15625 39.890625 26.703125 39.890625 \r\nQ 22.75 39.890625 18.8125 39.015625 \r\nQ 14.890625 38.140625 10.796875 36.28125 \r\nz\r\n\" id=\"DejaVuSans-53\"/>\r\n      </defs>\r\n      <g transform=\"translate(63.199862 273.532002)rotate(-30)scale(0.1 -0.1)\">\r\n       <use xlink:href=\"#DejaVuSans-50\"/>\r\n       <use x=\"63.623047\" xlink:href=\"#DejaVuSans-46\"/>\r\n       <use x=\"95.410156\" xlink:href=\"#DejaVuSans-53\"/>\r\n      </g>\r\n     </g>\r\n    </g>\r\n    <g id=\"xtick_3\">\r\n     <g id=\"line2d_3\">\r\n      <g>\r\n       <use style=\"stroke:#000000;stroke-width:0.8;\" x=\"113.239489\" xlink:href=\"#m6d88ba116e\" y=\"252\"/>\r\n      </g>\r\n     </g>\r\n     <g id=\"text_3\">\r\n      <!-- 5.0 -->\r\n      <g transform=\"translate(98.427135 273.532002)rotate(-30)scale(0.1 -0.1)\">\r\n       <use xlink:href=\"#DejaVuSans-53\"/>\r\n       <use x=\"63.623047\" xlink:href=\"#DejaVuSans-46\"/>\r\n       <use x=\"95.410156\" xlink:href=\"#DejaVuSans-48\"/>\r\n      </g>\r\n     </g>\r\n    </g>\r\n    <g id=\"xtick_4\">\r\n     <g id=\"line2d_4\">\r\n      <g>\r\n       <use style=\"stroke:#000000;stroke-width:0.8;\" x=\"148.466761\" xlink:href=\"#m6d88ba116e\" y=\"252\"/>\r\n      </g>\r\n     </g>\r\n     <g id=\"text_4\">\r\n      <!-- 7.5 -->\r\n      <defs>\r\n       <path d=\"M 8.203125 72.90625 \r\nL 55.078125 72.90625 \r\nL 55.078125 68.703125 \r\nL 28.609375 0 \r\nL 18.3125 0 \r\nL 43.21875 64.59375 \r\nL 8.203125 64.59375 \r\nz\r\n\" id=\"DejaVuSans-55\"/>\r\n      </defs>\r\n      <g transform=\"translate(133.654407 273.532002)rotate(-30)scale(0.1 -0.1)\">\r\n       <use xlink:href=\"#DejaVuSans-55\"/>\r\n       <use x=\"63.623047\" xlink:href=\"#DejaVuSans-46\"/>\r\n       <use x=\"95.410156\" xlink:href=\"#DejaVuSans-53\"/>\r\n      </g>\r\n     </g>\r\n    </g>\r\n    <g id=\"xtick_5\">\r\n     <g id=\"line2d_5\">\r\n      <g>\r\n       <use style=\"stroke:#000000;stroke-width:0.8;\" x=\"183.694034\" xlink:href=\"#m6d88ba116e\" y=\"252\"/>\r\n      </g>\r\n     </g>\r\n     <g id=\"text_5\">\r\n      <!-- 10.0 -->\r\n      <defs>\r\n       <path d=\"M 12.40625 8.296875 \r\nL 28.515625 8.296875 \r\nL 28.515625 63.921875 \r\nL 10.984375 60.40625 \r\nL 10.984375 69.390625 \r\nL 28.421875 72.90625 \r\nL 38.28125 72.90625 \r\nL 38.28125 8.296875 \r\nL 54.390625 8.296875 \r\nL 54.390625 0 \r\nL 12.40625 0 \r\nz\r\n\" id=\"DejaVuSans-49\"/>\r\n      </defs>\r\n      <g transform=\"translate(163.371593 276.713252)rotate(-30)scale(0.1 -0.1)\">\r\n       <use xlink:href=\"#DejaVuSans-49\"/>\r\n       <use x=\"63.623047\" xlink:href=\"#DejaVuSans-48\"/>\r\n       <use x=\"127.246094\" xlink:href=\"#DejaVuSans-46\"/>\r\n       <use x=\"159.033203\" xlink:href=\"#DejaVuSans-48\"/>\r\n      </g>\r\n     </g>\r\n    </g>\r\n    <g id=\"xtick_6\">\r\n     <g id=\"line2d_6\">\r\n      <g>\r\n       <use style=\"stroke:#000000;stroke-width:0.8;\" x=\"218.921307\" xlink:href=\"#m6d88ba116e\" y=\"252\"/>\r\n      </g>\r\n     </g>\r\n     <g id=\"text_6\">\r\n      <!-- 12.5 -->\r\n      <g transform=\"translate(198.598866 276.713252)rotate(-30)scale(0.1 -0.1)\">\r\n       <use xlink:href=\"#DejaVuSans-49\"/>\r\n       <use x=\"63.623047\" xlink:href=\"#DejaVuSans-50\"/>\r\n       <use x=\"127.246094\" xlink:href=\"#DejaVuSans-46\"/>\r\n       <use x=\"159.033203\" xlink:href=\"#DejaVuSans-53\"/>\r\n      </g>\r\n     </g>\r\n    </g>\r\n    <g id=\"xtick_7\">\r\n     <g id=\"line2d_7\">\r\n      <g>\r\n       <use style=\"stroke:#000000;stroke-width:0.8;\" x=\"254.14858\" xlink:href=\"#m6d88ba116e\" y=\"252\"/>\r\n      </g>\r\n     </g>\r\n     <g id=\"text_7\">\r\n      <!-- 15.0 -->\r\n      <g transform=\"translate(233.826139 276.713252)rotate(-30)scale(0.1 -0.1)\">\r\n       <use xlink:href=\"#DejaVuSans-49\"/>\r\n       <use x=\"63.623047\" xlink:href=\"#DejaVuSans-53\"/>\r\n       <use x=\"127.246094\" xlink:href=\"#DejaVuSans-46\"/>\r\n       <use x=\"159.033203\" xlink:href=\"#DejaVuSans-48\"/>\r\n      </g>\r\n     </g>\r\n    </g>\r\n    <g id=\"xtick_8\">\r\n     <g id=\"line2d_8\">\r\n      <g>\r\n       <use style=\"stroke:#000000;stroke-width:0.8;\" x=\"289.375852\" xlink:href=\"#m6d88ba116e\" y=\"252\"/>\r\n      </g>\r\n     </g>\r\n     <g id=\"text_8\">\r\n      <!-- 17.5 -->\r\n      <g transform=\"translate(269.053412 276.713252)rotate(-30)scale(0.1 -0.1)\">\r\n       <use xlink:href=\"#DejaVuSans-49\"/>\r\n       <use x=\"63.623047\" xlink:href=\"#DejaVuSans-55\"/>\r\n       <use x=\"127.246094\" xlink:href=\"#DejaVuSans-46\"/>\r\n       <use x=\"159.033203\" xlink:href=\"#DejaVuSans-53\"/>\r\n      </g>\r\n     </g>\r\n    </g>\r\n   </g>\r\n   <g id=\"matplotlib.axis_2\">\r\n    <g id=\"ytick_1\">\r\n     <g id=\"line2d_9\">\r\n      <defs>\r\n       <path d=\"M 0 0 \r\nL -3.5 0 \r\n\" id=\"ma57671ecfd\" style=\"stroke:#000000;stroke-width:0.8;\"/>\r\n      </defs>\r\n      <g>\r\n       <use style=\"stroke:#000000;stroke-width:0.8;\" x=\"30.103125\" xlink:href=\"#ma57671ecfd\" y=\"212.040727\"/>\r\n      </g>\r\n     </g>\r\n     <g id=\"text_9\">\r\n      <!-- 0.5 -->\r\n      <g transform=\"translate(7.2 215.839946)scale(0.1 -0.1)\">\r\n       <use xlink:href=\"#DejaVuSans-48\"/>\r\n       <use x=\"63.623047\" xlink:href=\"#DejaVuSans-46\"/>\r\n       <use x=\"95.410156\" xlink:href=\"#DejaVuSans-53\"/>\r\n      </g>\r\n     </g>\r\n    </g>\r\n    <g id=\"ytick_2\">\r\n     <g id=\"line2d_10\">\r\n      <g>\r\n       <use style=\"stroke:#000000;stroke-width:0.8;\" x=\"30.103125\" xlink:href=\"#ma57671ecfd\" y=\"167.363491\"/>\r\n      </g>\r\n     </g>\r\n     <g id=\"text_10\">\r\n      <!-- 0.6 -->\r\n      <defs>\r\n       <path d=\"M 33.015625 40.375 \r\nQ 26.375 40.375 22.484375 35.828125 \r\nQ 18.609375 31.296875 18.609375 23.390625 \r\nQ 18.609375 15.53125 22.484375 10.953125 \r\nQ 26.375 6.390625 33.015625 6.390625 \r\nQ 39.65625 6.390625 43.53125 10.953125 \r\nQ 47.40625 15.53125 47.40625 23.390625 \r\nQ 47.40625 31.296875 43.53125 35.828125 \r\nQ 39.65625 40.375 33.015625 40.375 \r\nz\r\nM 52.59375 71.296875 \r\nL 52.59375 62.3125 \r\nQ 48.875 64.0625 45.09375 64.984375 \r\nQ 41.3125 65.921875 37.59375 65.921875 \r\nQ 27.828125 65.921875 22.671875 59.328125 \r\nQ 17.53125 52.734375 16.796875 39.40625 \r\nQ 19.671875 43.65625 24.015625 45.921875 \r\nQ 28.375 48.1875 33.59375 48.1875 \r\nQ 44.578125 48.1875 50.953125 41.515625 \r\nQ 57.328125 34.859375 57.328125 23.390625 \r\nQ 57.328125 12.15625 50.6875 5.359375 \r\nQ 44.046875 -1.421875 33.015625 -1.421875 \r\nQ 20.359375 -1.421875 13.671875 8.265625 \r\nQ 6.984375 17.96875 6.984375 36.375 \r\nQ 6.984375 53.65625 15.1875 63.9375 \r\nQ 23.390625 74.21875 37.203125 74.21875 \r\nQ 40.921875 74.21875 44.703125 73.484375 \r\nQ 48.484375 72.75 52.59375 71.296875 \r\nz\r\n\" id=\"DejaVuSans-54\"/>\r\n      </defs>\r\n      <g transform=\"translate(7.2 171.16271)scale(0.1 -0.1)\">\r\n       <use xlink:href=\"#DejaVuSans-48\"/>\r\n       <use x=\"63.623047\" xlink:href=\"#DejaVuSans-46\"/>\r\n       <use x=\"95.410156\" xlink:href=\"#DejaVuSans-54\"/>\r\n      </g>\r\n     </g>\r\n    </g>\r\n    <g id=\"ytick_3\">\r\n     <g id=\"line2d_11\">\r\n      <g>\r\n       <use style=\"stroke:#000000;stroke-width:0.8;\" x=\"30.103125\" xlink:href=\"#ma57671ecfd\" y=\"122.686255\"/>\r\n      </g>\r\n     </g>\r\n     <g id=\"text_11\">\r\n      <!-- 0.7 -->\r\n      <g transform=\"translate(7.2 126.485473)scale(0.1 -0.1)\">\r\n       <use xlink:href=\"#DejaVuSans-48\"/>\r\n       <use x=\"63.623047\" xlink:href=\"#DejaVuSans-46\"/>\r\n       <use x=\"95.410156\" xlink:href=\"#DejaVuSans-55\"/>\r\n      </g>\r\n     </g>\r\n    </g>\r\n    <g id=\"ytick_4\">\r\n     <g id=\"line2d_12\">\r\n      <g>\r\n       <use style=\"stroke:#000000;stroke-width:0.8;\" x=\"30.103125\" xlink:href=\"#ma57671ecfd\" y=\"78.009018\"/>\r\n      </g>\r\n     </g>\r\n     <g id=\"text_12\">\r\n      <!-- 0.8 -->\r\n      <defs>\r\n       <path d=\"M 31.78125 34.625 \r\nQ 24.75 34.625 20.71875 30.859375 \r\nQ 16.703125 27.09375 16.703125 20.515625 \r\nQ 16.703125 13.921875 20.71875 10.15625 \r\nQ 24.75 6.390625 31.78125 6.390625 \r\nQ 38.8125 6.390625 42.859375 10.171875 \r\nQ 46.921875 13.96875 46.921875 20.515625 \r\nQ 46.921875 27.09375 42.890625 30.859375 \r\nQ 38.875 34.625 31.78125 34.625 \r\nz\r\nM 21.921875 38.8125 \r\nQ 15.578125 40.375 12.03125 44.71875 \r\nQ 8.5 49.078125 8.5 55.328125 \r\nQ 8.5 64.0625 14.71875 69.140625 \r\nQ 20.953125 74.21875 31.78125 74.21875 \r\nQ 42.671875 74.21875 48.875 69.140625 \r\nQ 55.078125 64.0625 55.078125 55.328125 \r\nQ 55.078125 49.078125 51.53125 44.71875 \r\nQ 48 40.375 41.703125 38.8125 \r\nQ 48.828125 37.15625 52.796875 32.3125 \r\nQ 56.78125 27.484375 56.78125 20.515625 \r\nQ 56.78125 9.90625 50.3125 4.234375 \r\nQ 43.84375 -1.421875 31.78125 -1.421875 \r\nQ 19.734375 -1.421875 13.25 4.234375 \r\nQ 6.78125 9.90625 6.78125 20.515625 \r\nQ 6.78125 27.484375 10.78125 32.3125 \r\nQ 14.796875 37.15625 21.921875 38.8125 \r\nz\r\nM 18.3125 54.390625 \r\nQ 18.3125 48.734375 21.84375 45.5625 \r\nQ 25.390625 42.390625 31.78125 42.390625 \r\nQ 38.140625 42.390625 41.71875 45.5625 \r\nQ 45.3125 48.734375 45.3125 54.390625 \r\nQ 45.3125 60.0625 41.71875 63.234375 \r\nQ 38.140625 66.40625 31.78125 66.40625 \r\nQ 25.390625 66.40625 21.84375 63.234375 \r\nQ 18.3125 60.0625 18.3125 54.390625 \r\nz\r\n\" id=\"DejaVuSans-56\"/>\r\n      </defs>\r\n      <g transform=\"translate(7.2 81.808237)scale(0.1 -0.1)\">\r\n       <use xlink:href=\"#DejaVuSans-48\"/>\r\n       <use x=\"63.623047\" xlink:href=\"#DejaVuSans-46\"/>\r\n       <use x=\"95.410156\" xlink:href=\"#DejaVuSans-56\"/>\r\n      </g>\r\n     </g>\r\n    </g>\r\n    <g id=\"ytick_5\">\r\n     <g id=\"line2d_13\">\r\n      <g>\r\n       <use style=\"stroke:#000000;stroke-width:0.8;\" x=\"30.103125\" xlink:href=\"#ma57671ecfd\" y=\"33.331782\"/>\r\n      </g>\r\n     </g>\r\n     <g id=\"text_13\">\r\n      <!-- 0.9 -->\r\n      <defs>\r\n       <path d=\"M 10.984375 1.515625 \r\nL 10.984375 10.5 \r\nQ 14.703125 8.734375 18.5 7.8125 \r\nQ 22.3125 6.890625 25.984375 6.890625 \r\nQ 35.75 6.890625 40.890625 13.453125 \r\nQ 46.046875 20.015625 46.78125 33.40625 \r\nQ 43.953125 29.203125 39.59375 26.953125 \r\nQ 35.25 24.703125 29.984375 24.703125 \r\nQ 19.046875 24.703125 12.671875 31.3125 \r\nQ 6.296875 37.9375 6.296875 49.421875 \r\nQ 6.296875 60.640625 12.9375 67.421875 \r\nQ 19.578125 74.21875 30.609375 74.21875 \r\nQ 43.265625 74.21875 49.921875 64.515625 \r\nQ 56.59375 54.828125 56.59375 36.375 \r\nQ 56.59375 19.140625 48.40625 8.859375 \r\nQ 40.234375 -1.421875 26.421875 -1.421875 \r\nQ 22.703125 -1.421875 18.890625 -0.6875 \r\nQ 15.09375 0.046875 10.984375 1.515625 \r\nz\r\nM 30.609375 32.421875 \r\nQ 37.25 32.421875 41.125 36.953125 \r\nQ 45.015625 41.5 45.015625 49.421875 \r\nQ 45.015625 57.28125 41.125 61.84375 \r\nQ 37.25 66.40625 30.609375 66.40625 \r\nQ 23.96875 66.40625 20.09375 61.84375 \r\nQ 16.21875 57.28125 16.21875 49.421875 \r\nQ 16.21875 41.5 20.09375 36.953125 \r\nQ 23.96875 32.421875 30.609375 32.421875 \r\nz\r\n\" id=\"DejaVuSans-57\"/>\r\n      </defs>\r\n      <g transform=\"translate(7.2 37.131001)scale(0.1 -0.1)\">\r\n       <use xlink:href=\"#DejaVuSans-48\"/>\r\n       <use x=\"63.623047\" xlink:href=\"#DejaVuSans-46\"/>\r\n       <use x=\"95.410156\" xlink:href=\"#DejaVuSans-57\"/>\r\n      </g>\r\n     </g>\r\n    </g>\r\n   </g>\r\n   <g id=\"line2d_14\">\r\n    <path clip-path=\"url(#p28b3c7de93)\" d=\"M 42.784943 52.945455 \r\nL 56.875852 92.509091 \r\nL 70.966761 102.4 \r\nL 85.05767 141.963636 \r\nL 99.14858 206.254545 \r\nL 113.239489 151.854545 \r\nL 127.330398 191.418182 \r\nL 141.421307 92.509091 \r\nL 155.512216 18.327273 \r\nL 169.603125 132.072727 \r\nL 183.694034 240.872727 \r\nL 197.784943 156.8 \r\nL 211.875852 122.181818 \r\nL 225.966761 151.854545 \r\nL 240.05767 240.872727 \r\nL 254.14858 102.4 \r\nL 268.239489 171.636364 \r\nL 282.330398 240.872727 \r\nL 296.421307 102.4 \r\n\" style=\"fill:none;stroke:#1f77b4;stroke-linecap:square;stroke-width:1.5;\"/>\r\n   </g>\r\n   <g id=\"patch_3\">\r\n    <path d=\"M 30.103125 252 \r\nL 30.103125 7.2 \r\n\" style=\"fill:none;stroke:#000000;stroke-linecap:square;stroke-linejoin:miter;stroke-width:0.8;\"/>\r\n   </g>\r\n   <g id=\"patch_4\">\r\n    <path d=\"M 309.103125 252 \r\nL 309.103125 7.2 \r\n\" style=\"fill:none;stroke:#000000;stroke-linecap:square;stroke-linejoin:miter;stroke-width:0.8;\"/>\r\n   </g>\r\n   <g id=\"patch_5\">\r\n    <path d=\"M 30.103125 252 \r\nL 309.103125 252 \r\n\" style=\"fill:none;stroke:#000000;stroke-linecap:square;stroke-linejoin:miter;stroke-width:0.8;\"/>\r\n   </g>\r\n   <g id=\"patch_6\">\r\n    <path d=\"M 30.103125 7.2 \r\nL 309.103125 7.2 \r\n\" style=\"fill:none;stroke:#000000;stroke-linecap:square;stroke-linejoin:miter;stroke-width:0.8;\"/>\r\n   </g>\r\n   <g id=\"legend_1\">\r\n    <g id=\"patch_7\">\r\n     <path d=\"M 263.740625 29.878125 \r\nL 302.103125 29.878125 \r\nQ 304.103125 29.878125 304.103125 27.878125 \r\nL 304.103125 14.2 \r\nQ 304.103125 12.2 302.103125 12.2 \r\nL 263.740625 12.2 \r\nQ 261.740625 12.2 261.740625 14.2 \r\nL 261.740625 27.878125 \r\nQ 261.740625 29.878125 263.740625 29.878125 \r\nz\r\n\" style=\"fill:#ffffff;opacity:0.8;stroke:#cccccc;stroke-linejoin:miter;\"/>\r\n    </g>\r\n    <g id=\"line2d_15\">\r\n     <path d=\"M 265.740625 20.298437 \r\nL 285.740625 20.298437 \r\n\" style=\"fill:none;stroke:#1f77b4;stroke-linecap:square;stroke-width:1.5;\"/>\r\n    </g>\r\n    <g id=\"line2d_16\"/>\r\n    <g id=\"text_14\">\r\n     <!-- 0 -->\r\n     <g transform=\"translate(293.740625 23.798437)scale(0.1 -0.1)\">\r\n      <use xlink:href=\"#DejaVuSans-48\"/>\r\n     </g>\r\n    </g>\r\n   </g>\r\n  </g>\r\n </g>\r\n <defs>\r\n  <clipPath id=\"p28b3c7de93\">\r\n   <rect height=\"244.8\" width=\"279\" x=\"30.103125\" y=\"7.2\"/>\r\n  </clipPath>\r\n </defs>\r\n</svg>\r\n",
      "image/png": "[encoded data removed]"
     },
     "metadata": {
      "needs_background": "light"
     }
    }
   ],
   "source": [
    "y_scaler = MinMaxScaler()\n",
    "y_train_scaled = y_scaler.fit_transform(y_train)\n",
    "y_test_scaled = y_scaler.fit_transform(y_test)\n",
    "\n",
    "plt.figure(figsize=(5,5))\n",
    "pd.DataFrame(y_test_scaled).plot(subplots=True, figsize=(5,5))\n",
    "plt.show()"
   ]
  },
  {
   "cell_type": "code",
   "execution_count": 44,
   "metadata": {},
   "outputs": [
    {
     "output_type": "stream",
     "name": "stdout",
     "text": [
      "(169, 4)\n(169, 1)\n(19, 4)\n(19, 1)\n"
     ]
    }
   ],
   "source": [
    "print(x_train_scaled.shape)\n",
    "print(y_train_scaled.shape)\n",
    "print(x_test_scaled.shape)\n",
    "print(y_test_scaled.shape)"
   ]
  },
  {
   "cell_type": "markdown",
   "metadata": {},
   "source": [
    "Instead of training the Recurrent Neural Network on the complete sequences of almost 300k observations, we will use the following function to create a batch of shorter sub-sequences picked at random from the training-data."
   ]
  },
  {
   "cell_type": "markdown",
   "metadata": {},
   "source": [
    "## Data Generator\n",
    "\n",
    "The data-set has now been prepared as 2-dimensional numpy arrays. The training-data has almost 2k+ observations, consisting of 11 input-signals and 11 output-signals.\n",
    "\n",
    "These are the array-shapes of the input and output data:"
   ]
  },
  {
   "cell_type": "code",
   "execution_count": 110,
   "metadata": {},
   "outputs": [],
   "source": [
    "neur = 512"
   ]
  },
  {
   "cell_type": "markdown",
   "metadata": {},
   "source": [
    "We then compile the Keras model so it is ready for training."
   ]
  },
  {
   "cell_type": "code",
   "execution_count": 111,
   "metadata": {},
   "outputs": [],
   "source": [
    "# define model\n",
    "# del model\n",
    "#filter is also called a kernel specify\n",
    "model = Sequential()\n",
    "model.add(Dense(neur, input_shape=(num_x_signals,), activation ='relu'))\n",
    "# model.add(Dropout(0.5))\n",
    "model.add(Dense(neur, activation ='relu'))\n",
    "# model.add(Dropout(0.5))\n",
    "model.add(Dense(neur, activation ='relu'))\n",
    "# model.add(Dropout(0.5))\n",
    "model.add(Dense(neur, activation ='relu'))\n",
    "# model.add(Dropout(0.5))\n",
    "model.add(Dense(neur, activation ='relu'))\n",
    "# model.add(Dropout(0.5))# model.add(Dropout(0.5))\n",
    "model.add(Dense(neur, activation ='relu'))\n",
    "# model.add(Dropout(0.5))\n",
    "model.add(Dense(neur, activation ='relu'))\n",
    "# model.add(Dropout(0.5))\n",
    "model.add(Dense(neur, activation ='relu'))\n",
    "# model.add(Dropout(0.5))\n",
    "model.add(Dense(neur, activation ='relu'))\n",
    "# model.add(Dropout(0.5))# model.add(Dropout(0.5))\n",
    "model.add(Dense(neur, activation ='relu'))\n",
    "# model.add(Dropout(0.5))\n",
    "model.add(Dense(neur, activation ='relu'))\n",
    "# model.add(Dropout(0.5))\n",
    "model.add(Dense(neur, activation ='relu'))\n",
    "# model.add(Dropout(0.5))\n",
    "model.add(Dense(neur, activation ='relu'))\n",
    "# model.add(Dropout(0.5))# model.add(Dropout(0.5))\n",
    "model.add(Dense(neur, activation ='relu'))\n",
    "# model.add(Dropout(0.5))\n",
    "model.add(Dense(neur, activation ='relu'))\n",
    "# model.add(Dropout(0.5))\n",
    "model.add(Dense(neur, activation ='relu'))\n",
    "# model.add(Dropout(0.5))\n",
    "model.add(Dense(neur, activation ='relu'))\n",
    "# model.add(Dropout(0.5))\n",
    "#last layer is called the classification layer. We mostly use probability functions like softmax or relu for activation\n",
    "model.add(Dense(num_y_signals, activation='relu'))"
   ]
  },
  {
   "cell_type": "code",
   "execution_count": 112,
   "metadata": {},
   "outputs": [
    {
     "output_type": "stream",
     "name": "stdout",
     "text": [
      "Model: \"sequential_5\"\n_________________________________________________________________\nLayer (type)                 Output Shape              Param #   \n=================================================================\ndense_100 (Dense)            (None, 512)               2560      \n_________________________________________________________________\ndense_101 (Dense)            (None, 512)               262656    \n_________________________________________________________________\ndense_102 (Dense)            (None, 512)               262656    \n_________________________________________________________________\ndense_103 (Dense)            (None, 512)               262656    \n_________________________________________________________________\ndense_104 (Dense)            (None, 512)               262656    \n_________________________________________________________________\ndense_105 (Dense)            (None, 512)               262656    \n_________________________________________________________________\ndense_106 (Dense)            (None, 512)               262656    \n_________________________________________________________________\ndense_107 (Dense)            (None, 512)               262656    \n_________________________________________________________________\ndense_108 (Dense)            (None, 512)               262656    \n_________________________________________________________________\ndense_109 (Dense)            (None, 512)               262656    \n_________________________________________________________________\ndense_110 (Dense)            (None, 512)               262656    \n_________________________________________________________________\ndense_111 (Dense)            (None, 512)               262656    \n_________________________________________________________________\ndense_112 (Dense)            (None, 512)               262656    \n_________________________________________________________________\ndense_113 (Dense)            (None, 512)               262656    \n_________________________________________________________________\ndense_114 (Dense)            (None, 512)               262656    \n_________________________________________________________________\ndense_115 (Dense)            (None, 512)               262656    \n_________________________________________________________________\ndense_116 (Dense)            (None, 512)               262656    \n_________________________________________________________________\ndense_117 (Dense)            (None, 1)                 513       \n=================================================================\nTotal params: 4,205,569\nTrainable params: 4,205,569\nNon-trainable params: 0\n_________________________________________________________________\n"
     ]
    }
   ],
   "source": [
    "# Wrapping the black box\n",
    "model.compile(loss='mean_squared_error', \n",
    "            optimizer='Adam')\n",
    "model.summary()"
   ]
  },
  {
   "cell_type": "markdown",
   "metadata": {},
   "source": [
    "This is a very small model with only two layers. The output shape of `(None, None, 3)` means that the model will output a batch with an arbitrary number of sequences, each of which has an arbitrary number of observations, and each observation has 3 signals. This corresponds to the 3 target signals we want to predict."
   ]
  },
  {
   "cell_type": "markdown",
   "metadata": {},
   "source": [
    "### Callback Functions\n",
    "\n",
    "During training we want to save checkpoints and log the progress to TensorBoard so we create the appropriate callbacks for Keras.\n",
    "\n",
    "This is the callback for writing checkpoints during training."
   ]
  },
  {
   "cell_type": "code",
   "execution_count": 113,
   "metadata": {},
   "outputs": [],
   "source": [
    "path_checkpoint = r'E:\\Dropbox\\AI\\Data_cleaning\\Thing\\Model\\Timetable_checkpoint.keras'\n",
    "callback_checkpoint = ModelCheckpoint(filepath=path_checkpoint,\n",
    "                                      monitor='val_loss',\n",
    "                                      verbose=1,\n",
    "                                      save_weights_only=True,\n",
    "                                      save_best_only=True)"
   ]
  },
  {
   "cell_type": "markdown",
   "metadata": {},
   "source": [
    "This is the callback for stopping the optimization when performance worsens on the validation-set."
   ]
  },
  {
   "cell_type": "code",
   "execution_count": 114,
   "metadata": {},
   "outputs": [],
   "source": [
    "callback_early_stopping = EarlyStopping(monitor='val_loss',\n",
    "                                        patience=10, verbose=1)"
   ]
  },
  {
   "cell_type": "markdown",
   "metadata": {},
   "source": [
    "This is the callback for writing the TensorBoard log during training."
   ]
  },
  {
   "cell_type": "code",
   "execution_count": 115,
   "metadata": {},
   "outputs": [],
   "source": [
    "callback_tensorboard = TensorBoard(log_dir=r'E:\\OneDrive\\AI\\logs',\n",
    "                                   histogram_freq=0,\n",
    "                                   write_graph=False)"
   ]
  },
  {
   "cell_type": "markdown",
   "metadata": {},
   "source": [
    "This callback reduces the learning-rate for the optimizer if the validation-loss has not improved since the last epoch (as indicated by `patience=0`). The learning-rate will be reduced by multiplying it with the given factor. We set a start learning-rate of 1e-3 above, so multiplying it by 0.1 gives a learning-rate of 1e-4. We don't want the learning-rate to go any lower than this."
   ]
  },
  {
   "cell_type": "code",
   "execution_count": 120,
   "metadata": {},
   "outputs": [],
   "source": [
    "callback_reduce_lr = ReduceLROnPlateau(monitor='val_loss',\n",
    "                                       factor=0.99,\n",
    "                                       min_lr=1e-9,\n",
    "                                       patience=0,\n",
    "                                       verbose=1)"
   ]
  },
  {
   "cell_type": "code",
   "execution_count": 121,
   "metadata": {},
   "outputs": [],
   "source": [
    "callbacks = [callback_early_stopping,\n",
    "             callback_checkpoint,\n",
    "             callback_tensorboard,\n",
    "             callback_reduce_lr]"
   ]
  },
  {
   "cell_type": "markdown",
   "metadata": {},
   "source": [
    "## Train the Recurrent Neural Network\n",
    "\n",
    "We can now train the neural network.\n",
    "\n",
    "Note that a single \"epoch\" does not correspond to a single processing of the training-set, because of how the batch-generator randomly selects sub-sequences from the training-set. Instead we have selected `steps_per_epoch` so that one \"epoch\" is processed in a few minutes.\n",
    "\n",
    "With these settings, each \"epoch\" took aa few minutes to process on a GTX 1060."
   ]
  },
  {
   "cell_type": "code",
   "execution_count": 122,
   "metadata": {},
   "outputs": [],
   "source": [
    "filepath =r'E:\\Dropbox\\AI\\Data_cleaning\\Thing\\Model\\Timetable_Prediction_model.h5'\n",
    "def train_model(resume,fit_generator,epochs,initial_epoch,batch_size,model):\n",
    "    def fit_model():\n",
    "        if fit_generator:       \n",
    "            print('Using fit_generator')\n",
    "            history=model.fit(train_generator,\n",
    "                    initial_epoch=initial_epoch,\n",
    "                    epochs=epochs,\n",
    "                    steps_per_epoch=steps_per_epoch,\n",
    "                    validation_data=validation_generator,\n",
    "                    validation_steps=50,\n",
    "                    callbacks=callbacks)\n",
    "            model.save(filepath)\n",
    "            model.evaluate(validation_generator, steps=50)\n",
    "        else:\n",
    "            print('Using fit')\n",
    "            history=model.fit(x_train_scaled, y_train_scaled, \n",
    "                    epochs=epochs,\n",
    "                    #initial_epoch=initial_epoch,\n",
    "                    verbose=1,\n",
    "                    #batch_size=batch_size,\n",
    "                    #steps_per_epoch=steps_per_epoch,\n",
    "                    shuffle=True,\n",
    "                    #validation_data=validation_data,\n",
    "                    validation_split=0.2,\n",
    "                    callbacks=callbacks,\n",
    "                    use_multiprocessing=True,\n",
    "                    workers=8)\n",
    "            model.save(filepath)\n",
    "            #model.evaluate(validation_data[0],validation_data[1])\n",
    "        return history\n",
    "    \n",
    "    if resume:\n",
    "        try:\n",
    "            #model = load_model(filepath)\n",
    "            model.load_weights(path_checkpoint)\n",
    "            print(model.summary())\n",
    "            print(\"Model loading....\")\n",
    "            model.evaluate(validation_generator, steps=50)\n",
    "            \n",
    "        except Exception as error:\n",
    "            print(\"Error trying to load checkpoint.\")\n",
    "            print(error)\n",
    "\n",
    "            \n",
    "    def plot_train_history(history, title):\n",
    "        loss = history.history['loss']\n",
    "        val_loss = history.history['val_loss']\n",
    "        epochs = range(len(loss))\n",
    "        plt.figure(figsize=(15,5))\n",
    "        plt.plot(epochs, loss, 'b', label='Training loss')\n",
    "        plt.plot(epochs, val_loss, 'r', label='Validation loss')\n",
    "        plt.title(title)\n",
    "        plt.legend()\n",
    "        plt.show()\n",
    "        \n",
    "    # Training the Model\n",
    "    history = fit_model()\n",
    "    plot_train_history(history, 'Model Training History ')\n",
    "    return"
   ]
  },
  {
   "cell_type": "code",
   "execution_count": 123,
   "metadata": {},
   "outputs": [
    {
     "output_type": "stream",
     "name": "stdout",
     "text": [
      "Using fit\n",
      "Epoch 1/1000\n",
      "2/5 [===========>..................] - ETA: 0s - loss: 0.4504WARNING:tensorflow:Method (on_train_batch_end) is slow compared to the batch update (0.309041). Check your callbacks.\n",
      "\n",
      "Epoch 00001: val_loss did not improve from 0.31703\n",
      "5/5 [==============================] - 1s 174ms/step - loss: 0.4628 - val_loss: 0.4830 - lr: 1.0000e-06\n",
      "Epoch 2/1000\n",
      "1/5 [=====>........................] - ETA: 0s - loss: 0.4404\n",
      "Epoch 00002: val_loss did not improve from 0.31703\n",
      "5/5 [==============================] - 0s 63ms/step - loss: 0.4533 - val_loss: 0.4827 - lr: 1.0000e-06\n",
      "Epoch 3/1000\n",
      "1/5 [=====>........................] - ETA: 0s - loss: 0.4426\n",
      "Epoch 00003: val_loss did not improve from 0.31703\n",
      "5/5 [==============================] - 0s 23ms/step - loss: 0.4587 - val_loss: 0.4824 - lr: 1.0000e-06\n",
      "Epoch 4/1000\n",
      "1/5 [=====>........................] - ETA: 0s - loss: 0.4634\n",
      "Epoch 00004: val_loss did not improve from 0.31703\n",
      "5/5 [==============================] - 0s 25ms/step - loss: 0.4603 - val_loss: 0.4820 - lr: 1.0000e-06\n",
      "Epoch 5/1000\n",
      "1/5 [=====>........................] - ETA: 0s - loss: 0.4979\n",
      "Epoch 00005: val_loss did not improve from 0.31703\n",
      "5/5 [==============================] - 0s 29ms/step - loss: 0.4454 - val_loss: 0.4817 - lr: 1.0000e-06\n",
      "Epoch 6/1000\n",
      "1/5 [=====>........................] - ETA: 0s - loss: 0.4404\n",
      "Epoch 00006: val_loss did not improve from 0.31703\n",
      "5/5 [==============================] - 0s 43ms/step - loss: 0.4494 - val_loss: 0.4814 - lr: 1.0000e-06\n",
      "Epoch 7/1000\n",
      "1/5 [=====>........................] - ETA: 0s - loss: 0.4645\n",
      "Epoch 00007: val_loss did not improve from 0.31703\n",
      "5/5 [==============================] - 0s 37ms/step - loss: 0.4493 - val_loss: 0.4810 - lr: 1.0000e-06\n",
      "Epoch 8/1000\n",
      "1/5 [=====>........................] - ETA: 0s - loss: 0.4492\n",
      "Epoch 00008: val_loss did not improve from 0.31703\n",
      "5/5 [==============================] - 0s 37ms/step - loss: 0.4522 - val_loss: 0.4807 - lr: 1.0000e-06\n",
      "Epoch 9/1000\n",
      "1/5 [=====>........................] - ETA: 0s - loss: 0.4315\n",
      "Epoch 00009: val_loss did not improve from 0.31703\n",
      "5/5 [==============================] - 0s 27ms/step - loss: 0.4515 - val_loss: 0.4803 - lr: 1.0000e-06\n",
      "Epoch 10/1000\n",
      "1/5 [=====>........................] - ETA: 0s - loss: 0.4608\n",
      "Epoch 00010: val_loss did not improve from 0.31703\n",
      "5/5 [==============================] - 0s 23ms/step - loss: 0.4557 - val_loss: 0.4800 - lr: 1.0000e-06\n",
      "Epoch 11/1000\n",
      "1/5 [=====>........................] - ETA: 0s - loss: 0.4738\n",
      "Epoch 00011: val_loss did not improve from 0.31703\n",
      "5/5 [==============================] - 0s 25ms/step - loss: 0.4636 - val_loss: 0.4796 - lr: 1.0000e-06\n",
      "Epoch 12/1000\n",
      "1/5 [=====>........................] - ETA: 0s - loss: 0.5103\n",
      "Epoch 00012: val_loss did not improve from 0.31703\n",
      "5/5 [==============================] - 0s 47ms/step - loss: 0.4303 - val_loss: 0.4793 - lr: 1.0000e-06\n",
      "Epoch 13/1000\n",
      "1/5 [=====>........................] - ETA: 0s - loss: 0.4241\n",
      "Epoch 00013: val_loss did not improve from 0.31703\n",
      "5/5 [==============================] - 0s 39ms/step - loss: 0.4393 - val_loss: 0.4789 - lr: 1.0000e-06\n",
      "Epoch 14/1000\n",
      "1/5 [=====>........................] - ETA: 0s - loss: 0.4024\n",
      "Epoch 00014: val_loss did not improve from 0.31703\n",
      "5/5 [==============================] - 0s 35ms/step - loss: 0.4493 - val_loss: 0.4786 - lr: 1.0000e-06\n",
      "Epoch 15/1000\n",
      "1/5 [=====>........................] - ETA: 0s - loss: 0.4059\n",
      "Epoch 00015: val_loss did not improve from 0.31703\n",
      "5/5 [==============================] - 0s 20ms/step - loss: 0.4672 - val_loss: 0.4782 - lr: 1.0000e-06\n",
      "Epoch 16/1000\n",
      "1/5 [=====>........................] - ETA: 0s - loss: 0.5052\n",
      "Epoch 00016: val_loss did not improve from 0.31703\n",
      "5/5 [==============================] - 0s 19ms/step - loss: 0.4334 - val_loss: 0.4779 - lr: 1.0000e-06\n",
      "Epoch 17/1000\n",
      "1/5 [=====>........................] - ETA: 0s - loss: 0.4725\n",
      "Epoch 00017: val_loss did not improve from 0.31703\n",
      "5/5 [==============================] - 0s 20ms/step - loss: 0.4456 - val_loss: 0.4775 - lr: 1.0000e-06\n",
      "Epoch 18/1000\n",
      "1/5 [=====>........................] - ETA: 0s - loss: 0.4164\n",
      "Epoch 00018: val_loss did not improve from 0.31703\n",
      "5/5 [==============================] - 0s 20ms/step - loss: 0.4429 - val_loss: 0.4772 - lr: 1.0000e-06\n",
      "Epoch 19/1000\n",
      "1/5 [=====>........................] - ETA: 0s - loss: 0.4626\n",
      "Epoch 00019: val_loss did not improve from 0.31703\n",
      "5/5 [==============================] - 0s 50ms/step - loss: 0.4422 - val_loss: 0.4768 - lr: 1.0000e-06\n",
      "Epoch 20/1000\n",
      "1/5 [=====>........................] - ETA: 0s - loss: 0.4563\n",
      "Epoch 00020: val_loss did not improve from 0.31703\n",
      "5/5 [==============================] - 0s 26ms/step - loss: 0.4441 - val_loss: 0.4764 - lr: 1.0000e-06\n",
      "Epoch 21/1000\n",
      "1/5 [=====>........................] - ETA: 0s - loss: 0.4535\n",
      "Epoch 00021: val_loss did not improve from 0.31703\n",
      "5/5 [==============================] - 0s 30ms/step - loss: 0.4603 - val_loss: 0.4761 - lr: 1.0000e-06\n",
      "Epoch 22/1000\n",
      "1/5 [=====>........................] - ETA: 0s - loss: 0.4636\n",
      "Epoch 00022: val_loss did not improve from 0.31703\n",
      "5/5 [==============================] - 0s 22ms/step - loss: 0.4482 - val_loss: 0.4757 - lr: 1.0000e-06\n",
      "Epoch 23/1000\n",
      "1/5 [=====>........................] - ETA: 0s - loss: 0.4369\n",
      "Epoch 00023: val_loss did not improve from 0.31703\n",
      "5/5 [==============================] - 0s 30ms/step - loss: 0.4562 - val_loss: 0.4753 - lr: 1.0000e-06\n",
      "Epoch 24/1000\n",
      "1/5 [=====>........................] - ETA: 0s - loss: 0.4498\n",
      "Epoch 00024: val_loss did not improve from 0.31703\n",
      "5/5 [==============================] - 0s 20ms/step - loss: 0.4433 - val_loss: 0.4750 - lr: 1.0000e-06\n",
      "Epoch 25/1000\n",
      "1/5 [=====>........................] - ETA: 0s - loss: 0.4642\n",
      "Epoch 00025: val_loss did not improve from 0.31703\n",
      "5/5 [==============================] - 0s 46ms/step - loss: 0.4539 - val_loss: 0.4746 - lr: 1.0000e-06\n",
      "Epoch 26/1000\n",
      "1/5 [=====>........................] - ETA: 0s - loss: 0.4179\n",
      "Epoch 00026: val_loss did not improve from 0.31703\n",
      "5/5 [==============================] - 0s 36ms/step - loss: 0.4411 - val_loss: 0.4742 - lr: 1.0000e-06\n",
      "Epoch 27/1000\n",
      "1/5 [=====>........................] - ETA: 0s - loss: 0.4476\n",
      "Epoch 00027: val_loss did not improve from 0.31703\n",
      "5/5 [==============================] - 0s 52ms/step - loss: 0.4417 - val_loss: 0.4738 - lr: 1.0000e-06\n",
      "Epoch 28/1000\n",
      "1/5 [=====>........................] - ETA: 0s - loss: 0.4426\n",
      "Epoch 00028: val_loss did not improve from 0.31703\n",
      "5/5 [==============================] - 0s 18ms/step - loss: 0.4478 - val_loss: 0.4735 - lr: 1.0000e-06\n",
      "Epoch 29/1000\n",
      "1/5 [=====>........................] - ETA: 0s - loss: 0.4300\n",
      "Epoch 00029: val_loss did not improve from 0.31703\n",
      "5/5 [==============================] - 0s 19ms/step - loss: 0.4305 - val_loss: 0.4731 - lr: 1.0000e-06\n",
      "Epoch 30/1000\n",
      "1/5 [=====>........................] - ETA: 0s - loss: 0.4194\n",
      "Epoch 00030: val_loss did not improve from 0.31703\n",
      "5/5 [==============================] - 0s 18ms/step - loss: 0.4418 - val_loss: 0.4727 - lr: 1.0000e-06\n",
      "Epoch 31/1000\n",
      "1/5 [=====>........................] - ETA: 0s - loss: 0.4562\n",
      "Epoch 00031: val_loss did not improve from 0.31703\n",
      "5/5 [==============================] - 0s 38ms/step - loss: 0.4346 - val_loss: 0.4723 - lr: 1.0000e-06\n",
      "Epoch 32/1000\n",
      "1/5 [=====>........................] - ETA: 0s - loss: 0.4113\n",
      "Epoch 00032: val_loss did not improve from 0.31703\n",
      "5/5 [==============================] - 0s 40ms/step - loss: 0.4418 - val_loss: 0.4719 - lr: 1.0000e-06\n",
      "Epoch 33/1000\n",
      "1/5 [=====>........................] - ETA: 0s - loss: 0.4923\n",
      "Epoch 00033: val_loss did not improve from 0.31703\n",
      "5/5 [==============================] - 0s 26ms/step - loss: 0.4407 - val_loss: 0.4715 - lr: 1.0000e-06\n",
      "Epoch 34/1000\n",
      "1/5 [=====>........................] - ETA: 0s - loss: 0.4470\n",
      "Epoch 00034: val_loss did not improve from 0.31703\n",
      "5/5 [==============================] - 0s 38ms/step - loss: 0.4511 - val_loss: 0.4711 - lr: 1.0000e-06\n",
      "Epoch 35/1000\n",
      "1/5 [=====>........................] - ETA: 0s - loss: 0.4215\n",
      "Epoch 00035: val_loss did not improve from 0.31703\n",
      "5/5 [==============================] - 0s 18ms/step - loss: 0.4468 - val_loss: 0.4707 - lr: 1.0000e-06\n",
      "Epoch 36/1000\n",
      "1/5 [=====>........................] - ETA: 0s - loss: 0.4315\n",
      "Epoch 00036: val_loss did not improve from 0.31703\n",
      "5/5 [==============================] - 0s 26ms/step - loss: 0.4292 - val_loss: 0.4704 - lr: 1.0000e-06\n",
      "Epoch 37/1000\n",
      "1/5 [=====>........................] - ETA: 0s - loss: 0.4506\n",
      "Epoch 00037: val_loss did not improve from 0.31703\n",
      "5/5 [==============================] - 0s 22ms/step - loss: 0.4280 - val_loss: 0.4700 - lr: 1.0000e-06\n",
      "Epoch 38/1000\n",
      "1/5 [=====>........................] - ETA: 0s - loss: 0.3694\n",
      "Epoch 00038: val_loss did not improve from 0.31703\n",
      "5/5 [==============================] - 0s 50ms/step - loss: 0.4427 - val_loss: 0.4696 - lr: 1.0000e-06\n",
      "Epoch 39/1000\n",
      "1/5 [=====>........................] - ETA: 0s - loss: 0.4223\n",
      "Epoch 00039: val_loss did not improve from 0.31703\n",
      "5/5 [==============================] - 0s 35ms/step - loss: 0.4498 - val_loss: 0.4692 - lr: 1.0000e-06\n",
      "Epoch 40/1000\n",
      "1/5 [=====>........................] - ETA: 0s - loss: 0.4372\n",
      "Epoch 00040: val_loss did not improve from 0.31703\n",
      "5/5 [==============================] - 0s 23ms/step - loss: 0.4340 - val_loss: 0.4688 - lr: 1.0000e-06\n",
      "Epoch 41/1000\n",
      "1/5 [=====>........................] - ETA: 0s - loss: 0.4697\n",
      "Epoch 00041: val_loss did not improve from 0.31703\n",
      "5/5 [==============================] - 0s 18ms/step - loss: 0.4176 - val_loss: 0.4684 - lr: 1.0000e-06\n",
      "Epoch 42/1000\n",
      "1/5 [=====>........................] - ETA: 0s - loss: 0.4288\n",
      "Epoch 00042: val_loss did not improve from 0.31703\n",
      "5/5 [==============================] - 0s 17ms/step - loss: 0.4406 - val_loss: 0.4680 - lr: 1.0000e-06\n",
      "Epoch 43/1000\n",
      "1/5 [=====>........................] - ETA: 0s - loss: 0.4298\n",
      "Epoch 00043: val_loss did not improve from 0.31703\n",
      "5/5 [==============================] - 0s 29ms/step - loss: 0.4350 - val_loss: 0.4676 - lr: 1.0000e-06\n",
      "Epoch 44/1000\n",
      "1/5 [=====>........................] - ETA: 0s - loss: 0.4190\n",
      "Epoch 00044: val_loss did not improve from 0.31703\n",
      "5/5 [==============================] - 0s 18ms/step - loss: 0.4411 - val_loss: 0.4671 - lr: 1.0000e-06\n",
      "Epoch 45/1000\n",
      "1/5 [=====>........................] - ETA: 0s - loss: 0.4678\n",
      "Epoch 00045: val_loss did not improve from 0.31703\n",
      "5/5 [==============================] - 0s 47ms/step - loss: 0.4305 - val_loss: 0.4667 - lr: 1.0000e-06\n",
      "Epoch 46/1000\n",
      "1/5 [=====>........................] - ETA: 0s - loss: 0.4001\n",
      "Epoch 00046: val_loss did not improve from 0.31703\n",
      "5/5 [==============================] - 0s 28ms/step - loss: 0.4440 - val_loss: 0.4663 - lr: 1.0000e-06\n",
      "Epoch 47/1000\n",
      "1/5 [=====>........................] - ETA: 0s - loss: 0.4554\n",
      "Epoch 00047: val_loss did not improve from 0.31703\n",
      "5/5 [==============================] - 0s 35ms/step - loss: 0.4368 - val_loss: 0.4659 - lr: 1.0000e-06\n",
      "Epoch 48/1000\n",
      "1/5 [=====>........................] - ETA: 0s - loss: 0.3895\n",
      "Epoch 00048: val_loss did not improve from 0.31703\n",
      "5/5 [==============================] - 0s 35ms/step - loss: 0.4342 - val_loss: 0.4655 - lr: 1.0000e-06\n",
      "Epoch 49/1000\n",
      "1/5 [=====>........................] - ETA: 0s - loss: 0.4522\n",
      "Epoch 00049: val_loss did not improve from 0.31703\n",
      "5/5 [==============================] - 0s 18ms/step - loss: 0.4339 - val_loss: 0.4651 - lr: 1.0000e-06\n",
      "Epoch 50/1000\n",
      "1/5 [=====>........................] - ETA: 0s - loss: 0.4354\n",
      "Epoch 00050: val_loss did not improve from 0.31703\n",
      "5/5 [==============================] - 0s 20ms/step - loss: 0.4513 - val_loss: 0.4647 - lr: 1.0000e-06\n",
      "Epoch 51/1000\n",
      "1/5 [=====>........................] - ETA: 0s - loss: 0.4538\n",
      "Epoch 00051: val_loss did not improve from 0.31703\n",
      "5/5 [==============================] - 0s 58ms/step - loss: 0.4346 - val_loss: 0.4642 - lr: 1.0000e-06\n",
      "Epoch 52/1000\n",
      "1/5 [=====>........................] - ETA: 0s - loss: 0.4343\n",
      "Epoch 00052: val_loss did not improve from 0.31703\n",
      "5/5 [==============================] - 0s 23ms/step - loss: 0.4505 - val_loss: 0.4638 - lr: 1.0000e-06\n",
      "Epoch 53/1000\n",
      "1/5 [=====>........................] - ETA: 0s - loss: 0.4254\n",
      "Epoch 00053: val_loss did not improve from 0.31703\n",
      "5/5 [==============================] - 0s 40ms/step - loss: 0.4402 - val_loss: 0.4634 - lr: 1.0000e-06\n",
      "Epoch 54/1000\n",
      "1/5 [=====>........................] - ETA: 0s - loss: 0.4412\n",
      "Epoch 00054: val_loss did not improve from 0.31703\n",
      "5/5 [==============================] - 0s 22ms/step - loss: 0.4496 - val_loss: 0.4629 - lr: 1.0000e-06\n",
      "Epoch 55/1000\n",
      "1/5 [=====>........................] - ETA: 0s - loss: 0.4380\n",
      "Epoch 00055: val_loss did not improve from 0.31703\n",
      "5/5 [==============================] - 0s 28ms/step - loss: 0.4295 - val_loss: 0.4625 - lr: 1.0000e-06\n",
      "Epoch 56/1000\n",
      "1/5 [=====>........................] - ETA: 0s - loss: 0.3679\n",
      "Epoch 00056: val_loss did not improve from 0.31703\n",
      "5/5 [==============================] - 0s 18ms/step - loss: 0.4431 - val_loss: 0.4620 - lr: 1.0000e-06\n",
      "Epoch 57/1000\n",
      "1/5 [=====>........................] - ETA: 0s - loss: 0.4397\n",
      "Epoch 00057: val_loss did not improve from 0.31703\n",
      "5/5 [==============================] - 0s 43ms/step - loss: 0.4238 - val_loss: 0.4616 - lr: 1.0000e-06\n",
      "Epoch 58/1000\n",
      "1/5 [=====>........................] - ETA: 0s - loss: 0.4436\n",
      "Epoch 00058: val_loss did not improve from 0.31703\n",
      "5/5 [==============================] - 0s 25ms/step - loss: 0.4177 - val_loss: 0.4612 - lr: 1.0000e-06\n",
      "Epoch 59/1000\n",
      "1/5 [=====>........................] - ETA: 0s - loss: 0.4467\n",
      "Epoch 00059: val_loss did not improve from 0.31703\n",
      "5/5 [==============================] - 0s 47ms/step - loss: 0.4313 - val_loss: 0.4607 - lr: 1.0000e-06\n",
      "Epoch 60/1000\n",
      "1/5 [=====>........................] - ETA: 0s - loss: 0.4650\n",
      "Epoch 00060: val_loss did not improve from 0.31703\n",
      "5/5 [==============================] - 0s 25ms/step - loss: 0.4320 - val_loss: 0.4603 - lr: 1.0000e-06\n",
      "Epoch 61/1000\n",
      "1/5 [=====>........................] - ETA: 0s - loss: 0.4172\n",
      "Epoch 00061: val_loss did not improve from 0.31703\n",
      "5/5 [==============================] - 0s 30ms/step - loss: 0.4286 - val_loss: 0.4598 - lr: 1.0000e-06\n",
      "Epoch 62/1000\n",
      "1/5 [=====>........................] - ETA: 0s - loss: 0.4706\n",
      "Epoch 00062: val_loss did not improve from 0.31703\n",
      "5/5 [==============================] - 0s 29ms/step - loss: 0.4248 - val_loss: 0.4594 - lr: 1.0000e-06\n",
      "Epoch 63/1000\n",
      "1/5 [=====>........................] - ETA: 0s - loss: 0.4703\n",
      "Epoch 00063: val_loss did not improve from 0.31703\n",
      "5/5 [==============================] - 0s 27ms/step - loss: 0.4335 - val_loss: 0.4589 - lr: 1.0000e-06\n",
      "Epoch 64/1000\n",
      "1/5 [=====>........................] - ETA: 0s - loss: 0.4333\n",
      "Epoch 00064: val_loss did not improve from 0.31703\n",
      "5/5 [==============================] - 0s 30ms/step - loss: 0.4326 - val_loss: 0.4585 - lr: 1.0000e-06\n",
      "Epoch 65/1000\n",
      "1/5 [=====>........................] - ETA: 0s - loss: 0.4328\n",
      "Epoch 00065: val_loss did not improve from 0.31703\n",
      "5/5 [==============================] - 0s 23ms/step - loss: 0.4436 - val_loss: 0.4580 - lr: 1.0000e-06\n",
      "Epoch 66/1000\n",
      "1/5 [=====>........................] - ETA: 0s - loss: 0.3986\n",
      "Epoch 00066: val_loss did not improve from 0.31703\n",
      "5/5 [==============================] - 0s 25ms/step - loss: 0.4094 - val_loss: 0.4576 - lr: 1.0000e-06\n",
      "Epoch 67/1000\n",
      "1/5 [=====>........................] - ETA: 0s - loss: 0.4393\n",
      "Epoch 00067: val_loss did not improve from 0.31703\n",
      "5/5 [==============================] - 0s 20ms/step - loss: 0.4375 - val_loss: 0.4571 - lr: 1.0000e-06\n",
      "Epoch 68/1000\n",
      "1/5 [=====>........................] - ETA: 0s - loss: 0.4616\n",
      "Epoch 00068: val_loss did not improve from 0.31703\n",
      "5/5 [==============================] - 0s 18ms/step - loss: 0.4089 - val_loss: 0.4566 - lr: 1.0000e-06\n",
      "Epoch 69/1000\n",
      "1/5 [=====>........................] - ETA: 0s - loss: 0.4117\n",
      "Epoch 00069: val_loss did not improve from 0.31703\n",
      "5/5 [==============================] - 0s 18ms/step - loss: 0.4481 - val_loss: 0.4562 - lr: 1.0000e-06\n",
      "Epoch 70/1000\n",
      "1/5 [=====>........................] - ETA: 0s - loss: 0.4269\n",
      "Epoch 00070: val_loss did not improve from 0.31703\n",
      "5/5 [==============================] - 0s 20ms/step - loss: 0.4221 - val_loss: 0.4557 - lr: 1.0000e-06\n",
      "Epoch 71/1000\n",
      "1/5 [=====>........................] - ETA: 0s - loss: 0.3995\n",
      "Epoch 00071: val_loss did not improve from 0.31703\n",
      "5/5 [==============================] - 0s 62ms/step - loss: 0.4319 - val_loss: 0.4552 - lr: 1.0000e-06\n",
      "Epoch 72/1000\n",
      "1/5 [=====>........................] - ETA: 0s - loss: 0.4059\n",
      "Epoch 00072: val_loss did not improve from 0.31703\n",
      "5/5 [==============================] - 0s 21ms/step - loss: 0.4180 - val_loss: 0.4548 - lr: 1.0000e-06\n",
      "Epoch 73/1000\n",
      "1/5 [=====>........................] - ETA: 0s - loss: 0.4301\n",
      "Epoch 00073: val_loss did not improve from 0.31703\n",
      "5/5 [==============================] - 0s 30ms/step - loss: 0.4192 - val_loss: 0.4543 - lr: 1.0000e-06\n",
      "Epoch 74/1000\n",
      "1/5 [=====>........................] - ETA: 0s - loss: 0.4236\n",
      "Epoch 00074: val_loss did not improve from 0.31703\n",
      "5/5 [==============================] - 0s 22ms/step - loss: 0.4240 - val_loss: 0.4538 - lr: 1.0000e-06\n",
      "Epoch 75/1000\n",
      "1/5 [=====>........................] - ETA: 0s - loss: 0.4198\n",
      "Epoch 00075: val_loss did not improve from 0.31703\n",
      "5/5 [==============================] - 0s 18ms/step - loss: 0.4256 - val_loss: 0.4533 - lr: 1.0000e-06\n",
      "Epoch 76/1000\n",
      "1/5 [=====>........................] - ETA: 0s - loss: 0.3935\n",
      "Epoch 00076: val_loss did not improve from 0.31703\n",
      "5/5 [==============================] - 0s 17ms/step - loss: 0.4286 - val_loss: 0.4528 - lr: 1.0000e-06\n",
      "Epoch 77/1000\n",
      "1/5 [=====>........................] - ETA: 0s - loss: 0.4126\n",
      "Epoch 00077: val_loss did not improve from 0.31703\n",
      "5/5 [==============================] - 0s 29ms/step - loss: 0.4314 - val_loss: 0.4523 - lr: 1.0000e-06\n",
      "Epoch 78/1000\n",
      "1/5 [=====>........................] - ETA: 0s - loss: 0.3980\n",
      "Epoch 00078: val_loss did not improve from 0.31703\n",
      "5/5 [==============================] - 0s 34ms/step - loss: 0.4225 - val_loss: 0.4518 - lr: 1.0000e-06\n",
      "Epoch 79/1000\n",
      "1/5 [=====>........................] - ETA: 0s - loss: 0.4247\n",
      "Epoch 00079: val_loss did not improve from 0.31703\n",
      "5/5 [==============================] - 0s 53ms/step - loss: 0.4226 - val_loss: 0.4513 - lr: 1.0000e-06\n",
      "Epoch 80/1000\n",
      "1/5 [=====>........................] - ETA: 0s - loss: 0.4227\n",
      "Epoch 00080: val_loss did not improve from 0.31703\n",
      "5/5 [==============================] - 0s 29ms/step - loss: 0.4284 - val_loss: 0.4508 - lr: 1.0000e-06\n",
      "Epoch 81/1000\n",
      "1/5 [=====>........................] - ETA: 0s - loss: 0.4458\n",
      "Epoch 00081: val_loss did not improve from 0.31703\n",
      "5/5 [==============================] - 0s 20ms/step - loss: 0.4338 - val_loss: 0.4503 - lr: 1.0000e-06\n",
      "Epoch 82/1000\n",
      "1/5 [=====>........................] - ETA: 0s - loss: 0.4333\n",
      "Epoch 00082: val_loss did not improve from 0.31703\n",
      "5/5 [==============================] - 0s 19ms/step - loss: 0.4211 - val_loss: 0.4498 - lr: 1.0000e-06\n",
      "Epoch 83/1000\n",
      "1/5 [=====>........................] - ETA: 0s - loss: 0.4474\n",
      "Epoch 00083: val_loss did not improve from 0.31703\n",
      "5/5 [==============================] - 0s 29ms/step - loss: 0.4123 - val_loss: 0.4493 - lr: 1.0000e-06\n",
      "Epoch 84/1000\n",
      "1/5 [=====>........................] - ETA: 0s - loss: 0.4416\n",
      "Epoch 00084: val_loss did not improve from 0.31703\n",
      "5/5 [==============================] - 0s 50ms/step - loss: 0.4112 - val_loss: 0.4488 - lr: 1.0000e-06\n",
      "Epoch 85/1000\n",
      "1/5 [=====>........................] - ETA: 0s - loss: 0.4474\n",
      "Epoch 00085: val_loss did not improve from 0.31703\n",
      "5/5 [==============================] - 0s 41ms/step - loss: 0.4149 - val_loss: 0.4483 - lr: 1.0000e-06\n",
      "Epoch 86/1000\n",
      "1/5 [=====>........................] - ETA: 0s - loss: 0.4377\n",
      "Epoch 00086: val_loss did not improve from 0.31703\n",
      "5/5 [==============================] - 0s 29ms/step - loss: 0.4206 - val_loss: 0.4478 - lr: 1.0000e-06\n",
      "Epoch 87/1000\n",
      "1/5 [=====>........................] - ETA: 0s - loss: 0.4202\n",
      "Epoch 00087: val_loss did not improve from 0.31703\n",
      "5/5 [==============================] - 0s 23ms/step - loss: 0.4076 - val_loss: 0.4473 - lr: 1.0000e-06\n",
      "Epoch 88/1000\n",
      "1/5 [=====>........................] - ETA: 0s - loss: 0.4077\n",
      "Epoch 00088: val_loss did not improve from 0.31703\n",
      "5/5 [==============================] - 0s 20ms/step - loss: 0.4252 - val_loss: 0.4468 - lr: 1.0000e-06\n",
      "Epoch 89/1000\n",
      "1/5 [=====>........................] - ETA: 0s - loss: 0.4509\n",
      "Epoch 00089: val_loss did not improve from 0.31703\n",
      "5/5 [==============================] - 0s 18ms/step - loss: 0.4226 - val_loss: 0.4462 - lr: 1.0000e-06\n",
      "Epoch 90/1000\n",
      "1/5 [=====>........................] - ETA: 0s - loss: 0.4199\n",
      "Epoch 00090: val_loss did not improve from 0.31703\n",
      "5/5 [==============================] - 0s 20ms/step - loss: 0.4057 - val_loss: 0.4457 - lr: 1.0000e-06\n",
      "Epoch 91/1000\n",
      "1/5 [=====>........................] - ETA: 0s - loss: 0.4448\n",
      "Epoch 00091: val_loss did not improve from 0.31703\n",
      "5/5 [==============================] - 0s 33ms/step - loss: 0.4141 - val_loss: 0.4452 - lr: 1.0000e-06\n",
      "Epoch 92/1000\n",
      "1/5 [=====>........................] - ETA: 0s - loss: 0.4158\n",
      "Epoch 00092: val_loss did not improve from 0.31703\n",
      "5/5 [==============================] - 0s 25ms/step - loss: 0.4231 - val_loss: 0.4446 - lr: 1.0000e-06\n",
      "Epoch 93/1000\n",
      "1/5 [=====>........................] - ETA: 0s - loss: 0.3947\n",
      "Epoch 00093: val_loss did not improve from 0.31703\n",
      "5/5 [==============================] - 0s 23ms/step - loss: 0.4126 - val_loss: 0.4441 - lr: 1.0000e-06\n",
      "Epoch 94/1000\n",
      "1/5 [=====>........................] - ETA: 0s - loss: 0.3776\n",
      "Epoch 00094: val_loss did not improve from 0.31703\n",
      "5/5 [==============================] - 0s 45ms/step - loss: 0.4079 - val_loss: 0.4436 - lr: 1.0000e-06\n",
      "Epoch 95/1000\n",
      "1/5 [=====>........................] - ETA: 0s - loss: 0.4073\n",
      "Epoch 00095: val_loss did not improve from 0.31703\n",
      "5/5 [==============================] - 0s 19ms/step - loss: 0.4199 - val_loss: 0.4430 - lr: 1.0000e-06\n",
      "Epoch 96/1000\n",
      "1/5 [=====>........................] - ETA: 0s - loss: 0.4360\n",
      "Epoch 00096: val_loss did not improve from 0.31703\n",
      "5/5 [==============================] - 0s 18ms/step - loss: 0.4219 - val_loss: 0.4425 - lr: 1.0000e-06\n",
      "Epoch 97/1000\n",
      "1/5 [=====>........................] - ETA: 0s - loss: 0.4296\n",
      "Epoch 00097: val_loss did not improve from 0.31703\n",
      "5/5 [==============================] - 0s 18ms/step - loss: 0.4043 - val_loss: 0.4419 - lr: 1.0000e-06\n",
      "Epoch 98/1000\n",
      "1/5 [=====>........................] - ETA: 0s - loss: 0.4039\n",
      "Epoch 00098: val_loss did not improve from 0.31703\n",
      "5/5 [==============================] - 0s 37ms/step - loss: 0.4190 - val_loss: 0.4414 - lr: 1.0000e-06\n",
      "Epoch 99/1000\n",
      "1/5 [=====>........................] - ETA: 0s - loss: 0.4286\n",
      "Epoch 00099: val_loss did not improve from 0.31703\n",
      "5/5 [==============================] - 0s 23ms/step - loss: 0.4141 - val_loss: 0.4408 - lr: 1.0000e-06\n",
      "Epoch 100/1000\n",
      "1/5 [=====>........................] - ETA: 0s - loss: 0.4059\n",
      "Epoch 00100: val_loss did not improve from 0.31703\n",
      "5/5 [==============================] - 0s 50ms/step - loss: 0.4115 - val_loss: 0.4403 - lr: 1.0000e-06\n",
      "Epoch 101/1000\n",
      "1/5 [=====>........................] - ETA: 0s - loss: 0.4081\n",
      "Epoch 00101: val_loss did not improve from 0.31703\n",
      "5/5 [==============================] - 0s 72ms/step - loss: 0.4082 - val_loss: 0.4397 - lr: 1.0000e-06\n",
      "Epoch 102/1000\n",
      "1/5 [=====>........................] - ETA: 0s - loss: 0.4219\n",
      "Epoch 00102: val_loss did not improve from 0.31703\n",
      "5/5 [==============================] - 0s 23ms/step - loss: 0.4257 - val_loss: 0.4391 - lr: 1.0000e-06\n",
      "Epoch 103/1000\n",
      "1/5 [=====>........................] - ETA: 0s - loss: 0.3922\n",
      "Epoch 00103: val_loss did not improve from 0.31703\n",
      "5/5 [==============================] - 0s 24ms/step - loss: 0.4094 - val_loss: 0.4386 - lr: 1.0000e-06\n",
      "Epoch 104/1000\n",
      "1/5 [=====>........................] - ETA: 0s - loss: 0.4195\n",
      "Epoch 00104: val_loss did not improve from 0.31703\n",
      "5/5 [==============================] - 0s 45ms/step - loss: 0.4046 - val_loss: 0.4380 - lr: 1.0000e-06\n",
      "Epoch 105/1000\n",
      "1/5 [=====>........................] - ETA: 0s - loss: 0.3912\n",
      "Epoch 00105: val_loss did not improve from 0.31703\n",
      "5/5 [==============================] - 0s 51ms/step - loss: 0.4082 - val_loss: 0.4374 - lr: 1.0000e-06\n",
      "Epoch 106/1000\n",
      "1/5 [=====>........................] - ETA: 0s - loss: 0.4145\n",
      "Epoch 00106: val_loss did not improve from 0.31703\n",
      "5/5 [==============================] - 0s 32ms/step - loss: 0.4125 - val_loss: 0.4368 - lr: 1.0000e-06\n",
      "Epoch 107/1000\n",
      "1/5 [=====>........................] - ETA: 0s - loss: 0.4745\n",
      "Epoch 00107: val_loss did not improve from 0.31703\n",
      "5/5 [==============================] - 0s 20ms/step - loss: 0.4095 - val_loss: 0.4362 - lr: 1.0000e-06\n",
      "Epoch 108/1000\n",
      "1/5 [=====>........................] - ETA: 0s - loss: 0.4049\n",
      "Epoch 00108: val_loss did not improve from 0.31703\n",
      "5/5 [==============================] - 0s 20ms/step - loss: 0.4088 - val_loss: 0.4357 - lr: 1.0000e-06\n",
      "Epoch 109/1000\n",
      "1/5 [=====>........................] - ETA: 0s - loss: 0.4274\n",
      "Epoch 00109: val_loss did not improve from 0.31703\n",
      "5/5 [==============================] - 0s 38ms/step - loss: 0.4038 - val_loss: 0.4351 - lr: 1.0000e-06\n",
      "Epoch 110/1000\n",
      "1/5 [=====>........................] - ETA: 0s - loss: 0.4312\n",
      "Epoch 00110: val_loss did not improve from 0.31703\n",
      "5/5 [==============================] - 0s 22ms/step - loss: 0.3990 - val_loss: 0.4345 - lr: 1.0000e-06\n",
      "Epoch 111/1000\n",
      "1/5 [=====>........................] - ETA: 0s - loss: 0.3998\n",
      "Epoch 00111: val_loss did not improve from 0.31703\n",
      "5/5 [==============================] - 0s 55ms/step - loss: 0.4081 - val_loss: 0.4339 - lr: 1.0000e-06\n",
      "Epoch 112/1000\n",
      "1/5 [=====>........................] - ETA: 0s - loss: 0.4301\n",
      "Epoch 00112: val_loss did not improve from 0.31703\n",
      "5/5 [==============================] - 0s 22ms/step - loss: 0.4076 - val_loss: 0.4333 - lr: 1.0000e-06\n",
      "Epoch 113/1000\n",
      "1/5 [=====>........................] - ETA: 0s - loss: 0.3977\n",
      "Epoch 00113: val_loss did not improve from 0.31703\n",
      "5/5 [==============================] - 0s 19ms/step - loss: 0.4076 - val_loss: 0.4327 - lr: 1.0000e-06\n",
      "Epoch 114/1000\n",
      "1/5 [=====>........................] - ETA: 0s - loss: 0.3729\n",
      "Epoch 00114: val_loss did not improve from 0.31703\n",
      "5/5 [==============================] - 0s 25ms/step - loss: 0.4059 - val_loss: 0.4320 - lr: 1.0000e-06\n",
      "Epoch 115/1000\n",
      "1/5 [=====>........................] - ETA: 0s - loss: 0.4044\n",
      "Epoch 00115: val_loss did not improve from 0.31703\n",
      "5/5 [==============================] - 0s 76ms/step - loss: 0.3882 - val_loss: 0.4314 - lr: 1.0000e-06\n",
      "Epoch 116/1000\n",
      "1/5 [=====>........................] - ETA: 0s - loss: 0.4207\n",
      "Epoch 00116: val_loss did not improve from 0.31703\n",
      "5/5 [==============================] - 0s 43ms/step - loss: 0.4190 - val_loss: 0.4308 - lr: 1.0000e-06\n",
      "Epoch 117/1000\n",
      "1/5 [=====>........................] - ETA: 0s - loss: 0.3955\n",
      "Epoch 00117: val_loss did not improve from 0.31703\n",
      "5/5 [==============================] - 0s 48ms/step - loss: 0.4053 - val_loss: 0.4302 - lr: 1.0000e-06\n",
      "Epoch 118/1000\n",
      "1/5 [=====>........................] - ETA: 0s - loss: 0.3778\n",
      "Epoch 00118: val_loss did not improve from 0.31703\n",
      "5/5 [==============================] - 0s 18ms/step - loss: 0.3978 - val_loss: 0.4295 - lr: 1.0000e-06\n",
      "Epoch 119/1000\n",
      "1/5 [=====>........................] - ETA: 0s - loss: 0.3972\n",
      "Epoch 00119: val_loss did not improve from 0.31703\n",
      "5/5 [==============================] - 0s 18ms/step - loss: 0.4154 - val_loss: 0.4289 - lr: 1.0000e-06\n",
      "Epoch 120/1000\n",
      "1/5 [=====>........................] - ETA: 0s - loss: 0.3854\n",
      "Epoch 00120: val_loss did not improve from 0.31703\n",
      "5/5 [==============================] - 0s 28ms/step - loss: 0.4091 - val_loss: 0.4282 - lr: 1.0000e-06\n",
      "Epoch 121/1000\n",
      "1/5 [=====>........................] - ETA: 0s - loss: 0.3925\n",
      "Epoch 00121: val_loss did not improve from 0.31703\n",
      "5/5 [==============================] - 0s 69ms/step - loss: 0.4067 - val_loss: 0.4276 - lr: 1.0000e-06\n",
      "Epoch 122/1000\n",
      "1/5 [=====>........................] - ETA: 0s - loss: 0.3986\n",
      "Epoch 00122: val_loss did not improve from 0.31703\n",
      "5/5 [==============================] - 0s 60ms/step - loss: 0.4063 - val_loss: 0.4269 - lr: 1.0000e-06\n",
      "Epoch 123/1000\n",
      "1/5 [=====>........................] - ETA: 0s - loss: 0.4266\n",
      "Epoch 00123: val_loss did not improve from 0.31703\n",
      "5/5 [==============================] - 0s 20ms/step - loss: 0.3938 - val_loss: 0.4262 - lr: 1.0000e-06\n",
      "Epoch 124/1000\n",
      "1/5 [=====>........................] - ETA: 0s - loss: 0.3605\n",
      "Epoch 00124: val_loss did not improve from 0.31703\n",
      "5/5 [==============================] - 0s 29ms/step - loss: 0.3929 - val_loss: 0.4255 - lr: 1.0000e-06\n",
      "Epoch 125/1000\n",
      "1/5 [=====>........................] - ETA: 0s - loss: 0.4249\n",
      "Epoch 00125: val_loss did not improve from 0.31703\n",
      "5/5 [==============================] - 0s 20ms/step - loss: 0.3875 - val_loss: 0.4249 - lr: 1.0000e-06\n",
      "Epoch 126/1000\n",
      "1/5 [=====>........................] - ETA: 0s - loss: 0.3852\n",
      "Epoch 00126: val_loss did not improve from 0.31703\n",
      "5/5 [==============================] - 0s 57ms/step - loss: 0.3961 - val_loss: 0.4242 - lr: 1.0000e-06\n",
      "Epoch 127/1000\n",
      "1/5 [=====>........................] - ETA: 0s - loss: 0.3949\n",
      "Epoch 00127: val_loss did not improve from 0.31703\n",
      "5/5 [==============================] - 0s 38ms/step - loss: 0.4142 - val_loss: 0.4235 - lr: 1.0000e-06\n",
      "Epoch 128/1000\n",
      "1/5 [=====>........................] - ETA: 0s - loss: 0.3883\n",
      "Epoch 00128: val_loss did not improve from 0.31703\n",
      "5/5 [==============================] - 0s 68ms/step - loss: 0.3906 - val_loss: 0.4227 - lr: 1.0000e-06\n",
      "Epoch 129/1000\n",
      "1/5 [=====>........................] - ETA: 0s - loss: 0.4024\n",
      "Epoch 00129: val_loss did not improve from 0.31703\n",
      "5/5 [==============================] - 0s 18ms/step - loss: 0.3957 - val_loss: 0.4220 - lr: 1.0000e-06\n",
      "Epoch 130/1000\n",
      "1/5 [=====>........................] - ETA: 0s - loss: 0.3649\n",
      "Epoch 00130: val_loss did not improve from 0.31703\n",
      "5/5 [==============================] - 0s 18ms/step - loss: 0.3874 - val_loss: 0.4213 - lr: 1.0000e-06\n",
      "Epoch 131/1000\n",
      "1/5 [=====>........................] - ETA: 0s - loss: 0.3887\n",
      "Epoch 00131: val_loss did not improve from 0.31703\n",
      "5/5 [==============================] - 0s 19ms/step - loss: 0.3784 - val_loss: 0.4206 - lr: 1.0000e-06\n",
      "Epoch 132/1000\n",
      "1/5 [=====>........................] - ETA: 0s - loss: 0.3725\n",
      "Epoch 00132: val_loss did not improve from 0.31703\n",
      "5/5 [==============================] - 0s 57ms/step - loss: 0.3878 - val_loss: 0.4199 - lr: 1.0000e-06\n",
      "Epoch 133/1000\n",
      "1/5 [=====>........................] - ETA: 0s - loss: 0.3881\n",
      "Epoch 00133: val_loss did not improve from 0.31703\n",
      "5/5 [==============================] - 0s 23ms/step - loss: 0.3964 - val_loss: 0.4191 - lr: 1.0000e-06\n",
      "Epoch 134/1000\n",
      "1/5 [=====>........................] - ETA: 0s - loss: 0.3998\n",
      "Epoch 00134: val_loss did not improve from 0.31703\n",
      "5/5 [==============================] - 0s 90ms/step - loss: 0.3907 - val_loss: 0.4184 - lr: 1.0000e-06\n",
      "Epoch 135/1000\n",
      "1/5 [=====>........................] - ETA: 0s - loss: 0.3877\n",
      "Epoch 00135: val_loss did not improve from 0.31703\n",
      "5/5 [==============================] - 0s 20ms/step - loss: 0.3900 - val_loss: 0.4176 - lr: 1.0000e-06\n",
      "Epoch 136/1000\n",
      "1/5 [=====>........................] - ETA: 0s - loss: 0.4310\n",
      "Epoch 00136: val_loss did not improve from 0.31703\n",
      "5/5 [==============================] - 0s 72ms/step - loss: 0.3833 - val_loss: 0.4169 - lr: 1.0000e-06\n",
      "Epoch 137/1000\n",
      "1/5 [=====>........................] - ETA: 0s - loss: 0.4454\n",
      "Epoch 00137: val_loss did not improve from 0.31703\n",
      "5/5 [==============================] - 0s 72ms/step - loss: 0.3814 - val_loss: 0.4161 - lr: 1.0000e-06\n",
      "Epoch 138/1000\n",
      "1/5 [=====>........................] - ETA: 0s - loss: 0.4003\n",
      "Epoch 00138: val_loss did not improve from 0.31703\n",
      "5/5 [==============================] - 0s 30ms/step - loss: 0.3958 - val_loss: 0.4153 - lr: 1.0000e-06\n",
      "Epoch 139/1000\n",
      "1/5 [=====>........................] - ETA: 0s - loss: 0.4158\n",
      "Epoch 00139: val_loss did not improve from 0.31703\n",
      "5/5 [==============================] - 0s 20ms/step - loss: 0.3893 - val_loss: 0.4146 - lr: 1.0000e-06\n",
      "Epoch 140/1000\n",
      "1/5 [=====>........................] - ETA: 0s - loss: 0.3714\n",
      "Epoch 00140: val_loss did not improve from 0.31703\n",
      "5/5 [==============================] - 0s 20ms/step - loss: 0.3853 - val_loss: 0.4138 - lr: 1.0000e-06\n",
      "Epoch 141/1000\n",
      "1/5 [=====>........................] - ETA: 0s - loss: 0.4155\n",
      "Epoch 00141: val_loss did not improve from 0.31703\n",
      "5/5 [==============================] - 0s 72ms/step - loss: 0.3863 - val_loss: 0.4130 - lr: 1.0000e-06\n",
      "Epoch 142/1000\n",
      "1/5 [=====>........................] - ETA: 0s - loss: 0.3874\n",
      "Epoch 00142: val_loss did not improve from 0.31703\n",
      "5/5 [==============================] - 0s 51ms/step - loss: 0.3888 - val_loss: 0.4122 - lr: 1.0000e-06\n",
      "Epoch 143/1000\n",
      "1/5 [=====>........................] - ETA: 0s - loss: 0.3791\n",
      "Epoch 00143: val_loss did not improve from 0.31703\n",
      "5/5 [==============================] - 0s 45ms/step - loss: 0.3979 - val_loss: 0.4113 - lr: 1.0000e-06\n",
      "Epoch 144/1000\n",
      "1/5 [=====>........................] - ETA: 0s - loss: 0.4284\n",
      "Epoch 00144: val_loss did not improve from 0.31703\n",
      "5/5 [==============================] - 0s 19ms/step - loss: 0.3720 - val_loss: 0.4105 - lr: 1.0000e-06\n",
      "Epoch 145/1000\n",
      "1/5 [=====>........................] - ETA: 0s - loss: 0.3990\n",
      "Epoch 00145: val_loss did not improve from 0.31703\n",
      "5/5 [==============================] - 0s 19ms/step - loss: 0.3806 - val_loss: 0.4097 - lr: 1.0000e-06\n",
      "Epoch 146/1000\n",
      "1/5 [=====>........................] - ETA: 0s - loss: 0.3699\n",
      "Epoch 00146: val_loss did not improve from 0.31703\n",
      "5/5 [==============================] - 1s 108ms/step - loss: 0.3905 - val_loss: 0.4088 - lr: 1.0000e-06\n",
      "Epoch 147/1000\n",
      "1/5 [=====>........................] - ETA: 0s - loss: 0.3667\n",
      "Epoch 00147: val_loss did not improve from 0.31703\n",
      "5/5 [==============================] - 0s 35ms/step - loss: 0.3821 - val_loss: 0.4080 - lr: 1.0000e-06\n",
      "Epoch 148/1000\n",
      "1/5 [=====>........................] - ETA: 0s - loss: 0.4242\n",
      "Epoch 00148: val_loss did not improve from 0.31703\n",
      "5/5 [==============================] - 0s 18ms/step - loss: 0.3684 - val_loss: 0.4071 - lr: 1.0000e-06\n",
      "Epoch 149/1000\n",
      "1/5 [=====>........................] - ETA: 0s - loss: 0.4121\n",
      "Epoch 00149: val_loss did not improve from 0.31703\n",
      "5/5 [==============================] - 0s 20ms/step - loss: 0.3874 - val_loss: 0.4063 - lr: 1.0000e-06\n",
      "Epoch 150/1000\n",
      "1/5 [=====>........................] - ETA: 0s - loss: 0.3679\n",
      "Epoch 00150: val_loss did not improve from 0.31703\n",
      "5/5 [==============================] - 0s 23ms/step - loss: 0.3628 - val_loss: 0.4054 - lr: 1.0000e-06\n",
      "Epoch 151/1000\n",
      "1/5 [=====>........................] - ETA: 0s - loss: 0.3662\n",
      "Epoch 00151: val_loss did not improve from 0.31703\n",
      "5/5 [==============================] - 0s 84ms/step - loss: 0.3640 - val_loss: 0.4045 - lr: 1.0000e-06\n",
      "Epoch 152/1000\n",
      "1/5 [=====>........................] - ETA: 0s - loss: 0.4087\n",
      "Epoch 00152: val_loss did not improve from 0.31703\n",
      "5/5 [==============================] - 0s 45ms/step - loss: 0.3739 - val_loss: 0.4037 - lr: 1.0000e-06\n",
      "Epoch 153/1000\n",
      "1/5 [=====>........................] - ETA: 0s - loss: 0.3739\n",
      "Epoch 00153: val_loss did not improve from 0.31703\n",
      "5/5 [==============================] - 0s 20ms/step - loss: 0.3848 - val_loss: 0.4028 - lr: 1.0000e-06\n",
      "Epoch 154/1000\n",
      "1/5 [=====>........................] - ETA: 0s - loss: 0.3945\n",
      "Epoch 00154: val_loss did not improve from 0.31703\n",
      "5/5 [==============================] - 0s 18ms/step - loss: 0.3736 - val_loss: 0.4019 - lr: 1.0000e-06\n",
      "Epoch 155/1000\n",
      "1/5 [=====>........................] - ETA: 0s - loss: 0.3655\n",
      "Epoch 00155: val_loss did not improve from 0.31703\n",
      "5/5 [==============================] - 0s 19ms/step - loss: 0.3700 - val_loss: 0.4010 - lr: 1.0000e-06\n",
      "Epoch 156/1000\n",
      "1/5 [=====>........................] - ETA: 0s - loss: 0.3382\n",
      "Epoch 00156: val_loss did not improve from 0.31703\n",
      "5/5 [==============================] - 0s 22ms/step - loss: 0.3633 - val_loss: 0.4000 - lr: 1.0000e-06\n",
      "Epoch 157/1000\n",
      "1/5 [=====>........................] - ETA: 0s - loss: 0.3643\n",
      "Epoch 00157: val_loss did not improve from 0.31703\n",
      "5/5 [==============================] - 0s 56ms/step - loss: 0.3621 - val_loss: 0.3991 - lr: 1.0000e-06\n",
      "Epoch 158/1000\n",
      "1/5 [=====>........................] - ETA: 0s - loss: 0.3706\n",
      "Epoch 00158: val_loss did not improve from 0.31703\n",
      "5/5 [==============================] - 0s 76ms/step - loss: 0.3714 - val_loss: 0.3982 - lr: 1.0000e-06\n",
      "Epoch 159/1000\n",
      "1/5 [=====>........................] - ETA: 0s - loss: 0.3938\n",
      "Epoch 00159: val_loss did not improve from 0.31703\n",
      "5/5 [==============================] - 0s 19ms/step - loss: 0.3582 - val_loss: 0.3972 - lr: 1.0000e-06\n",
      "Epoch 160/1000\n",
      "1/5 [=====>........................] - ETA: 0s - loss: 0.3845\n",
      "Epoch 00160: val_loss did not improve from 0.31703\n",
      "5/5 [==============================] - 0s 20ms/step - loss: 0.3733 - val_loss: 0.3963 - lr: 1.0000e-06\n",
      "Epoch 161/1000\n",
      "1/5 [=====>........................] - ETA: 0s - loss: 0.3813\n",
      "Epoch 00161: val_loss did not improve from 0.31703\n",
      "5/5 [==============================] - 0s 18ms/step - loss: 0.3654 - val_loss: 0.3953 - lr: 1.0000e-06\n",
      "Epoch 162/1000\n",
      "1/5 [=====>........................] - ETA: 0s - loss: 0.3461\n",
      "Epoch 00162: val_loss did not improve from 0.31703\n",
      "5/5 [==============================] - 0s 18ms/step - loss: 0.3592 - val_loss: 0.3944 - lr: 1.0000e-06\n",
      "Epoch 163/1000\n",
      "1/5 [=====>........................] - ETA: 0s - loss: 0.3455\n",
      "Epoch 00163: val_loss did not improve from 0.31703\n",
      "5/5 [==============================] - 0s 70ms/step - loss: 0.3626 - val_loss: 0.3934 - lr: 1.0000e-06\n",
      "Epoch 164/1000\n",
      "1/5 [=====>........................] - ETA: 0s - loss: 0.3548\n",
      "Epoch 00164: val_loss did not improve from 0.31703\n",
      "5/5 [==============================] - 0s 57ms/step - loss: 0.3680 - val_loss: 0.3924 - lr: 1.0000e-06\n",
      "Epoch 165/1000\n",
      "1/5 [=====>........................] - ETA: 0s - loss: 0.3864\n",
      "Epoch 00165: val_loss did not improve from 0.31703\n",
      "5/5 [==============================] - 0s 20ms/step - loss: 0.3662 - val_loss: 0.3914 - lr: 1.0000e-06\n",
      "Epoch 166/1000\n",
      "1/5 [=====>........................] - ETA: 0s - loss: 0.3672\n",
      "Epoch 00166: val_loss did not improve from 0.31703\n",
      "5/5 [==============================] - 0s 20ms/step - loss: 0.3599 - val_loss: 0.3904 - lr: 1.0000e-06\n",
      "Epoch 167/1000\n",
      "1/5 [=====>........................] - ETA: 0s - loss: 0.3931\n",
      "Epoch 00167: val_loss did not improve from 0.31703\n",
      "5/5 [==============================] - 0s 18ms/step - loss: 0.3656 - val_loss: 0.3893 - lr: 1.0000e-06\n",
      "Epoch 168/1000\n",
      "1/5 [=====>........................] - ETA: 0s - loss: 0.3806\n",
      "Epoch 00168: val_loss did not improve from 0.31703\n",
      "5/5 [==============================] - 0s 22ms/step - loss: 0.3717 - val_loss: 0.3883 - lr: 1.0000e-06\n",
      "Epoch 169/1000\n",
      "1/5 [=====>........................] - ETA: 0s - loss: 0.3889\n",
      "Epoch 00169: val_loss did not improve from 0.31703\n",
      "5/5 [==============================] - 0s 25ms/step - loss: 0.3754 - val_loss: 0.3872 - lr: 1.0000e-06\n",
      "Epoch 170/1000\n",
      "1/5 [=====>........................] - ETA: 0s - loss: 0.3674\n",
      "Epoch 00170: val_loss did not improve from 0.31703\n",
      "5/5 [==============================] - 0s 32ms/step - loss: 0.3553 - val_loss: 0.3862 - lr: 1.0000e-06\n",
      "Epoch 171/1000\n",
      "1/5 [=====>........................] - ETA: 0s - loss: 0.3316\n",
      "Epoch 00171: val_loss did not improve from 0.31703\n",
      "5/5 [==============================] - 0s 94ms/step - loss: 0.3622 - val_loss: 0.3851 - lr: 1.0000e-06\n",
      "Epoch 172/1000\n",
      "1/5 [=====>........................] - ETA: 0s - loss: 0.3358\n",
      "Epoch 00172: val_loss did not improve from 0.31703\n",
      "5/5 [==============================] - 0s 19ms/step - loss: 0.3649 - val_loss: 0.3840 - lr: 1.0000e-06\n",
      "Epoch 173/1000\n",
      "1/5 [=====>........................] - ETA: 0s - loss: 0.3411\n",
      "Epoch 00173: val_loss did not improve from 0.31703\n",
      "5/5 [==============================] - 0s 28ms/step - loss: 0.3555 - val_loss: 0.3828 - lr: 1.0000e-06\n",
      "Epoch 174/1000\n",
      "1/5 [=====>........................] - ETA: 0s - loss: 0.3697\n",
      "Epoch 00174: val_loss did not improve from 0.31703\n",
      "5/5 [==============================] - 0s 30ms/step - loss: 0.3661 - val_loss: 0.3817 - lr: 1.0000e-06\n",
      "Epoch 175/1000\n",
      "1/5 [=====>........................] - ETA: 0s - loss: 0.3603\n",
      "Epoch 00175: val_loss did not improve from 0.31703\n",
      "5/5 [==============================] - 0s 58ms/step - loss: 0.3427 - val_loss: 0.3806 - lr: 1.0000e-06\n",
      "Epoch 176/1000\n",
      "1/5 [=====>........................] - ETA: 0s - loss: 0.3101\n",
      "Epoch 00176: val_loss did not improve from 0.31703\n",
      "5/5 [==============================] - 0s 79ms/step - loss: 0.3527 - val_loss: 0.3794 - lr: 1.0000e-06\n",
      "Epoch 177/1000\n",
      "1/5 [=====>........................] - ETA: 0s - loss: 0.3406\n",
      "Epoch 00177: val_loss did not improve from 0.31703\n",
      "5/5 [==============================] - 0s 18ms/step - loss: 0.3502 - val_loss: 0.3782 - lr: 1.0000e-06\n",
      "Epoch 178/1000\n",
      "1/5 [=====>........................] - ETA: 0s - loss: 0.3455\n",
      "Epoch 00178: val_loss did not improve from 0.31703\n",
      "5/5 [==============================] - 0s 18ms/step - loss: 0.3621 - val_loss: 0.3771 - lr: 1.0000e-06\n",
      "Epoch 179/1000\n",
      "1/5 [=====>........................] - ETA: 0s - loss: 0.3376\n",
      "Epoch 00179: val_loss did not improve from 0.31703\n",
      "5/5 [==============================] - 0s 33ms/step - loss: 0.3538 - val_loss: 0.3759 - lr: 1.0000e-06\n",
      "Epoch 180/1000\n",
      "1/5 [=====>........................] - ETA: 0s - loss: 0.3406\n",
      "Epoch 00180: val_loss did not improve from 0.31703\n",
      "5/5 [==============================] - 0s 27ms/step - loss: 0.3556 - val_loss: 0.3746 - lr: 1.0000e-06\n",
      "Epoch 181/1000\n",
      "1/5 [=====>........................] - ETA: 0s - loss: 0.3423\n",
      "Epoch 00181: val_loss did not improve from 0.31703\n",
      "5/5 [==============================] - 0s 45ms/step - loss: 0.3502 - val_loss: 0.3734 - lr: 1.0000e-06\n",
      "Epoch 182/1000\n",
      "1/5 [=====>........................] - ETA: 0s - loss: 0.3375\n",
      "Epoch 00182: val_loss did not improve from 0.31703\n",
      "5/5 [==============================] - 0s 28ms/step - loss: 0.3576 - val_loss: 0.3722 - lr: 1.0000e-06\n",
      "Epoch 183/1000\n",
      "1/5 [=====>........................] - ETA: 0s - loss: 0.3192\n",
      "Epoch 00183: val_loss did not improve from 0.31703\n",
      "5/5 [==============================] - 0s 18ms/step - loss: 0.3470 - val_loss: 0.3709 - lr: 1.0000e-06\n",
      "Epoch 184/1000\n",
      "1/5 [=====>........................] - ETA: 0s - loss: 0.3522\n",
      "Epoch 00184: val_loss did not improve from 0.31703\n",
      "5/5 [==============================] - 0s 18ms/step - loss: 0.3421 - val_loss: 0.3696 - lr: 1.0000e-06\n",
      "Epoch 185/1000\n",
      "1/5 [=====>........................] - ETA: 0s - loss: 0.3514\n",
      "Epoch 00185: val_loss did not improve from 0.31703\n",
      "5/5 [==============================] - 0s 28ms/step - loss: 0.3403 - val_loss: 0.3683 - lr: 1.0000e-06\n",
      "Epoch 186/1000\n",
      "1/5 [=====>........................] - ETA: 0s - loss: 0.3718\n",
      "Epoch 00186: val_loss did not improve from 0.31703\n",
      "5/5 [==============================] - 0s 83ms/step - loss: 0.3324 - val_loss: 0.3670 - lr: 1.0000e-06\n",
      "Epoch 187/1000\n",
      "1/5 [=====>........................] - ETA: 0s - loss: 0.3457\n",
      "Epoch 00187: val_loss did not improve from 0.31703\n",
      "5/5 [==============================] - 0s 87ms/step - loss: 0.3415 - val_loss: 0.3657 - lr: 1.0000e-06\n",
      "Epoch 188/1000\n",
      "1/5 [=====>........................] - ETA: 0s - loss: 0.3425\n",
      "Epoch 00188: val_loss did not improve from 0.31703\n",
      "5/5 [==============================] - 0s 19ms/step - loss: 0.3341 - val_loss: 0.3643 - lr: 1.0000e-06\n",
      "Epoch 189/1000\n",
      "1/5 [=====>........................] - ETA: 0s - loss: 0.3203\n",
      "Epoch 00189: val_loss did not improve from 0.31703\n",
      "5/5 [==============================] - 0s 22ms/step - loss: 0.3449 - val_loss: 0.3629 - lr: 1.0000e-06\n",
      "Epoch 190/1000\n",
      "1/5 [=====>........................] - ETA: 0s - loss: 0.3747\n",
      "Epoch 00190: val_loss did not improve from 0.31703\n",
      "5/5 [==============================] - 0s 18ms/step - loss: 0.3337 - val_loss: 0.3616 - lr: 1.0000e-06\n",
      "Epoch 191/1000\n",
      "1/5 [=====>........................] - ETA: 0s - loss: 0.3020\n",
      "Epoch 00191: val_loss did not improve from 0.31703\n",
      "5/5 [==============================] - 1s 126ms/step - loss: 0.3409 - val_loss: 0.3602 - lr: 1.0000e-06\n",
      "Epoch 192/1000\n",
      "1/5 [=====>........................] - ETA: 0s - loss: 0.3461\n",
      "Epoch 00192: val_loss did not improve from 0.31703\n",
      "5/5 [==============================] - 0s 33ms/step - loss: 0.3374 - val_loss: 0.3587 - lr: 1.0000e-06\n",
      "Epoch 193/1000\n",
      "1/5 [=====>........................] - ETA: 0s - loss: 0.3511\n",
      "Epoch 00193: val_loss did not improve from 0.31703\n",
      "5/5 [==============================] - 0s 18ms/step - loss: 0.3260 - val_loss: 0.3573 - lr: 1.0000e-06\n",
      "Epoch 194/1000\n",
      "1/5 [=====>........................] - ETA: 0s - loss: 0.3448\n",
      "Epoch 00194: val_loss did not improve from 0.31703\n",
      "5/5 [==============================] - 0s 20ms/step - loss: 0.3445 - val_loss: 0.3558 - lr: 1.0000e-06\n",
      "Epoch 195/1000\n",
      "1/5 [=====>........................] - ETA: 0s - loss: 0.2983\n",
      "Epoch 00195: val_loss did not improve from 0.31703\n",
      "5/5 [==============================] - 0s 28ms/step - loss: 0.3349 - val_loss: 0.3543 - lr: 1.0000e-06\n",
      "Epoch 196/1000\n",
      "1/5 [=====>........................] - ETA: 0s - loss: 0.3338\n",
      "Epoch 00196: val_loss did not improve from 0.31703\n",
      "5/5 [==============================] - 0s 47ms/step - loss: 0.3439 - val_loss: 0.3528 - lr: 1.0000e-06\n",
      "Epoch 197/1000\n",
      "1/5 [=====>........................] - ETA: 0s - loss: 0.3162\n",
      "Epoch 00197: val_loss did not improve from 0.31703\n",
      "5/5 [==============================] - 0s 72ms/step - loss: 0.3146 - val_loss: 0.3512 - lr: 1.0000e-06\n",
      "Epoch 198/1000\n",
      "1/5 [=====>........................] - ETA: 0s - loss: 0.3260\n",
      "Epoch 00198: val_loss did not improve from 0.31703\n",
      "5/5 [==============================] - 0s 18ms/step - loss: 0.3117 - val_loss: 0.3497 - lr: 1.0000e-06\n",
      "Epoch 199/1000\n",
      "1/5 [=====>........................] - ETA: 0s - loss: 0.3238\n",
      "Epoch 00199: val_loss did not improve from 0.31703\n",
      "5/5 [==============================] - 0s 30ms/step - loss: 0.3233 - val_loss: 0.3481 - lr: 1.0000e-06\n",
      "Epoch 200/1000\n",
      "1/5 [=====>........................] - ETA: 0s - loss: 0.3269\n",
      "Epoch 00200: val_loss did not improve from 0.31703\n",
      "5/5 [==============================] - 0s 28ms/step - loss: 0.3276 - val_loss: 0.3465 - lr: 1.0000e-06\n",
      "Epoch 201/1000\n",
      "1/5 [=====>........................] - ETA: 0s - loss: 0.3401\n",
      "Epoch 00201: val_loss did not improve from 0.31703\n",
      "5/5 [==============================] - 0s 39ms/step - loss: 0.3330 - val_loss: 0.3449 - lr: 1.0000e-06\n",
      "Epoch 202/1000\n",
      "1/5 [=====>........................] - ETA: 0s - loss: 0.3059\n",
      "Epoch 00202: val_loss did not improve from 0.31703\n",
      "5/5 [==============================] - 0s 34ms/step - loss: 0.3095 - val_loss: 0.3433 - lr: 1.0000e-06\n",
      "Epoch 203/1000\n",
      "1/5 [=====>........................] - ETA: 0s - loss: 0.3411\n",
      "Epoch 00203: val_loss did not improve from 0.31703\n",
      "5/5 [==============================] - 0s 29ms/step - loss: 0.3156 - val_loss: 0.3416 - lr: 1.0000e-06\n",
      "Epoch 204/1000\n",
      "1/5 [=====>........................] - ETA: 0s - loss: 0.3023\n",
      "Epoch 00204: val_loss did not improve from 0.31703\n",
      "5/5 [==============================] - 0s 21ms/step - loss: 0.3150 - val_loss: 0.3399 - lr: 1.0000e-06\n",
      "Epoch 205/1000\n",
      "1/5 [=====>........................] - ETA: 0s - loss: 0.3123\n",
      "Epoch 00205: val_loss did not improve from 0.31703\n",
      "5/5 [==============================] - 0s 20ms/step - loss: 0.3087 - val_loss: 0.3383 - lr: 1.0000e-06\n",
      "Epoch 206/1000\n",
      "1/5 [=====>........................] - ETA: 0s - loss: 0.3467\n",
      "Epoch 00206: val_loss did not improve from 0.31703\n",
      "5/5 [==============================] - 0s 29ms/step - loss: 0.3128 - val_loss: 0.3365 - lr: 1.0000e-06\n",
      "Epoch 207/1000\n",
      "1/5 [=====>........................] - ETA: 0s - loss: 0.3510\n",
      "Epoch 00207: val_loss did not improve from 0.31703\n",
      "5/5 [==============================] - 0s 36ms/step - loss: 0.3141 - val_loss: 0.3348 - lr: 1.0000e-06\n",
      "Epoch 208/1000\n",
      "1/5 [=====>........................] - ETA: 0s - loss: 0.3419\n",
      "Epoch 00208: val_loss did not improve from 0.31703\n",
      "5/5 [==============================] - 0s 43ms/step - loss: 0.3145 - val_loss: 0.3330 - lr: 1.0000e-06\n",
      "Epoch 209/1000\n",
      "1/5 [=====>........................] - ETA: 0s - loss: 0.3260\n",
      "Epoch 00209: val_loss did not improve from 0.31703\n",
      "5/5 [==============================] - 0s 52ms/step - loss: 0.2994 - val_loss: 0.3312 - lr: 1.0000e-06\n",
      "Epoch 210/1000\n",
      "1/5 [=====>........................] - ETA: 0s - loss: 0.2917\n",
      "Epoch 00210: val_loss did not improve from 0.31703\n",
      "5/5 [==============================] - 0s 35ms/step - loss: 0.3020 - val_loss: 0.3294 - lr: 1.0000e-06\n",
      "Epoch 211/1000\n",
      "1/5 [=====>........................] - ETA: 0s - loss: 0.3109\n",
      "Epoch 00211: val_loss did not improve from 0.31703\n",
      "5/5 [==============================] - 0s 18ms/step - loss: 0.3013 - val_loss: 0.3275 - lr: 1.0000e-06\n",
      "Epoch 212/1000\n",
      "1/5 [=====>........................] - ETA: 0s - loss: 0.2645\n",
      "Epoch 00212: val_loss did not improve from 0.31703\n",
      "5/5 [==============================] - 0s 60ms/step - loss: 0.2994 - val_loss: 0.3256 - lr: 1.0000e-06\n",
      "Epoch 213/1000\n",
      "1/5 [=====>........................] - ETA: 0s - loss: 0.3246\n",
      "Epoch 00213: val_loss did not improve from 0.31703\n",
      "5/5 [==============================] - 0s 58ms/step - loss: 0.2981 - val_loss: 0.3237 - lr: 1.0000e-06\n",
      "Epoch 214/1000\n",
      "1/5 [=====>........................] - ETA: 0s - loss: 0.3139\n",
      "Epoch 00214: val_loss did not improve from 0.31703\n",
      "5/5 [==============================] - 0s 22ms/step - loss: 0.3055 - val_loss: 0.3217 - lr: 1.0000e-06\n",
      "Epoch 215/1000\n",
      "1/5 [=====>........................] - ETA: 0s - loss: 0.3159\n",
      "Epoch 00215: val_loss did not improve from 0.31703\n",
      "5/5 [==============================] - 0s 20ms/step - loss: 0.2843 - val_loss: 0.3197 - lr: 1.0000e-06\n",
      "Epoch 216/1000\n",
      "1/5 [=====>........................] - ETA: 0s - loss: 0.2542\n",
      "Epoch 00216: val_loss did not improve from 0.31703\n",
      "5/5 [==============================] - 0s 20ms/step - loss: 0.3039 - val_loss: 0.3177 - lr: 1.0000e-06\n",
      "Epoch 217/1000\n",
      "1/5 [=====>........................] - ETA: 0s - loss: 0.3000\n",
      "Epoch 00217: val_loss improved from 0.31703 to 0.31562, saving model to E:\\Dropbox\\AI\\Data_cleaning\\Thing\\Model\\Timetable_checkpoint.keras\n",
      "5/5 [==============================] - 1s 192ms/step - loss: 0.2943 - val_loss: 0.3156 - lr: 1.0000e-06\n",
      "Epoch 218/1000\n",
      "1/5 [=====>........................] - ETA: 0s - loss: 0.3169\n",
      "Epoch 00218: val_loss improved from 0.31562 to 0.31353, saving model to E:\\Dropbox\\AI\\Data_cleaning\\Thing\\Model\\Timetable_checkpoint.keras\n",
      "5/5 [==============================] - 1s 140ms/step - loss: 0.2857 - val_loss: 0.3135 - lr: 1.0000e-06\n",
      "Epoch 219/1000\n",
      "1/5 [=====>........................] - ETA: 0s - loss: 0.2742\n",
      "Epoch 00219: val_loss improved from 0.31353 to 0.31141, saving model to E:\\Dropbox\\AI\\Data_cleaning\\Thing\\Model\\Timetable_checkpoint.keras\n",
      "5/5 [==============================] - 1s 163ms/step - loss: 0.3016 - val_loss: 0.3114 - lr: 1.0000e-06\n",
      "Epoch 220/1000\n",
      "1/5 [=====>........................] - ETA: 0s - loss: 0.3165\n",
      "Epoch 00220: val_loss improved from 0.31141 to 0.30924, saving model to E:\\Dropbox\\AI\\Data_cleaning\\Thing\\Model\\Timetable_checkpoint.keras\n",
      "5/5 [==============================] - 1s 167ms/step - loss: 0.2860 - val_loss: 0.3092 - lr: 1.0000e-06\n",
      "Epoch 221/1000\n",
      "1/5 [=====>........................] - ETA: 0s - loss: 0.2818\n",
      "Epoch 00221: val_loss improved from 0.30924 to 0.30704, saving model to E:\\Dropbox\\AI\\Data_cleaning\\Thing\\Model\\Timetable_checkpoint.keras\n",
      "5/5 [==============================] - 1s 190ms/step - loss: 0.2852 - val_loss: 0.3070 - lr: 1.0000e-06\n",
      "Epoch 222/1000\n",
      "1/5 [=====>........................] - ETA: 0s - loss: 0.2692\n",
      "Epoch 00222: val_loss improved from 0.30704 to 0.30481, saving model to E:\\Dropbox\\AI\\Data_cleaning\\Thing\\Model\\Timetable_checkpoint.keras\n",
      "5/5 [==============================] - 1s 202ms/step - loss: 0.2856 - val_loss: 0.3048 - lr: 1.0000e-06\n",
      "Epoch 223/1000\n",
      "1/5 [=====>........................] - ETA: 0s - loss: 0.2847\n",
      "Epoch 00223: val_loss improved from 0.30481 to 0.30255, saving model to E:\\Dropbox\\AI\\Data_cleaning\\Thing\\Model\\Timetable_checkpoint.keras\n",
      "5/5 [==============================] - 1s 188ms/step - loss: 0.2884 - val_loss: 0.3025 - lr: 1.0000e-06\n",
      "Epoch 224/1000\n",
      "1/5 [=====>........................] - ETA: 0s - loss: 0.2805\n",
      "Epoch 00224: val_loss improved from 0.30255 to 0.30026, saving model to E:\\Dropbox\\AI\\Data_cleaning\\Thing\\Model\\Timetable_checkpoint.keras\n",
      "5/5 [==============================] - 1s 209ms/step - loss: 0.2769 - val_loss: 0.3003 - lr: 1.0000e-06\n",
      "Epoch 225/1000\n",
      "1/5 [=====>........................] - ETA: 0s - loss: 0.2649\n",
      "Epoch 00225: val_loss improved from 0.30026 to 0.29794, saving model to E:\\Dropbox\\AI\\Data_cleaning\\Thing\\Model\\Timetable_checkpoint.keras\n",
      "5/5 [==============================] - 1s 190ms/step - loss: 0.2805 - val_loss: 0.2979 - lr: 1.0000e-06\n",
      "Epoch 226/1000\n",
      "1/5 [=====>........................] - ETA: 0s - loss: 0.2742\n",
      "Epoch 00226: val_loss improved from 0.29794 to 0.29558, saving model to E:\\Dropbox\\AI\\Data_cleaning\\Thing\\Model\\Timetable_checkpoint.keras\n",
      "5/5 [==============================] - 1s 201ms/step - loss: 0.2839 - val_loss: 0.2956 - lr: 1.0000e-06\n",
      "Epoch 227/1000\n",
      "1/5 [=====>........................] - ETA: 0s - loss: 0.2550\n",
      "Epoch 00227: val_loss improved from 0.29558 to 0.29318, saving model to E:\\Dropbox\\AI\\Data_cleaning\\Thing\\Model\\Timetable_checkpoint.keras\n",
      "5/5 [==============================] - 1s 217ms/step - loss: 0.2703 - val_loss: 0.2932 - lr: 1.0000e-06\n",
      "Epoch 228/1000\n",
      "1/5 [=====>........................] - ETA: 0s - loss: 0.2830\n",
      "Epoch 00228: val_loss improved from 0.29318 to 0.29075, saving model to E:\\Dropbox\\AI\\Data_cleaning\\Thing\\Model\\Timetable_checkpoint.keras\n",
      "5/5 [==============================] - 1s 217ms/step - loss: 0.2595 - val_loss: 0.2907 - lr: 1.0000e-06\n",
      "Epoch 229/1000\n",
      "1/5 [=====>........................] - ETA: 0s - loss: 0.2371\n",
      "Epoch 00229: val_loss improved from 0.29075 to 0.28830, saving model to E:\\Dropbox\\AI\\Data_cleaning\\Thing\\Model\\Timetable_checkpoint.keras\n",
      "5/5 [==============================] - 1s 166ms/step - loss: 0.2720 - val_loss: 0.2883 - lr: 1.0000e-06\n",
      "Epoch 230/1000\n",
      "1/5 [=====>........................] - ETA: 0s - loss: 0.3044\n",
      "Epoch 00230: val_loss improved from 0.28830 to 0.28579, saving model to E:\\Dropbox\\AI\\Data_cleaning\\Thing\\Model\\Timetable_checkpoint.keras\n",
      "5/5 [==============================] - 1s 162ms/step - loss: 0.2686 - val_loss: 0.2858 - lr: 1.0000e-06\n",
      "Epoch 231/1000\n",
      "1/5 [=====>........................] - ETA: 0s - loss: 0.2601\n",
      "Epoch 00231: val_loss improved from 0.28579 to 0.28325, saving model to E:\\Dropbox\\AI\\Data_cleaning\\Thing\\Model\\Timetable_checkpoint.keras\n",
      "5/5 [==============================] - 1s 165ms/step - loss: 0.2617 - val_loss: 0.2833 - lr: 1.0000e-06\n",
      "Epoch 232/1000\n",
      "1/5 [=====>........................] - ETA: 0s - loss: 0.2382\n",
      "Epoch 00232: val_loss improved from 0.28325 to 0.28068, saving model to E:\\Dropbox\\AI\\Data_cleaning\\Thing\\Model\\Timetable_checkpoint.keras\n",
      "5/5 [==============================] - 1s 155ms/step - loss: 0.2570 - val_loss: 0.2807 - lr: 1.0000e-06\n",
      "Epoch 233/1000\n",
      "1/5 [=====>........................] - ETA: 0s - loss: 0.2388\n",
      "Epoch 00233: val_loss improved from 0.28068 to 0.27805, saving model to E:\\Dropbox\\AI\\Data_cleaning\\Thing\\Model\\Timetable_checkpoint.keras\n",
      "5/5 [==============================] - 1s 163ms/step - loss: 0.2487 - val_loss: 0.2780 - lr: 1.0000e-06\n",
      "Epoch 234/1000\n",
      "1/5 [=====>........................] - ETA: 0s - loss: 0.2082\n",
      "Epoch 00234: val_loss improved from 0.27805 to 0.27538, saving model to E:\\Dropbox\\AI\\Data_cleaning\\Thing\\Model\\Timetable_checkpoint.keras\n",
      "5/5 [==============================] - 1s 163ms/step - loss: 0.2571 - val_loss: 0.2754 - lr: 1.0000e-06\n",
      "Epoch 235/1000\n",
      "1/5 [=====>........................] - ETA: 0s - loss: 0.2231\n",
      "Epoch 00235: val_loss improved from 0.27538 to 0.27267, saving model to E:\\Dropbox\\AI\\Data_cleaning\\Thing\\Model\\Timetable_checkpoint.keras\n",
      "5/5 [==============================] - 1s 165ms/step - loss: 0.2506 - val_loss: 0.2727 - lr: 1.0000e-06\n",
      "Epoch 236/1000\n",
      "1/5 [=====>........................] - ETA: 0s - loss: 0.2351\n",
      "Epoch 00236: val_loss improved from 0.27267 to 0.26994, saving model to E:\\Dropbox\\AI\\Data_cleaning\\Thing\\Model\\Timetable_checkpoint.keras\n",
      "5/5 [==============================] - 1s 159ms/step - loss: 0.2478 - val_loss: 0.2699 - lr: 1.0000e-06\n",
      "Epoch 237/1000\n",
      "1/5 [=====>........................] - ETA: 0s - loss: 0.2475\n",
      "Epoch 00237: val_loss improved from 0.26994 to 0.26715, saving model to E:\\Dropbox\\AI\\Data_cleaning\\Thing\\Model\\Timetable_checkpoint.keras\n",
      "5/5 [==============================] - 1s 205ms/step - loss: 0.2523 - val_loss: 0.2672 - lr: 1.0000e-06\n",
      "Epoch 238/1000\n",
      "1/5 [=====>........................] - ETA: 0s - loss: 0.2335\n",
      "Epoch 00238: val_loss improved from 0.26715 to 0.26432, saving model to E:\\Dropbox\\AI\\Data_cleaning\\Thing\\Model\\Timetable_checkpoint.keras\n",
      "5/5 [==============================] - 1s 150ms/step - loss: 0.2492 - val_loss: 0.2643 - lr: 1.0000e-06\n",
      "Epoch 239/1000\n",
      "1/5 [=====>........................] - ETA: 0s - loss: 0.2412\n",
      "Epoch 00239: val_loss improved from 0.26432 to 0.26144, saving model to E:\\Dropbox\\AI\\Data_cleaning\\Thing\\Model\\Timetable_checkpoint.keras\n",
      "5/5 [==============================] - 1s 145ms/step - loss: 0.2544 - val_loss: 0.2614 - lr: 1.0000e-06\n",
      "Epoch 240/1000\n",
      "1/5 [=====>........................] - ETA: 0s - loss: 0.2246\n",
      "Epoch 00240: val_loss improved from 0.26144 to 0.25852, saving model to E:\\Dropbox\\AI\\Data_cleaning\\Thing\\Model\\Timetable_checkpoint.keras\n",
      "5/5 [==============================] - 1s 147ms/step - loss: 0.2414 - val_loss: 0.2585 - lr: 1.0000e-06\n",
      "Epoch 241/1000\n",
      "1/5 [=====>........................] - ETA: 0s - loss: 0.2218\n",
      "Epoch 00241: val_loss improved from 0.25852 to 0.25557, saving model to E:\\Dropbox\\AI\\Data_cleaning\\Thing\\Model\\Timetable_checkpoint.keras\n",
      "5/5 [==============================] - 1s 170ms/step - loss: 0.2381 - val_loss: 0.2556 - lr: 1.0000e-06\n",
      "Epoch 242/1000\n",
      "1/5 [=====>........................] - ETA: 0s - loss: 0.2329\n",
      "Epoch 00242: val_loss improved from 0.25557 to 0.25258, saving model to E:\\Dropbox\\AI\\Data_cleaning\\Thing\\Model\\Timetable_checkpoint.keras\n",
      "5/5 [==============================] - 1s 170ms/step - loss: 0.2316 - val_loss: 0.2526 - lr: 1.0000e-06\n",
      "Epoch 243/1000\n",
      "1/5 [=====>........................] - ETA: 0s - loss: 0.2402\n",
      "Epoch 00243: val_loss improved from 0.25258 to 0.24956, saving model to E:\\Dropbox\\AI\\Data_cleaning\\Thing\\Model\\Timetable_checkpoint.keras\n",
      "5/5 [==============================] - 1s 183ms/step - loss: 0.2230 - val_loss: 0.2496 - lr: 1.0000e-06\n",
      "Epoch 244/1000\n",
      "1/5 [=====>........................] - ETA: 0s - loss: 0.2177\n",
      "Epoch 00244: val_loss improved from 0.24956 to 0.24654, saving model to E:\\Dropbox\\AI\\Data_cleaning\\Thing\\Model\\Timetable_checkpoint.keras\n",
      "5/5 [==============================] - 1s 165ms/step - loss: 0.2300 - val_loss: 0.2465 - lr: 1.0000e-06\n",
      "Epoch 245/1000\n",
      "1/5 [=====>........................] - ETA: 0s - loss: 0.2316\n",
      "Epoch 00245: val_loss improved from 0.24654 to 0.24346, saving model to E:\\Dropbox\\AI\\Data_cleaning\\Thing\\Model\\Timetable_checkpoint.keras\n",
      "5/5 [==============================] - 1s 165ms/step - loss: 0.2328 - val_loss: 0.2435 - lr: 1.0000e-06\n",
      "Epoch 246/1000\n",
      "1/5 [=====>........................] - ETA: 0s - loss: 0.2270\n",
      "Epoch 00246: val_loss improved from 0.24346 to 0.24033, saving model to E:\\Dropbox\\AI\\Data_cleaning\\Thing\\Model\\Timetable_checkpoint.keras\n",
      "5/5 [==============================] - 1s 193ms/step - loss: 0.2202 - val_loss: 0.2403 - lr: 1.0000e-06\n",
      "Epoch 247/1000\n",
      "1/5 [=====>........................] - ETA: 0s - loss: 0.2306\n",
      "Epoch 00247: val_loss improved from 0.24033 to 0.23716, saving model to E:\\Dropbox\\AI\\Data_cleaning\\Thing\\Model\\Timetable_checkpoint.keras\n",
      "5/5 [==============================] - 1s 157ms/step - loss: 0.2170 - val_loss: 0.2372 - lr: 1.0000e-06\n",
      "Epoch 248/1000\n",
      "1/5 [=====>........................] - ETA: 0s - loss: 0.2024\n",
      "Epoch 00248: val_loss improved from 0.23716 to 0.23398, saving model to E:\\Dropbox\\AI\\Data_cleaning\\Thing\\Model\\Timetable_checkpoint.keras\n",
      "5/5 [==============================] - 1s 190ms/step - loss: 0.2250 - val_loss: 0.2340 - lr: 1.0000e-06\n",
      "Epoch 249/1000\n",
      "1/5 [=====>........................] - ETA: 0s - loss: 0.2342\n",
      "Epoch 00249: val_loss improved from 0.23398 to 0.23071, saving model to E:\\Dropbox\\AI\\Data_cleaning\\Thing\\Model\\Timetable_checkpoint.keras\n",
      "5/5 [==============================] - 1s 193ms/step - loss: 0.2109 - val_loss: 0.2307 - lr: 1.0000e-06\n",
      "Epoch 250/1000\n",
      "1/5 [=====>........................] - ETA: 0s - loss: 0.1991\n",
      "Epoch 00250: val_loss improved from 0.23071 to 0.22744, saving model to E:\\Dropbox\\AI\\Data_cleaning\\Thing\\Model\\Timetable_checkpoint.keras\n",
      "5/5 [==============================] - 1s 168ms/step - loss: 0.2040 - val_loss: 0.2274 - lr: 1.0000e-06\n",
      "Epoch 251/1000\n",
      "1/5 [=====>........................] - ETA: 0s - loss: 0.2011\n",
      "Epoch 00251: val_loss improved from 0.22744 to 0.22415, saving model to E:\\Dropbox\\AI\\Data_cleaning\\Thing\\Model\\Timetable_checkpoint.keras\n",
      "5/5 [==============================] - 1s 158ms/step - loss: 0.2138 - val_loss: 0.2241 - lr: 1.0000e-06\n",
      "Epoch 252/1000\n",
      "1/5 [=====>........................] - ETA: 0s - loss: 0.2214\n",
      "Epoch 00252: val_loss improved from 0.22415 to 0.22079, saving model to E:\\Dropbox\\AI\\Data_cleaning\\Thing\\Model\\Timetable_checkpoint.keras\n",
      "5/5 [==============================] - 1s 213ms/step - loss: 0.2044 - val_loss: 0.2208 - lr: 1.0000e-06\n",
      "Epoch 253/1000\n",
      "1/5 [=====>........................] - ETA: 0s - loss: 0.1957\n",
      "Epoch 00253: val_loss improved from 0.22079 to 0.21743, saving model to E:\\Dropbox\\AI\\Data_cleaning\\Thing\\Model\\Timetable_checkpoint.keras\n",
      "5/5 [==============================] - 1s 175ms/step - loss: 0.1987 - val_loss: 0.2174 - lr: 1.0000e-06\n",
      "Epoch 254/1000\n",
      "1/5 [=====>........................] - ETA: 0s - loss: 0.2240\n",
      "Epoch 00254: val_loss improved from 0.21743 to 0.21401, saving model to E:\\Dropbox\\AI\\Data_cleaning\\Thing\\Model\\Timetable_checkpoint.keras\n",
      "5/5 [==============================] - 1s 165ms/step - loss: 0.1969 - val_loss: 0.2140 - lr: 1.0000e-06\n",
      "Epoch 255/1000\n",
      "1/5 [=====>........................] - ETA: 0s - loss: 0.2036\n",
      "Epoch 00255: val_loss improved from 0.21401 to 0.21056, saving model to E:\\Dropbox\\AI\\Data_cleaning\\Thing\\Model\\Timetable_checkpoint.keras\n",
      "5/5 [==============================] - 1s 186ms/step - loss: 0.1996 - val_loss: 0.2106 - lr: 1.0000e-06\n",
      "Epoch 256/1000\n",
      "1/5 [=====>........................] - ETA: 0s - loss: 0.1860\n",
      "Epoch 00256: val_loss improved from 0.21056 to 0.20707, saving model to E:\\Dropbox\\AI\\Data_cleaning\\Thing\\Model\\Timetable_checkpoint.keras\n",
      "5/5 [==============================] - 1s 143ms/step - loss: 0.1811 - val_loss: 0.2071 - lr: 1.0000e-06\n",
      "Epoch 257/1000\n",
      "1/5 [=====>........................] - ETA: 0s - loss: 0.2060\n",
      "Epoch 00257: val_loss improved from 0.20707 to 0.20359, saving model to E:\\Dropbox\\AI\\Data_cleaning\\Thing\\Model\\Timetable_checkpoint.keras\n",
      "5/5 [==============================] - 1s 182ms/step - loss: 0.1847 - val_loss: 0.2036 - lr: 1.0000e-06\n",
      "Epoch 258/1000\n",
      "1/5 [=====>........................] - ETA: 0s - loss: 0.1542\n",
      "Epoch 00258: val_loss improved from 0.20359 to 0.20013, saving model to E:\\Dropbox\\AI\\Data_cleaning\\Thing\\Model\\Timetable_checkpoint.keras\n",
      "5/5 [==============================] - 1s 167ms/step - loss: 0.1863 - val_loss: 0.2001 - lr: 1.0000e-06\n",
      "Epoch 259/1000\n",
      "1/5 [=====>........................] - ETA: 0s - loss: 0.1566\n",
      "Epoch 00259: val_loss improved from 0.20013 to 0.19658, saving model to E:\\Dropbox\\AI\\Data_cleaning\\Thing\\Model\\Timetable_checkpoint.keras\n",
      "5/5 [==============================] - 1s 172ms/step - loss: 0.1744 - val_loss: 0.1966 - lr: 1.0000e-06\n",
      "Epoch 260/1000\n",
      "1/5 [=====>........................] - ETA: 0s - loss: 0.1895\n",
      "Epoch 00260: val_loss improved from 0.19658 to 0.19301, saving model to E:\\Dropbox\\AI\\Data_cleaning\\Thing\\Model\\Timetable_checkpoint.keras\n",
      "5/5 [==============================] - 1s 172ms/step - loss: 0.1739 - val_loss: 0.1930 - lr: 1.0000e-06\n",
      "Epoch 261/1000\n",
      "1/5 [=====>........................] - ETA: 0s - loss: 0.1994\n",
      "Epoch 00261: val_loss improved from 0.19301 to 0.18938, saving model to E:\\Dropbox\\AI\\Data_cleaning\\Thing\\Model\\Timetable_checkpoint.keras\n",
      "5/5 [==============================] - 1s 172ms/step - loss: 0.1757 - val_loss: 0.1894 - lr: 1.0000e-06\n",
      "Epoch 262/1000\n",
      "1/5 [=====>........................] - ETA: 0s - loss: 0.1788\n",
      "Epoch 00262: val_loss improved from 0.18938 to 0.18573, saving model to E:\\Dropbox\\AI\\Data_cleaning\\Thing\\Model\\Timetable_checkpoint.keras\n",
      "5/5 [==============================] - 1s 185ms/step - loss: 0.1698 - val_loss: 0.1857 - lr: 1.0000e-06\n",
      "Epoch 263/1000\n",
      "1/5 [=====>........................] - ETA: 0s - loss: 0.1860\n",
      "Epoch 00263: val_loss improved from 0.18573 to 0.18204, saving model to E:\\Dropbox\\AI\\Data_cleaning\\Thing\\Model\\Timetable_checkpoint.keras\n",
      "5/5 [==============================] - 1s 263ms/step - loss: 0.1670 - val_loss: 0.1820 - lr: 1.0000e-06\n",
      "Epoch 264/1000\n",
      "1/5 [=====>........................] - ETA: 0s - loss: 0.1750\n",
      "Epoch 00264: val_loss improved from 0.18204 to 0.17833, saving model to E:\\Dropbox\\AI\\Data_cleaning\\Thing\\Model\\Timetable_checkpoint.keras\n",
      "5/5 [==============================] - 1s 188ms/step - loss: 0.1605 - val_loss: 0.1783 - lr: 1.0000e-06\n",
      "Epoch 265/1000\n",
      "1/5 [=====>........................] - ETA: 0s - loss: 0.1452\n",
      "Epoch 00265: val_loss improved from 0.17833 to 0.17463, saving model to E:\\Dropbox\\AI\\Data_cleaning\\Thing\\Model\\Timetable_checkpoint.keras\n",
      "5/5 [==============================] - 1s 159ms/step - loss: 0.1543 - val_loss: 0.1746 - lr: 1.0000e-06\n",
      "Epoch 266/1000\n",
      "1/5 [=====>........................] - ETA: 0s - loss: 0.1625\n",
      "Epoch 00266: val_loss improved from 0.17463 to 0.17092, saving model to E:\\Dropbox\\AI\\Data_cleaning\\Thing\\Model\\Timetable_checkpoint.keras\n",
      "5/5 [==============================] - 1s 170ms/step - loss: 0.1538 - val_loss: 0.1709 - lr: 1.0000e-06\n",
      "Epoch 267/1000\n",
      "1/5 [=====>........................] - ETA: 0s - loss: 0.1417\n",
      "Epoch 00267: val_loss improved from 0.17092 to 0.16727, saving model to E:\\Dropbox\\AI\\Data_cleaning\\Thing\\Model\\Timetable_checkpoint.keras\n",
      "5/5 [==============================] - 1s 155ms/step - loss: 0.1508 - val_loss: 0.1673 - lr: 1.0000e-06\n",
      "Epoch 268/1000\n",
      "1/5 [=====>........................] - ETA: 0s - loss: 0.1198\n",
      "Epoch 00268: val_loss improved from 0.16727 to 0.16358, saving model to E:\\Dropbox\\AI\\Data_cleaning\\Thing\\Model\\Timetable_checkpoint.keras\n",
      "5/5 [==============================] - 1s 166ms/step - loss: 0.1525 - val_loss: 0.1636 - lr: 1.0000e-06\n",
      "Epoch 269/1000\n",
      "1/5 [=====>........................] - ETA: 0s - loss: 0.1581\n",
      "Epoch 00269: val_loss improved from 0.16358 to 0.15983, saving model to E:\\Dropbox\\AI\\Data_cleaning\\Thing\\Model\\Timetable_checkpoint.keras\n",
      "5/5 [==============================] - 1s 192ms/step - loss: 0.1418 - val_loss: 0.1598 - lr: 1.0000e-06\n",
      "Epoch 270/1000\n",
      "1/5 [=====>........................] - ETA: 0s - loss: 0.1582\n",
      "Epoch 00270: val_loss improved from 0.15983 to 0.15607, saving model to E:\\Dropbox\\AI\\Data_cleaning\\Thing\\Model\\Timetable_checkpoint.keras\n",
      "5/5 [==============================] - 1s 171ms/step - loss: 0.1336 - val_loss: 0.1561 - lr: 1.0000e-06\n",
      "Epoch 271/1000\n",
      "1/5 [=====>........................] - ETA: 0s - loss: 0.1251\n",
      "Epoch 00271: val_loss improved from 0.15607 to 0.15234, saving model to E:\\Dropbox\\AI\\Data_cleaning\\Thing\\Model\\Timetable_checkpoint.keras\n",
      "5/5 [==============================] - 1s 177ms/step - loss: 0.1428 - val_loss: 0.1523 - lr: 1.0000e-06\n",
      "Epoch 272/1000\n",
      "1/5 [=====>........................] - ETA: 0s - loss: 0.1404\n",
      "Epoch 00272: val_loss improved from 0.15234 to 0.14855, saving model to E:\\Dropbox\\AI\\Data_cleaning\\Thing\\Model\\Timetable_checkpoint.keras\n",
      "5/5 [==============================] - 1s 233ms/step - loss: 0.1354 - val_loss: 0.1485 - lr: 1.0000e-06\n",
      "Epoch 273/1000\n",
      "1/5 [=====>........................] - ETA: 0s - loss: 0.1130\n",
      "Epoch 00273: val_loss improved from 0.14855 to 0.14475, saving model to E:\\Dropbox\\AI\\Data_cleaning\\Thing\\Model\\Timetable_checkpoint.keras\n",
      "5/5 [==============================] - 1s 192ms/step - loss: 0.1305 - val_loss: 0.1447 - lr: 1.0000e-06\n",
      "Epoch 274/1000\n",
      "1/5 [=====>........................] - ETA: 0s - loss: 0.1467\n",
      "Epoch 00274: val_loss improved from 0.14475 to 0.14091, saving model to E:\\Dropbox\\AI\\Data_cleaning\\Thing\\Model\\Timetable_checkpoint.keras\n",
      "5/5 [==============================] - 1s 183ms/step - loss: 0.1268 - val_loss: 0.1409 - lr: 1.0000e-06\n",
      "Epoch 275/1000\n",
      "1/5 [=====>........................] - ETA: 0s - loss: 0.1375\n",
      "Epoch 00275: val_loss improved from 0.14091 to 0.13711, saving model to E:\\Dropbox\\AI\\Data_cleaning\\Thing\\Model\\Timetable_checkpoint.keras\n",
      "5/5 [==============================] - 1s 182ms/step - loss: 0.1185 - val_loss: 0.1371 - lr: 1.0000e-06\n",
      "Epoch 276/1000\n",
      "1/5 [=====>........................] - ETA: 0s - loss: 0.1148\n",
      "Epoch 00276: val_loss improved from 0.13711 to 0.13337, saving model to E:\\Dropbox\\AI\\Data_cleaning\\Thing\\Model\\Timetable_checkpoint.keras\n",
      "5/5 [==============================] - 1s 230ms/step - loss: 0.1184 - val_loss: 0.1334 - lr: 1.0000e-06\n",
      "Epoch 277/1000\n",
      "1/5 [=====>........................] - ETA: 0s - loss: 0.1181\n",
      "Epoch 00277: val_loss improved from 0.13337 to 0.12963, saving model to E:\\Dropbox\\AI\\Data_cleaning\\Thing\\Model\\Timetable_checkpoint.keras\n",
      "5/5 [==============================] - 1s 158ms/step - loss: 0.1142 - val_loss: 0.1296 - lr: 1.0000e-06\n",
      "Epoch 278/1000\n",
      "1/5 [=====>........................] - ETA: 0s - loss: 0.1142\n",
      "Epoch 00278: val_loss improved from 0.12963 to 0.12592, saving model to E:\\Dropbox\\AI\\Data_cleaning\\Thing\\Model\\Timetable_checkpoint.keras\n",
      "5/5 [==============================] - 1s 158ms/step - loss: 0.1099 - val_loss: 0.1259 - lr: 1.0000e-06\n",
      "Epoch 279/1000\n",
      "1/5 [=====>........................] - ETA: 0s - loss: 0.0980\n",
      "Epoch 00279: val_loss improved from 0.12592 to 0.12225, saving model to E:\\Dropbox\\AI\\Data_cleaning\\Thing\\Model\\Timetable_checkpoint.keras\n",
      "5/5 [==============================] - 1s 161ms/step - loss: 0.1137 - val_loss: 0.1222 - lr: 1.0000e-06\n",
      "Epoch 280/1000\n",
      "1/5 [=====>........................] - ETA: 0s - loss: 0.1123\n",
      "Epoch 00280: val_loss improved from 0.12225 to 0.11854, saving model to E:\\Dropbox\\AI\\Data_cleaning\\Thing\\Model\\Timetable_checkpoint.keras\n",
      "5/5 [==============================] - 1s 172ms/step - loss: 0.1026 - val_loss: 0.1185 - lr: 1.0000e-06\n",
      "Epoch 281/1000\n",
      "1/5 [=====>........................] - ETA: 0s - loss: 0.1098\n",
      "Epoch 00281: val_loss improved from 0.11854 to 0.11485, saving model to E:\\Dropbox\\AI\\Data_cleaning\\Thing\\Model\\Timetable_checkpoint.keras\n",
      "5/5 [==============================] - 1s 180ms/step - loss: 0.1026 - val_loss: 0.1148 - lr: 1.0000e-06\n",
      "Epoch 282/1000\n",
      "1/5 [=====>........................] - ETA: 0s - loss: 0.1056\n",
      "Epoch 00282: val_loss improved from 0.11485 to 0.11117, saving model to E:\\Dropbox\\AI\\Data_cleaning\\Thing\\Model\\Timetable_checkpoint.keras\n",
      "5/5 [==============================] - 1s 164ms/step - loss: 0.0968 - val_loss: 0.1112 - lr: 1.0000e-06\n",
      "Epoch 283/1000\n",
      "1/5 [=====>........................] - ETA: 0s - loss: 0.1034\n",
      "Epoch 00283: val_loss improved from 0.11117 to 0.10753, saving model to E:\\Dropbox\\AI\\Data_cleaning\\Thing\\Model\\Timetable_checkpoint.keras\n",
      "5/5 [==============================] - 1s 143ms/step - loss: 0.0960 - val_loss: 0.1075 - lr: 1.0000e-06\n",
      "Epoch 284/1000\n",
      "1/5 [=====>........................] - ETA: 0s - loss: 0.0994\n",
      "Epoch 00284: val_loss improved from 0.10753 to 0.10392, saving model to E:\\Dropbox\\AI\\Data_cleaning\\Thing\\Model\\Timetable_checkpoint.keras\n",
      "5/5 [==============================] - 1s 169ms/step - loss: 0.0905 - val_loss: 0.1039 - lr: 1.0000e-06\n",
      "Epoch 285/1000\n",
      "1/5 [=====>........................] - ETA: 0s - loss: 0.0951\n",
      "Epoch 00285: val_loss improved from 0.10392 to 0.10035, saving model to E:\\Dropbox\\AI\\Data_cleaning\\Thing\\Model\\Timetable_checkpoint.keras\n",
      "5/5 [==============================] - 1s 173ms/step - loss: 0.0958 - val_loss: 0.1004 - lr: 1.0000e-06\n",
      "Epoch 286/1000\n",
      "1/5 [=====>........................] - ETA: 0s - loss: 0.0932\n",
      "Epoch 00286: val_loss improved from 0.10035 to 0.09678, saving model to E:\\Dropbox\\AI\\Data_cleaning\\Thing\\Model\\Timetable_checkpoint.keras\n",
      "5/5 [==============================] - 1s 145ms/step - loss: 0.0828 - val_loss: 0.0968 - lr: 1.0000e-06\n",
      "Epoch 287/1000\n",
      "1/5 [=====>........................] - ETA: 0s - loss: 0.0799\n",
      "Epoch 00287: val_loss improved from 0.09678 to 0.09332, saving model to E:\\Dropbox\\AI\\Data_cleaning\\Thing\\Model\\Timetable_checkpoint.keras\n",
      "5/5 [==============================] - 1s 226ms/step - loss: 0.0847 - val_loss: 0.0933 - lr: 1.0000e-06\n",
      "Epoch 288/1000\n",
      "1/5 [=====>........................] - ETA: 0s - loss: 0.0952\n",
      "Epoch 00288: val_loss improved from 0.09332 to 0.08988, saving model to E:\\Dropbox\\AI\\Data_cleaning\\Thing\\Model\\Timetable_checkpoint.keras\n",
      "5/5 [==============================] - 1s 185ms/step - loss: 0.0787 - val_loss: 0.0899 - lr: 1.0000e-06\n",
      "Epoch 289/1000\n",
      "1/5 [=====>........................] - ETA: 0s - loss: 0.0669\n",
      "Epoch 00289: val_loss improved from 0.08988 to 0.08651, saving model to E:\\Dropbox\\AI\\Data_cleaning\\Thing\\Model\\Timetable_checkpoint.keras\n",
      "5/5 [==============================] - 1s 180ms/step - loss: 0.0812 - val_loss: 0.0865 - lr: 1.0000e-06\n",
      "Epoch 290/1000\n",
      "1/5 [=====>........................] - ETA: 0s - loss: 0.0696\n",
      "Epoch 00290: val_loss improved from 0.08651 to 0.08317, saving model to E:\\Dropbox\\AI\\Data_cleaning\\Thing\\Model\\Timetable_checkpoint.keras\n",
      "5/5 [==============================] - 1s 153ms/step - loss: 0.0694 - val_loss: 0.0832 - lr: 1.0000e-06\n",
      "Epoch 291/1000\n",
      "1/5 [=====>........................] - ETA: 0s - loss: 0.0631\n",
      "Epoch 00291: val_loss improved from 0.08317 to 0.07994, saving model to E:\\Dropbox\\AI\\Data_cleaning\\Thing\\Model\\Timetable_checkpoint.keras\n",
      "5/5 [==============================] - 1s 162ms/step - loss: 0.0722 - val_loss: 0.0799 - lr: 1.0000e-06\n",
      "Epoch 292/1000\n",
      "1/5 [=====>........................] - ETA: 0s - loss: 0.0633\n",
      "Epoch 00292: val_loss improved from 0.07994 to 0.07677, saving model to E:\\Dropbox\\AI\\Data_cleaning\\Thing\\Model\\Timetable_checkpoint.keras\n",
      "5/5 [==============================] - 1s 168ms/step - loss: 0.0683 - val_loss: 0.0768 - lr: 1.0000e-06\n",
      "Epoch 293/1000\n",
      "1/5 [=====>........................] - ETA: 0s - loss: 0.0627\n",
      "Epoch 00293: val_loss improved from 0.07677 to 0.07366, saving model to E:\\Dropbox\\AI\\Data_cleaning\\Thing\\Model\\Timetable_checkpoint.keras\n",
      "5/5 [==============================] - 1s 160ms/step - loss: 0.0691 - val_loss: 0.0737 - lr: 1.0000e-06\n",
      "Epoch 294/1000\n",
      "1/5 [=====>........................] - ETA: 0s - loss: 0.0685\n",
      "Epoch 00294: val_loss improved from 0.07366 to 0.07058, saving model to E:\\Dropbox\\AI\\Data_cleaning\\Thing\\Model\\Timetable_checkpoint.keras\n",
      "5/5 [==============================] - 1s 185ms/step - loss: 0.0659 - val_loss: 0.0706 - lr: 1.0000e-06\n",
      "Epoch 295/1000\n",
      "1/5 [=====>........................] - ETA: 0s - loss: 0.0529\n",
      "Epoch 00295: val_loss improved from 0.07058 to 0.06758, saving model to E:\\Dropbox\\AI\\Data_cleaning\\Thing\\Model\\Timetable_checkpoint.keras\n",
      "5/5 [==============================] - 1s 263ms/step - loss: 0.0671 - val_loss: 0.0676 - lr: 1.0000e-06\n",
      "Epoch 296/1000\n",
      "1/5 [=====>........................] - ETA: 0s - loss: 0.0484\n",
      "Epoch 00296: val_loss improved from 0.06758 to 0.06474, saving model to E:\\Dropbox\\AI\\Data_cleaning\\Thing\\Model\\Timetable_checkpoint.keras\n",
      "5/5 [==============================] - 1s 177ms/step - loss: 0.0566 - val_loss: 0.0647 - lr: 1.0000e-06\n",
      "Epoch 297/1000\n",
      "1/5 [=====>........................] - ETA: 0s - loss: 0.0550\n",
      "Epoch 00297: val_loss improved from 0.06474 to 0.06199, saving model to E:\\Dropbox\\AI\\Data_cleaning\\Thing\\Model\\Timetable_checkpoint.keras\n",
      "5/5 [==============================] - 1s 168ms/step - loss: 0.0556 - val_loss: 0.0620 - lr: 1.0000e-06\n",
      "Epoch 298/1000\n",
      "1/5 [=====>........................] - ETA: 0s - loss: 0.0505\n",
      "Epoch 00298: val_loss improved from 0.06199 to 0.05928, saving model to E:\\Dropbox\\AI\\Data_cleaning\\Thing\\Model\\Timetable_checkpoint.keras\n",
      "5/5 [==============================] - 1s 152ms/step - loss: 0.0500 - val_loss: 0.0593 - lr: 1.0000e-06\n",
      "Epoch 299/1000\n",
      "1/5 [=====>........................] - ETA: 0s - loss: 0.0559\n",
      "Epoch 00299: val_loss improved from 0.05928 to 0.05667, saving model to E:\\Dropbox\\AI\\Data_cleaning\\Thing\\Model\\Timetable_checkpoint.keras\n",
      "5/5 [==============================] - 1s 182ms/step - loss: 0.0462 - val_loss: 0.0567 - lr: 1.0000e-06\n",
      "Epoch 300/1000\n",
      "1/5 [=====>........................] - ETA: 0s - loss: 0.0578\n",
      "Epoch 00300: val_loss improved from 0.05667 to 0.05417, saving model to E:\\Dropbox\\AI\\Data_cleaning\\Thing\\Model\\Timetable_checkpoint.keras\n",
      "5/5 [==============================] - 1s 173ms/step - loss: 0.0503 - val_loss: 0.0542 - lr: 1.0000e-06\n",
      "Epoch 301/1000\n",
      "1/5 [=====>........................] - ETA: 0s - loss: 0.0632\n",
      "Epoch 00301: val_loss improved from 0.05417 to 0.05174, saving model to E:\\Dropbox\\AI\\Data_cleaning\\Thing\\Model\\Timetable_checkpoint.keras\n",
      "5/5 [==============================] - 1s 170ms/step - loss: 0.0436 - val_loss: 0.0517 - lr: 1.0000e-06\n",
      "Epoch 302/1000\n",
      "1/5 [=====>........................] - ETA: 0s - loss: 0.0448\n",
      "Epoch 00302: val_loss improved from 0.05174 to 0.04944, saving model to E:\\Dropbox\\AI\\Data_cleaning\\Thing\\Model\\Timetable_checkpoint.keras\n",
      "5/5 [==============================] - 1s 155ms/step - loss: 0.0450 - val_loss: 0.0494 - lr: 1.0000e-06\n",
      "Epoch 303/1000\n",
      "1/5 [=====>........................] - ETA: 0s - loss: 0.0389\n",
      "Epoch 00303: val_loss improved from 0.04944 to 0.04720, saving model to E:\\Dropbox\\AI\\Data_cleaning\\Thing\\Model\\Timetable_checkpoint.keras\n",
      "5/5 [==============================] - 1s 172ms/step - loss: 0.0401 - val_loss: 0.0472 - lr: 1.0000e-06\n",
      "Epoch 304/1000\n",
      "1/5 [=====>........................] - ETA: 0s - loss: 0.0464\n",
      "Epoch 00304: val_loss improved from 0.04720 to 0.04505, saving model to E:\\Dropbox\\AI\\Data_cleaning\\Thing\\Model\\Timetable_checkpoint.keras\n",
      "5/5 [==============================] - 1s 182ms/step - loss: 0.0385 - val_loss: 0.0451 - lr: 1.0000e-06\n",
      "Epoch 305/1000\n",
      "1/5 [=====>........................] - ETA: 0s - loss: 0.0334\n",
      "Epoch 00305: val_loss improved from 0.04505 to 0.04299, saving model to E:\\Dropbox\\AI\\Data_cleaning\\Thing\\Model\\Timetable_checkpoint.keras\n",
      "5/5 [==============================] - 1s 196ms/step - loss: 0.0411 - val_loss: 0.0430 - lr: 1.0000e-06\n",
      "Epoch 306/1000\n",
      "1/5 [=====>........................] - ETA: 0s - loss: 0.0434\n",
      "Epoch 00306: val_loss improved from 0.04299 to 0.04095, saving model to E:\\Dropbox\\AI\\Data_cleaning\\Thing\\Model\\Timetable_checkpoint.keras\n",
      "5/5 [==============================] - 1s 152ms/step - loss: 0.0411 - val_loss: 0.0410 - lr: 1.0000e-06\n",
      "Epoch 307/1000\n",
      "1/5 [=====>........................] - ETA: 0s - loss: 0.0301\n",
      "Epoch 00307: val_loss improved from 0.04095 to 0.03897, saving model to E:\\Dropbox\\AI\\Data_cleaning\\Thing\\Model\\Timetable_checkpoint.keras\n",
      "5/5 [==============================] - 1s 172ms/step - loss: 0.0359 - val_loss: 0.0390 - lr: 1.0000e-06\n",
      "Epoch 308/1000\n",
      "1/5 [=====>........................] - ETA: 0s - loss: 0.0338\n",
      "Epoch 00308: val_loss improved from 0.03897 to 0.03708, saving model to E:\\Dropbox\\AI\\Data_cleaning\\Thing\\Model\\Timetable_checkpoint.keras\n",
      "5/5 [==============================] - 1s 188ms/step - loss: 0.0320 - val_loss: 0.0371 - lr: 1.0000e-06\n",
      "Epoch 309/1000\n",
      "1/5 [=====>........................] - ETA: 0s - loss: 0.0453\n",
      "Epoch 00309: val_loss improved from 0.03708 to 0.03531, saving model to E:\\Dropbox\\AI\\Data_cleaning\\Thing\\Model\\Timetable_checkpoint.keras\n",
      "5/5 [==============================] - 1s 188ms/step - loss: 0.0325 - val_loss: 0.0353 - lr: 1.0000e-06\n",
      "Epoch 310/1000\n",
      "1/5 [=====>........................] - ETA: 0s - loss: 0.0379\n",
      "Epoch 00310: val_loss improved from 0.03531 to 0.03361, saving model to E:\\Dropbox\\AI\\Data_cleaning\\Thing\\Model\\Timetable_checkpoint.keras\n",
      "5/5 [==============================] - 1s 187ms/step - loss: 0.0289 - val_loss: 0.0336 - lr: 1.0000e-06\n",
      "Epoch 311/1000\n",
      "1/5 [=====>........................] - ETA: 0s - loss: 0.0255\n",
      "Epoch 00311: val_loss improved from 0.03361 to 0.03204, saving model to E:\\Dropbox\\AI\\Data_cleaning\\Thing\\Model\\Timetable_checkpoint.keras\n",
      "5/5 [==============================] - 1s 173ms/step - loss: 0.0331 - val_loss: 0.0320 - lr: 1.0000e-06\n",
      "Epoch 312/1000\n",
      "1/5 [=====>........................] - ETA: 0s - loss: 0.0281\n",
      "Epoch 00312: val_loss improved from 0.03204 to 0.03051, saving model to E:\\Dropbox\\AI\\Data_cleaning\\Thing\\Model\\Timetable_checkpoint.keras\n",
      "5/5 [==============================] - 1s 207ms/step - loss: 0.0290 - val_loss: 0.0305 - lr: 1.0000e-06\n",
      "Epoch 313/1000\n",
      "1/5 [=====>........................] - ETA: 0s - loss: 0.0289\n",
      "Epoch 00313: val_loss improved from 0.03051 to 0.02905, saving model to E:\\Dropbox\\AI\\Data_cleaning\\Thing\\Model\\Timetable_checkpoint.keras\n",
      "5/5 [==============================] - 1s 182ms/step - loss: 0.0298 - val_loss: 0.0290 - lr: 1.0000e-06\n",
      "Epoch 314/1000\n",
      "1/5 [=====>........................] - ETA: 0s - loss: 0.0318\n",
      "Epoch 00314: val_loss improved from 0.02905 to 0.02765, saving model to E:\\Dropbox\\AI\\Data_cleaning\\Thing\\Model\\Timetable_checkpoint.keras\n",
      "5/5 [==============================] - 1s 202ms/step - loss: 0.0263 - val_loss: 0.0277 - lr: 1.0000e-06\n",
      "Epoch 315/1000\n",
      "1/5 [=====>........................] - ETA: 0s - loss: 0.0200\n",
      "Epoch 00315: val_loss improved from 0.02765 to 0.02632, saving model to E:\\Dropbox\\AI\\Data_cleaning\\Thing\\Model\\Timetable_checkpoint.keras\n",
      "5/5 [==============================] - 1s 168ms/step - loss: 0.0272 - val_loss: 0.0263 - lr: 1.0000e-06\n",
      "Epoch 316/1000\n",
      "1/5 [=====>........................] - ETA: 0s - loss: 0.0250\n",
      "Epoch 00316: val_loss improved from 0.02632 to 0.02508, saving model to E:\\Dropbox\\AI\\Data_cleaning\\Thing\\Model\\Timetable_checkpoint.keras\n",
      "5/5 [==============================] - 1s 175ms/step - loss: 0.0230 - val_loss: 0.0251 - lr: 1.0000e-06\n",
      "Epoch 317/1000\n",
      "1/5 [=====>........................] - ETA: 0s - loss: 0.0242\n",
      "Epoch 00317: val_loss improved from 0.02508 to 0.02399, saving model to E:\\Dropbox\\AI\\Data_cleaning\\Thing\\Model\\Timetable_checkpoint.keras\n",
      "5/5 [==============================] - 1s 210ms/step - loss: 0.0248 - val_loss: 0.0240 - lr: 1.0000e-06\n",
      "Epoch 318/1000\n",
      "1/5 [=====>........................] - ETA: 0s - loss: 0.0348\n",
      "Epoch 00318: val_loss improved from 0.02399 to 0.02298, saving model to E:\\Dropbox\\AI\\Data_cleaning\\Thing\\Model\\Timetable_checkpoint.keras\n",
      "5/5 [==============================] - 1s 163ms/step - loss: 0.0206 - val_loss: 0.0230 - lr: 1.0000e-06\n",
      "Epoch 319/1000\n",
      "1/5 [=====>........................] - ETA: 0s - loss: 0.0196\n",
      "Epoch 00319: val_loss improved from 0.02298 to 0.02204, saving model to E:\\Dropbox\\AI\\Data_cleaning\\Thing\\Model\\Timetable_checkpoint.keras\n",
      "5/5 [==============================] - 1s 165ms/step - loss: 0.0226 - val_loss: 0.0220 - lr: 1.0000e-06\n",
      "Epoch 320/1000\n",
      "1/5 [=====>........................] - ETA: 0s - loss: 0.0174\n",
      "Epoch 00320: val_loss improved from 0.02204 to 0.02115, saving model to E:\\Dropbox\\AI\\Data_cleaning\\Thing\\Model\\Timetable_checkpoint.keras\n",
      "5/5 [==============================] - 1s 175ms/step - loss: 0.0192 - val_loss: 0.0212 - lr: 1.0000e-06\n",
      "Epoch 321/1000\n",
      "1/5 [=====>........................] - ETA: 0s - loss: 0.0305\n",
      "Epoch 00321: val_loss improved from 0.02115 to 0.02038, saving model to E:\\Dropbox\\AI\\Data_cleaning\\Thing\\Model\\Timetable_checkpoint.keras\n",
      "5/5 [==============================] - 1s 206ms/step - loss: 0.0203 - val_loss: 0.0204 - lr: 1.0000e-06\n",
      "Epoch 322/1000\n",
      "1/5 [=====>........................] - ETA: 0s - loss: 0.0354\n",
      "Epoch 00322: val_loss improved from 0.02038 to 0.01962, saving model to E:\\Dropbox\\AI\\Data_cleaning\\Thing\\Model\\Timetable_checkpoint.keras\n",
      "5/5 [==============================] - 1s 168ms/step - loss: 0.0218 - val_loss: 0.0196 - lr: 1.0000e-06\n",
      "Epoch 323/1000\n",
      "1/5 [=====>........................] - ETA: 0s - loss: 0.0195\n",
      "Epoch 00323: val_loss improved from 0.01962 to 0.01891, saving model to E:\\Dropbox\\AI\\Data_cleaning\\Thing\\Model\\Timetable_checkpoint.keras\n",
      "5/5 [==============================] - 1s 223ms/step - loss: 0.0188 - val_loss: 0.0189 - lr: 1.0000e-06\n",
      "Epoch 324/1000\n",
      "1/5 [=====>........................] - ETA: 0s - loss: 0.0131\n",
      "Epoch 00324: val_loss improved from 0.01891 to 0.01824, saving model to E:\\Dropbox\\AI\\Data_cleaning\\Thing\\Model\\Timetable_checkpoint.keras\n",
      "5/5 [==============================] - 1s 175ms/step - loss: 0.0209 - val_loss: 0.0182 - lr: 1.0000e-06\n",
      "Epoch 325/1000\n",
      "1/5 [=====>........................] - ETA: 0s - loss: 0.0181\n",
      "Epoch 00325: val_loss improved from 0.01824 to 0.01758, saving model to E:\\Dropbox\\AI\\Data_cleaning\\Thing\\Model\\Timetable_checkpoint.keras\n",
      "5/5 [==============================] - 1s 212ms/step - loss: 0.0176 - val_loss: 0.0176 - lr: 1.0000e-06\n",
      "Epoch 326/1000\n",
      "1/5 [=====>........................] - ETA: 0s - loss: 0.0280\n",
      "Epoch 00326: val_loss improved from 0.01758 to 0.01701, saving model to E:\\Dropbox\\AI\\Data_cleaning\\Thing\\Model\\Timetable_checkpoint.keras\n",
      "5/5 [==============================] - 1s 158ms/step - loss: 0.0170 - val_loss: 0.0170 - lr: 1.0000e-06\n",
      "Epoch 327/1000\n",
      "1/5 [=====>........................] - ETA: 0s - loss: 0.0128\n",
      "Epoch 00327: val_loss improved from 0.01701 to 0.01650, saving model to E:\\Dropbox\\AI\\Data_cleaning\\Thing\\Model\\Timetable_checkpoint.keras\n",
      "5/5 [==============================] - 1s 136ms/step - loss: 0.0185 - val_loss: 0.0165 - lr: 1.0000e-06\n",
      "Epoch 328/1000\n",
      "1/5 [=====>........................] - ETA: 0s - loss: 0.0194\n",
      "Epoch 00328: val_loss improved from 0.01650 to 0.01603, saving model to E:\\Dropbox\\AI\\Data_cleaning\\Thing\\Model\\Timetable_checkpoint.keras\n",
      "5/5 [==============================] - 1s 180ms/step - loss: 0.0169 - val_loss: 0.0160 - lr: 1.0000e-06\n",
      "Epoch 329/1000\n",
      "1/5 [=====>........................] - ETA: 0s - loss: 0.0127\n",
      "Epoch 00329: val_loss improved from 0.01603 to 0.01561, saving model to E:\\Dropbox\\AI\\Data_cleaning\\Thing\\Model\\Timetable_checkpoint.keras\n",
      "5/5 [==============================] - 1s 182ms/step - loss: 0.0175 - val_loss: 0.0156 - lr: 1.0000e-06\n",
      "Epoch 330/1000\n",
      "1/5 [=====>........................] - ETA: 0s - loss: 0.0138\n",
      "Epoch 00330: val_loss improved from 0.01561 to 0.01520, saving model to E:\\Dropbox\\AI\\Data_cleaning\\Thing\\Model\\Timetable_checkpoint.keras\n",
      "5/5 [==============================] - 1s 182ms/step - loss: 0.0179 - val_loss: 0.0152 - lr: 1.0000e-06\n",
      "Epoch 331/1000\n",
      "1/5 [=====>........................] - ETA: 0s - loss: 0.0180\n",
      "Epoch 00331: val_loss improved from 0.01520 to 0.01481, saving model to E:\\Dropbox\\AI\\Data_cleaning\\Thing\\Model\\Timetable_checkpoint.keras\n",
      "5/5 [==============================] - 1s 183ms/step - loss: 0.0167 - val_loss: 0.0148 - lr: 1.0000e-06\n",
      "Epoch 332/1000\n",
      "1/5 [=====>........................] - ETA: 0s - loss: 0.0107\n",
      "Epoch 00332: val_loss improved from 0.01481 to 0.01448, saving model to E:\\Dropbox\\AI\\Data_cleaning\\Thing\\Model\\Timetable_checkpoint.keras\n",
      "5/5 [==============================] - 1s 170ms/step - loss: 0.0283 - val_loss: 0.0145 - lr: 1.0000e-06\n",
      "Epoch 333/1000\n",
      "1/5 [=====>........................] - ETA: 0s - loss: 0.0279\n",
      "Epoch 00333: val_loss improved from 0.01448 to 0.01421, saving model to E:\\Dropbox\\AI\\Data_cleaning\\Thing\\Model\\Timetable_checkpoint.keras\n",
      "5/5 [==============================] - 1s 160ms/step - loss: 0.0167 - val_loss: 0.0142 - lr: 1.0000e-06\n",
      "Epoch 334/1000\n",
      "1/5 [=====>........................] - ETA: 0s - loss: 0.0320\n",
      "Epoch 00334: val_loss improved from 0.01421 to 0.01395, saving model to E:\\Dropbox\\AI\\Data_cleaning\\Thing\\Model\\Timetable_checkpoint.keras\n",
      "5/5 [==============================] - 1s 188ms/step - loss: 0.0164 - val_loss: 0.0139 - lr: 1.0000e-06\n",
      "Epoch 335/1000\n",
      "1/5 [=====>........................] - ETA: 0s - loss: 0.0157\n",
      "Epoch 00335: val_loss improved from 0.01395 to 0.01367, saving model to E:\\Dropbox\\AI\\Data_cleaning\\Thing\\Model\\Timetable_checkpoint.keras\n",
      "5/5 [==============================] - 1s 227ms/step - loss: 0.0188 - val_loss: 0.0137 - lr: 1.0000e-06\n",
      "Epoch 336/1000\n",
      "1/5 [=====>........................] - ETA: 0s - loss: 0.0243\n",
      "Epoch 00336: val_loss improved from 0.01367 to 0.01342, saving model to E:\\Dropbox\\AI\\Data_cleaning\\Thing\\Model\\Timetable_checkpoint.keras\n",
      "5/5 [==============================] - 1s 164ms/step - loss: 0.0171 - val_loss: 0.0134 - lr: 1.0000e-06\n",
      "Epoch 337/1000\n",
      "1/5 [=====>........................] - ETA: 0s - loss: 0.0316\n",
      "Epoch 00337: val_loss improved from 0.01342 to 0.01315, saving model to E:\\Dropbox\\AI\\Data_cleaning\\Thing\\Model\\Timetable_checkpoint.keras\n",
      "5/5 [==============================] - 1s 157ms/step - loss: 0.0168 - val_loss: 0.0131 - lr: 1.0000e-06\n",
      "Epoch 338/1000\n",
      "1/5 [=====>........................] - ETA: 0s - loss: 0.0143\n",
      "Epoch 00338: val_loss improved from 0.01315 to 0.01291, saving model to E:\\Dropbox\\AI\\Data_cleaning\\Thing\\Model\\Timetable_checkpoint.keras\n",
      "5/5 [==============================] - 1s 146ms/step - loss: 0.0175 - val_loss: 0.0129 - lr: 1.0000e-06\n",
      "Epoch 339/1000\n",
      "1/5 [=====>........................] - ETA: 0s - loss: 0.0132\n",
      "Epoch 00339: val_loss improved from 0.01291 to 0.01266, saving model to E:\\Dropbox\\AI\\Data_cleaning\\Thing\\Model\\Timetable_checkpoint.keras\n",
      "5/5 [==============================] - 1s 193ms/step - loss: 0.0165 - val_loss: 0.0127 - lr: 1.0000e-06\n",
      "Epoch 340/1000\n",
      "1/5 [=====>........................] - ETA: 0s - loss: 0.0105\n",
      "Epoch 00340: val_loss improved from 0.01266 to 0.01247, saving model to E:\\Dropbox\\AI\\Data_cleaning\\Thing\\Model\\Timetable_checkpoint.keras\n",
      "5/5 [==============================] - 1s 205ms/step - loss: 0.0152 - val_loss: 0.0125 - lr: 1.0000e-06\n",
      "Epoch 341/1000\n",
      "1/5 [=====>........................] - ETA: 0s - loss: 0.0114\n",
      "Epoch 00341: val_loss improved from 0.01247 to 0.01231, saving model to E:\\Dropbox\\AI\\Data_cleaning\\Thing\\Model\\Timetable_checkpoint.keras\n",
      "5/5 [==============================] - 1s 179ms/step - loss: 0.0152 - val_loss: 0.0123 - lr: 1.0000e-06\n",
      "Epoch 342/1000\n",
      "1/5 [=====>........................] - ETA: 0s - loss: 0.0303\n",
      "Epoch 00342: val_loss improved from 0.01231 to 0.01217, saving model to E:\\Dropbox\\AI\\Data_cleaning\\Thing\\Model\\Timetable_checkpoint.keras\n",
      "5/5 [==============================] - 1s 174ms/step - loss: 0.0183 - val_loss: 0.0122 - lr: 1.0000e-06\n",
      "Epoch 343/1000\n",
      "1/5 [=====>........................] - ETA: 0s - loss: 0.0129\n",
      "Epoch 00343: val_loss improved from 0.01217 to 0.01202, saving model to E:\\Dropbox\\AI\\Data_cleaning\\Thing\\Model\\Timetable_checkpoint.keras\n",
      "5/5 [==============================] - 1s 158ms/step - loss: 0.0173 - val_loss: 0.0120 - lr: 1.0000e-06\n",
      "Epoch 344/1000\n",
      "1/5 [=====>........................] - ETA: 0s - loss: 0.0079\n",
      "Epoch 00344: val_loss improved from 0.01202 to 0.01188, saving model to E:\\Dropbox\\AI\\Data_cleaning\\Thing\\Model\\Timetable_checkpoint.keras\n",
      "5/5 [==============================] - 1s 205ms/step - loss: 0.0163 - val_loss: 0.0119 - lr: 1.0000e-06\n",
      "Epoch 345/1000\n",
      "1/5 [=====>........................] - ETA: 0s - loss: 0.0178\n",
      "Epoch 00345: val_loss improved from 0.01188 to 0.01175, saving model to E:\\Dropbox\\AI\\Data_cleaning\\Thing\\Model\\Timetable_checkpoint.keras\n",
      "5/5 [==============================] - 1s 209ms/step - loss: 0.0281 - val_loss: 0.0118 - lr: 1.0000e-06\n",
      "Epoch 346/1000\n",
      "1/5 [=====>........................] - ETA: 0s - loss: 0.0156\n",
      "Epoch 00346: val_loss improved from 0.01175 to 0.01170, saving model to E:\\Dropbox\\AI\\Data_cleaning\\Thing\\Model\\Timetable_checkpoint.keras\n",
      "\n",
      "Epoch 00346: ReduceLROnPlateau reducing learning rate to 9.899999975004903e-07.\n",
      "5/5 [==============================] - 1s 199ms/step - loss: 0.0158 - val_loss: 0.0117 - lr: 1.0000e-06\n",
      "Epoch 347/1000\n",
      "1/5 [=====>........................] - ETA: 0s - loss: 0.0361\n",
      "Epoch 00347: val_loss improved from 0.01170 to 0.01164, saving model to E:\\Dropbox\\AI\\Data_cleaning\\Thing\\Model\\Timetable_checkpoint.keras\n",
      "5/5 [==============================] - 1s 166ms/step - loss: 0.0160 - val_loss: 0.0116 - lr: 9.9000e-07\n",
      "Epoch 348/1000\n",
      "1/5 [=====>........................] - ETA: 0s - loss: 0.0155\n",
      "Epoch 00348: val_loss improved from 0.01164 to 0.01156, saving model to E:\\Dropbox\\AI\\Data_cleaning\\Thing\\Model\\Timetable_checkpoint.keras\n",
      "\n",
      "Epoch 00348: ReduceLROnPlateau reducing learning rate to 9.800999896469875e-07.\n",
      "5/5 [==============================] - 1s 192ms/step - loss: 0.0154 - val_loss: 0.0116 - lr: 9.9000e-07\n",
      "Epoch 349/1000\n",
      "1/5 [=====>........................] - ETA: 0s - loss: 0.0229\n",
      "Epoch 00349: val_loss improved from 0.01156 to 0.01147, saving model to E:\\Dropbox\\AI\\Data_cleaning\\Thing\\Model\\Timetable_checkpoint.keras\n",
      "5/5 [==============================] - 1s 173ms/step - loss: 0.0163 - val_loss: 0.0115 - lr: 9.8010e-07\n",
      "Epoch 350/1000\n",
      "1/5 [=====>........................] - ETA: 0s - loss: 0.0106\n",
      "Epoch 00350: val_loss improved from 0.01147 to 0.01137, saving model to E:\\Dropbox\\AI\\Data_cleaning\\Thing\\Model\\Timetable_checkpoint.keras\n",
      "\n",
      "Epoch 00350: ReduceLROnPlateau reducing learning rate to 9.702990257665079e-07.\n",
      "5/5 [==============================] - 1s 227ms/step - loss: 0.0145 - val_loss: 0.0114 - lr: 9.8010e-07\n",
      "Epoch 351/1000\n",
      "1/5 [=====>........................] - ETA: 0s - loss: 0.0104\n",
      "Epoch 00351: val_loss improved from 0.01137 to 0.01129, saving model to E:\\Dropbox\\AI\\Data_cleaning\\Thing\\Model\\Timetable_checkpoint.keras\n",
      "5/5 [==============================] - 1s 153ms/step - loss: 0.0187 - val_loss: 0.0113 - lr: 9.7030e-07\n",
      "Epoch 352/1000\n",
      "1/5 [=====>........................] - ETA: 0s - loss: 0.0165\n",
      "Epoch 00352: val_loss improved from 0.01129 to 0.01124, saving model to E:\\Dropbox\\AI\\Data_cleaning\\Thing\\Model\\Timetable_checkpoint.keras\n",
      "\n",
      "Epoch 00352: ReduceLROnPlateau reducing learning rate to 9.605959803593577e-07.\n",
      "5/5 [==============================] - 1s 158ms/step - loss: 0.0145 - val_loss: 0.0112 - lr: 9.7030e-07\n",
      "Epoch 353/1000\n",
      "1/5 [=====>........................] - ETA: 0s - loss: 0.0277\n",
      "Epoch 00353: val_loss improved from 0.01124 to 0.01119, saving model to E:\\Dropbox\\AI\\Data_cleaning\\Thing\\Model\\Timetable_checkpoint.keras\n",
      "\n",
      "Epoch 00353: ReduceLROnPlateau reducing learning rate to 9.50990065575752e-07.\n",
      "5/5 [==============================] - 1s 156ms/step - loss: 0.0153 - val_loss: 0.0112 - lr: 9.6060e-07\n",
      "Epoch 354/1000\n",
      "1/5 [=====>........................] - ETA: 0s - loss: 0.0149\n",
      "Epoch 00354: val_loss improved from 0.01119 to 0.01113, saving model to E:\\Dropbox\\AI\\Data_cleaning\\Thing\\Model\\Timetable_checkpoint.keras\n",
      "5/5 [==============================] - 1s 141ms/step - loss: 0.0147 - val_loss: 0.0111 - lr: 9.5099e-07\n",
      "Epoch 355/1000\n",
      "1/5 [=====>........................] - ETA: 0s - loss: 0.0120\n",
      "Epoch 00355: val_loss improved from 0.01113 to 0.01107, saving model to E:\\Dropbox\\AI\\Data_cleaning\\Thing\\Model\\Timetable_checkpoint.keras\n",
      "\n",
      "Epoch 00355: ReduceLROnPlateau reducing learning rate to 9.414801559159969e-07.\n",
      "5/5 [==============================] - 1s 183ms/step - loss: 0.0162 - val_loss: 0.0111 - lr: 9.5099e-07\n",
      "Epoch 356/1000\n",
      "1/5 [=====>........................] - ETA: 0s - loss: 0.0278\n",
      "Epoch 00356: val_loss improved from 0.01107 to 0.01104, saving model to E:\\Dropbox\\AI\\Data_cleaning\\Thing\\Model\\Timetable_checkpoint.keras\n",
      "\n",
      "Epoch 00356: ReduceLROnPlateau reducing learning rate to 9.320653509803379e-07.\n",
      "5/5 [==============================] - 1s 155ms/step - loss: 0.0156 - val_loss: 0.0110 - lr: 9.4148e-07\n",
      "Epoch 357/1000\n",
      "1/5 [=====>........................] - ETA: 0s - loss: 0.0107\n",
      "Epoch 00357: val_loss improved from 0.01104 to 0.01101, saving model to E:\\Dropbox\\AI\\Data_cleaning\\Thing\\Model\\Timetable_checkpoint.keras\n",
      "5/5 [==============================] - 1s 163ms/step - loss: 0.0258 - val_loss: 0.0110 - lr: 9.3207e-07\n",
      "Epoch 358/1000\n",
      "1/5 [=====>........................] - ETA: 0s - loss: 0.0109\n",
      "Epoch 00358: val_loss did not improve from 0.01101\n",
      "\n",
      "Epoch 00358: ReduceLROnPlateau reducing learning rate to 9.227446940940354e-07.\n",
      "5/5 [==============================] - 0s 31ms/step - loss: 0.0150 - val_loss: 0.0110 - lr: 9.3207e-07\n",
      "Epoch 359/1000\n",
      "1/5 [=====>........................] - ETA: 0s - loss: 0.0110\n",
      "Epoch 00359: val_loss did not improve from 0.01101\n",
      "\n",
      "Epoch 00359: ReduceLROnPlateau reducing learning rate to 9.1351722858235e-07.\n",
      "5/5 [==============================] - 0s 41ms/step - loss: 0.0281 - val_loss: 0.0111 - lr: 9.2274e-07\n",
      "Epoch 360/1000\n",
      "1/5 [=====>........................] - ETA: 0s - loss: 0.0257\n",
      "Epoch 00360: val_loss did not improve from 0.01101\n",
      "\n",
      "Epoch 00360: ReduceLROnPlateau reducing learning rate to 9.043820540455272e-07.\n",
      "5/5 [==============================] - 0s 28ms/step - loss: 0.0154 - val_loss: 0.0111 - lr: 9.1352e-07\n",
      "Epoch 361/1000\n",
      "1/5 [=====>........................] - ETA: 0s - loss: 0.0104\n",
      "Epoch 00361: val_loss did not improve from 0.01101\n",
      "\n",
      "Epoch 00361: ReduceLROnPlateau reducing learning rate to 8.953382138088273e-07.\n",
      "5/5 [==============================] - 0s 44ms/step - loss: 0.0271 - val_loss: 0.0111 - lr: 9.0438e-07\n",
      "Epoch 362/1000\n",
      "1/5 [=====>........................] - ETA: 0s - loss: 0.0075\n",
      "Epoch 00362: val_loss did not improve from 0.01101\n",
      "\n",
      "Epoch 00362: ReduceLROnPlateau reducing learning rate to 8.863848074724956e-07.\n",
      "5/5 [==============================] - 0s 25ms/step - loss: 0.0144 - val_loss: 0.0111 - lr: 8.9534e-07\n",
      "Epoch 363/1000\n",
      "1/5 [=====>........................] - ETA: 0s - loss: 0.0144\n",
      "Epoch 00363: val_loss did not improve from 0.01101\n",
      "\n",
      "Epoch 00363: ReduceLROnPlateau reducing learning rate to 8.775209346367773e-07.\n",
      "5/5 [==============================] - 0s 62ms/step - loss: 0.0156 - val_loss: 0.0110 - lr: 8.8638e-07\n",
      "Epoch 364/1000\n",
      "1/5 [=====>........................] - ETA: 0s - loss: 0.0129\n",
      "Epoch 00364: val_loss improved from 0.01101 to 0.01098, saving model to E:\\Dropbox\\AI\\Data_cleaning\\Thing\\Model\\Timetable_checkpoint.keras\n",
      "\n",
      "Epoch 00364: ReduceLROnPlateau reducing learning rate to 8.687457511769025e-07.\n",
      "5/5 [==============================] - 1s 212ms/step - loss: 0.0149 - val_loss: 0.0110 - lr: 8.7752e-07\n",
      "Epoch 365/1000\n",
      "1/5 [=====>........................] - ETA: 0s - loss: 0.0358\n",
      "Epoch 00365: val_loss improved from 0.01098 to 0.01093, saving model to E:\\Dropbox\\AI\\Data_cleaning\\Thing\\Model\\Timetable_checkpoint.keras\n",
      "\n",
      "Epoch 00365: ReduceLROnPlateau reducing learning rate to 8.600583004181316e-07.\n",
      "5/5 [==============================] - 1s 164ms/step - loss: 0.0156 - val_loss: 0.0109 - lr: 8.6875e-07\n",
      "Epoch 366/1000\n",
      "1/5 [=====>........................] - ETA: 0s - loss: 0.0123\n",
      "Epoch 00366: val_loss improved from 0.01093 to 0.01090, saving model to E:\\Dropbox\\AI\\Data_cleaning\\Thing\\Model\\Timetable_checkpoint.keras\n",
      "5/5 [==============================] - 1s 182ms/step - loss: 0.0161 - val_loss: 0.0109 - lr: 8.6006e-07\n",
      "Epoch 367/1000\n",
      "1/5 [=====>........................] - ETA: 0s - loss: 0.0147\n",
      "Epoch 00367: val_loss improved from 0.01090 to 0.01087, saving model to E:\\Dropbox\\AI\\Data_cleaning\\Thing\\Model\\Timetable_checkpoint.keras\n",
      "\n",
      "Epoch 00367: ReduceLROnPlateau reducing learning rate to 8.514577382356947e-07.\n",
      "5/5 [==============================] - 1s 183ms/step - loss: 0.0155 - val_loss: 0.0109 - lr: 8.6006e-07\n",
      "Epoch 368/1000\n",
      "1/5 [=====>........................] - ETA: 0s - loss: 0.0103\n",
      "Epoch 00368: val_loss improved from 0.01087 to 0.01084, saving model to E:\\Dropbox\\AI\\Data_cleaning\\Thing\\Model\\Timetable_checkpoint.keras\n",
      "\n",
      "Epoch 00368: ReduceLROnPlateau reducing learning rate to 8.429431642298369e-07.\n",
      "5/5 [==============================] - 1s 168ms/step - loss: 0.0172 - val_loss: 0.0108 - lr: 8.5146e-07\n",
      "Epoch 369/1000\n",
      "1/5 [=====>........................] - ETA: 0s - loss: 0.0272\n",
      "Epoch 00369: val_loss improved from 0.01084 to 0.01080, saving model to E:\\Dropbox\\AI\\Data_cleaning\\Thing\\Model\\Timetable_checkpoint.keras\n",
      "\n",
      "Epoch 00369: ReduceLROnPlateau reducing learning rate to 8.34513734275788e-07.\n",
      "5/5 [==============================] - 1s 192ms/step - loss: 0.0166 - val_loss: 0.0108 - lr: 8.4294e-07\n",
      "Epoch 370/1000\n",
      "1/5 [=====>........................] - ETA: 0s - loss: 0.0099\n",
      "Epoch 00370: val_loss improved from 0.01080 to 0.01078, saving model to E:\\Dropbox\\AI\\Data_cleaning\\Thing\\Model\\Timetable_checkpoint.keras\n",
      "5/5 [==============================] - 1s 165ms/step - loss: 0.0165 - val_loss: 0.0108 - lr: 8.3451e-07\n",
      "Epoch 371/1000\n",
      "1/5 [=====>........................] - ETA: 0s - loss: 0.0161\n",
      "Epoch 00371: val_loss improved from 0.01078 to 0.01076, saving model to E:\\Dropbox\\AI\\Data_cleaning\\Thing\\Model\\Timetable_checkpoint.keras\n",
      "\n",
      "Epoch 00371: ReduceLROnPlateau reducing learning rate to 8.261686042487781e-07.\n",
      "5/5 [==============================] - 1s 190ms/step - loss: 0.0145 - val_loss: 0.0108 - lr: 8.3451e-07\n",
      "Epoch 372/1000\n",
      "1/5 [=====>........................] - ETA: 0s - loss: 0.0077\n",
      "Epoch 00372: val_loss improved from 0.01076 to 0.01074, saving model to E:\\Dropbox\\AI\\Data_cleaning\\Thing\\Model\\Timetable_checkpoint.keras\n",
      "\n",
      "Epoch 00372: ReduceLROnPlateau reducing learning rate to 8.179069300240371e-07.\n",
      "5/5 [==============================] - 1s 202ms/step - loss: 0.0173 - val_loss: 0.0107 - lr: 8.2617e-07\n",
      "Epoch 373/1000\n",
      "1/5 [=====>........................] - ETA: 0s - loss: 0.0111\n",
      "Epoch 00373: val_loss improved from 0.01074 to 0.01070, saving model to E:\\Dropbox\\AI\\Data_cleaning\\Thing\\Model\\Timetable_checkpoint.keras\n",
      "\n",
      "Epoch 00373: ReduceLROnPlateau reducing learning rate to 8.097278674767949e-07.\n",
      "5/5 [==============================] - 1s 257ms/step - loss: 0.0158 - val_loss: 0.0107 - lr: 8.1791e-07\n",
      "Epoch 374/1000\n",
      "1/5 [=====>........................] - ETA: 0s - loss: 0.0131\n",
      "Epoch 00374: val_loss improved from 0.01070 to 0.01067, saving model to E:\\Dropbox\\AI\\Data_cleaning\\Thing\\Model\\Timetable_checkpoint.keras\n",
      "5/5 [==============================] - 1s 226ms/step - loss: 0.0152 - val_loss: 0.0107 - lr: 8.0973e-07\n",
      "Epoch 375/1000\n",
      "1/5 [=====>........................] - ETA: 0s - loss: 0.0127\n",
      "Epoch 00375: val_loss improved from 0.01067 to 0.01066, saving model to E:\\Dropbox\\AI\\Data_cleaning\\Thing\\Model\\Timetable_checkpoint.keras\n",
      "\n",
      "Epoch 00375: ReduceLROnPlateau reducing learning rate to 8.016305724822814e-07.\n",
      "5/5 [==============================] - 1s 200ms/step - loss: 0.0149 - val_loss: 0.0107 - lr: 8.0973e-07\n",
      "Epoch 376/1000\n",
      "1/5 [=====>........................] - ETA: 0s - loss: 0.0256\n",
      "Epoch 00376: val_loss improved from 0.01066 to 0.01065, saving model to E:\\Dropbox\\AI\\Data_cleaning\\Thing\\Model\\Timetable_checkpoint.keras\n",
      "\n",
      "Epoch 00376: ReduceLROnPlateau reducing learning rate to 7.936142571907112e-07.\n",
      "5/5 [==============================] - 1s 150ms/step - loss: 0.0159 - val_loss: 0.0106 - lr: 8.0163e-07\n",
      "Epoch 377/1000\n",
      "1/5 [=====>........................] - ETA: 0s - loss: 0.0303\n",
      "Epoch 00377: val_loss improved from 0.01065 to 0.01062, saving model to E:\\Dropbox\\AI\\Data_cleaning\\Thing\\Model\\Timetable_checkpoint.keras\n",
      "\n",
      "Epoch 00377: ReduceLROnPlateau reducing learning rate to 7.856781337522989e-07.\n",
      "5/5 [==============================] - 1s 148ms/step - loss: 0.0144 - val_loss: 0.0106 - lr: 7.9361e-07\n",
      "Epoch 378/1000\n",
      "1/5 [=====>........................] - ETA: 0s - loss: 0.0119\n",
      "Epoch 00378: val_loss improved from 0.01062 to 0.01060, saving model to E:\\Dropbox\\AI\\Data_cleaning\\Thing\\Model\\Timetable_checkpoint.keras\n",
      "\n",
      "Epoch 00378: ReduceLROnPlateau reducing learning rate to 7.778213580422743e-07.\n",
      "5/5 [==============================] - 1s 165ms/step - loss: 0.0253 - val_loss: 0.0106 - lr: 7.8568e-07\n",
      "Epoch 379/1000\n",
      "1/5 [=====>........................] - ETA: 0s - loss: 0.0170\n",
      "Epoch 00379: val_loss did not improve from 0.01060\n",
      "\n",
      "Epoch 00379: ReduceLROnPlateau reducing learning rate to 7.700431422108523e-07.\n",
      "5/5 [==============================] - 0s 48ms/step - loss: 0.0151 - val_loss: 0.0106 - lr: 7.7782e-07\n",
      "Epoch 380/1000\n",
      "1/5 [=====>........................] - ETA: 0s - loss: 0.0132\n",
      "Epoch 00380: val_loss improved from 0.01060 to 0.01059, saving model to E:\\Dropbox\\AI\\Data_cleaning\\Thing\\Model\\Timetable_checkpoint.keras\n",
      "\n",
      "Epoch 00380: ReduceLROnPlateau reducing learning rate to 7.623426984082471e-07.\n",
      "5/5 [==============================] - 1s 208ms/step - loss: 0.0170 - val_loss: 0.0106 - lr: 7.7004e-07\n",
      "Epoch 381/1000\n",
      "1/5 [=====>........................] - ETA: 0s - loss: 0.0112\n",
      "Epoch 00381: val_loss did not improve from 0.01059\n",
      "\n",
      "Epoch 00381: ReduceLROnPlateau reducing learning rate to 7.547192950596582e-07.\n",
      "5/5 [==============================] - 0s 22ms/step - loss: 0.0185 - val_loss: 0.0106 - lr: 7.6234e-07\n",
      "Epoch 382/1000\n",
      "1/5 [=====>........................] - ETA: 0s - loss: 0.0288\n",
      "Epoch 00382: val_loss did not improve from 0.01059\n",
      "\n",
      "Epoch 00382: ReduceLROnPlateau reducing learning rate to 7.471720880403154e-07.\n",
      "5/5 [==============================] - 0s 35ms/step - loss: 0.0154 - val_loss: 0.0106 - lr: 7.5472e-07\n",
      "Epoch 383/1000\n",
      "1/5 [=====>........................] - ETA: 0s - loss: 0.0251\n",
      "Epoch 00383: val_loss did not improve from 0.01059\n",
      "\n",
      "Epoch 00383: ReduceLROnPlateau reducing learning rate to 7.397003457754181e-07.\n",
      "5/5 [==============================] - 0s 32ms/step - loss: 0.0152 - val_loss: 0.0106 - lr: 7.4717e-07\n",
      "Epoch 384/1000\n",
      "1/5 [=====>........................] - ETA: 0s - loss: 0.0105\n",
      "Epoch 00384: val_loss did not improve from 0.01059\n",
      "\n",
      "Epoch 00384: ReduceLROnPlateau reducing learning rate to 7.323033366901654e-07.\n",
      "5/5 [==============================] - 0s 47ms/step - loss: 0.0169 - val_loss: 0.0106 - lr: 7.3970e-07\n",
      "Epoch 385/1000\n",
      "1/5 [=====>........................] - ETA: 0s - loss: 0.0117\n",
      "Epoch 00385: val_loss did not improve from 0.01059\n",
      "\n",
      "Epoch 00385: ReduceLROnPlateau reducing learning rate to 7.249803292097568e-07.\n",
      "5/5 [==============================] - 0s 55ms/step - loss: 0.0164 - val_loss: 0.0106 - lr: 7.3230e-07\n",
      "Epoch 386/1000\n",
      "1/5 [=====>........................] - ETA: 0s - loss: 0.0106\n",
      "Epoch 00386: val_loss did not improve from 0.01059\n",
      "\n",
      "Epoch 00386: ReduceLROnPlateau reducing learning rate to 7.177305354844065e-07.\n",
      "5/5 [==============================] - 0s 30ms/step - loss: 0.0170 - val_loss: 0.0106 - lr: 7.2498e-07\n",
      "Epoch 387/1000\n",
      "1/5 [=====>........................] - ETA: 0s - loss: 0.0122\n",
      "Epoch 00387: val_loss did not improve from 0.01059\n",
      "\n",
      "Epoch 00387: ReduceLROnPlateau reducing learning rate to 7.105532239393142e-07.\n",
      "5/5 [==============================] - 0s 20ms/step - loss: 0.0140 - val_loss: 0.0106 - lr: 7.1773e-07\n",
      "Epoch 388/1000\n",
      "1/5 [=====>........................] - ETA: 0s - loss: 0.0123\n",
      "Epoch 00388: val_loss did not improve from 0.01059\n",
      "\n",
      "Epoch 00388: ReduceLROnPlateau reducing learning rate to 7.034477192746636e-07.\n",
      "5/5 [==============================] - 0s 19ms/step - loss: 0.0148 - val_loss: 0.0106 - lr: 7.1055e-07\n",
      "Epoch 389/1000\n",
      "1/5 [=====>........................] - ETA: 0s - loss: 0.0287\n",
      "Epoch 00389: val_loss improved from 0.01059 to 0.01058, saving model to E:\\Dropbox\\AI\\Data_cleaning\\Thing\\Model\\Timetable_checkpoint.keras\n",
      "\n",
      "Epoch 00389: ReduceLROnPlateau reducing learning rate to 6.964132336406692e-07.\n",
      "5/5 [==============================] - 1s 193ms/step - loss: 0.0153 - val_loss: 0.0106 - lr: 7.0345e-07\n",
      "Epoch 390/1000\n",
      "1/5 [=====>........................] - ETA: 0s - loss: 0.0116\n",
      "Epoch 00390: val_loss improved from 0.01058 to 0.01056, saving model to E:\\Dropbox\\AI\\Data_cleaning\\Thing\\Model\\Timetable_checkpoint.keras\n",
      "5/5 [==============================] - 1s 159ms/step - loss: 0.0141 - val_loss: 0.0106 - lr: 6.9641e-07\n",
      "Epoch 391/1000\n",
      "1/5 [=====>........................] - ETA: 0s - loss: 0.0139\n",
      "Epoch 00391: val_loss improved from 0.01056 to 0.01056, saving model to E:\\Dropbox\\AI\\Data_cleaning\\Thing\\Model\\Timetable_checkpoint.keras\n",
      "\n",
      "Epoch 00391: ReduceLROnPlateau reducing learning rate to 6.894490917375151e-07.\n",
      "5/5 [==============================] - 1s 167ms/step - loss: 0.0145 - val_loss: 0.0106 - lr: 6.9641e-07\n",
      "Epoch 392/1000\n",
      "1/5 [=====>........................] - ETA: 0s - loss: 0.0115\n",
      "Epoch 00392: val_loss improved from 0.01056 to 0.01054, saving model to E:\\Dropbox\\AI\\Data_cleaning\\Thing\\Model\\Timetable_checkpoint.keras\n",
      "\n",
      "Epoch 00392: ReduceLROnPlateau reducing learning rate to 6.825546182653852e-07.\n",
      "5/5 [==============================] - 1s 218ms/step - loss: 0.0152 - val_loss: 0.0105 - lr: 6.8945e-07\n",
      "Epoch 393/1000\n",
      "1/5 [=====>........................] - ETA: 0s - loss: 0.0129\n",
      "Epoch 00393: val_loss improved from 0.01054 to 0.01053, saving model to E:\\Dropbox\\AI\\Data_cleaning\\Thing\\Model\\Timetable_checkpoint.keras\n",
      "\n",
      "Epoch 00393: ReduceLROnPlateau reducing learning rate to 6.757290816494788e-07.\n",
      "5/5 [==============================] - 1s 184ms/step - loss: 0.0152 - val_loss: 0.0105 - lr: 6.8255e-07\n",
      "Epoch 394/1000\n",
      "1/5 [=====>........................] - ETA: 0s - loss: 0.0106\n",
      "Epoch 00394: val_loss improved from 0.01053 to 0.01052, saving model to E:\\Dropbox\\AI\\Data_cleaning\\Thing\\Model\\Timetable_checkpoint.keras\n",
      "\n",
      "Epoch 00394: ReduceLROnPlateau reducing learning rate to 6.689718065899797e-07.\n",
      "5/5 [==============================] - 1s 174ms/step - loss: 0.0149 - val_loss: 0.0105 - lr: 6.7573e-07\n",
      "Epoch 395/1000\n",
      "1/5 [=====>........................] - ETA: 0s - loss: 0.0277\n",
      "Epoch 00395: val_loss improved from 0.01052 to 0.01051, saving model to E:\\Dropbox\\AI\\Data_cleaning\\Thing\\Model\\Timetable_checkpoint.keras\n",
      "\n",
      "Epoch 00395: ReduceLROnPlateau reducing learning rate to 6.622820615120873e-07.\n",
      "5/5 [==============================] - 1s 199ms/step - loss: 0.0148 - val_loss: 0.0105 - lr: 6.6897e-07\n",
      "Epoch 396/1000\n",
      "1/5 [=====>........................] - ETA: 0s - loss: 0.0128\n",
      "Epoch 00396: val_loss improved from 0.01051 to 0.01050, saving model to E:\\Dropbox\\AI\\Data_cleaning\\Thing\\Model\\Timetable_checkpoint.keras\n",
      "\n",
      "Epoch 00396: ReduceLROnPlateau reducing learning rate to 6.5565922739097e-07.\n",
      "5/5 [==============================] - 1s 219ms/step - loss: 0.0143 - val_loss: 0.0105 - lr: 6.6228e-07\n",
      "Epoch 397/1000\n",
      "1/5 [=====>........................] - ETA: 0s - loss: 0.0290\n",
      "Epoch 00397: val_loss improved from 0.01050 to 0.01049, saving model to E:\\Dropbox\\AI\\Data_cleaning\\Thing\\Model\\Timetable_checkpoint.keras\n",
      "\n",
      "Epoch 00397: ReduceLROnPlateau reducing learning rate to 6.49102628926812e-07.\n",
      "5/5 [==============================] - 1s 200ms/step - loss: 0.0156 - val_loss: 0.0105 - lr: 6.5566e-07\n",
      "Epoch 398/1000\n",
      "1/5 [=====>........................] - ETA: 0s - loss: 0.0107\n",
      "Epoch 00398: val_loss improved from 0.01049 to 0.01049, saving model to E:\\Dropbox\\AI\\Data_cleaning\\Thing\\Model\\Timetable_checkpoint.keras\n",
      "\n",
      "Epoch 00398: ReduceLROnPlateau reducing learning rate to 6.426115908197971e-07.\n",
      "5/5 [==============================] - 1s 191ms/step - loss: 0.0156 - val_loss: 0.0105 - lr: 6.4910e-07\n",
      "Epoch 399/1000\n",
      "1/5 [=====>........................] - ETA: 0s - loss: 0.0129\n",
      "Epoch 00399: val_loss improved from 0.01049 to 0.01046, saving model to E:\\Dropbox\\AI\\Data_cleaning\\Thing\\Model\\Timetable_checkpoint.keras\n",
      "5/5 [==============================] - 1s 193ms/step - loss: 0.0145 - val_loss: 0.0105 - lr: 6.4261e-07\n",
      "Epoch 400/1000\n",
      "1/5 [=====>........................] - ETA: 0s - loss: 0.0106\n",
      "Epoch 00400: val_loss improved from 0.01046 to 0.01043, saving model to E:\\Dropbox\\AI\\Data_cleaning\\Thing\\Model\\Timetable_checkpoint.keras\n",
      "\n",
      "Epoch 00400: ReduceLROnPlateau reducing learning rate to 6.36185494045094e-07.\n",
      "5/5 [==============================] - 1s 193ms/step - loss: 0.0146 - val_loss: 0.0104 - lr: 6.4261e-07\n",
      "Epoch 401/1000\n",
      "1/5 [=====>........................] - ETA: 0s - loss: 0.0129\n",
      "Epoch 00401: val_loss improved from 0.01043 to 0.01040, saving model to E:\\Dropbox\\AI\\Data_cleaning\\Thing\\Model\\Timetable_checkpoint.keras\n",
      "\n",
      "Epoch 00401: ReduceLROnPlateau reducing learning rate to 6.298236633028864e-07.\n",
      "5/5 [==============================] - 1s 207ms/step - loss: 0.0256 - val_loss: 0.0104 - lr: 6.3619e-07\n",
      "Epoch 402/1000\n",
      "1/5 [=====>........................] - ETA: 0s - loss: 0.0100\n",
      "Epoch 00402: val_loss did not improve from 0.01040\n",
      "\n",
      "Epoch 00402: ReduceLROnPlateau reducing learning rate to 6.235254232933585e-07.\n",
      "5/5 [==============================] - 0s 43ms/step - loss: 0.0151 - val_loss: 0.0104 - lr: 6.2982e-07\n",
      "Epoch 403/1000\n",
      "1/5 [=====>........................] - ETA: 0s - loss: 0.0151\n",
      "Epoch 00403: val_loss improved from 0.01040 to 0.01039, saving model to E:\\Dropbox\\AI\\Data_cleaning\\Thing\\Model\\Timetable_checkpoint.keras\n",
      "\n",
      "Epoch 00403: ReduceLROnPlateau reducing learning rate to 6.172901549916787e-07.\n",
      "5/5 [==============================] - 1s 209ms/step - loss: 0.0157 - val_loss: 0.0104 - lr: 6.2353e-07\n",
      "Epoch 404/1000\n",
      "1/5 [=====>........................] - ETA: 0s - loss: 0.0138\n",
      "Epoch 00404: val_loss improved from 0.01039 to 0.01036, saving model to E:\\Dropbox\\AI\\Data_cleaning\\Thing\\Model\\Timetable_checkpoint.keras\n",
      "\n",
      "Epoch 00404: ReduceLROnPlateau reducing learning rate to 6.111172393730158e-07.\n",
      "5/5 [==============================] - 1s 183ms/step - loss: 0.0268 - val_loss: 0.0104 - lr: 6.1729e-07\n",
      "Epoch 405/1000\n",
      "1/5 [=====>........................] - ETA: 0s - loss: 0.0098\n",
      "Epoch 00405: val_loss improved from 0.01036 to 0.01035, saving model to E:\\Dropbox\\AI\\Data_cleaning\\Thing\\Model\\Timetable_checkpoint.keras\n",
      "5/5 [==============================] - 1s 178ms/step - loss: 0.0153 - val_loss: 0.0103 - lr: 6.1112e-07\n",
      "Epoch 406/1000\n",
      "1/5 [=====>........................] - ETA: 0s - loss: 0.0112\n",
      "Epoch 00406: val_loss improved from 0.01035 to 0.01032, saving model to E:\\Dropbox\\AI\\Data_cleaning\\Thing\\Model\\Timetable_checkpoint.keras\n",
      "\n",
      "Epoch 00406: ReduceLROnPlateau reducing learning rate to 6.050060574125382e-07.\n",
      "5/5 [==============================] - 1s 146ms/step - loss: 0.0154 - val_loss: 0.0103 - lr: 6.1112e-07\n",
      "Epoch 407/1000\n",
      "1/5 [=====>........................] - ETA: 0s - loss: 0.0284\n",
      "Epoch 00407: val_loss improved from 0.01032 to 0.01030, saving model to E:\\Dropbox\\AI\\Data_cleaning\\Thing\\Model\\Timetable_checkpoint.keras\n",
      "\n",
      "Epoch 00407: ReduceLROnPlateau reducing learning rate to 5.989559900854146e-07.\n",
      "5/5 [==============================] - 1s 170ms/step - loss: 0.0148 - val_loss: 0.0103 - lr: 6.0501e-07\n",
      "Epoch 408/1000\n",
      "1/5 [=====>........................] - ETA: 0s - loss: 0.0115\n",
      "Epoch 00408: val_loss improved from 0.01030 to 0.01028, saving model to E:\\Dropbox\\AI\\Data_cleaning\\Thing\\Model\\Timetable_checkpoint.keras\n",
      "\n",
      "Epoch 00408: ReduceLROnPlateau reducing learning rate to 5.929664183668138e-07.\n",
      "5/5 [==============================] - 1s 177ms/step - loss: 0.0149 - val_loss: 0.0103 - lr: 5.9896e-07\n",
      "Epoch 409/1000\n",
      "1/5 [=====>........................] - ETA: 0s - loss: 0.0127\n",
      "Epoch 00409: val_loss improved from 0.01028 to 0.01028, saving model to E:\\Dropbox\\AI\\Data_cleaning\\Thing\\Model\\Timetable_checkpoint.keras\n",
      "\n",
      "Epoch 00409: ReduceLROnPlateau reducing learning rate to 5.870367795068887e-07.\n",
      "5/5 [==============================] - 1s 193ms/step - loss: 0.0149 - val_loss: 0.0103 - lr: 5.9297e-07\n",
      "Epoch 410/1000\n",
      "1/5 [=====>........................] - ETA: 0s - loss: 0.0157\n",
      "Epoch 00410: val_loss improved from 0.01028 to 0.01026, saving model to E:\\Dropbox\\AI\\Data_cleaning\\Thing\\Model\\Timetable_checkpoint.keras\n",
      "\n",
      "Epoch 00410: ReduceLROnPlateau reducing learning rate to 5.811663982058235e-07.\n",
      "5/5 [==============================] - 1s 195ms/step - loss: 0.0159 - val_loss: 0.0103 - lr: 5.8704e-07\n",
      "Epoch 411/1000\n",
      "1/5 [=====>........................] - ETA: 0s - loss: 0.0094\n",
      "Epoch 00411: val_loss improved from 0.01026 to 0.01026, saving model to E:\\Dropbox\\AI\\Data_cleaning\\Thing\\Model\\Timetable_checkpoint.keras\n",
      "\n",
      "Epoch 00411: ReduceLROnPlateau reducing learning rate to 5.753547117137714e-07.\n",
      "5/5 [==============================] - 1s 166ms/step - loss: 0.0145 - val_loss: 0.0103 - lr: 5.8117e-07\n",
      "Epoch 412/1000\n",
      "1/5 [=====>........................] - ETA: 0s - loss: 0.0137\n",
      "Epoch 00412: val_loss did not improve from 0.01026\n",
      "\n",
      "Epoch 00412: ReduceLROnPlateau reducing learning rate to 5.696011572808856e-07.\n",
      "5/5 [==============================] - 0s 38ms/step - loss: 0.0159 - val_loss: 0.0103 - lr: 5.7535e-07\n",
      "Epoch 413/1000\n",
      "1/5 [=====>........................] - ETA: 0s - loss: 0.0130\n",
      "Epoch 00413: val_loss did not improve from 0.01026\n",
      "\n",
      "Epoch 00413: ReduceLROnPlateau reducing learning rate to 5.639051721573196e-07.\n",
      "5/5 [==============================] - 0s 29ms/step - loss: 0.0148 - val_loss: 0.0103 - lr: 5.6960e-07\n",
      "Epoch 414/1000\n",
      "1/5 [=====>........................] - ETA: 0s - loss: 0.0141\n",
      "Epoch 00414: val_loss did not improve from 0.01026\n",
      "\n",
      "Epoch 00414: ReduceLROnPlateau reducing learning rate to 5.582661373182418e-07.\n",
      "5/5 [==============================] - 0s 18ms/step - loss: 0.0148 - val_loss: 0.0103 - lr: 5.6391e-07\n",
      "Epoch 415/1000\n",
      "1/5 [=====>........................] - ETA: 0s - loss: 0.0273\n",
      "Epoch 00415: val_loss did not improve from 0.01026\n",
      "\n",
      "Epoch 00415: ReduceLROnPlateau reducing learning rate to 5.526834900138055e-07.\n",
      "5/5 [==============================] - 0s 22ms/step - loss: 0.0142 - val_loss: 0.0103 - lr: 5.5827e-07\n",
      "Epoch 416/1000\n",
      "1/5 [=====>........................] - ETA: 0s - loss: 0.0112\n",
      "Epoch 00416: val_loss improved from 0.01026 to 0.01024, saving model to E:\\Dropbox\\AI\\Data_cleaning\\Thing\\Model\\Timetable_checkpoint.keras\n",
      "5/5 [==============================] - 1s 213ms/step - loss: 0.0152 - val_loss: 0.0102 - lr: 5.5268e-07\n",
      "Epoch 417/1000\n",
      "1/5 [=====>........................] - ETA: 0s - loss: 0.0124\n",
      "Epoch 00417: val_loss improved from 0.01024 to 0.01022, saving model to E:\\Dropbox\\AI\\Data_cleaning\\Thing\\Model\\Timetable_checkpoint.keras\n",
      "\n",
      "Epoch 00417: ReduceLROnPlateau reducing learning rate to 5.471566674941642e-07.\n",
      "5/5 [==============================] - 1s 225ms/step - loss: 0.0141 - val_loss: 0.0102 - lr: 5.5268e-07\n",
      "Epoch 418/1000\n",
      "1/5 [=====>........................] - ETA: 0s - loss: 0.0109\n",
      "Epoch 00418: val_loss improved from 0.01022 to 0.01021, saving model to E:\\Dropbox\\AI\\Data_cleaning\\Thing\\Model\\Timetable_checkpoint.keras\n",
      "\n",
      "Epoch 00418: ReduceLROnPlateau reducing learning rate to 5.416851070094708e-07.\n",
      "5/5 [==============================] - 1s 157ms/step - loss: 0.0152 - val_loss: 0.0102 - lr: 5.4716e-07\n",
      "Epoch 419/1000\n",
      "1/5 [=====>........................] - ETA: 0s - loss: 0.0240\n",
      "Epoch 00419: val_loss improved from 0.01021 to 0.01020, saving model to E:\\Dropbox\\AI\\Data_cleaning\\Thing\\Model\\Timetable_checkpoint.keras\n",
      "\n",
      "Epoch 00419: ReduceLROnPlateau reducing learning rate to 5.362682458098789e-07.\n",
      "5/5 [==============================] - 1s 158ms/step - loss: 0.0143 - val_loss: 0.0102 - lr: 5.4169e-07\n",
      "Epoch 420/1000\n",
      "1/5 [=====>........................] - ETA: 0s - loss: 0.0110\n",
      "Epoch 00420: val_loss improved from 0.01020 to 0.01019, saving model to E:\\Dropbox\\AI\\Data_cleaning\\Thing\\Model\\Timetable_checkpoint.keras\n",
      "\n",
      "Epoch 00420: ReduceLROnPlateau reducing learning rate to 5.309055774205262e-07.\n",
      "5/5 [==============================] - 1s 160ms/step - loss: 0.0136 - val_loss: 0.0102 - lr: 5.3627e-07\n",
      "Epoch 421/1000\n",
      "1/5 [=====>........................] - ETA: 0s - loss: 0.0096\n",
      "Epoch 00421: val_loss improved from 0.01019 to 0.01018, saving model to E:\\Dropbox\\AI\\Data_cleaning\\Thing\\Model\\Timetable_checkpoint.keras\n",
      "\n",
      "Epoch 00421: ReduceLROnPlateau reducing learning rate to 5.255965390915662e-07.\n",
      "5/5 [==============================] - 1s 230ms/step - loss: 0.0166 - val_loss: 0.0102 - lr: 5.3091e-07\n",
      "Epoch 422/1000\n",
      "1/5 [=====>........................] - ETA: 0s - loss: 0.0108\n",
      "Epoch 00422: val_loss did not improve from 0.01018\n",
      "\n",
      "Epoch 00422: ReduceLROnPlateau reducing learning rate to 5.203405680731521e-07.\n",
      "5/5 [==============================] - 0s 25ms/step - loss: 0.0163 - val_loss: 0.0102 - lr: 5.2560e-07\n",
      "Epoch 423/1000\n",
      "1/5 [=====>........................] - ETA: 0s - loss: 0.0116\n",
      "Epoch 00423: val_loss did not improve from 0.01018\n",
      "\n",
      "Epoch 00423: ReduceLROnPlateau reducing learning rate to 5.151371578904218e-07.\n",
      "5/5 [==============================] - 0s 21ms/step - loss: 0.0257 - val_loss: 0.0102 - lr: 5.2034e-07\n",
      "Epoch 424/1000\n",
      "1/5 [=====>........................] - ETA: 0s - loss: 0.0094\n",
      "Epoch 00424: val_loss did not improve from 0.01018\n",
      "\n",
      "Epoch 00424: ReduceLROnPlateau reducing learning rate to 5.099858020685133e-07.\n",
      "5/5 [==============================] - 0s 20ms/step - loss: 0.0169 - val_loss: 0.0102 - lr: 5.1514e-07\n",
      "Epoch 425/1000\n",
      "1/5 [=====>........................] - ETA: 0s - loss: 0.0127\n",
      "Epoch 00425: val_loss did not improve from 0.01018\n",
      "\n",
      "Epoch 00425: ReduceLROnPlateau reducing learning rate to 5.048859378575798e-07.\n",
      "5/5 [==============================] - 0s 24ms/step - loss: 0.0147 - val_loss: 0.0102 - lr: 5.0999e-07\n",
      "Epoch 426/1000\n",
      "1/5 [=====>........................] - ETA: 0s - loss: 0.0139\n",
      "Epoch 00426: val_loss did not improve from 0.01018\n",
      "\n",
      "Epoch 00426: ReduceLROnPlateau reducing learning rate to 4.998370587827594e-07.\n",
      "5/5 [==============================] - 0s 22ms/step - loss: 0.0146 - val_loss: 0.0102 - lr: 5.0489e-07\n",
      "Epoch 427/1000\n",
      "1/5 [=====>........................] - ETA: 0s - loss: 0.0128\n",
      "Epoch 00427: val_loss did not improve from 0.01018\n",
      "\n",
      "Epoch 00427: ReduceLROnPlateau reducing learning rate to 4.948387146441746e-07.\n",
      "5/5 [==============================] - 0s 24ms/step - loss: 0.0138 - val_loss: 0.0102 - lr: 4.9984e-07\n",
      "Epoch 428/1000\n",
      "1/5 [=====>........................] - ETA: 0s - loss: 0.0167\n",
      "Epoch 00428: val_loss did not improve from 0.01018\n",
      "\n",
      "Epoch 00428: ReduceLROnPlateau reducing learning rate to 4.898903426919788e-07.\n",
      "5/5 [==============================] - 0s 62ms/step - loss: 0.0264 - val_loss: 0.0102 - lr: 4.9484e-07\n",
      "Epoch 429/1000\n",
      "1/5 [=====>........................] - ETA: 0s - loss: 0.0115\n",
      "Epoch 00429: val_loss did not improve from 0.01018\n",
      "\n",
      "Epoch 00429: ReduceLROnPlateau reducing learning rate to 4.849914364513097e-07.\n",
      "5/5 [==============================] - 0s 22ms/step - loss: 0.0169 - val_loss: 0.0102 - lr: 4.8989e-07\n",
      "Epoch 430/1000\n",
      "1/5 [=====>........................] - ETA: 0s - loss: 0.0096\n",
      "Epoch 00430: val_loss did not improve from 0.01018\n",
      "\n",
      "Epoch 00430: ReduceLROnPlateau reducing learning rate to 4.801415457222902e-07.\n",
      "5/5 [==============================] - 0s 22ms/step - loss: 0.0137 - val_loss: 0.0102 - lr: 4.8499e-07\n",
      "Epoch 431/1000\n",
      "1/5 [=====>........................] - ETA: 0s - loss: 0.0109\n",
      "Epoch 00431: val_loss did not improve from 0.01018\n",
      "\n",
      "Epoch 00431: ReduceLROnPlateau reducing learning rate to 4.753401077550734e-07.\n",
      "5/5 [==============================] - 0s 22ms/step - loss: 0.0141 - val_loss: 0.0102 - lr: 4.8014e-07\n",
      "Epoch 00431: early stopping\n"
     ]
    },
    {
     "output_type": "display_data",
     "data": {
      "text/plain": "<Figure size 1080x360 with 1 Axes>",
      "image/svg+xml": "<?xml version=\"1.0\" encoding=\"utf-8\" standalone=\"no\"?>\r\n<!DOCTYPE svg PUBLIC \"-//W3C//DTD SVG 1.1//EN\"\r\n  \"http://www.w3.org/Graphics/SVG/1.1/DTD/svg11.dtd\">\r\n<!-- Created with matplotlib (https://matplotlib.org/) -->\r\n<svg height=\"317.99625pt\" version=\"1.1\" viewBox=\"0 0 874.303125 317.99625\" width=\"874.303125pt\" xmlns=\"http://www.w3.org/2000/svg\" xmlns:xlink=\"http://www.w3.org/1999/xlink\">\r\n <defs>\r\n  <style type=\"text/css\">\r\n*{stroke-linecap:butt;stroke-linejoin:round;}\r\n  </style>\r\n </defs>\r\n <g id=\"figure_1\">\r\n  <g id=\"patch_1\">\r\n   <path d=\"M 0 317.99625 \r\nL 874.303125 317.99625 \r\nL 874.303125 0 \r\nL 0 0 \r\nz\r\n\" style=\"fill:none;\"/>\r\n  </g>\r\n  <g id=\"axes_1\">\r\n   <g id=\"patch_2\">\r\n    <path d=\"M 30.103125 294.118125 \r\nL 867.103125 294.118125 \r\nL 867.103125 22.318125 \r\nL 30.103125 22.318125 \r\nz\r\n\" style=\"fill:#ffffff;\"/>\r\n   </g>\r\n   <g id=\"matplotlib.axis_1\">\r\n    <g id=\"xtick_1\">\r\n     <g id=\"line2d_1\">\r\n      <defs>\r\n       <path d=\"M 0 0 \r\nL 0 3.5 \r\n\" id=\"md92cb1e854\" style=\"stroke:#000000;stroke-width:0.8;\"/>\r\n      </defs>\r\n      <g>\r\n       <use style=\"stroke:#000000;stroke-width:0.8;\" x=\"68.14858\" xlink:href=\"#md92cb1e854\" y=\"294.118125\"/>\r\n      </g>\r\n     </g>\r\n     <g id=\"text_1\">\r\n      <!-- 0 -->\r\n      <defs>\r\n       <path d=\"M 31.78125 66.40625 \r\nQ 24.171875 66.40625 20.328125 58.90625 \r\nQ 16.5 51.421875 16.5 36.375 \r\nQ 16.5 21.390625 20.328125 13.890625 \r\nQ 24.171875 6.390625 31.78125 6.390625 \r\nQ 39.453125 6.390625 43.28125 13.890625 \r\nQ 47.125 21.390625 47.125 36.375 \r\nQ 47.125 51.421875 43.28125 58.90625 \r\nQ 39.453125 66.40625 31.78125 66.40625 \r\nz\r\nM 31.78125 74.21875 \r\nQ 44.046875 74.21875 50.515625 64.515625 \r\nQ 56.984375 54.828125 56.984375 36.375 \r\nQ 56.984375 17.96875 50.515625 8.265625 \r\nQ 44.046875 -1.421875 31.78125 -1.421875 \r\nQ 19.53125 -1.421875 13.0625 8.265625 \r\nQ 6.59375 17.96875 6.59375 36.375 \r\nQ 6.59375 54.828125 13.0625 64.515625 \r\nQ 19.53125 74.21875 31.78125 74.21875 \r\nz\r\n\" id=\"DejaVuSans-48\"/>\r\n      </defs>\r\n      <g transform=\"translate(64.96733 308.716563)scale(0.1 -0.1)\">\r\n       <use xlink:href=\"#DejaVuSans-48\"/>\r\n      </g>\r\n     </g>\r\n    </g>\r\n    <g id=\"xtick_2\">\r\n     <g id=\"line2d_2\">\r\n      <g>\r\n       <use style=\"stroke:#000000;stroke-width:0.8;\" x=\"245.104182\" xlink:href=\"#md92cb1e854\" y=\"294.118125\"/>\r\n      </g>\r\n     </g>\r\n     <g id=\"text_2\">\r\n      <!-- 100 -->\r\n      <defs>\r\n       <path d=\"M 12.40625 8.296875 \r\nL 28.515625 8.296875 \r\nL 28.515625 63.921875 \r\nL 10.984375 60.40625 \r\nL 10.984375 69.390625 \r\nL 28.421875 72.90625 \r\nL 38.28125 72.90625 \r\nL 38.28125 8.296875 \r\nL 54.390625 8.296875 \r\nL 54.390625 0 \r\nL 12.40625 0 \r\nz\r\n\" id=\"DejaVuSans-49\"/>\r\n      </defs>\r\n      <g transform=\"translate(235.560432 308.716563)scale(0.1 -0.1)\">\r\n       <use xlink:href=\"#DejaVuSans-49\"/>\r\n       <use x=\"63.623047\" xlink:href=\"#DejaVuSans-48\"/>\r\n       <use x=\"127.246094\" xlink:href=\"#DejaVuSans-48\"/>\r\n      </g>\r\n     </g>\r\n    </g>\r\n    <g id=\"xtick_3\">\r\n     <g id=\"line2d_3\">\r\n      <g>\r\n       <use style=\"stroke:#000000;stroke-width:0.8;\" x=\"422.059785\" xlink:href=\"#md92cb1e854\" y=\"294.118125\"/>\r\n      </g>\r\n     </g>\r\n     <g id=\"text_3\">\r\n      <!-- 200 -->\r\n      <defs>\r\n       <path d=\"M 19.1875 8.296875 \r\nL 53.609375 8.296875 \r\nL 53.609375 0 \r\nL 7.328125 0 \r\nL 7.328125 8.296875 \r\nQ 12.9375 14.109375 22.625 23.890625 \r\nQ 32.328125 33.6875 34.8125 36.53125 \r\nQ 39.546875 41.84375 41.421875 45.53125 \r\nQ 43.3125 49.21875 43.3125 52.78125 \r\nQ 43.3125 58.59375 39.234375 62.25 \r\nQ 35.15625 65.921875 28.609375 65.921875 \r\nQ 23.96875 65.921875 18.8125 64.3125 \r\nQ 13.671875 62.703125 7.8125 59.421875 \r\nL 7.8125 69.390625 \r\nQ 13.765625 71.78125 18.9375 73 \r\nQ 24.125 74.21875 28.421875 74.21875 \r\nQ 39.75 74.21875 46.484375 68.546875 \r\nQ 53.21875 62.890625 53.21875 53.421875 \r\nQ 53.21875 48.921875 51.53125 44.890625 \r\nQ 49.859375 40.875 45.40625 35.40625 \r\nQ 44.1875 33.984375 37.640625 27.21875 \r\nQ 31.109375 20.453125 19.1875 8.296875 \r\nz\r\n\" id=\"DejaVuSans-50\"/>\r\n      </defs>\r\n      <g transform=\"translate(412.516035 308.716563)scale(0.1 -0.1)\">\r\n       <use xlink:href=\"#DejaVuSans-50\"/>\r\n       <use x=\"63.623047\" xlink:href=\"#DejaVuSans-48\"/>\r\n       <use x=\"127.246094\" xlink:href=\"#DejaVuSans-48\"/>\r\n      </g>\r\n     </g>\r\n    </g>\r\n    <g id=\"xtick_4\">\r\n     <g id=\"line2d_4\">\r\n      <g>\r\n       <use style=\"stroke:#000000;stroke-width:0.8;\" x=\"599.015387\" xlink:href=\"#md92cb1e854\" y=\"294.118125\"/>\r\n      </g>\r\n     </g>\r\n     <g id=\"text_4\">\r\n      <!-- 300 -->\r\n      <defs>\r\n       <path d=\"M 40.578125 39.3125 \r\nQ 47.65625 37.796875 51.625 33 \r\nQ 55.609375 28.21875 55.609375 21.1875 \r\nQ 55.609375 10.40625 48.1875 4.484375 \r\nQ 40.765625 -1.421875 27.09375 -1.421875 \r\nQ 22.515625 -1.421875 17.65625 -0.515625 \r\nQ 12.796875 0.390625 7.625 2.203125 \r\nL 7.625 11.71875 \r\nQ 11.71875 9.328125 16.59375 8.109375 \r\nQ 21.484375 6.890625 26.8125 6.890625 \r\nQ 36.078125 6.890625 40.9375 10.546875 \r\nQ 45.796875 14.203125 45.796875 21.1875 \r\nQ 45.796875 27.640625 41.28125 31.265625 \r\nQ 36.765625 34.90625 28.71875 34.90625 \r\nL 20.21875 34.90625 \r\nL 20.21875 43.015625 \r\nL 29.109375 43.015625 \r\nQ 36.375 43.015625 40.234375 45.921875 \r\nQ 44.09375 48.828125 44.09375 54.296875 \r\nQ 44.09375 59.90625 40.109375 62.90625 \r\nQ 36.140625 65.921875 28.71875 65.921875 \r\nQ 24.65625 65.921875 20.015625 65.03125 \r\nQ 15.375 64.15625 9.8125 62.3125 \r\nL 9.8125 71.09375 \r\nQ 15.4375 72.65625 20.34375 73.4375 \r\nQ 25.25 74.21875 29.59375 74.21875 \r\nQ 40.828125 74.21875 47.359375 69.109375 \r\nQ 53.90625 64.015625 53.90625 55.328125 \r\nQ 53.90625 49.265625 50.4375 45.09375 \r\nQ 46.96875 40.921875 40.578125 39.3125 \r\nz\r\n\" id=\"DejaVuSans-51\"/>\r\n      </defs>\r\n      <g transform=\"translate(589.471637 308.716563)scale(0.1 -0.1)\">\r\n       <use xlink:href=\"#DejaVuSans-51\"/>\r\n       <use x=\"63.623047\" xlink:href=\"#DejaVuSans-48\"/>\r\n       <use x=\"127.246094\" xlink:href=\"#DejaVuSans-48\"/>\r\n      </g>\r\n     </g>\r\n    </g>\r\n    <g id=\"xtick_5\">\r\n     <g id=\"line2d_5\">\r\n      <g>\r\n       <use style=\"stroke:#000000;stroke-width:0.8;\" x=\"775.97099\" xlink:href=\"#md92cb1e854\" y=\"294.118125\"/>\r\n      </g>\r\n     </g>\r\n     <g id=\"text_5\">\r\n      <!-- 400 -->\r\n      <defs>\r\n       <path d=\"M 37.796875 64.3125 \r\nL 12.890625 25.390625 \r\nL 37.796875 25.390625 \r\nz\r\nM 35.203125 72.90625 \r\nL 47.609375 72.90625 \r\nL 47.609375 25.390625 \r\nL 58.015625 25.390625 \r\nL 58.015625 17.1875 \r\nL 47.609375 17.1875 \r\nL 47.609375 0 \r\nL 37.796875 0 \r\nL 37.796875 17.1875 \r\nL 4.890625 17.1875 \r\nL 4.890625 26.703125 \r\nz\r\n\" id=\"DejaVuSans-52\"/>\r\n      </defs>\r\n      <g transform=\"translate(766.42724 308.716563)scale(0.1 -0.1)\">\r\n       <use xlink:href=\"#DejaVuSans-52\"/>\r\n       <use x=\"63.623047\" xlink:href=\"#DejaVuSans-48\"/>\r\n       <use x=\"127.246094\" xlink:href=\"#DejaVuSans-48\"/>\r\n      </g>\r\n     </g>\r\n    </g>\r\n   </g>\r\n   <g id=\"matplotlib.axis_2\">\r\n    <g id=\"ytick_1\">\r\n     <g id=\"line2d_6\">\r\n      <defs>\r\n       <path d=\"M 0 0 \r\nL -3.5 0 \r\n\" id=\"mfb5657b7f0\" style=\"stroke:#000000;stroke-width:0.8;\"/>\r\n      </defs>\r\n      <g>\r\n       <use style=\"stroke:#000000;stroke-width:0.8;\" x=\"30.103125\" xlink:href=\"#mfb5657b7f0\" y=\"287.085201\"/>\r\n      </g>\r\n     </g>\r\n     <g id=\"text_6\">\r\n      <!-- 0.0 -->\r\n      <defs>\r\n       <path d=\"M 10.6875 12.40625 \r\nL 21 12.40625 \r\nL 21 0 \r\nL 10.6875 0 \r\nz\r\n\" id=\"DejaVuSans-46\"/>\r\n      </defs>\r\n      <g transform=\"translate(7.2 290.88442)scale(0.1 -0.1)\">\r\n       <use xlink:href=\"#DejaVuSans-48\"/>\r\n       <use x=\"63.623047\" xlink:href=\"#DejaVuSans-46\"/>\r\n       <use x=\"95.410156\" xlink:href=\"#DejaVuSans-48\"/>\r\n      </g>\r\n     </g>\r\n    </g>\r\n    <g id=\"ytick_2\">\r\n     <g id=\"line2d_7\">\r\n      <g>\r\n       <use style=\"stroke:#000000;stroke-width:0.8;\" x=\"30.103125\" xlink:href=\"#mfb5657b7f0\" y=\"234.828752\"/>\r\n      </g>\r\n     </g>\r\n     <g id=\"text_7\">\r\n      <!-- 0.1 -->\r\n      <g transform=\"translate(7.2 238.62797)scale(0.1 -0.1)\">\r\n       <use xlink:href=\"#DejaVuSans-48\"/>\r\n       <use x=\"63.623047\" xlink:href=\"#DejaVuSans-46\"/>\r\n       <use x=\"95.410156\" xlink:href=\"#DejaVuSans-49\"/>\r\n      </g>\r\n     </g>\r\n    </g>\r\n    <g id=\"ytick_3\">\r\n     <g id=\"line2d_8\">\r\n      <g>\r\n       <use style=\"stroke:#000000;stroke-width:0.8;\" x=\"30.103125\" xlink:href=\"#mfb5657b7f0\" y=\"182.572303\"/>\r\n      </g>\r\n     </g>\r\n     <g id=\"text_8\">\r\n      <!-- 0.2 -->\r\n      <g transform=\"translate(7.2 186.371521)scale(0.1 -0.1)\">\r\n       <use xlink:href=\"#DejaVuSans-48\"/>\r\n       <use x=\"63.623047\" xlink:href=\"#DejaVuSans-46\"/>\r\n       <use x=\"95.410156\" xlink:href=\"#DejaVuSans-50\"/>\r\n      </g>\r\n     </g>\r\n    </g>\r\n    <g id=\"ytick_4\">\r\n     <g id=\"line2d_9\">\r\n      <g>\r\n       <use style=\"stroke:#000000;stroke-width:0.8;\" x=\"30.103125\" xlink:href=\"#mfb5657b7f0\" y=\"130.315854\"/>\r\n      </g>\r\n     </g>\r\n     <g id=\"text_9\">\r\n      <!-- 0.3 -->\r\n      <g transform=\"translate(7.2 134.115072)scale(0.1 -0.1)\">\r\n       <use xlink:href=\"#DejaVuSans-48\"/>\r\n       <use x=\"63.623047\" xlink:href=\"#DejaVuSans-46\"/>\r\n       <use x=\"95.410156\" xlink:href=\"#DejaVuSans-51\"/>\r\n      </g>\r\n     </g>\r\n    </g>\r\n    <g id=\"ytick_5\">\r\n     <g id=\"line2d_10\">\r\n      <g>\r\n       <use style=\"stroke:#000000;stroke-width:0.8;\" x=\"30.103125\" xlink:href=\"#mfb5657b7f0\" y=\"78.059405\"/>\r\n      </g>\r\n     </g>\r\n     <g id=\"text_10\">\r\n      <!-- 0.4 -->\r\n      <g transform=\"translate(7.2 81.858623)scale(0.1 -0.1)\">\r\n       <use xlink:href=\"#DejaVuSans-48\"/>\r\n       <use x=\"63.623047\" xlink:href=\"#DejaVuSans-46\"/>\r\n       <use x=\"95.410156\" xlink:href=\"#DejaVuSans-52\"/>\r\n      </g>\r\n     </g>\r\n    </g>\r\n    <g id=\"ytick_6\">\r\n     <g id=\"line2d_11\">\r\n      <g>\r\n       <use style=\"stroke:#000000;stroke-width:0.8;\" x=\"30.103125\" xlink:href=\"#mfb5657b7f0\" y=\"25.802956\"/>\r\n      </g>\r\n     </g>\r\n     <g id=\"text_11\">\r\n      <!-- 0.5 -->\r\n      <defs>\r\n       <path d=\"M 10.796875 72.90625 \r\nL 49.515625 72.90625 \r\nL 49.515625 64.59375 \r\nL 19.828125 64.59375 \r\nL 19.828125 46.734375 \r\nQ 21.96875 47.46875 24.109375 47.828125 \r\nQ 26.265625 48.1875 28.421875 48.1875 \r\nQ 40.625 48.1875 47.75 41.5 \r\nQ 54.890625 34.8125 54.890625 23.390625 \r\nQ 54.890625 11.625 47.5625 5.09375 \r\nQ 40.234375 -1.421875 26.90625 -1.421875 \r\nQ 22.3125 -1.421875 17.546875 -0.640625 \r\nQ 12.796875 0.140625 7.71875 1.703125 \r\nL 7.71875 11.625 \r\nQ 12.109375 9.234375 16.796875 8.0625 \r\nQ 21.484375 6.890625 26.703125 6.890625 \r\nQ 35.15625 6.890625 40.078125 11.328125 \r\nQ 45.015625 15.765625 45.015625 23.390625 \r\nQ 45.015625 31 40.078125 35.4375 \r\nQ 35.15625 39.890625 26.703125 39.890625 \r\nQ 22.75 39.890625 18.8125 39.015625 \r\nQ 14.890625 38.140625 10.796875 36.28125 \r\nz\r\n\" id=\"DejaVuSans-53\"/>\r\n      </defs>\r\n      <g transform=\"translate(7.2 29.602174)scale(0.1 -0.1)\">\r\n       <use xlink:href=\"#DejaVuSans-48\"/>\r\n       <use x=\"63.623047\" xlink:href=\"#DejaVuSans-46\"/>\r\n       <use x=\"95.410156\" xlink:href=\"#DejaVuSans-53\"/>\r\n      </g>\r\n     </g>\r\n    </g>\r\n   </g>\r\n   <g id=\"line2d_12\">\r\n    <path clip-path=\"url(#p3afcede291)\" d=\"M 68.14858 45.222858 \r\nL 69.918136 50.226434 \r\nL 71.687692 47.379963 \r\nL 73.457248 46.52321 \r\nL 75.226804 54.330959 \r\nL 76.99636 52.220996 \r\nL 78.765916 52.302228 \r\nL 80.535472 50.76388 \r\nL 82.305028 51.147941 \r\nL 84.074584 48.943135 \r\nL 85.84414 44.820981 \r\nL 87.613696 62.242864 \r\nL 89.383252 57.518384 \r\nL 91.152808 52.301465 \r\nL 92.922364 42.917213 \r\nL 94.69192 60.625184 \r\nL 96.461476 54.232409 \r\nL 98.231032 55.631498 \r\nL 100.000588 55.996715 \r\nL 101.770144 55.012087 \r\nL 103.5397 46.545122 \r\nL 105.309256 52.861244 \r\nL 107.078812 48.708363 \r\nL 108.848368 55.444225 \r\nL 110.617924 49.914478 \r\nL 112.38748 56.586333 \r\nL 114.157036 56.289686 \r\nL 115.926592 53.094521 \r\nL 117.696148 62.115534 \r\nL 119.465704 56.206679 \r\nL 121.23526 59.982429 \r\nL 123.004816 56.195217 \r\nL 124.774372 56.779882 \r\nL 126.543928 51.367234 \r\nL 128.313484 53.611691 \r\nL 130.08304 62.78939 \r\nL 131.852596 63.441115 \r\nL 133.622152 55.75794 \r\nL 135.391709 52.03187 \r\nL 138.930821 68.839716 \r\nL 140.700377 56.848593 \r\nL 142.469933 59.761377 \r\nL 144.239489 56.605815 \r\nL 146.009045 62.143177 \r\nL 147.778601 55.079148 \r\nL 149.548157 58.809345 \r\nL 151.317713 60.182519 \r\nL 153.087269 60.351726 \r\nL 154.856825 51.270662 \r\nL 156.626381 59.998392 \r\nL 158.395937 51.665656 \r\nL 160.165493 57.068384 \r\nL 161.935049 52.121745 \r\nL 163.704605 62.66846 \r\nL 165.474161 55.542712 \r\nL 167.243717 65.636671 \r\nL 169.013273 68.832957 \r\nL 170.782829 61.704265 \r\nL 172.552385 61.34548 \r\nL 174.321941 63.129642 \r\nL 176.091497 65.109223 \r\nL 177.861053 60.569539 \r\nL 179.630609 61.044021 \r\nL 181.400165 55.280982 \r\nL 183.169721 73.154859 \r\nL 184.939277 58.481224 \r\nL 186.708833 73.425108 \r\nL 188.478389 52.904897 \r\nL 190.247945 66.535488 \r\nL 192.017501 61.404442 \r\nL 193.787057 68.650808 \r\nL 195.556613 68.019001 \r\nL 197.326169 65.518 \r\nL 199.095725 64.706816 \r\nL 202.634837 61.658495 \r\nL 204.404393 66.315432 \r\nL 206.17395 66.261594 \r\nL 209.713062 60.391922 \r\nL 211.482618 67.0264 \r\nL 213.252174 71.611418 \r\nL 215.02173 72.230236 \r\nL 216.791286 70.27886 \r\nL 218.560842 67.315509 \r\nL 220.330398 74.105442 \r\nL 222.099954 64.894976 \r\nL 223.86951 66.259367 \r\nL 225.639066 75.10066 \r\nL 227.408622 70.698383 \r\nL 229.178178 65.965119 \r\nL 230.947734 71.453797 \r\nL 232.71729 73.930566 \r\nL 234.486846 67.643801 \r\nL 236.256402 66.630082 \r\nL 238.025958 75.79146 \r\nL 239.795514 68.147546 \r\nL 241.56507 70.679741 \r\nL 243.334626 72.030396 \r\nL 245.104182 73.77184 \r\nL 246.873738 64.623123 \r\nL 248.643294 73.169062 \r\nL 250.41285 75.632577 \r\nL 252.182406 73.783925 \r\nL 253.951962 71.54305 \r\nL 255.721518 73.072583 \r\nL 257.491074 73.44213 \r\nL 261.030186 78.577209 \r\nL 262.799742 73.82669 \r\nL 264.569298 74.107467 \r\nL 266.338854 74.104555 \r\nL 268.10841 74.959236 \r\nL 269.877966 84.217669 \r\nL 271.647522 68.146144 \r\nL 273.417078 75.292698 \r\nL 275.186635 79.221724 \r\nL 276.956191 70.009 \r\nL 278.725747 73.292125 \r\nL 280.495303 74.547157 \r\nL 282.264859 74.750238 \r\nL 284.034415 81.27598 \r\nL 285.803971 81.759884 \r\nL 287.573527 84.605421 \r\nL 289.343083 80.108067 \r\nL 291.112639 70.647706 \r\nL 292.882195 82.982866 \r\nL 294.651751 80.308452 \r\nL 296.421307 84.627411 \r\nL 298.190863 89.351159 \r\nL 299.960419 84.457253 \r\nL 301.729975 79.962204 \r\nL 303.499531 82.938544 \r\nL 305.269087 83.265668 \r\nL 307.038643 86.785668 \r\nL 308.808199 87.80314 \r\nL 310.577755 80.245753 \r\nL 312.347311 83.647378 \r\nL 314.116867 85.739587 \r\nL 315.886423 85.195677 \r\nL 317.655979 83.923934 \r\nL 319.425535 79.136832 \r\nL 321.195091 92.697342 \r\nL 322.964647 88.204364 \r\nL 324.734203 83.003377 \r\nL 326.503759 87.393164 \r\nL 328.273315 94.565913 \r\nL 330.042871 84.618503 \r\nL 331.812427 97.50743 \r\nL 333.581983 96.87078 \r\nL 335.351539 91.707372 \r\nL 337.121095 86.024226 \r\nL 338.890651 91.844109 \r\nL 340.660207 93.727553 \r\nL 342.429763 97.235281 \r\nL 344.19932 97.850642 \r\nL 345.968876 93.028562 \r\nL 347.738432 99.886334 \r\nL 349.507988 92.021633 \r\nL 351.277544 96.149036 \r\nL 353.0471 99.392027 \r\nL 354.816656 97.588538 \r\nL 356.586212 94.760693 \r\nL 358.355768 95.735696 \r\nL 360.125324 98.991691 \r\nL 361.89488 96.056061 \r\nL 363.664436 92.838205 \r\nL 365.433992 90.933628 \r\nL 367.203548 101.428778 \r\nL 368.973104 97.836439 \r\nL 370.74266 96.40002 \r\nL 372.512216 101.325946 \r\nL 374.281772 95.785578 \r\nL 376.051328 108.025786 \r\nL 377.820884 102.751883 \r\nL 379.59044 104.084986 \r\nL 381.359996 97.845191 \r\nL 383.129552 102.201168 \r\nL 384.899108 101.253528 \r\nL 386.668664 104.062919 \r\nL 388.43822 100.205002 \r\nL 390.207776 105.767655 \r\nL 391.977332 108.298402 \r\nL 393.746888 109.277688 \r\nL 395.516444 113.36583 \r\nL 397.286 108.610077 \r\nL 399.055556 112.493083 \r\nL 400.825112 106.869475 \r\nL 402.594668 112.731329 \r\nL 404.364224 108.927639 \r\nL 406.13378 110.748338 \r\nL 407.903336 116.726776 \r\nL 409.672892 107.066154 \r\nL 411.442448 112.079556 \r\nL 413.212004 107.37582 \r\nL 414.981561 122.703221 \r\nL 416.751117 124.205547 \r\nL 418.520673 118.134025 \r\nL 420.290229 115.914159 \r\nL 422.059785 113.069183 \r\nL 423.829341 125.361625 \r\nL 425.598897 122.146572 \r\nL 427.368453 122.454012 \r\nL 429.138009 125.744565 \r\nL 430.907565 123.627594 \r\nL 432.677121 122.934053 \r\nL 434.446677 122.74393 \r\nL 436.216233 130.622523 \r\nL 437.985789 129.283066 \r\nL 439.755345 129.630639 \r\nL 441.524901 130.60846 \r\nL 443.294457 131.304306 \r\nL 445.064013 127.452354 \r\nL 446.833569 138.522452 \r\nL 448.603125 128.293299 \r\nL 450.372681 133.312962 \r\nL 452.142237 137.790554 \r\nL 453.911793 129.472566 \r\nL 455.681349 137.619851 \r\nL 457.450905 138.047706 \r\nL 459.220461 137.821701 \r\nL 460.990017 136.392991 \r\nL 462.759573 142.382736 \r\nL 466.298685 138.747242 \r\nL 468.068241 145.815056 \r\nL 469.837797 151.463552 \r\nL 471.607353 144.965265 \r\nL 473.376909 146.723389 \r\nL 475.146465 150.324714 \r\nL 476.916021 152.762813 \r\nL 478.685577 157.101924 \r\nL 480.455133 152.711576 \r\nL 482.224689 156.153972 \r\nL 483.994246 157.593436 \r\nL 485.763802 155.229163 \r\nL 487.533358 156.84376 \r\nL 489.302914 154.123606 \r\nL 491.07247 160.948425 \r\nL 492.842026 162.656238 \r\nL 494.611582 166.051742 \r\nL 496.381138 170.555925 \r\nL 498.150694 166.895047 \r\nL 499.92025 165.457538 \r\nL 501.689806 172.042359 \r\nL 503.459362 173.685066 \r\nL 505.228918 169.497004 \r\nL 506.998474 176.866137 \r\nL 508.76803 180.496857 \r\nL 510.537586 175.364971 \r\nL 512.307142 180.24933 \r\nL 514.076698 183.246351 \r\nL 515.846254 184.192746 \r\nL 517.61581 182.80174 \r\nL 519.385366 192.472562 \r\nL 521.154922 190.565867 \r\nL 522.924478 189.732926 \r\nL 524.694034 195.926997 \r\nL 526.46359 196.221284 \r\nL 528.233146 195.27686 \r\nL 530.002702 198.375842 \r\nL 531.772258 199.842217 \r\nL 535.31137 206.473401 \r\nL 537.080926 206.706507 \r\nL 538.850482 208.302742 \r\nL 540.620038 207.370209 \r\nL 542.389594 212.977776 \r\nL 544.15915 217.294025 \r\nL 545.928706 212.441093 \r\nL 547.698262 216.304756 \r\nL 549.467818 218.865311 \r\nL 551.237374 220.814881 \r\nL 553.00693 225.159162 \r\nL 554.776487 225.192035 \r\nL 558.315599 229.643536 \r\nL 560.085155 227.689462 \r\nL 561.854711 233.489551 \r\nL 563.624267 233.464913 \r\nL 565.393823 236.498712 \r\nL 567.163379 236.921143 \r\nL 568.932935 239.774389 \r\nL 570.702491 237.004742 \r\nL 572.472047 243.81681 \r\nL 574.241603 242.849648 \r\nL 576.011159 245.954085 \r\nL 577.780715 244.628181 \r\nL 579.550271 250.834921 \r\nL 581.319827 249.381172 \r\nL 583.089383 251.374162 \r\nL 584.858939 250.999635 \r\nL 586.628495 252.638605 \r\nL 588.398051 252.006155 \r\nL 590.167607 257.505085 \r\nL 591.937163 258.052715 \r\nL 593.706719 260.952802 \r\nL 595.476275 262.960512 \r\nL 597.245831 260.791675 \r\nL 599.015387 264.315584 \r\nL 600.784943 263.563021 \r\nL 602.554499 266.115404 \r\nL 604.324055 266.962004 \r\nL 606.093611 265.594265 \r\nL 607.863167 265.626789 \r\nL 609.632723 268.313087 \r\nL 611.402279 270.370822 \r\nL 613.171835 270.124116 \r\nL 614.941391 271.976817 \r\nL 616.710947 269.802587 \r\nL 618.480503 271.941572 \r\nL 620.250059 271.51191 \r\nL 622.019615 273.345397 \r\nL 623.789172 272.856538 \r\nL 625.558728 275.072413 \r\nL 627.328284 274.102057 \r\nL 629.09784 276.296107 \r\nL 630.867396 275.300016 \r\nL 632.636952 277.055945 \r\nL 634.406508 276.497665 \r\nL 636.176064 275.679002 \r\nL 637.94562 277.275584 \r\nL 639.715176 276.172173 \r\nL 641.484732 277.884251 \r\nL 643.254288 278.202917 \r\nL 645.023844 277.396546 \r\nL 646.7934 278.267146 \r\nL 648.562956 277.924944 \r\nL 650.332512 277.753495 \r\nL 652.102068 278.34453 \r\nL 653.871624 272.300915 \r\nL 655.64118 278.373892 \r\nL 657.410736 278.490003 \r\nL 659.180292 277.257084 \r\nL 660.949848 278.134586 \r\nL 662.719404 278.33106 \r\nL 664.48896 277.957125 \r\nL 666.258516 278.461563 \r\nL 668.028072 279.146672 \r\nL 669.797628 279.120191 \r\nL 671.567184 277.530614 \r\nL 675.106296 278.581258 \r\nL 676.875852 272.424411 \r\nL 678.645408 278.851281 \r\nL 680.414964 278.727607 \r\nL 682.18452 279.051111 \r\nL 683.954076 278.546058 \r\nL 685.723632 279.49116 \r\nL 687.493188 277.331204 \r\nL 689.262744 279.514031 \r\nL 691.0323 279.080288 \r\nL 692.801857 279.404151 \r\nL 694.571413 278.643585 \r\nL 696.340969 278.934009 \r\nL 698.110525 273.627359 \r\nL 699.880081 279.240911 \r\nL 701.649637 272.422384 \r\nL 703.419193 279.055449 \r\nL 705.188749 272.928301 \r\nL 706.958305 279.575353 \r\nL 708.727861 278.947221 \r\nL 710.497417 279.306451 \r\nL 714.036529 278.653873 \r\nL 715.806085 278.972109 \r\nL 717.575641 278.08379 \r\nL 719.345197 278.405229 \r\nL 721.114753 278.473004 \r\nL 722.884309 279.487748 \r\nL 724.653865 278.052547 \r\nL 726.423421 278.820652 \r\nL 729.962533 279.306202 \r\nL 731.732089 278.791907 \r\nL 733.501645 279.572754 \r\nL 735.271201 273.887702 \r\nL 737.040757 279.188592 \r\nL 738.810313 278.189096 \r\nL 740.579869 277.43199 \r\nL 742.349425 279.029019 \r\nL 744.118981 279.125139 \r\nL 745.888537 278.277581 \r\nL 747.658093 278.492404 \r\nL 749.427649 278.186751 \r\nL 751.197205 279.792626 \r\nL 752.966761 279.3577 \r\nL 754.736317 279.098484 \r\nL 756.505873 279.716319 \r\nL 758.275429 279.511584 \r\nL 760.044985 279.166494 \r\nL 761.814541 279.154265 \r\nL 767.12321 279.624696 \r\nL 768.892766 278.955491 \r\nL 770.662322 278.912766 \r\nL 772.431878 279.489775 \r\nL 774.201434 279.447681 \r\nL 775.97099 273.701863 \r\nL 777.740546 279.203858 \r\nL 779.510102 278.901291 \r\nL 781.279658 273.07949 \r\nL 783.049214 279.089298 \r\nL 784.81877 279.041724 \r\nL 786.588326 279.349666 \r\nL 790.127438 279.283571 \r\nL 791.896994 278.777124 \r\nL 793.66655 279.507804 \r\nL 795.436106 278.787817 \r\nL 797.205662 279.34426 \r\nL 798.975218 279.327647 \r\nL 800.744774 279.646446 \r\nL 802.51433 279.151686 \r\nL 804.283886 279.711257 \r\nL 806.053442 279.124451 \r\nL 807.822998 279.624531 \r\nL 809.592554 279.97508 \r\nL 811.36211 278.414122 \r\nL 813.131666 278.549791 \r\nL 814.901222 273.674407 \r\nL 816.670778 278.247914 \r\nL 818.440334 279.411384 \r\nL 820.20989 279.460994 \r\nL 821.979446 279.880701 \r\nL 823.749002 273.263428 \r\nL 825.518558 278.278537 \r\nL 827.288114 279.933872 \r\nL 829.05767 279.71714 \r\nL 829.05767 279.71714 \r\n\" style=\"fill:none;stroke:#0000ff;stroke-linecap:square;stroke-width:1.5;\"/>\r\n   </g>\r\n   <g id=\"line2d_13\">\r\n    <path clip-path=\"url(#p3afcede291)\" d=\"M 68.14858 34.67267 \r\nL 94.69192 37.357627 \r\nL 119.465704 40.074168 \r\nL 147.778601 43.399731 \r\nL 170.782829 46.322591 \r\nL 192.017501 49.19574 \r\nL 215.02173 52.548634 \r\nL 234.486846 55.573688 \r\nL 255.721518 59.121409 \r\nL 273.417078 62.293011 \r\nL 287.573527 65.069977 \r\nL 301.729975 68.063137 \r\nL 314.116867 70.866936 \r\nL 326.503759 73.881478 \r\nL 340.660207 77.558818 \r\nL 353.0471 81.008861 \r\nL 363.664436 84.17182 \r\nL 372.512216 87.031093 \r\nL 383.129552 90.675541 \r\nL 391.977332 93.952966 \r\nL 402.594668 98.148955 \r\nL 409.672892 101.144077 \r\nL 418.520673 105.168179 \r\nL 425.598897 108.565116 \r\nL 432.677121 112.13232 \r\nL 439.755345 115.941086 \r\nL 446.833569 120.018622 \r\nL 452.142237 123.245931 \r\nL 459.220461 127.800425 \r\nL 466.298685 132.624483 \r\nL 473.376909 137.741217 \r\nL 480.455133 143.178798 \r\nL 487.533358 148.960043 \r\nL 494.611582 155.097582 \r\nL 501.689806 161.499047 \r\nL 508.76803 168.235625 \r\nL 515.846254 175.252249 \r\nL 526.46359 186.226156 \r\nL 535.31137 195.827536 \r\nL 551.237374 213.448645 \r\nL 558.315599 221.281436 \r\nL 572.472047 236.509395 \r\nL 579.550271 243.623989 \r\nL 584.858939 248.594085 \r\nL 588.398051 251.770051 \r\nL 593.706719 256.105278 \r\nL 597.245831 258.778645 \r\nL 600.784943 261.248762 \r\nL 604.324055 263.541243 \r\nL 609.632723 266.720745 \r\nL 613.171835 268.633947 \r\nL 616.710947 270.342807 \r\nL 622.019615 272.634586 \r\nL 625.558728 273.980062 \r\nL 629.09784 275.078697 \r\nL 634.406508 276.435803 \r\nL 639.715176 277.554389 \r\nL 643.254288 278.198112 \r\nL 650.332512 279.141488 \r\nL 655.64118 279.660016 \r\nL 669.797628 280.650762 \r\nL 680.414964 281.005149 \r\nL 698.110525 281.33057 \r\nL 708.727861 281.316695 \r\nL 726.423421 281.494008 \r\nL 745.888537 281.546814 \r\nL 790.127438 281.715202 \r\nL 823.749002 281.751428 \r\nL 829.05767 281.73169 \r\nL 829.05767 281.73169 \r\n\" style=\"fill:none;stroke:#ff0000;stroke-linecap:square;stroke-width:1.5;\"/>\r\n   </g>\r\n   <g id=\"patch_3\">\r\n    <path d=\"M 30.103125 294.118125 \r\nL 30.103125 22.318125 \r\n\" style=\"fill:none;stroke:#000000;stroke-linecap:square;stroke-linejoin:miter;stroke-width:0.8;\"/>\r\n   </g>\r\n   <g id=\"patch_4\">\r\n    <path d=\"M 867.103125 294.118125 \r\nL 867.103125 22.318125 \r\n\" style=\"fill:none;stroke:#000000;stroke-linecap:square;stroke-linejoin:miter;stroke-width:0.8;\"/>\r\n   </g>\r\n   <g id=\"patch_5\">\r\n    <path d=\"M 30.103125 294.118125 \r\nL 867.103125 294.118125 \r\n\" style=\"fill:none;stroke:#000000;stroke-linecap:square;stroke-linejoin:miter;stroke-width:0.8;\"/>\r\n   </g>\r\n   <g id=\"patch_6\">\r\n    <path d=\"M 30.103125 22.318125 \r\nL 867.103125 22.318125 \r\n\" style=\"fill:none;stroke:#000000;stroke-linecap:square;stroke-linejoin:miter;stroke-width:0.8;\"/>\r\n   </g>\r\n   <g id=\"text_12\">\r\n    <!-- Model Training History  -->\r\n    <defs>\r\n     <path d=\"M 9.8125 72.90625 \r\nL 24.515625 72.90625 \r\nL 43.109375 23.296875 \r\nL 61.8125 72.90625 \r\nL 76.515625 72.90625 \r\nL 76.515625 0 \r\nL 66.890625 0 \r\nL 66.890625 64.015625 \r\nL 48.09375 14.015625 \r\nL 38.1875 14.015625 \r\nL 19.390625 64.015625 \r\nL 19.390625 0 \r\nL 9.8125 0 \r\nz\r\n\" id=\"DejaVuSans-77\"/>\r\n     <path d=\"M 30.609375 48.390625 \r\nQ 23.390625 48.390625 19.1875 42.75 \r\nQ 14.984375 37.109375 14.984375 27.296875 \r\nQ 14.984375 17.484375 19.15625 11.84375 \r\nQ 23.34375 6.203125 30.609375 6.203125 \r\nQ 37.796875 6.203125 41.984375 11.859375 \r\nQ 46.1875 17.53125 46.1875 27.296875 \r\nQ 46.1875 37.015625 41.984375 42.703125 \r\nQ 37.796875 48.390625 30.609375 48.390625 \r\nz\r\nM 30.609375 56 \r\nQ 42.328125 56 49.015625 48.375 \r\nQ 55.71875 40.765625 55.71875 27.296875 \r\nQ 55.71875 13.875 49.015625 6.21875 \r\nQ 42.328125 -1.421875 30.609375 -1.421875 \r\nQ 18.84375 -1.421875 12.171875 6.21875 \r\nQ 5.515625 13.875 5.515625 27.296875 \r\nQ 5.515625 40.765625 12.171875 48.375 \r\nQ 18.84375 56 30.609375 56 \r\nz\r\n\" id=\"DejaVuSans-111\"/>\r\n     <path d=\"M 45.40625 46.390625 \r\nL 45.40625 75.984375 \r\nL 54.390625 75.984375 \r\nL 54.390625 0 \r\nL 45.40625 0 \r\nL 45.40625 8.203125 \r\nQ 42.578125 3.328125 38.25 0.953125 \r\nQ 33.9375 -1.421875 27.875 -1.421875 \r\nQ 17.96875 -1.421875 11.734375 6.484375 \r\nQ 5.515625 14.40625 5.515625 27.296875 \r\nQ 5.515625 40.1875 11.734375 48.09375 \r\nQ 17.96875 56 27.875 56 \r\nQ 33.9375 56 38.25 53.625 \r\nQ 42.578125 51.265625 45.40625 46.390625 \r\nz\r\nM 14.796875 27.296875 \r\nQ 14.796875 17.390625 18.875 11.75 \r\nQ 22.953125 6.109375 30.078125 6.109375 \r\nQ 37.203125 6.109375 41.296875 11.75 \r\nQ 45.40625 17.390625 45.40625 27.296875 \r\nQ 45.40625 37.203125 41.296875 42.84375 \r\nQ 37.203125 48.484375 30.078125 48.484375 \r\nQ 22.953125 48.484375 18.875 42.84375 \r\nQ 14.796875 37.203125 14.796875 27.296875 \r\nz\r\n\" id=\"DejaVuSans-100\"/>\r\n     <path d=\"M 56.203125 29.59375 \r\nL 56.203125 25.203125 \r\nL 14.890625 25.203125 \r\nQ 15.484375 15.921875 20.484375 11.0625 \r\nQ 25.484375 6.203125 34.421875 6.203125 \r\nQ 39.59375 6.203125 44.453125 7.46875 \r\nQ 49.3125 8.734375 54.109375 11.28125 \r\nL 54.109375 2.78125 \r\nQ 49.265625 0.734375 44.1875 -0.34375 \r\nQ 39.109375 -1.421875 33.890625 -1.421875 \r\nQ 20.796875 -1.421875 13.15625 6.1875 \r\nQ 5.515625 13.8125 5.515625 26.8125 \r\nQ 5.515625 40.234375 12.765625 48.109375 \r\nQ 20.015625 56 32.328125 56 \r\nQ 43.359375 56 49.78125 48.890625 \r\nQ 56.203125 41.796875 56.203125 29.59375 \r\nz\r\nM 47.21875 32.234375 \r\nQ 47.125 39.59375 43.09375 43.984375 \r\nQ 39.0625 48.390625 32.421875 48.390625 \r\nQ 24.90625 48.390625 20.390625 44.140625 \r\nQ 15.875 39.890625 15.1875 32.171875 \r\nz\r\n\" id=\"DejaVuSans-101\"/>\r\n     <path d=\"M 9.421875 75.984375 \r\nL 18.40625 75.984375 \r\nL 18.40625 0 \r\nL 9.421875 0 \r\nz\r\n\" id=\"DejaVuSans-108\"/>\r\n     <path id=\"DejaVuSans-32\"/>\r\n     <path d=\"M -0.296875 72.90625 \r\nL 61.375 72.90625 \r\nL 61.375 64.59375 \r\nL 35.5 64.59375 \r\nL 35.5 0 \r\nL 25.59375 0 \r\nL 25.59375 64.59375 \r\nL -0.296875 64.59375 \r\nz\r\n\" id=\"DejaVuSans-84\"/>\r\n     <path d=\"M 41.109375 46.296875 \r\nQ 39.59375 47.171875 37.8125 47.578125 \r\nQ 36.03125 48 33.890625 48 \r\nQ 26.265625 48 22.1875 43.046875 \r\nQ 18.109375 38.09375 18.109375 28.8125 \r\nL 18.109375 0 \r\nL 9.078125 0 \r\nL 9.078125 54.6875 \r\nL 18.109375 54.6875 \r\nL 18.109375 46.1875 \r\nQ 20.953125 51.171875 25.484375 53.578125 \r\nQ 30.03125 56 36.53125 56 \r\nQ 37.453125 56 38.578125 55.875 \r\nQ 39.703125 55.765625 41.0625 55.515625 \r\nz\r\n\" id=\"DejaVuSans-114\"/>\r\n     <path d=\"M 34.28125 27.484375 \r\nQ 23.390625 27.484375 19.1875 25 \r\nQ 14.984375 22.515625 14.984375 16.5 \r\nQ 14.984375 11.71875 18.140625 8.90625 \r\nQ 21.296875 6.109375 26.703125 6.109375 \r\nQ 34.1875 6.109375 38.703125 11.40625 \r\nQ 43.21875 16.703125 43.21875 25.484375 \r\nL 43.21875 27.484375 \r\nz\r\nM 52.203125 31.203125 \r\nL 52.203125 0 \r\nL 43.21875 0 \r\nL 43.21875 8.296875 \r\nQ 40.140625 3.328125 35.546875 0.953125 \r\nQ 30.953125 -1.421875 24.3125 -1.421875 \r\nQ 15.921875 -1.421875 10.953125 3.296875 \r\nQ 6 8.015625 6 15.921875 \r\nQ 6 25.140625 12.171875 29.828125 \r\nQ 18.359375 34.515625 30.609375 34.515625 \r\nL 43.21875 34.515625 \r\nL 43.21875 35.40625 \r\nQ 43.21875 41.609375 39.140625 45 \r\nQ 35.0625 48.390625 27.6875 48.390625 \r\nQ 23 48.390625 18.546875 47.265625 \r\nQ 14.109375 46.140625 10.015625 43.890625 \r\nL 10.015625 52.203125 \r\nQ 14.9375 54.109375 19.578125 55.046875 \r\nQ 24.21875 56 28.609375 56 \r\nQ 40.484375 56 46.34375 49.84375 \r\nQ 52.203125 43.703125 52.203125 31.203125 \r\nz\r\n\" id=\"DejaVuSans-97\"/>\r\n     <path d=\"M 9.421875 54.6875 \r\nL 18.40625 54.6875 \r\nL 18.40625 0 \r\nL 9.421875 0 \r\nz\r\nM 9.421875 75.984375 \r\nL 18.40625 75.984375 \r\nL 18.40625 64.59375 \r\nL 9.421875 64.59375 \r\nz\r\n\" id=\"DejaVuSans-105\"/>\r\n     <path d=\"M 54.890625 33.015625 \r\nL 54.890625 0 \r\nL 45.90625 0 \r\nL 45.90625 32.71875 \r\nQ 45.90625 40.484375 42.875 44.328125 \r\nQ 39.84375 48.1875 33.796875 48.1875 \r\nQ 26.515625 48.1875 22.3125 43.546875 \r\nQ 18.109375 38.921875 18.109375 30.90625 \r\nL 18.109375 0 \r\nL 9.078125 0 \r\nL 9.078125 54.6875 \r\nL 18.109375 54.6875 \r\nL 18.109375 46.1875 \r\nQ 21.34375 51.125 25.703125 53.5625 \r\nQ 30.078125 56 35.796875 56 \r\nQ 45.21875 56 50.046875 50.171875 \r\nQ 54.890625 44.34375 54.890625 33.015625 \r\nz\r\n\" id=\"DejaVuSans-110\"/>\r\n     <path d=\"M 45.40625 27.984375 \r\nQ 45.40625 37.75 41.375 43.109375 \r\nQ 37.359375 48.484375 30.078125 48.484375 \r\nQ 22.859375 48.484375 18.828125 43.109375 \r\nQ 14.796875 37.75 14.796875 27.984375 \r\nQ 14.796875 18.265625 18.828125 12.890625 \r\nQ 22.859375 7.515625 30.078125 7.515625 \r\nQ 37.359375 7.515625 41.375 12.890625 \r\nQ 45.40625 18.265625 45.40625 27.984375 \r\nz\r\nM 54.390625 6.78125 \r\nQ 54.390625 -7.171875 48.1875 -13.984375 \r\nQ 42 -20.796875 29.203125 -20.796875 \r\nQ 24.46875 -20.796875 20.265625 -20.09375 \r\nQ 16.0625 -19.390625 12.109375 -17.921875 \r\nL 12.109375 -9.1875 \r\nQ 16.0625 -11.328125 19.921875 -12.34375 \r\nQ 23.78125 -13.375 27.78125 -13.375 \r\nQ 36.625 -13.375 41.015625 -8.765625 \r\nQ 45.40625 -4.15625 45.40625 5.171875 \r\nL 45.40625 9.625 \r\nQ 42.625 4.78125 38.28125 2.390625 \r\nQ 33.9375 0 27.875 0 \r\nQ 17.828125 0 11.671875 7.65625 \r\nQ 5.515625 15.328125 5.515625 27.984375 \r\nQ 5.515625 40.671875 11.671875 48.328125 \r\nQ 17.828125 56 27.875 56 \r\nQ 33.9375 56 38.28125 53.609375 \r\nQ 42.625 51.21875 45.40625 46.390625 \r\nL 45.40625 54.6875 \r\nL 54.390625 54.6875 \r\nz\r\n\" id=\"DejaVuSans-103\"/>\r\n     <path d=\"M 9.8125 72.90625 \r\nL 19.671875 72.90625 \r\nL 19.671875 43.015625 \r\nL 55.515625 43.015625 \r\nL 55.515625 72.90625 \r\nL 65.375 72.90625 \r\nL 65.375 0 \r\nL 55.515625 0 \r\nL 55.515625 34.71875 \r\nL 19.671875 34.71875 \r\nL 19.671875 0 \r\nL 9.8125 0 \r\nz\r\n\" id=\"DejaVuSans-72\"/>\r\n     <path d=\"M 44.28125 53.078125 \r\nL 44.28125 44.578125 \r\nQ 40.484375 46.53125 36.375 47.5 \r\nQ 32.28125 48.484375 27.875 48.484375 \r\nQ 21.1875 48.484375 17.84375 46.4375 \r\nQ 14.5 44.390625 14.5 40.28125 \r\nQ 14.5 37.15625 16.890625 35.375 \r\nQ 19.28125 33.59375 26.515625 31.984375 \r\nL 29.59375 31.296875 \r\nQ 39.15625 29.25 43.1875 25.515625 \r\nQ 47.21875 21.78125 47.21875 15.09375 \r\nQ 47.21875 7.46875 41.1875 3.015625 \r\nQ 35.15625 -1.421875 24.609375 -1.421875 \r\nQ 20.21875 -1.421875 15.453125 -0.5625 \r\nQ 10.6875 0.296875 5.421875 2 \r\nL 5.421875 11.28125 \r\nQ 10.40625 8.6875 15.234375 7.390625 \r\nQ 20.0625 6.109375 24.8125 6.109375 \r\nQ 31.15625 6.109375 34.5625 8.28125 \r\nQ 37.984375 10.453125 37.984375 14.40625 \r\nQ 37.984375 18.0625 35.515625 20.015625 \r\nQ 33.0625 21.96875 24.703125 23.78125 \r\nL 21.578125 24.515625 \r\nQ 13.234375 26.265625 9.515625 29.90625 \r\nQ 5.8125 33.546875 5.8125 39.890625 \r\nQ 5.8125 47.609375 11.28125 51.796875 \r\nQ 16.75 56 26.8125 56 \r\nQ 31.78125 56 36.171875 55.265625 \r\nQ 40.578125 54.546875 44.28125 53.078125 \r\nz\r\n\" id=\"DejaVuSans-115\"/>\r\n     <path d=\"M 18.3125 70.21875 \r\nL 18.3125 54.6875 \r\nL 36.8125 54.6875 \r\nL 36.8125 47.703125 \r\nL 18.3125 47.703125 \r\nL 18.3125 18.015625 \r\nQ 18.3125 11.328125 20.140625 9.421875 \r\nQ 21.96875 7.515625 27.59375 7.515625 \r\nL 36.8125 7.515625 \r\nL 36.8125 0 \r\nL 27.59375 0 \r\nQ 17.1875 0 13.234375 3.875 \r\nQ 9.28125 7.765625 9.28125 18.015625 \r\nL 9.28125 47.703125 \r\nL 2.6875 47.703125 \r\nL 2.6875 54.6875 \r\nL 9.28125 54.6875 \r\nL 9.28125 70.21875 \r\nz\r\n\" id=\"DejaVuSans-116\"/>\r\n     <path d=\"M 32.171875 -5.078125 \r\nQ 28.375 -14.84375 24.75 -17.8125 \r\nQ 21.140625 -20.796875 15.09375 -20.796875 \r\nL 7.90625 -20.796875 \r\nL 7.90625 -13.28125 \r\nL 13.1875 -13.28125 \r\nQ 16.890625 -13.28125 18.9375 -11.515625 \r\nQ 21 -9.765625 23.484375 -3.21875 \r\nL 25.09375 0.875 \r\nL 2.984375 54.6875 \r\nL 12.5 54.6875 \r\nL 29.59375 11.921875 \r\nL 46.6875 54.6875 \r\nL 56.203125 54.6875 \r\nz\r\n\" id=\"DejaVuSans-121\"/>\r\n    </defs>\r\n    <g transform=\"translate(379.849688 16.318125)scale(0.12 -0.12)\">\r\n     <use xlink:href=\"#DejaVuSans-77\"/>\r\n     <use x=\"86.279297\" xlink:href=\"#DejaVuSans-111\"/>\r\n     <use x=\"147.460938\" xlink:href=\"#DejaVuSans-100\"/>\r\n     <use x=\"210.9375\" xlink:href=\"#DejaVuSans-101\"/>\r\n     <use x=\"272.460938\" xlink:href=\"#DejaVuSans-108\"/>\r\n     <use x=\"300.244141\" xlink:href=\"#DejaVuSans-32\"/>\r\n     <use x=\"332.03125\" xlink:href=\"#DejaVuSans-84\"/>\r\n     <use x=\"378.365234\" xlink:href=\"#DejaVuSans-114\"/>\r\n     <use x=\"419.478516\" xlink:href=\"#DejaVuSans-97\"/>\r\n     <use x=\"480.757812\" xlink:href=\"#DejaVuSans-105\"/>\r\n     <use x=\"508.541016\" xlink:href=\"#DejaVuSans-110\"/>\r\n     <use x=\"571.919922\" xlink:href=\"#DejaVuSans-105\"/>\r\n     <use x=\"599.703125\" xlink:href=\"#DejaVuSans-110\"/>\r\n     <use x=\"663.082031\" xlink:href=\"#DejaVuSans-103\"/>\r\n     <use x=\"726.558594\" xlink:href=\"#DejaVuSans-32\"/>\r\n     <use x=\"758.345703\" xlink:href=\"#DejaVuSans-72\"/>\r\n     <use x=\"833.541016\" xlink:href=\"#DejaVuSans-105\"/>\r\n     <use x=\"861.324219\" xlink:href=\"#DejaVuSans-115\"/>\r\n     <use x=\"913.423828\" xlink:href=\"#DejaVuSans-116\"/>\r\n     <use x=\"952.632812\" xlink:href=\"#DejaVuSans-111\"/>\r\n     <use x=\"1013.814453\" xlink:href=\"#DejaVuSans-114\"/>\r\n     <use x=\"1054.927734\" xlink:href=\"#DejaVuSans-121\"/>\r\n     <use x=\"1114.107422\" xlink:href=\"#DejaVuSans-32\"/>\r\n    </g>\r\n   </g>\r\n   <g id=\"legend_1\">\r\n    <g id=\"patch_7\">\r\n     <path d=\"M 756.228125 59.674375 \r\nL 860.103125 59.674375 \r\nQ 862.103125 59.674375 862.103125 57.674375 \r\nL 862.103125 29.318125 \r\nQ 862.103125 27.318125 860.103125 27.318125 \r\nL 756.228125 27.318125 \r\nQ 754.228125 27.318125 754.228125 29.318125 \r\nL 754.228125 57.674375 \r\nQ 754.228125 59.674375 756.228125 59.674375 \r\nz\r\n\" style=\"fill:#ffffff;opacity:0.8;stroke:#cccccc;stroke-linejoin:miter;\"/>\r\n    </g>\r\n    <g id=\"line2d_14\">\r\n     <path d=\"M 758.228125 35.416562 \r\nL 778.228125 35.416562 \r\n\" style=\"fill:none;stroke:#0000ff;stroke-linecap:square;stroke-width:1.5;\"/>\r\n    </g>\r\n    <g id=\"line2d_15\"/>\r\n    <g id=\"text_13\">\r\n     <!-- Training loss -->\r\n     <g transform=\"translate(786.228125 38.916562)scale(0.1 -0.1)\">\r\n      <use xlink:href=\"#DejaVuSans-84\"/>\r\n      <use x=\"46.333984\" xlink:href=\"#DejaVuSans-114\"/>\r\n      <use x=\"87.447266\" xlink:href=\"#DejaVuSans-97\"/>\r\n      <use x=\"148.726562\" xlink:href=\"#DejaVuSans-105\"/>\r\n      <use x=\"176.509766\" xlink:href=\"#DejaVuSans-110\"/>\r\n      <use x=\"239.888672\" xlink:href=\"#DejaVuSans-105\"/>\r\n      <use x=\"267.671875\" xlink:href=\"#DejaVuSans-110\"/>\r\n      <use x=\"331.050781\" xlink:href=\"#DejaVuSans-103\"/>\r\n      <use x=\"394.527344\" xlink:href=\"#DejaVuSans-32\"/>\r\n      <use x=\"426.314453\" xlink:href=\"#DejaVuSans-108\"/>\r\n      <use x=\"454.097656\" xlink:href=\"#DejaVuSans-111\"/>\r\n      <use x=\"515.279297\" xlink:href=\"#DejaVuSans-115\"/>\r\n      <use x=\"567.378906\" xlink:href=\"#DejaVuSans-115\"/>\r\n     </g>\r\n    </g>\r\n    <g id=\"line2d_16\">\r\n     <path d=\"M 758.228125 50.094688 \r\nL 778.228125 50.094688 \r\n\" style=\"fill:none;stroke:#ff0000;stroke-linecap:square;stroke-width:1.5;\"/>\r\n    </g>\r\n    <g id=\"line2d_17\"/>\r\n    <g id=\"text_14\">\r\n     <!-- Validation loss -->\r\n     <defs>\r\n      <path d=\"M 28.609375 0 \r\nL 0.78125 72.90625 \r\nL 11.078125 72.90625 \r\nL 34.1875 11.53125 \r\nL 57.328125 72.90625 \r\nL 67.578125 72.90625 \r\nL 39.796875 0 \r\nz\r\n\" id=\"DejaVuSans-86\"/>\r\n     </defs>\r\n     <g transform=\"translate(786.228125 53.594688)scale(0.1 -0.1)\">\r\n      <use xlink:href=\"#DejaVuSans-86\"/>\r\n      <use x=\"60.658203\" xlink:href=\"#DejaVuSans-97\"/>\r\n      <use x=\"121.9375\" xlink:href=\"#DejaVuSans-108\"/>\r\n      <use x=\"149.720703\" xlink:href=\"#DejaVuSans-105\"/>\r\n      <use x=\"177.503906\" xlink:href=\"#DejaVuSans-100\"/>\r\n      <use x=\"240.980469\" xlink:href=\"#DejaVuSans-97\"/>\r\n      <use x=\"302.259766\" xlink:href=\"#DejaVuSans-116\"/>\r\n      <use x=\"341.46875\" xlink:href=\"#DejaVuSans-105\"/>\r\n      <use x=\"369.251953\" xlink:href=\"#DejaVuSans-111\"/>\r\n      <use x=\"430.433594\" xlink:href=\"#DejaVuSans-110\"/>\r\n      <use x=\"493.8125\" xlink:href=\"#DejaVuSans-32\"/>\r\n      <use x=\"525.599609\" xlink:href=\"#DejaVuSans-108\"/>\r\n      <use x=\"553.382812\" xlink:href=\"#DejaVuSans-111\"/>\r\n      <use x=\"614.564453\" xlink:href=\"#DejaVuSans-115\"/>\r\n      <use x=\"666.664062\" xlink:href=\"#DejaVuSans-115\"/>\r\n     </g>\r\n    </g>\r\n   </g>\r\n  </g>\r\n </g>\r\n <defs>\r\n  <clipPath id=\"p3afcede291\">\r\n   <rect height=\"271.8\" width=\"837\" x=\"30.103125\" y=\"22.318125\"/>\r\n  </clipPath>\r\n </defs>\r\n</svg>\r\n",
      "image/png": "[encoded data removed]"
     },
     "metadata": {
      "needs_background": "light"
     }
    }
   ],
   "source": [
    "EPOCHS=1000\n",
    "batch_size=20\n",
    "#steps_per_epoch = int((num_train/batch_size)/2)\n",
    "#steps_per_epoch=256\n",
    "\n",
    "train_model(resume=False, fit_generator=False, epochs=EPOCHS, initial_epoch=0, batch_size=batch_size, model=model)"
   ]
  },
  {
   "cell_type": "markdown",
   "metadata": {},
   "source": [
    "%%time\n",
    "#try:\n",
    "#    model.load_weights(path_checkpoint)\n",
    "#except Exception as error:\n",
    "    #print(\"Error trying to load checkpoint.\")\n",
    "    #print(error)\n",
    "\n",
    "for _ in range(10):\n",
    "    batch_size = np.random.randint(250)\n",
    "    model.fit(generator,\n",
    "                    epochs=4,\n",
    "                    steps_per_epoch=batch_size,\n",
    "                    batch_size=batch_size,\n",
    "                    validation_data=validation_data,\n",
    "                    callbacks=callbacks)\n",
    "    result = model.evaluate(x=validation_data[0], y=validation_data[1])\n",
    "    if result<=0.00041:\n",
    "        break"
   ]
  },
  {
   "cell_type": "markdown",
   "metadata": {},
   "source": [
    "### Load Checkpoint\n",
    "\n",
    "Because we use early-stopping when training the model, it is possible that the model's performance has worsened on the test-set for several epochs before training was stopped. We therefore reload the last saved checkpoint, which should have the best performance on the test-set."
   ]
  },
  {
   "cell_type": "code",
   "execution_count": 124,
   "metadata": {},
   "outputs": [],
   "source": [
    "try:\n",
    "    model.load_weights(path_checkpoint)\n",
    "except Exception as error:\n",
    "    print(\"Error trying to load checkpoint.\")\n",
    "    print(error)"
   ]
  },
  {
   "cell_type": "markdown",
   "metadata": {},
   "source": [
    "## Performance on Test-Set\n",
    "\n",
    "We can now evaluate the model's performance on the test-set. This function expects a batch of data, but we will just use one long time-series for the test-set, so we just expand the array-dimensionality to create a batch with that one sequence."
   ]
  },
  {
   "cell_type": "code",
   "execution_count": 125,
   "metadata": {},
   "outputs": [
    {
     "output_type": "stream",
     "name": "stdout",
     "text": [
      "1/1 [==============================] - 0s 2ms/step - loss: 0.0197\n"
     ]
    }
   ],
   "source": [
    "result = model.evaluate(x_test_scaled,y_test_scaled)\n"
   ]
  },
  {
   "cell_type": "code",
   "execution_count": 126,
   "metadata": {},
   "outputs": [
    {
     "output_type": "stream",
     "name": "stdout",
     "text": [
      "loss (test-set): 0.019671950489282608\n"
     ]
    }
   ],
   "source": [
    "print(\"loss (test-set):\", result)"
   ]
  },
  {
   "cell_type": "code",
   "execution_count": 127,
   "metadata": {},
   "outputs": [],
   "source": [
    "# If you have several metrics you can use this instead.\n",
    "if False:\n",
    "    for res, metric in zip(result, model.metrics_names):\n",
    "        print(\"{0}: {1:.3e}\".format(metric, res))"
   ]
  },
  {
   "cell_type": "markdown",
   "metadata": {},
   "source": [
    "## Generate Predictions\n",
    "\n",
    "This helper-function plots the predicted and true output-signals."
   ]
  },
  {
   "cell_type": "code",
   "execution_count": 128,
   "metadata": {},
   "outputs": [
    {
     "output_type": "stream",
     "name": "stdout",
     "text": [
      "Model Output: [[72.99503 ]\n [69.79742 ]\n [69.26444 ]\n [66.68957 ]\n [64.74388 ]\n [64.31577 ]\n [58.557243]\n [66.59733 ]\n [72.50849 ]\n [70.972664]\n [57.117764]\n [66.44183 ]\n [75.37403 ]\n [70.074   ]\n [68.05224 ]\n [72.75919 ]\n [59.65115 ]\n [68.05224 ]\n [72.141045]]\nDifference: [[  5.00496674]\n [  0.20258331]\n [ -1.26444244]\n [ -6.68956757]\n [-17.74388123]\n [ -6.31577301]\n [ -8.55724335]\n [  3.40267181]\n [ 12.49150848]\n [ -8.97266388]\n [-17.11776352]\n [ -9.4418335 ]\n [-11.37403107]\n [-12.0739975 ]\n [-28.05223846]\n [ -4.75919342]\n [ -5.65114975]\n [-28.05223846]\n [ -4.14104462]]\n"
     ]
    }
   ],
   "source": [
    "y_predict = model.predict(x_test_scaled, verbose=0)\n",
    "y_predict = y_scaler.inverse_transform(y_predict)\n",
    "print('Model Output:', y_predict)\n",
    "print('Difference:', y_scaler.inverse_transform(y_test_scaled)-y_predict)"
   ]
  },
  {
   "cell_type": "code",
   "execution_count": 82,
   "metadata": {},
   "outputs": [
    {
     "output_type": "error",
     "ename": "NameError",
     "evalue": "name 'train_generator' is not defined",
     "traceback": [
      "\u001b[1;31m---------------------------------------------------------------------------\u001b[0m",
      "\u001b[1;31mNameError\u001b[0m                                 Traceback (most recent call last)",
      "\u001b[1;32m<ipython-input-82-3c10957f8f23>\u001b[0m in \u001b[0;36m<module>\u001b[1;34m\u001b[0m\n\u001b[1;32m----> 1\u001b[1;33m \u001b[0mx\u001b[0m\u001b[1;33m,\u001b[0m \u001b[0my\u001b[0m \u001b[1;33m=\u001b[0m \u001b[0mnext\u001b[0m\u001b[1;33m(\u001b[0m\u001b[0mtrain_generator\u001b[0m\u001b[1;33m)\u001b[0m\u001b[1;33m\u001b[0m\u001b[1;33m\u001b[0m\u001b[0m\n\u001b[0m\u001b[0;32m      2\u001b[0m \u001b[0mx\u001b[0m\u001b[1;33m[\u001b[0m\u001b[1;36m0\u001b[0m\u001b[1;33m]\u001b[0m\u001b[1;33m.\u001b[0m\u001b[0mshape\u001b[0m\u001b[1;33m\u001b[0m\u001b[1;33m\u001b[0m\u001b[0m\n\u001b[0;32m      3\u001b[0m \u001b[0mx_scaler\u001b[0m\u001b[1;33m.\u001b[0m\u001b[0minverse_transform\u001b[0m\u001b[1;33m(\u001b[0m\u001b[0mx\u001b[0m\u001b[1;33m[\u001b[0m\u001b[1;36m0\u001b[0m\u001b[1;33m]\u001b[0m\u001b[1;33m)\u001b[0m\u001b[1;33m.\u001b[0m\u001b[0mshape\u001b[0m\u001b[1;33m\u001b[0m\u001b[1;33m\u001b[0m\u001b[0m\n",
      "\u001b[1;31mNameError\u001b[0m: name 'train_generator' is not defined"
     ]
    }
   ],
   "source": [
    "x, y = next(train_generator)\n",
    "x[0].shape\n",
    "x_scaler.inverse_transform(x[0]).shape"
   ]
  },
  {
   "cell_type": "code",
   "execution_count": null,
   "metadata": {},
   "outputs": [],
   "source": [
    "def plot_comparison(start_idx, length=100, train=True):\n",
    "    \"\"\"\n",
    "    Plot the predicted and true output-signals.\n",
    "    \n",
    "    :param start_idx: Start-index for the time-series.\n",
    "    :param length: Sequence-length to process and plot.\n",
    "    :param train: Boolean whether to use training- or test-set.\n",
    "    \"\"\"\n",
    "    \n",
    "    if train:\n",
    "        # Use training-data.\n",
    "        x, y_true = next(train_generator)\n",
    "        x, y_true = x[0], y_true[0]\n",
    "        y_signal = x_scaler.inverse_transform(x)[:,:num_y_signals]\n",
    "        y_true = y_scaler.inverse_transform(y_true)[:,:num_y_signals]\n",
    "        \n",
    "    else:\n",
    "        # Use test-data.\n",
    "        print('Using test data')\n",
    "        x, y_true = next(validation_generator)\n",
    "        x, y_true = x[0], y_true[0]\n",
    "        y_signal = x_scaler.inverse_transform(x)[:,:num_y_signals]\n",
    "        y_true = y_scaler.inverse_transform(y_true)[:,:num_y_signals]\n",
    "        \n",
    "    print(x.shape)      \n",
    "    # Input-signals for the model.\n",
    "    x = np.expand_dims(x, axis=0)\n",
    "\n",
    "    # Use the model to predict the output-signals.\n",
    "    y_pred = model.predict(x)\n",
    "    \n",
    "    # The output of the model is between 0 and 1.\n",
    "    # Do an inverse map to get it back to the scale\n",
    "    # of the original data-set.\n",
    "    y_pred_rescaled = y_scaler.inverse_transform(y_pred[0])\n",
    "    \n",
    "    # For each output-signal.\n",
    "    #for signal in range(len(target_names)):\n",
    "    for signal in range(num_y_signals):\n",
    "        # Get the output-signal predicted by the model.\n",
    "        signal_pred = y_pred_rescaled[:, signal]\n",
    "        \n",
    "        # Get the true output-signal from the data-set.\n",
    "        signal_true = y_true[:, signal]\n",
    "        \n",
    "        # Get the input-signals used for prediction.\n",
    "        #y_signal = y_signal[warmup_steps:, signal]\n",
    "\n",
    "        # Make the plotting-canvas bigger.\n",
    "        plt.figure(figsize=(35,5))\n",
    "        \n",
    "        # Plot and compare the two signals.\n",
    "        plt.plot(signal_true, label='true')\n",
    "        plt.plot(signal_pred, label='pred')\n",
    "        #plt.plot(y_signal, label='input')\n",
    "        \n",
    "\n",
    "        # Plot grey box for warmup-period.\n",
    "        p = plt.axvspan(0, warmup_steps, facecolor='black', alpha=0.15)\n",
    "        \n",
    "        # Plot labels etc.\n",
    "        plt.ylabel(target_names[signal])\n",
    "        plt.grid(color='b', linestyle='-.', linewidth=0.15)\n",
    "        plt.legend()\n",
    "        plt.show()\n",
    "\n",
    "    return y_pred_rescaled, y_true, y_signal"
   ]
  },
  {
   "cell_type": "code",
   "execution_count": null,
   "metadata": {},
   "outputs": [],
   "source": [
    "look_back=-sequence_length+20"
   ]
  },
  {
   "cell_type": "markdown",
   "metadata": {
    "scrolled": true
   },
   "source": [
    "plot_comparison(start_idx=-look_back, length=look_back-1, train=True)"
   ]
  },
  {
   "cell_type": "markdown",
   "metadata": {},
   "source": [
    "We can now plot an example of predicted output-signals. It is important to understand what these plots show, as they are actually a bit more complicated than you might think.\n",
    "\n",
    "These plots only show the output-signals and not the 336 input-signals used to predict the output-signals. The time-shift between the input-signals and the output-signals is held fixed in these plots. The model **always** predicts the output-signals e.g. 24 hours into the future (as defined in the `shift_steps` variable above). So the plot's x-axis merely shows how many time-steps of the input-signals have been seen by the predictive model so far.\n",
    "\n",
    "The prediction is not very accurate for the first 30-50 time-steps because the model has seen very little input-data at this point.\n",
    "The model generates a single time-step of output data for each time-step of the input-data, so when the model has only run for a few time-steps, it knows very little of the history of the input-signals and cannot make an accurate prediction. The model needs to \"warm up\" by processing perhaps 30-50 time-steps before its predicted output-signals can be used.\n",
    "\n",
    "That is why we ignore this \"warmup-period\" of 50 time-steps when calculating the mean-squared-error in the loss-function. The \"warmup-period\" is shown as a grey box in these plots.\n",
    "\n",
    "Let us start with an example from the training-data. This is data that the model has seen during training so it should perform reasonably well on this data."
   ]
  },
  {
   "cell_type": "code",
   "execution_count": null,
   "metadata": {
    "scrolled": true
   },
   "outputs": [],
   "source": [
    "signal_pred0, signal_true0, y_signal0 = plot_comparison(start_idx=look_back, length=np.abs(look_back+1), train=False)"
   ]
  },
  {
   "cell_type": "code",
   "execution_count": null,
   "metadata": {},
   "outputs": [],
   "source": [
    "signal_pred0.shape"
   ]
  },
  {
   "cell_type": "code",
   "execution_count": null,
   "metadata": {},
   "outputs": [],
   "source": [
    "pd.concat([pd.DataFrame(signal_true0[:,2]),pd.DataFrame(signal_pred0[:,2]),pd.DataFrame(y_signal0[:,2])])#.plot(figsize=(35,5), subplots=False)"
   ]
  },
  {
   "cell_type": "code",
   "execution_count": null,
   "metadata": {},
   "outputs": [],
   "source": [
    "pd.DataFrame(signal_pred0).tail(65)"
   ]
  },
  {
   "cell_type": "code",
   "execution_count": 11,
   "metadata": {},
   "outputs": [
    {
     "output_type": "error",
     "ename": "NameError",
     "evalue": "name 'pd' is not defined",
     "traceback": [
      "\u001b[1;31m---------------------------------------------------------------------------\u001b[0m",
      "\u001b[1;31mNameError\u001b[0m                                 Traceback (most recent call last)",
      "\u001b[1;32m<ipython-input-11-f1d78661a2bd>\u001b[0m in \u001b[0;36m<module>\u001b[1;34m\u001b[0m\n\u001b[1;32m----> 1\u001b[1;33m \u001b[0mpd\u001b[0m\u001b[1;33m.\u001b[0m\u001b[0mDataFrame\u001b[0m\u001b[1;33m(\u001b[0m\u001b[0msignal_true0\u001b[0m\u001b[1;33m)\u001b[0m\u001b[1;33m.\u001b[0m\u001b[0mtail\u001b[0m\u001b[1;33m(\u001b[0m\u001b[1;36m65\u001b[0m\u001b[1;33m)\u001b[0m\u001b[1;33m\u001b[0m\u001b[1;33m\u001b[0m\u001b[0m\n\u001b[0m",
      "\u001b[1;31mNameError\u001b[0m: name 'pd' is not defined"
     ]
    }
   ],
   "source": [
    "pd.DataFrame(signal_true0).tail(65)"
   ]
  },
  {
   "cell_type": "code",
   "execution_count": 12,
   "metadata": {},
   "outputs": [
    {
     "output_type": "error",
     "ename": "NameError",
     "evalue": "name 'pd' is not defined",
     "traceback": [
      "\u001b[1;31m---------------------------------------------------------------------------\u001b[0m",
      "\u001b[1;31mNameError\u001b[0m                                 Traceback (most recent call last)",
      "\u001b[1;32m<ipython-input-12-a4023953c488>\u001b[0m in \u001b[0;36m<module>\u001b[1;34m\u001b[0m\n\u001b[1;32m----> 1\u001b[1;33m \u001b[0myPred\u001b[0m \u001b[1;33m=\u001b[0m \u001b[0mpd\u001b[0m\u001b[1;33m.\u001b[0m\u001b[0mDataFrame\u001b[0m\u001b[1;33m(\u001b[0m\u001b[0msignal_pred0\u001b[0m\u001b[1;33m)\u001b[0m\u001b[1;33m.\u001b[0m\u001b[0mvalues\u001b[0m\u001b[1;33m[\u001b[0m\u001b[1;33m:\u001b[0m\u001b[1;33m-\u001b[0m\u001b[0mshift_steps\u001b[0m\u001b[1;33m]\u001b[0m\u001b[1;33m\u001b[0m\u001b[1;33m\u001b[0m\u001b[0m\n\u001b[0m\u001b[0;32m      2\u001b[0m \u001b[0mprint\u001b[0m\u001b[1;33m(\u001b[0m\u001b[0myPred\u001b[0m\u001b[1;33m.\u001b[0m\u001b[0mshape\u001b[0m\u001b[1;33m)\u001b[0m\u001b[1;33m\u001b[0m\u001b[1;33m\u001b[0m\u001b[0m\n\u001b[0;32m      3\u001b[0m \u001b[0mpd\u001b[0m\u001b[1;33m.\u001b[0m\u001b[0mDataFrame\u001b[0m\u001b[1;33m(\u001b[0m\u001b[0myPred\u001b[0m\u001b[1;33m)\u001b[0m\u001b[1;33m.\u001b[0m\u001b[0mtail\u001b[0m\u001b[1;33m(\u001b[0m\u001b[1;36m10\u001b[0m\u001b[1;33m)\u001b[0m\u001b[1;33m\u001b[0m\u001b[1;33m\u001b[0m\u001b[0m\n",
      "\u001b[1;31mNameError\u001b[0m: name 'pd' is not defined"
     ]
    }
   ],
   "source": [
    "yPred = pd.DataFrame(signal_pred0).values[:-shift_steps]\n",
    "print(yPred.shape)\n",
    "pd.DataFrame(yPred).tail(10)"
   ]
  },
  {
   "cell_type": "code",
   "execution_count": 13,
   "metadata": {},
   "outputs": [
    {
     "output_type": "error",
     "ename": "NameError",
     "evalue": "name 'pd' is not defined",
     "traceback": [
      "\u001b[1;31m---------------------------------------------------------------------------\u001b[0m",
      "\u001b[1;31mNameError\u001b[0m                                 Traceback (most recent call last)",
      "\u001b[1;32m<ipython-input-13-a959de42ee1c>\u001b[0m in \u001b[0;36m<module>\u001b[1;34m\u001b[0m\n\u001b[1;32m----> 1\u001b[1;33m \u001b[0myTrue\u001b[0m \u001b[1;33m=\u001b[0m \u001b[0mpd\u001b[0m\u001b[1;33m.\u001b[0m\u001b[0mDataFrame\u001b[0m\u001b[1;33m(\u001b[0m\u001b[0msignal_true0\u001b[0m\u001b[1;33m)\u001b[0m\u001b[1;33m.\u001b[0m\u001b[0mshift\u001b[0m\u001b[1;33m(\u001b[0m\u001b[1;36m2\u001b[0m\u001b[1;33m*\u001b[0m\u001b[0mshift_steps\u001b[0m\u001b[1;33m)\u001b[0m\u001b[1;33m.\u001b[0m\u001b[0mvalues\u001b[0m\u001b[1;33m[\u001b[0m\u001b[0mshift_steps\u001b[0m\u001b[1;33m:\u001b[0m\u001b[1;33m]\u001b[0m\u001b[1;33m\u001b[0m\u001b[1;33m\u001b[0m\u001b[0m\n\u001b[0m\u001b[0;32m      2\u001b[0m \u001b[0mprint\u001b[0m\u001b[1;33m(\u001b[0m\u001b[0myTrue\u001b[0m\u001b[1;33m.\u001b[0m\u001b[0mshape\u001b[0m\u001b[1;33m)\u001b[0m\u001b[1;33m\u001b[0m\u001b[1;33m\u001b[0m\u001b[0m\n\u001b[0;32m      3\u001b[0m \u001b[0mpd\u001b[0m\u001b[1;33m.\u001b[0m\u001b[0mDataFrame\u001b[0m\u001b[1;33m(\u001b[0m\u001b[0myTrue\u001b[0m\u001b[1;33m)\u001b[0m\u001b[1;33m.\u001b[0m\u001b[0mtail\u001b[0m\u001b[1;33m(\u001b[0m\u001b[1;36m10\u001b[0m\u001b[1;33m)\u001b[0m\u001b[1;33m\u001b[0m\u001b[1;33m\u001b[0m\u001b[0m\n",
      "\u001b[1;31mNameError\u001b[0m: name 'pd' is not defined"
     ]
    }
   ],
   "source": [
    "yTrue = pd.DataFrame(signal_true0).shift(2*shift_steps).values[shift_steps:]\n",
    "print(yTrue.shape)\n",
    "pd.DataFrame(yTrue).tail(10)"
   ]
  },
  {
   "cell_type": "code",
   "execution_count": 14,
   "metadata": {},
   "outputs": [
    {
     "output_type": "error",
     "ename": "NameError",
     "evalue": "name 'target_names' is not defined",
     "traceback": [
      "\u001b[1;31m---------------------------------------------------------------------------\u001b[0m",
      "\u001b[1;31mNameError\u001b[0m                                 Traceback (most recent call last)",
      "\u001b[1;32m<ipython-input-14-ceca2068f04a>\u001b[0m in \u001b[0;36m<module>\u001b[1;34m\u001b[0m\n\u001b[1;32m----> 1\u001b[1;33m \u001b[1;32mfor\u001b[0m \u001b[0msignal\u001b[0m \u001b[1;32min\u001b[0m \u001b[0mrange\u001b[0m\u001b[1;33m(\u001b[0m\u001b[0mlen\u001b[0m\u001b[1;33m(\u001b[0m\u001b[0mtarget_names\u001b[0m\u001b[1;33m)\u001b[0m\u001b[1;33m)\u001b[0m\u001b[1;33m:\u001b[0m\u001b[1;33m\u001b[0m\u001b[1;33m\u001b[0m\u001b[0m\n\u001b[0m\u001b[0;32m      2\u001b[0m         \u001b[1;31m# Get the output-signal predicted by the model.\u001b[0m\u001b[1;33m\u001b[0m\u001b[1;33m\u001b[0m\u001b[1;33m\u001b[0m\u001b[0m\n\u001b[0;32m      3\u001b[0m         \u001b[0msignal_pred\u001b[0m \u001b[1;33m=\u001b[0m \u001b[0myPred\u001b[0m\u001b[1;33m[\u001b[0m\u001b[0mwarmup_steps\u001b[0m\u001b[1;33m:\u001b[0m\u001b[1;33m,\u001b[0m \u001b[0msignal\u001b[0m\u001b[1;33m]\u001b[0m\u001b[1;33m\u001b[0m\u001b[1;33m\u001b[0m\u001b[0m\n\u001b[0;32m      4\u001b[0m \u001b[1;33m\u001b[0m\u001b[0m\n\u001b[0;32m      5\u001b[0m         \u001b[1;31m# Get the true output-signal from the data-set.\u001b[0m\u001b[1;33m\u001b[0m\u001b[1;33m\u001b[0m\u001b[1;33m\u001b[0m\u001b[0m\n",
      "\u001b[1;31mNameError\u001b[0m: name 'target_names' is not defined"
     ]
    }
   ],
   "source": [
    "for signal in range(len(target_names)):\n",
    "        # Get the output-signal predicted by the model.\n",
    "        signal_pred = yPred[warmup_steps:, signal]\n",
    "        \n",
    "        # Get the true output-signal from the data-set.\n",
    "        signal_true = yTrue[warmup_steps:, signal]\n",
    "\n",
    "        # Make the plotting-canvas bigger.\n",
    "        plt.figure(figsize=(35,10))\n",
    "        \n",
    "        # Plot and compare the two signals.\n",
    "        plt.plot(signal_true, label='true')\n",
    "        plt.plot(signal_pred, label='pred')\n",
    "        \n",
    "        # Plot grey box for warmup-period.\n",
    "        p = plt.axvspan(0, warmup_steps, facecolor='black', alpha=0.15)\n",
    "        \n",
    "        # Plot labels etc.\n",
    "        plt.ylabel(target_names[signal])\n",
    "        plt.grid(color='b', linestyle='-.', linewidth=0.15)\n",
    "        plt.legend()\n",
    "        plt.show()\n"
   ]
  },
  {
   "cell_type": "code",
   "execution_count": 15,
   "metadata": {},
   "outputs": [
    {
     "output_type": "error",
     "ename": "NameError",
     "evalue": "name 'myData' is not defined",
     "traceback": [
      "\u001b[1;31m---------------------------------------------------------------------------\u001b[0m",
      "\u001b[1;31mNameError\u001b[0m                                 Traceback (most recent call last)",
      "\u001b[1;32m<ipython-input-15-290d7cad4376>\u001b[0m in \u001b[0;36m<module>\u001b[1;34m\u001b[0m\n\u001b[1;32m----> 1\u001b[1;33m \u001b[0mx_data\u001b[0m \u001b[1;33m=\u001b[0m \u001b[0mmyData\u001b[0m\u001b[1;33m.\u001b[0m\u001b[0mvalues\u001b[0m\u001b[1;33m\u001b[0m\u001b[1;33m\u001b[0m\u001b[0m\n\u001b[0m\u001b[0;32m      2\u001b[0m \u001b[0mprint\u001b[0m\u001b[1;33m(\u001b[0m\u001b[0mx_data\u001b[0m\u001b[1;33m.\u001b[0m\u001b[0mshape\u001b[0m\u001b[1;33m)\u001b[0m\u001b[1;33m\u001b[0m\u001b[1;33m\u001b[0m\u001b[0m\n\u001b[0;32m      3\u001b[0m \u001b[0mx_scaler\u001b[0m\u001b[1;33m=\u001b[0m\u001b[0mQuantileTransformer\u001b[0m\u001b[1;33m(\u001b[0m\u001b[1;33m)\u001b[0m\u001b[1;33m\u001b[0m\u001b[1;33m\u001b[0m\u001b[0m\n\u001b[0;32m      4\u001b[0m \u001b[0mx_data_scaled\u001b[0m\u001b[1;33m=\u001b[0m\u001b[0mx_scaler\u001b[0m\u001b[1;33m.\u001b[0m\u001b[0mfit_transform\u001b[0m\u001b[1;33m(\u001b[0m\u001b[0mx_data\u001b[0m\u001b[1;33m)\u001b[0m\u001b[1;33m\u001b[0m\u001b[1;33m\u001b[0m\u001b[0m\n\u001b[0;32m      5\u001b[0m \u001b[0mprint\u001b[0m\u001b[1;33m(\u001b[0m\u001b[0mx_data_scaled\u001b[0m\u001b[1;33m.\u001b[0m\u001b[0mmin\u001b[0m\u001b[1;33m(\u001b[0m\u001b[1;33m)\u001b[0m\u001b[1;33m,\u001b[0m\u001b[0mx_data_scaled\u001b[0m\u001b[1;33m.\u001b[0m\u001b[0mmax\u001b[0m\u001b[1;33m(\u001b[0m\u001b[1;33m)\u001b[0m\u001b[1;33m,\u001b[0m\u001b[0mx_data_scaled\u001b[0m\u001b[1;33m.\u001b[0m\u001b[0mshape\u001b[0m\u001b[1;33m)\u001b[0m\u001b[1;33m\u001b[0m\u001b[1;33m\u001b[0m\u001b[0m\n",
      "\u001b[1;31mNameError\u001b[0m: name 'myData' is not defined"
     ]
    }
   ],
   "source": [
    "x_data = myData.values\n",
    "print(x_data.shape)\n",
    "x_scaler=QuantileTransformer()\n",
    "x_data_scaled=x_scaler.fit_transform(x_data)\n",
    "print(x_data_scaled.min(),x_data_scaled.max(),x_data_scaled.shape)\n",
    "y_data = x_data[:,:4]\n",
    "y_scaler=QuantileTransformer()\n",
    "y_data_scaled=y_scaler.fit_transform(y_data)\n",
    "print(y_data_scaled.min(),y_data_scaled.max(),y_data_scaled.shape)\n",
    "#x_data_rescaled = x_scaler.inverse_transform(x_data_scaled)\n",
    "#plt.plot(x_data_rescaled[:,1])"
   ]
  },
  {
   "cell_type": "code",
   "execution_count": 18,
   "metadata": {},
   "outputs": [],
   "source": [
    "def plot_forecast(look_back, x_data=True):\n",
    "    \"\"\"\n",
    "    Plot the predicted and true output-signals.\n",
    "    \n",
    "    :param start_idx: Start-index for the time-series.\n",
    "    :param length: Sequence-length to process and plot.\n",
    "    :param train: Boolean whether to use training- or test-set.\n",
    "    \"\"\"\n",
    "    \n",
    "    if x_data:\n",
    "        # Use training-data.\n",
    "        x = x_data_scaled[-look_back:]\n",
    "        num_x = x.shape[1]\n",
    "        y_true = x_scaler.inverse_transform(x)[:,:4]\n",
    "        x = np.expand_dims(x, axis=0)\n",
    "        print('x_input.shape:',x.shape)\n",
    "        print('y_true.shape:',y_true.shape)\n",
    "    else:\n",
    "        print('No data input to model')\n",
    "   \n",
    "   \n",
    "    # Use the model to predict the output-signals.\n",
    "    y_pred = model.predict(x)\n",
    "    #print(y_pred.shape)\n",
    "    # The output of the model is between 0 and 1.\n",
    "    # Do an inverse map to get it back to the scale\n",
    "    # of the original data-set.\n",
    "    y_pred_rescaled = y_scaler.inverse_transform(y_pred[0])\n",
    "    print('y_pred_rescaled: ',y_pred_rescaled.shape)\n",
    "    # For each output-signal.\n",
    "    for signal in range(len(target_names)):\n",
    "        # Get the output-signal predicted by the model.\n",
    "        signal_pred = y_pred_rescaled[warmup_steps:, signal]\n",
    "        \n",
    "        # Get the true output-signal from the data-set.\n",
    "        signal_true = y_true[warmup_steps:, signal]\n",
    "        \n",
    "        # Make the plotting-canvas bigger.\n",
    "        plt.figure(figsize=(35,10))\n",
    "        \n",
    "        # Plot and compare the two signals.\n",
    "        plt.plot(signal_true, label='true')\n",
    "        plt.plot(signal_pred, label='pred')\n",
    "        \n",
    "        # Plot grey box for warmup-period.\n",
    "        p = plt.axvspan(0, warmup_steps, facecolor='black', alpha=0.15)\n",
    "        \n",
    "        # Plot labels etc.\n",
    "        plt.ylabel(target_names[signal])\n",
    "        plt.grid(color='b', linestyle='-.', linewidth=0.15)\n",
    "        plt.legend()\n",
    "        plt.show()\n",
    "\n",
    "    return y_pred_rescaled"
   ]
  },
  {
   "cell_type": "code",
   "execution_count": 20,
   "metadata": {},
   "outputs": [
    {
     "output_type": "error",
     "ename": "NameError",
     "evalue": "name 'shift_steps' is not defined",
     "traceback": [
      "\u001b[1;31m---------------------------------------------------------------------------\u001b[0m",
      "\u001b[1;31mNameError\u001b[0m                                 Traceback (most recent call last)",
      "\u001b[1;32m<ipython-input-20-30d5651e1a4c>\u001b[0m in \u001b[0;36m<module>\u001b[1;34m\u001b[0m\n\u001b[1;32m----> 1\u001b[1;33m \u001b[0mfuture_steps\u001b[0m\u001b[1;33m=\u001b[0m\u001b[0mshift_steps\u001b[0m\u001b[1;33m\u001b[0m\u001b[1;33m\u001b[0m\u001b[0m\n\u001b[0m\u001b[0;32m      2\u001b[0m \u001b[0mlook_back\u001b[0m\u001b[1;33m=\u001b[0m\u001b[0msequence_length\u001b[0m\u001b[1;33m\u001b[0m\u001b[1;33m\u001b[0m\u001b[0m\n\u001b[0;32m      3\u001b[0m \u001b[0mx_pred_rescaled\u001b[0m\u001b[1;33m=\u001b[0m\u001b[0mplot_forecast\u001b[0m\u001b[1;33m(\u001b[0m\u001b[0mlook_back\u001b[0m\u001b[1;33m=\u001b[0m\u001b[0mlook_back\u001b[0m\u001b[1;33m,\u001b[0m \u001b[0mx_data\u001b[0m\u001b[1;33m=\u001b[0m\u001b[1;32mTrue\u001b[0m\u001b[1;33m)\u001b[0m\u001b[1;33m\u001b[0m\u001b[1;33m\u001b[0m\u001b[0m\n\u001b[0;32m      4\u001b[0m \u001b[0mprint\u001b[0m\u001b[1;33m(\u001b[0m\u001b[0mx_pred_rescaled\u001b[0m\u001b[1;33m.\u001b[0m\u001b[0mshape\u001b[0m\u001b[1;33m)\u001b[0m\u001b[1;33m\u001b[0m\u001b[1;33m\u001b[0m\u001b[0m\n",
      "\u001b[1;31mNameError\u001b[0m: name 'shift_steps' is not defined"
     ]
    }
   ],
   "source": [
    "future_steps=shift_steps\n",
    "look_back=sequence_length\n",
    "x_pred_rescaled=plot_forecast(look_back=look_back, x_data=True)\n",
    "print(x_pred_rescaled.shape)"
   ]
  },
  {
   "cell_type": "markdown",
   "metadata": {},
   "source": [
    "The model was able to predict the overall oscillations of the temperature quite well but the peaks were sometimes inaccurate. For the wind-speed, the overall oscillations are predicted reasonably well but the peaks are quite inaccurate. For the atmospheric pressure, the overall curve-shape has been predicted although there seems to be a slight lag and the predicted curve has a lot of noise compared to the smoothness of the original signal."
   ]
  },
  {
   "cell_type": "markdown",
   "metadata": {},
   "source": [
    "plot_comparison(start_idx=-look_back, length=look_back-1, train=True)"
   ]
  },
  {
   "cell_type": "markdown",
   "metadata": {},
   "source": [
    "As a check, we can plot this signal directly from the resampled data-set, which looks similar."
   ]
  },
  {
   "cell_type": "markdown",
   "metadata": {},
   "source": [
    "We can plot the same period from the original data that has not been resampled. It also looks similar.\n",
    "\n",
    "So either the temperature was unusually stable for a part of this period, or there is a data-error in the raw data that was obtained from the internet weather-database."
   ]
  },
  {
   "cell_type": "code",
   "execution_count": 23,
   "metadata": {},
   "outputs": [
    {
     "output_type": "error",
     "ename": "NameError",
     "evalue": "name 'shift_steps' is not defined",
     "traceback": [
      "\u001b[1;31m---------------------------------------------------------------------------\u001b[0m",
      "\u001b[1;31mNameError\u001b[0m                                 Traceback (most recent call last)",
      "\u001b[1;32m<ipython-input-23-7dfe36afc500>\u001b[0m in \u001b[0;36m<module>\u001b[1;34m\u001b[0m\n\u001b[0;32m      1\u001b[0m \u001b[1;32mfrom\u001b[0m \u001b[0mpandas\u001b[0m\u001b[1;33m.\u001b[0m\u001b[0mtseries\u001b[0m\u001b[1;33m.\u001b[0m\u001b[0moffsets\u001b[0m \u001b[1;32mimport\u001b[0m \u001b[0mDateOffset\u001b[0m\u001b[1;33m\u001b[0m\u001b[1;33m\u001b[0m\u001b[0m\n\u001b[1;32m----> 2\u001b[1;33m \u001b[0madd_dates\u001b[0m \u001b[1;33m=\u001b[0m \u001b[1;33m[\u001b[0m\u001b[0mmyData\u001b[0m\u001b[1;33m.\u001b[0m\u001b[0mindex\u001b[0m\u001b[1;33m[\u001b[0m\u001b[1;33m-\u001b[0m\u001b[1;36m1\u001b[0m\u001b[1;33m]\u001b[0m \u001b[1;33m+\u001b[0m \u001b[0mDateOffset\u001b[0m\u001b[1;33m(\u001b[0m\u001b[0mhours\u001b[0m\u001b[1;33m=\u001b[0m\u001b[1;36m4\u001b[0m\u001b[1;33m*\u001b[0m\u001b[0mx\u001b[0m\u001b[1;33m)\u001b[0m \u001b[1;32mfor\u001b[0m \u001b[0mx\u001b[0m \u001b[1;32min\u001b[0m \u001b[0mrange\u001b[0m\u001b[1;33m(\u001b[0m\u001b[1;36m0\u001b[0m\u001b[1;33m,\u001b[0m\u001b[0mshift_steps\u001b[0m\u001b[1;33m+\u001b[0m\u001b[1;36m1\u001b[0m\u001b[1;33m)\u001b[0m \u001b[1;33m]\u001b[0m\u001b[1;33m\u001b[0m\u001b[1;33m\u001b[0m\u001b[0m\n\u001b[0m\u001b[0;32m      3\u001b[0m \u001b[0mfuture_dates\u001b[0m \u001b[1;33m=\u001b[0m \u001b[0mpd\u001b[0m\u001b[1;33m.\u001b[0m\u001b[0mDataFrame\u001b[0m\u001b[1;33m(\u001b[0m\u001b[0mindex\u001b[0m\u001b[1;33m=\u001b[0m\u001b[0madd_dates\u001b[0m\u001b[1;33m[\u001b[0m\u001b[1;36m1\u001b[0m\u001b[1;33m:\u001b[0m\u001b[1;33m]\u001b[0m\u001b[1;33m,\u001b[0m\u001b[0mcolumns\u001b[0m\u001b[1;33m=\u001b[0m\u001b[0mmyData\u001b[0m\u001b[1;33m.\u001b[0m\u001b[0mcolumns\u001b[0m\u001b[1;33m)\u001b[0m\u001b[1;33m\u001b[0m\u001b[1;33m\u001b[0m\u001b[0m\n",
      "\u001b[1;31mNameError\u001b[0m: name 'shift_steps' is not defined"
     ]
    }
   ],
   "source": [
    "from pandas.tseries.offsets import DateOffset\n",
    "add_dates = [myData.index[-1] + DateOffset(hours=4*x) for x in range(0,shift_steps+1) ]\n",
    "future_dates = pd.DataFrame(index=add_dates[1:],columns=myData.columns)"
   ]
  },
  {
   "cell_type": "code",
   "execution_count": 26,
   "metadata": {},
   "outputs": [
    {
     "output_type": "error",
     "ename": "NameError",
     "evalue": "name 'x_pred_rescaled' is not defined",
     "traceback": [
      "\u001b[1;31m---------------------------------------------------------------------------\u001b[0m",
      "\u001b[1;31mNameError\u001b[0m                                 Traceback (most recent call last)",
      "\u001b[1;32m<ipython-input-26-cabe93206c49>\u001b[0m in \u001b[0;36m<module>\u001b[1;34m\u001b[0m\n\u001b[1;32m----> 1\u001b[1;33m df_predict = pd.DataFrame(x_pred_rescaled[-shift_steps:],\n\u001b[0m\u001b[0;32m      2\u001b[0m                           index=future_dates[-shift_steps:].index, columns=list(myData.columns.values))\n\u001b[0;32m      3\u001b[0m \u001b[1;33m\u001b[0m\u001b[0m\n\u001b[0;32m      4\u001b[0m \u001b[0mdf_predict\u001b[0m\u001b[1;33m=\u001b[0m\u001b[0mpd\u001b[0m\u001b[1;33m.\u001b[0m\u001b[0mDataFrame\u001b[0m\u001b[1;33m(\u001b[0m\u001b[0mdf_predict\u001b[0m\u001b[1;33m)\u001b[0m\u001b[1;33m\u001b[0m\u001b[1;33m\u001b[0m\u001b[0m\n\u001b[0;32m      5\u001b[0m \u001b[0mdf_predict\u001b[0m\u001b[1;33m\u001b[0m\u001b[1;33m\u001b[0m\u001b[0m\n",
      "\u001b[1;31mNameError\u001b[0m: name 'x_pred_rescaled' is not defined"
     ]
    }
   ],
   "source": [
    "df_predict = pd.DataFrame(x_pred_rescaled[-shift_steps:],\n",
    "                          index=future_dates[-shift_steps:].index, columns=list(myData.columns.values))\n",
    "\n",
    "df_predict=pd.DataFrame(df_predict)\n",
    "df_predict"
   ]
  },
  {
   "cell_type": "code",
   "execution_count": 29,
   "metadata": {},
   "outputs": [
    {
     "output_type": "error",
     "ename": "NameError",
     "evalue": "name 'df_predict' is not defined",
     "traceback": [
      "\u001b[1;31m---------------------------------------------------------------------------\u001b[0m",
      "\u001b[1;31mNameError\u001b[0m                                 Traceback (most recent call last)",
      "\u001b[1;32m<ipython-input-29-a4e09ba8e775>\u001b[0m in \u001b[0;36m<module>\u001b[1;34m\u001b[0m\n\u001b[1;32m----> 1\u001b[1;33m \u001b[0mdf_predict\u001b[0m\u001b[1;33m.\u001b[0m\u001b[0mindex\u001b[0m\u001b[1;33m.\u001b[0m\u001b[0mname\u001b[0m\u001b[1;33m=\u001b[0m\u001b[1;34m'datetime'\u001b[0m\u001b[1;33m\u001b[0m\u001b[1;33m\u001b[0m\u001b[0m\n\u001b[0m\u001b[0;32m      2\u001b[0m \u001b[0mdf_predict\u001b[0m\u001b[1;33m\u001b[0m\u001b[1;33m\u001b[0m\u001b[0m\n\u001b[0;32m      3\u001b[0m \u001b[0mmyData\u001b[0m\u001b[1;33m.\u001b[0m\u001b[0mtail\u001b[0m\u001b[1;33m(\u001b[0m\u001b[1;36m1\u001b[0m\u001b[1;33m)\u001b[0m\u001b[1;33m\u001b[0m\u001b[1;33m\u001b[0m\u001b[0m\n",
      "\u001b[1;31mNameError\u001b[0m: name 'df_predict' is not defined"
     ]
    }
   ],
   "source": [
    "df_predict.index.name='datetime'\n",
    "df_predict\n",
    "myData.tail(1)"
   ]
  },
  {
   "cell_type": "markdown",
   "metadata": {},
   "source": [
    "Address1=r'C:\\Users\\hp\\Desktop\\myData.csv'\n",
    "Address2=r'C:\\Users\\hp\\Desktop\\df_pred.csv'\n",
    "Address3=r'C:\\Users\\hp\\Desktop\\output.csv'\n",
    "os.rmdir(Address1)\n",
    "os.rmdir(Address2)\n",
    "os.rmdir(Address3)"
   ]
  },
  {
   "cell_type": "code",
   "execution_count": 32,
   "metadata": {},
   "outputs": [
    {
     "output_type": "error",
     "ename": "NameError",
     "evalue": "name 'df_predict' is not defined",
     "traceback": [
      "\u001b[1;31m---------------------------------------------------------------------------\u001b[0m",
      "\u001b[1;31mNameError\u001b[0m                                 Traceback (most recent call last)",
      "\u001b[1;32m<ipython-input-32-8bec57c69395>\u001b[0m in \u001b[0;36m<module>\u001b[1;34m\u001b[0m\n\u001b[0;32m      1\u001b[0m \u001b[0mpd\u001b[0m\u001b[1;33m.\u001b[0m\u001b[0mDataFrame\u001b[0m\u001b[1;33m(\u001b[0m\u001b[0mmyData\u001b[0m\u001b[1;33m)\u001b[0m\u001b[1;33m.\u001b[0m\u001b[0mto_csv\u001b[0m\u001b[1;33m(\u001b[0m\u001b[1;34mr'C:\\Users\\hp\\Desktop\\myData.csv'\u001b[0m\u001b[1;33m)\u001b[0m\u001b[1;33m\u001b[0m\u001b[1;33m\u001b[0m\u001b[0m\n\u001b[1;32m----> 2\u001b[1;33m \u001b[0mpd\u001b[0m\u001b[1;33m.\u001b[0m\u001b[0mDataFrame\u001b[0m\u001b[1;33m(\u001b[0m\u001b[0mdf_predict\u001b[0m\u001b[1;33m)\u001b[0m\u001b[1;33m.\u001b[0m\u001b[0mto_csv\u001b[0m\u001b[1;33m(\u001b[0m\u001b[1;34mr'C:\\Users\\hp\\Desktop\\df_pred.csv'\u001b[0m\u001b[1;33m)\u001b[0m\u001b[1;33m\u001b[0m\u001b[1;33m\u001b[0m\u001b[0m\n\u001b[0m",
      "\u001b[1;31mNameError\u001b[0m: name 'df_predict' is not defined"
     ]
    }
   ],
   "source": [
    "pd.DataFrame(myData).to_csv(r'C:\\Users\\hp\\Desktop\\myData.csv')\n",
    "pd.DataFrame(df_predict).to_csv(r'C:\\Users\\hp\\Desktop\\df_pred.csv')"
   ]
  },
  {
   "cell_type": "code",
   "execution_count": null,
   "metadata": {},
   "outputs": [],
   "source": [
    "a = pd.read_csv(r'C:\\Users\\hp\\Desktop\\myData.csv',header=None)\n",
    "b = pd.read_csv(r'C:\\Users\\hp\\Desktop\\df_pred.csv',header=None)\n",
    "b = b.dropna(axis=0)\n",
    "merged = pd.concat([a, b])\n",
    "merged.to_csv(r'C:\\Users\\hp\\Desktop\\output.csv', index=None, header=None)\n",
    "df_proj = pd.read_csv(r'C:\\Users\\hp\\Desktop\\output.csv',delimiter=',',low_memory=False)#index_col=[0], parse_dates=True)\n",
    "\n",
    "df_proj = df_proj.set_index('datetime')\n",
    "df_proj=(df_proj.assign(datetime=lambda df_proj: pd.to_datetime(df_proj.index))\n",
    "         .set_index('datetime'))\n",
    "#type(df_proj.index)\n",
    "df_proj.tail(future_steps)"
   ]
  },
  {
   "cell_type": "code",
   "execution_count": 35,
   "metadata": {},
   "outputs": [],
   "source": [
    "\n",
    "\n",
    "\n",
    "\n",
    "\n",
    "\n",
    "\n",
    "\n",
    "\n",
    "\n",
    "\n",
    "\n",
    "\n",
    "\n",
    "\n",
    "\n",
    "\n",
    "\n",
    "\n",
    "\n",
    "\n",
    "\n",
    "\n"
   ]
  },
  {
   "cell_type": "markdown",
   "metadata": {},
   "source": [
    "## Univariate Vanilla LSTM example"
   ]
  },
  {
   "cell_type": "code",
   "execution_count": 37,
   "metadata": {},
   "outputs": [
    {
     "output_type": "stream",
     "name": "stdout",
     "text": "WARNING:tensorflow:Layer lstm will not use cuDNN kernel since it doesn't meet the cuDNN kernel criteria. It will use generic GPU kernel as fallback when running on GPU\n[[102.23133]]\n"
    }
   ],
   "source": [
    "# univariate lstm example\n",
    "from numpy import array\n",
    " \n",
    "# split a univariate sequence into samples\n",
    "def split_sequence(sequence, n_steps):\n",
    "\tX, y = list(), list()\n",
    "\tfor i in range(len(sequence)):\n",
    "\t\t# find the end of this pattern\n",
    "\t\tend_ix = i + n_steps\n",
    "\t\t# check if we are beyond the sequence\n",
    "\t\tif end_ix > len(sequence)-1:\n",
    "\t\t\tbreak\n",
    "\t\t# gather input and output parts of the pattern\n",
    "\t\tseq_x, seq_y = sequence[i:end_ix], sequence[end_ix]\n",
    "\t\tX.append(seq_x)\n",
    "\t\ty.append(seq_y)\n",
    "\treturn array(X), array(y)\n",
    " \n",
    "# define input sequence\n",
    "raw_seq = [10, 20, 30, 40, 50, 60, 70, 80, 90]\n",
    "# choose a number of time steps\n",
    "n_steps = 3\n",
    "# split into samples\n",
    "X, y = split_sequence(raw_seq, n_steps)\n",
    "# reshape from [samples, timesteps] into [samples, timesteps, features]\n",
    "n_features = 1\n",
    "X = X.reshape((X.shape[0], X.shape[1], n_features))\n",
    "# define model\n",
    "model = Sequential()\n",
    "model.add(LSTM(50, activation='relu', input_shape=(n_steps, n_features)))\n",
    "model.add(Dense(1))\n",
    "model.compile(optimizer='adam', loss='mse')\n",
    "# fit model\n",
    "model.fit(X, y, epochs=200, verbose=0)\n",
    "# demonstrate prediction\n",
    "x_input = array([70, 80, 90])\n",
    "x_input = x_input.reshape((1, n_steps, n_features))\n",
    "yhat = model.predict(x_input, verbose=0)\n",
    "print(yhat)"
   ]
  },
  {
   "cell_type": "markdown",
   "metadata": {},
   "source": [
    "## Univariate stacked lstm example"
   ]
  },
  {
   "cell_type": "code",
   "execution_count": 39,
   "metadata": {},
   "outputs": [
    {
     "output_type": "stream",
     "name": "stdout",
     "text": "WARNING:tensorflow:Layer lstm_1 will not use cuDNN kernel since it doesn't meet the cuDNN kernel criteria. It will use generic GPU kernel as fallback when running on GPU\nWARNING:tensorflow:Layer lstm_2 will not use cuDNN kernel since it doesn't meet the cuDNN kernel criteria. It will use generic GPU kernel as fallback when running on GPU\n[[102.75422]]\n"
    }
   ],
   "source": [
    "from numpy import array\n",
    " \n",
    "# split a univariate sequence\n",
    "def split_sequence(sequence, n_steps):\n",
    "\tX, y = list(), list()\n",
    "\tfor i in range(len(sequence)):\n",
    "\t\t# find the end of this pattern\n",
    "\t\tend_ix = i + n_steps\n",
    "\t\t# check if we are beyond the sequence\n",
    "\t\tif end_ix > len(sequence)-1:\n",
    "\t\t\tbreak\n",
    "\t\t# gather input and output parts of the pattern\n",
    "\t\tseq_x, seq_y = sequence[i:end_ix], sequence[end_ix]\n",
    "\t\tX.append(seq_x)\n",
    "\t\ty.append(seq_y)\n",
    "\treturn array(X), array(y)\n",
    " \n",
    "# define input sequence\n",
    "raw_seq = [10, 20, 30, 40, 50, 60, 70, 80, 90]\n",
    "# choose a number of time steps\n",
    "n_steps = 3\n",
    "# split into samples\n",
    "X, y = split_sequence(raw_seq, n_steps)\n",
    "# reshape from [samples, timesteps] into [samples, timesteps, features]\n",
    "n_features = 1\n",
    "X = X.reshape((X.shape[0], X.shape[1], n_features))\n",
    "# define model\n",
    "model = Sequential()\n",
    "model.add(LSTM(50, activation='relu', return_sequences=True, input_shape=(n_steps, n_features)))\n",
    "model.add(LSTM(50, activation='relu'))\n",
    "model.add(Dense(1))\n",
    "model.compile(optimizer='adam', loss='mse')\n",
    "# fit model\n",
    "model.fit(X, y, epochs=200, verbose=0)\n",
    "# demonstrate prediction\n",
    "x_input = array([70, 80, 90])\n",
    "x_input = x_input.reshape((1, n_steps, n_features))\n",
    "yhat = model.predict(x_input, verbose=0)\n",
    "print(yhat)"
   ]
  },
  {
   "cell_type": "markdown",
   "metadata": {},
   "source": [
    "## Univariate Bidirectional lstm example"
   ]
  },
  {
   "cell_type": "code",
   "execution_count": 41,
   "metadata": {},
   "outputs": [
    {
     "output_type": "stream",
     "name": "stdout",
     "text": "WARNING:tensorflow:Layer lstm_3 will not use cuDNN kernel since it doesn't meet the cuDNN kernel criteria. It will use generic GPU kernel as fallback when running on GPU\nWARNING:tensorflow:Layer lstm_3 will not use cuDNN kernel since it doesn't meet the cuDNN kernel criteria. It will use generic GPU kernel as fallback when running on GPU\nWARNING:tensorflow:Layer lstm_3 will not use cuDNN kernel since it doesn't meet the cuDNN kernel criteria. It will use generic GPU kernel as fallback when running on GPU\n[[102.50265]]\n"
    }
   ],
   "source": [
    "\n",
    "# split a univariate sequence\n",
    "def split_sequence(sequence, n_steps):\n",
    "\tX, y = list(), list()\n",
    "\tfor i in range(len(sequence)):\n",
    "\t\t# find the end of this pattern\n",
    "\t\tend_ix = i + n_steps\n",
    "\t\t# check if we are beyond the sequence\n",
    "\t\tif end_ix > len(sequence)-1:\n",
    "\t\t\tbreak\n",
    "\t\t# gather input and output parts of the pattern\n",
    "\t\tseq_x, seq_y = sequence[i:end_ix], sequence[end_ix]\n",
    "\t\tX.append(seq_x)\n",
    "\t\ty.append(seq_y)\n",
    "\treturn array(X), array(y)\n",
    "\n",
    "# define input sequence\n",
    "raw_seq = [10, 20, 30, 40, 50, 60, 70, 80, 90]\n",
    "# choose a number of time steps\n",
    "n_steps = 3\n",
    "# split into samples\n",
    "X, y = split_sequence(raw_seq, n_steps)\n",
    "# reshape from [samples, timesteps] into [samples, timesteps, features]\n",
    "n_features = 1\n",
    "X = X.reshape((X.shape[0], X.shape[1], n_features))\n",
    "# define model\n",
    "model = Sequential()\n",
    "model.add(Bidirectional(LSTM(50, activation='relu'), input_shape=(n_steps, n_features)))\n",
    "model.add(Dense(1))\n",
    "model.compile(optimizer='adam', loss='mse')\n",
    "# fit model\n",
    "model.fit(X, y, epochs=200, verbose=0)\n",
    "# demonstrate prediction\n",
    "x_input = array([70, 80, 90])\n",
    "x_input = x_input.reshape((1, n_steps, n_features))\n",
    "yhat = model.predict(x_input, verbose=0)\n",
    "print(yhat)"
   ]
  },
  {
   "cell_type": "markdown",
   "metadata": {},
   "source": [
    "## Univariate CNN lstm example"
   ]
  },
  {
   "cell_type": "code",
   "execution_count": 43,
   "metadata": {},
   "outputs": [
    {
     "output_type": "stream",
     "name": "stdout",
     "text": "WARNING:tensorflow:Layer lstm_4 will not use cuDNN kernel since it doesn't meet the cuDNN kernel criteria. It will use generic GPU kernel as fallback when running on GPU\n[[100.93751]]\n"
    }
   ],
   "source": [
    "# split a univariate sequence into samples\n",
    "def split_sequence(sequence, n_steps):\n",
    "\tX, y = list(), list()\n",
    "\tfor i in range(len(sequence)):\n",
    "\t\t# find the end of this pattern\n",
    "\t\tend_ix = i + n_steps\n",
    "\t\t# check if we are beyond the sequence\n",
    "\t\tif end_ix > len(sequence)-1:\n",
    "\t\t\tbreak\n",
    "\t\t# gather input and output parts of the pattern\n",
    "\t\tseq_x, seq_y = sequence[i:end_ix], sequence[end_ix]\n",
    "\t\tX.append(seq_x)\n",
    "\t\ty.append(seq_y)\n",
    "\treturn array(X), array(y)\n",
    "\n",
    "# define input sequence\n",
    "raw_seq = [10, 20, 30, 40, 50, 60, 70, 80, 90]\n",
    "# choose a number of time steps\n",
    "n_steps = 4\n",
    "# split into samples\n",
    "X, y = split_sequence(raw_seq, n_steps)\n",
    "# reshape from [samples, timesteps] into [samples, subsequences, timesteps, features]\n",
    "n_features = 1\n",
    "n_seq = 2\n",
    "n_steps = 2\n",
    "X = X.reshape((X.shape[0], n_seq, n_steps, n_features))\n",
    "# define model\n",
    "model = Sequential()\n",
    "model.add(TimeDistributed(Conv1D(filters=64, kernel_size=1, activation='relu'), input_shape=(None, n_steps, n_features)))\n",
    "model.add(TimeDistributed(MaxPooling1D(pool_size=2)))\n",
    "model.add(TimeDistributed(Flatten()))\n",
    "model.add(LSTM(50, activation='relu'))\n",
    "model.add(Dense(1))\n",
    "model.compile(optimizer='adam', loss='mse')\n",
    "# fit model\n",
    "model.fit(X, y, epochs=500, verbose=0)\n",
    "# demonstrate prediction\n",
    "x_input = array([60, 70, 80, 90])\n",
    "x_input = x_input.reshape((1, n_seq, n_steps, n_features))\n",
    "yhat = model.predict(x_input, verbose=0)\n",
    "print(yhat)"
   ]
  },
  {
   "cell_type": "markdown",
   "metadata": {},
   "source": [
    "## Univariate ConvLSTM example"
   ]
  },
  {
   "cell_type": "code",
   "execution_count": null,
   "metadata": {},
   "outputs": [],
   "source": [
    "# split a univariate sequence into samples\n",
    "def split_sequence(sequence, n_steps):\n",
    "\tX, y = list(), list()\n",
    "\tfor i in range(len(sequence)):\n",
    "\t\t# find the end of this pattern\n",
    "\t\tend_ix = i + n_steps\n",
    "\t\t# check if we are beyond the sequence\n",
    "\t\tif end_ix > len(sequence)-1:\n",
    "\t\t\tbreak\n",
    "\t\t# gather input and output parts of the pattern\n",
    "\t\tseq_x, seq_y = sequence[i:end_ix], sequence[end_ix]\n",
    "\t\tX.append(seq_x)\n",
    "\t\ty.append(seq_y)\n",
    "\treturn array(X), array(y)\n",
    " \n",
    "# define input sequence\n",
    "raw_seq = [10, 20, 30, 40, 50, 60, 70, 80, 90]\n",
    "# choose a number of time steps\n",
    "n_steps = 4\n",
    "# split into samples\n",
    "X, y = split_sequence(raw_seq, n_steps)\n",
    "# reshape from [samples, timesteps] into [samples, timesteps, rows, columns, features]\n",
    "n_features = 1\n",
    "n_seq = 2\n",
    "n_steps = 2\n",
    "X = X.reshape((X.shape[0], n_seq, 1, n_steps, n_features))\n",
    "# define model\n",
    "model = Sequential()\n",
    "model.add(ConvLSTM2D(filters=64, kernel_size=(1,2), activation='relu', input_shape=(n_seq, 1, n_steps, n_features)))\n",
    "model.add(Flatten())\n",
    "model.add(Dense(1))\n",
    "model.compile(optimizer='adam', loss='mse')\n",
    "# fit model\n",
    "model.fit(X, y, epochs=500, verbose=0)\n",
    "# demonstrate prediction\n",
    "x_input = array([60, 70, 80, 90])\n",
    "x_input = x_input.reshape((1, n_seq, 1, n_steps, n_features))\n",
    "yhat = model.predict(x_input, verbose=0)\n",
    "print(yhat)"
   ]
  },
  {
   "cell_type": "markdown",
   "metadata": {},
   "source": [
    "# Multivariate LSTM Models"
   ]
  },
  {
   "cell_type": "markdown",
   "metadata": {},
   "source": [
    "## Multivariate lstm example"
   ]
  },
  {
   "cell_type": "code",
   "execution_count": 46,
   "metadata": {},
   "outputs": [
    {
     "output_type": "error",
     "ename": "NameError",
     "evalue": "name 'hstack' is not defined",
     "traceback": [
      "\u001b[1;31m---------------------------------------------------------------------------\u001b[0m",
      "\u001b[1;31mNameError\u001b[0m                                 Traceback (most recent call last)",
      "\u001b[1;32m<ipython-input-46-4d8fda1a0df7>\u001b[0m in \u001b[0;36m<module>\u001b[1;34m\u001b[0m\n\u001b[0;32m     23\u001b[0m \u001b[0mout_seq\u001b[0m \u001b[1;33m=\u001b[0m \u001b[0mout_seq\u001b[0m\u001b[1;33m.\u001b[0m\u001b[0mreshape\u001b[0m\u001b[1;33m(\u001b[0m\u001b[1;33m(\u001b[0m\u001b[0mlen\u001b[0m\u001b[1;33m(\u001b[0m\u001b[0mout_seq\u001b[0m\u001b[1;33m)\u001b[0m\u001b[1;33m,\u001b[0m \u001b[1;36m1\u001b[0m\u001b[1;33m)\u001b[0m\u001b[1;33m)\u001b[0m\u001b[1;33m\u001b[0m\u001b[1;33m\u001b[0m\u001b[0m\n\u001b[0;32m     24\u001b[0m \u001b[1;31m# horizontally stack columns\u001b[0m\u001b[1;33m\u001b[0m\u001b[1;33m\u001b[0m\u001b[1;33m\u001b[0m\u001b[0m\n\u001b[1;32m---> 25\u001b[1;33m \u001b[0mdataset\u001b[0m \u001b[1;33m=\u001b[0m \u001b[0mhstack\u001b[0m\u001b[1;33m(\u001b[0m\u001b[1;33m(\u001b[0m\u001b[0min_seq1\u001b[0m\u001b[1;33m,\u001b[0m \u001b[0min_seq2\u001b[0m\u001b[1;33m,\u001b[0m \u001b[0mout_seq\u001b[0m\u001b[1;33m)\u001b[0m\u001b[1;33m)\u001b[0m\u001b[1;33m\u001b[0m\u001b[1;33m\u001b[0m\u001b[0m\n\u001b[0m\u001b[0;32m     26\u001b[0m \u001b[1;31m# choose a number of time steps\u001b[0m\u001b[1;33m\u001b[0m\u001b[1;33m\u001b[0m\u001b[1;33m\u001b[0m\u001b[0m\n\u001b[0;32m     27\u001b[0m \u001b[0mn_steps\u001b[0m \u001b[1;33m=\u001b[0m \u001b[1;36m3\u001b[0m\u001b[1;33m\u001b[0m\u001b[1;33m\u001b[0m\u001b[0m\n",
      "\u001b[1;31mNameError\u001b[0m: name 'hstack' is not defined"
     ]
    }
   ],
   "source": [
    "# split a multivariate sequence into samples\n",
    "def split_sequences(sequences, n_steps):\n",
    "\tX, y = list(), list()\n",
    "\tfor i in range(len(sequences)):\n",
    "\t\t# find the end of this pattern\n",
    "\t\tend_ix = i + n_steps\n",
    "\t\t# check if we are beyond the dataset\n",
    "\t\tif end_ix > len(sequences):\n",
    "\t\t\tbreak\n",
    "\t\t# gather input and output parts of the pattern\n",
    "\t\tseq_x, seq_y = sequences[i:end_ix, :-1], sequences[end_ix-1, -1]\n",
    "\t\tX.append(seq_x)\n",
    "\t\ty.append(seq_y)\n",
    "\treturn array(X), array(y)\n",
    "\n",
    "# define input sequence\n",
    "in_seq1 = array([10, 20, 30, 40, 50, 60, 70, 80, 90])\n",
    "in_seq2 = array([15, 25, 35, 45, 55, 65, 75, 85, 95])\n",
    "out_seq = array([in_seq1[i]+in_seq2[i] for i in range(len(in_seq1))])\n",
    "# convert to [rows, columns] structure\n",
    "in_seq1 = in_seq1.reshape((len(in_seq1), 1))\n",
    "in_seq2 = in_seq2.reshape((len(in_seq2), 1))\n",
    "out_seq = out_seq.reshape((len(out_seq), 1))\n",
    "# horizontally stack columns\n",
    "dataset = hstack((in_seq1, in_seq2, out_seq))\n",
    "# choose a number of time steps\n",
    "n_steps = 3\n",
    "# convert into input/output\n",
    "X, y = split_sequences(dataset, n_steps)\n",
    "# the dataset knows the number of features, e.g. 2\n",
    "n_features = X.shape[2]\n",
    "# define model\n",
    "model = Sequential()\n",
    "model.add(LSTM(50, activation='relu', input_shape=(n_steps, n_features)))\n",
    "model.add(Dense(1))\n",
    "model.compile(optimizer='adam', loss='mse')\n",
    "# fit model\n",
    "model.fit(X, y, epochs=200, verbose=0)\n",
    "# demonstrate prediction\n",
    "x_input = array([[80, 85], [90, 95], [100, 105]])\n",
    "x_input = x_input.reshape((1, n_steps, n_features))\n",
    "yhat = model.predict(x_input, verbose=0)\n",
    "print(yhat)"
   ]
  },
  {
   "cell_type": "markdown",
   "metadata": {},
   "source": [
    "## Multivariate output stacked lstm example"
   ]
  },
  {
   "cell_type": "code",
   "execution_count": null,
   "metadata": {},
   "outputs": [],
   "source": [
    "# split a multivariate sequence into samples\n",
    "def split_sequences(sequences, n_steps):\n",
    "\tX, y = list(), list()\n",
    "\tfor i in range(len(sequences)):\n",
    "\t\t# find the end of this pattern\n",
    "\t\tend_ix = i + n_steps\n",
    "\t\t# check if we are beyond the dataset\n",
    "\t\tif end_ix > len(sequences)-1:\n",
    "\t\t\tbreak\n",
    "\t\t# gather input and output parts of the pattern\n",
    "\t\tseq_x, seq_y = sequences[i:end_ix, :], sequences[end_ix, :]\n",
    "\t\tX.append(seq_x)\n",
    "\t\ty.append(seq_y)\n",
    "\treturn array(X), array(y)\n",
    "\n",
    "# define input sequence\n",
    "in_seq1 = array([10, 20, 30, 40, 50, 60, 70, 80, 90])\n",
    "in_seq2 = array([15, 25, 35, 45, 55, 65, 75, 85, 95])\n",
    "out_seq = array([in_seq1[i]+in_seq2[i] for i in range(len(in_seq1))])\n",
    "# convert to [rows, columns] structure\n",
    "in_seq1 = in_seq1.reshape((len(in_seq1), 1))\n",
    "in_seq2 = in_seq2.reshape((len(in_seq2), 1))\n",
    "out_seq = out_seq.reshape((len(out_seq), 1))\n",
    "# horizontally stack columns\n",
    "dataset = hstack((in_seq1, in_seq2, out_seq))\n",
    "# choose a number of time steps\n",
    "n_steps = 3\n",
    "# convert into input/output\n",
    "X, y = split_sequences(dataset, n_steps)\n",
    "# the dataset knows the number of features, e.g. 2\n",
    "n_features = X.shape[2]\n",
    "# define model\n",
    "model = Sequential()\n",
    "model.add(LSTM(100, activation='relu', return_sequences=True, input_shape=(n_steps, n_features)))\n",
    "model.add(LSTM(100, activation='relu'))\n",
    "model.add(Dense(n_features))\n",
    "model.compile(optimizer='adam', loss='mse')\n",
    "# fit model\n",
    "model.fit(X, y, epochs=400, verbose=0)\n",
    "# demonstrate prediction\n",
    "x_input = array([[70,75,145], [80,85,165], [90,95,185]])\n",
    "x_input = x_input.reshape((1, n_steps, n_features))\n",
    "yhat = model.predict(x_input, verbose=0)\n",
    "print(yhat)"
   ]
  },
  {
   "cell_type": "markdown",
   "metadata": {},
   "source": [
    "# Multi-Step LSTM Models"
   ]
  },
  {
   "cell_type": "markdown",
   "metadata": {},
   "source": [
    "## Univariate multi-step vector-output stacked lstm example"
   ]
  },
  {
   "cell_type": "code",
   "execution_count": 293,
   "metadata": {},
   "outputs": [
    {
     "output_type": "stream",
     "name": "stdout",
     "text": "(336, 4) (2, 5)\n"
    }
   ],
   "source": [
    "from numpy import array\n",
    "# split a univariate sequence into samples\n",
    "def split_sequence(sequence, n_steps_in, n_steps_out):\n",
    "\tX, y = list(), list()\n",
    "\tfor i in range(len(sequence)):\n",
    "\t\t# find the end of this pattern\n",
    "\t\tend_ix = i + n_steps_in\n",
    "\t\tout_end_ix = end_ix + n_steps_out\n",
    "\t\t# check if we are beyond the sequence\n",
    "\t\tif out_end_ix > len(sequence):\n",
    "\t\t\tbreak\n",
    "\t\t# gather input and output parts of the pattern\n",
    "\t\tseq_x, seq_y = sequence[i:end_ix], sequence[end_ix:out_end_ix]\n",
    "\t\tX.append(seq_x)\n",
    "\t\ty.append(seq_y)\n",
    "\treturn array(X), array(y)\n",
    "\n",
    "# define input sequence\n",
    "raw_seq = [10, 20, 30, 40, 50, 60, 70, 80, 90]\n",
    "# choose a number of time steps\n",
    "n_steps_in, n_steps_out = 3, 5\n",
    "# split into samples\n",
    "X, y = split_sequence(raw_seq, n_steps_in, n_steps_out)\n",
    "print(x.shape,y.shape)\n",
    "# reshape from [samples, timesteps] into [samples, timesteps, features]\n",
    "n_features = 1\n",
    "X = X.reshape((X.shape[0], X.shape[1], n_features))\n",
    "# define model\n",
    "#model = Sequential()\n",
    "#model.add(LSTM(100, activation='relu', return_sequences=True, input_shape=(n_steps_in, n_features)))\n",
    "##model.add(LSTM(100, activation='relu'))\n",
    "#model.add(Dense(n_steps_out))\n",
    "#model.compile(optimizer='adam', loss='mse')\n",
    "# fit model\n",
    "#model.fit(X, y, epochs=50, verbose=0)\n",
    "# demonstrate prediction\n",
    "#x_input = array([70, 80, 90])\n",
    "#x_input = x_input.reshape((1, n_steps_in, n_features))\n",
    "#yhat = model.predict(x_input, verbose=0)\n",
    "#print(yhat)"
   ]
  },
  {
   "cell_type": "markdown",
   "metadata": {},
   "source": [
    "# Univariate multi-step encoder-decoder lstm example"
   ]
  },
  {
   "cell_type": "code",
   "execution_count": 52,
   "metadata": {},
   "outputs": [
    {
     "output_type": "stream",
     "name": "stdout",
     "text": "WARNING:tensorflow:Layer lstm_7 will not use cuDNN kernel since it doesn't meet the cuDNN kernel criteria. It will use generic GPU kernel as fallback when running on GPU\nWARNING:tensorflow:Layer lstm_8 will not use cuDNN kernel since it doesn't meet the cuDNN kernel criteria. It will use generic GPU kernel as fallback when running on GPU\n[[[ 97.31378 ]\n  [109.932556]]]\n"
    }
   ],
   "source": [
    "# split a univariate sequence into samples\n",
    "def split_sequence(sequence, n_steps_in, n_steps_out):\n",
    "\tX, y = list(), list()\n",
    "\tfor i in range(len(sequence)):\n",
    "\t\t# find the end of this pattern\n",
    "\t\tend_ix = i + n_steps_in\n",
    "\t\tout_end_ix = end_ix + n_steps_out\n",
    "\t\t# check if we are beyond the sequence\n",
    "\t\tif out_end_ix > len(sequence):\n",
    "\t\t\tbreak\n",
    "\t\t# gather input and output parts of the pattern\n",
    "\t\tseq_x, seq_y = sequence[i:end_ix], sequence[end_ix:out_end_ix]\n",
    "\t\tX.append(seq_x)\n",
    "\t\ty.append(seq_y)\n",
    "\treturn array(X), array(y)\n",
    "\n",
    "# define input sequence\n",
    "raw_seq = [10, 20, 30, 40, 50, 60, 70, 80, 90]\n",
    "# choose a number of time steps\n",
    "n_steps_in, n_steps_out = 3, 2\n",
    "# split into samples\n",
    "X, y = split_sequence(raw_seq, n_steps_in, n_steps_out)\n",
    "# reshape from [samples, timesteps] into [samples, timesteps, features]\n",
    "n_features = 1\n",
    "X = X.reshape((X.shape[0], X.shape[1], n_features))\n",
    "y = y.reshape((y.shape[0], y.shape[1], n_features))\n",
    "# define model\n",
    "model = Sequential()\n",
    "model.add(LSTM(100, activation='relu', input_shape=(n_steps_in, n_features)))\n",
    "model.add(RepeatVector(n_steps_out))\n",
    "model.add(LSTM(100, activation='relu', return_sequences=True))\n",
    "model.add(TimeDistributed(Dense(1)))\n",
    "model.compile(optimizer='adam', loss='mse')\n",
    "# fit model\n",
    "model.fit(X, y, epochs=100, verbose=0)\n",
    "# demonstrate prediction\n",
    "x_input = array([70, 80, 90])\n",
    "x_input = x_input.reshape((1, n_steps_in, n_features))\n",
    "yhat = model.predict(x_input, verbose=0)\n",
    "print(yhat)"
   ]
  },
  {
   "cell_type": "markdown",
   "metadata": {},
   "source": [
    "# Multivariate Multi-Step LSTM Models"
   ]
  },
  {
   "cell_type": "markdown",
   "metadata": {},
   "source": [
    "## Multiple Input Multi-Step Output"
   ]
  },
  {
   "cell_type": "markdown",
   "metadata": {},
   "source": [
    "## Multivariate multi-step stacked lstm example"
   ]
  },
  {
   "cell_type": "code",
   "execution_count": 337,
   "metadata": {},
   "outputs": [
    {
     "output_type": "stream",
     "name": "stdout",
     "text": "(31040, 4) (3449, 4) (34489, 4)\n"
    }
   ],
   "source": [
    "print(myData.values[:num_train].shape,\n",
    "myData.values[num_train:].shape,\n",
    "myData.values.shape)"
   ]
  },
  {
   "cell_type": "code",
   "execution_count": 350,
   "metadata": {},
   "outputs": [
    {
     "output_type": "stream",
     "name": "stdout",
     "text": "(30705, 335, 4) (30705, 4)\n[[1.2734 1.2755 1.2723 1.273 ]\n [1.273  1.2789 1.273  1.2778]\n [1.2778 1.281  1.2775 1.2805]\n ...\n [1.3452 1.3462 1.342  1.3448]\n [1.3438 1.3487 1.3432 1.3465]\n [1.3455 1.3522 1.3455 1.351 ]] [1.3506 1.3548 1.3498 1.3548]\nEpoch 1/200\n  416/30705 [..............................] - ETA: 51:51 - loss: 2.4792"
    },
    {
     "output_type": "error",
     "ename": "KeyboardInterrupt",
     "evalue": "",
     "traceback": [
      "\u001b[1;31m---------------------------------------------------------------------------\u001b[0m",
      "\u001b[1;31mKeyboardInterrupt\u001b[0m                         Traceback (most recent call last)",
      "\u001b[1;32m<ipython-input-350-0e2845c5bd8f>\u001b[0m in \u001b[0;36m<module>\u001b[1;34m\u001b[0m\n\u001b[0;32m     41\u001b[0m \u001b[0mmodel\u001b[0m\u001b[1;33m.\u001b[0m\u001b[0mcompile\u001b[0m\u001b[1;33m(\u001b[0m\u001b[0moptimizer\u001b[0m\u001b[1;33m=\u001b[0m\u001b[1;34m'adam'\u001b[0m\u001b[1;33m,\u001b[0m \u001b[0mloss\u001b[0m\u001b[1;33m=\u001b[0m\u001b[1;34m'mse'\u001b[0m\u001b[1;33m)\u001b[0m\u001b[1;33m\u001b[0m\u001b[1;33m\u001b[0m\u001b[0m\n\u001b[0;32m     42\u001b[0m \u001b[1;31m# fit model\u001b[0m\u001b[1;33m\u001b[0m\u001b[1;33m\u001b[0m\u001b[1;33m\u001b[0m\u001b[0m\n\u001b[1;32m---> 43\u001b[1;33m \u001b[0mmodel\u001b[0m\u001b[1;33m.\u001b[0m\u001b[0mfit\u001b[0m\u001b[1;33m(\u001b[0m\u001b[0mX\u001b[0m\u001b[1;33m,\u001b[0m \u001b[0my\u001b[0m\u001b[1;33m,\u001b[0m \u001b[0mepochs\u001b[0m\u001b[1;33m=\u001b[0m\u001b[1;36m200\u001b[0m\u001b[1;33m,\u001b[0m \u001b[0mverbose\u001b[0m\u001b[1;33m=\u001b[0m\u001b[1;36m1\u001b[0m\u001b[1;33m)\u001b[0m\u001b[1;33m\u001b[0m\u001b[1;33m\u001b[0m\u001b[0m\n\u001b[0m\u001b[0;32m     44\u001b[0m \u001b[1;31m# demonstrate prediction\u001b[0m\u001b[1;33m\u001b[0m\u001b[1;33m\u001b[0m\u001b[1;33m\u001b[0m\u001b[0m\n\u001b[0;32m     45\u001b[0m \u001b[0mx_input\u001b[0m\u001b[1;33m,\u001b[0m\u001b[0my_output\u001b[0m \u001b[1;33m=\u001b[0m \u001b[0msplit_sequences\u001b[0m\u001b[1;33m(\u001b[0m\u001b[0mmyData\u001b[0m\u001b[1;33m.\u001b[0m\u001b[0mvalues\u001b[0m\u001b[1;33m[\u001b[0m\u001b[0mnum_train\u001b[0m\u001b[1;33m:\u001b[0m\u001b[1;33m]\u001b[0m\u001b[1;33m,\u001b[0m \u001b[0mn_steps_in\u001b[0m\u001b[1;33m+\u001b[0m\u001b[1;36m1\u001b[0m\u001b[1;33m,\u001b[0m \u001b[0mn_steps_out\u001b[0m\u001b[1;33m)\u001b[0m\u001b[1;33m\u001b[0m\u001b[1;33m\u001b[0m\u001b[0m\n",
      "\u001b[1;32mE:\\Program Files\\Python38\\lib\\site-packages\\keras\\engine\\training.py\u001b[0m in \u001b[0;36mfit\u001b[1;34m(self, x, y, batch_size, epochs, verbose, callbacks, validation_split, validation_data, shuffle, class_weight, sample_weight, initial_epoch, steps_per_epoch, validation_steps, validation_freq, max_queue_size, workers, use_multiprocessing, **kwargs)\u001b[0m\n\u001b[0;32m   1225\u001b[0m \u001b[1;33m\u001b[0m\u001b[0m\n\u001b[0;32m   1226\u001b[0m         \u001b[1;31m# Delegate logic to `fit_loop`.\u001b[0m\u001b[1;33m\u001b[0m\u001b[1;33m\u001b[0m\u001b[1;33m\u001b[0m\u001b[0m\n\u001b[1;32m-> 1227\u001b[1;33m         return training_arrays.fit_loop(self, fit_function, fit_inputs,\n\u001b[0m\u001b[0;32m   1228\u001b[0m                                         \u001b[0mout_labels\u001b[0m\u001b[1;33m=\u001b[0m\u001b[0mout_labels\u001b[0m\u001b[1;33m,\u001b[0m\u001b[1;33m\u001b[0m\u001b[1;33m\u001b[0m\u001b[0m\n\u001b[0;32m   1229\u001b[0m                                         \u001b[0mbatch_size\u001b[0m\u001b[1;33m=\u001b[0m\u001b[0mbatch_size\u001b[0m\u001b[1;33m,\u001b[0m\u001b[1;33m\u001b[0m\u001b[1;33m\u001b[0m\u001b[0m\n",
      "\u001b[1;32mE:\\Program Files\\Python38\\lib\\site-packages\\keras\\engine\\training_arrays.py\u001b[0m in \u001b[0;36mfit_loop\u001b[1;34m(model, fit_function, fit_inputs, out_labels, batch_size, epochs, verbose, callbacks, val_function, val_inputs, shuffle, initial_epoch, steps_per_epoch, validation_steps, validation_freq)\u001b[0m\n\u001b[0;32m    194\u001b[0m                     \u001b[0mins_batch\u001b[0m\u001b[1;33m[\u001b[0m\u001b[0mi\u001b[0m\u001b[1;33m]\u001b[0m \u001b[1;33m=\u001b[0m \u001b[0mins_batch\u001b[0m\u001b[1;33m[\u001b[0m\u001b[0mi\u001b[0m\u001b[1;33m]\u001b[0m\u001b[1;33m.\u001b[0m\u001b[0mtoarray\u001b[0m\u001b[1;33m(\u001b[0m\u001b[1;33m)\u001b[0m\u001b[1;33m\u001b[0m\u001b[1;33m\u001b[0m\u001b[0m\n\u001b[0;32m    195\u001b[0m \u001b[1;33m\u001b[0m\u001b[0m\n\u001b[1;32m--> 196\u001b[1;33m                 \u001b[0mouts\u001b[0m \u001b[1;33m=\u001b[0m \u001b[0mfit_function\u001b[0m\u001b[1;33m(\u001b[0m\u001b[0mins_batch\u001b[0m\u001b[1;33m)\u001b[0m\u001b[1;33m\u001b[0m\u001b[1;33m\u001b[0m\u001b[0m\n\u001b[0m\u001b[0;32m    197\u001b[0m                 \u001b[0mouts\u001b[0m \u001b[1;33m=\u001b[0m \u001b[0mto_list\u001b[0m\u001b[1;33m(\u001b[0m\u001b[0mouts\u001b[0m\u001b[1;33m)\u001b[0m\u001b[1;33m\u001b[0m\u001b[1;33m\u001b[0m\u001b[0m\n\u001b[0;32m    198\u001b[0m                 \u001b[1;32mfor\u001b[0m \u001b[0ml\u001b[0m\u001b[1;33m,\u001b[0m \u001b[0mo\u001b[0m \u001b[1;32min\u001b[0m \u001b[0mzip\u001b[0m\u001b[1;33m(\u001b[0m\u001b[0mout_labels\u001b[0m\u001b[1;33m,\u001b[0m \u001b[0mouts\u001b[0m\u001b[1;33m)\u001b[0m\u001b[1;33m:\u001b[0m\u001b[1;33m\u001b[0m\u001b[1;33m\u001b[0m\u001b[0m\n",
      "\u001b[1;32mE:\\Program Files\\Python38\\lib\\site-packages\\tensorflow\\python\\keras\\backend.py\u001b[0m in \u001b[0;36m__call__\u001b[1;34m(self, inputs)\u001b[0m\n\u001b[0;32m   3790\u001b[0m         \u001b[0mvalue\u001b[0m \u001b[1;33m=\u001b[0m \u001b[0mmath_ops\u001b[0m\u001b[1;33m.\u001b[0m\u001b[0mcast\u001b[0m\u001b[1;33m(\u001b[0m\u001b[0mvalue\u001b[0m\u001b[1;33m,\u001b[0m \u001b[0mtensor\u001b[0m\u001b[1;33m.\u001b[0m\u001b[0mdtype\u001b[0m\u001b[1;33m)\u001b[0m\u001b[1;33m\u001b[0m\u001b[1;33m\u001b[0m\u001b[0m\n\u001b[0;32m   3791\u001b[0m       \u001b[0mconverted_inputs\u001b[0m\u001b[1;33m.\u001b[0m\u001b[0mappend\u001b[0m\u001b[1;33m(\u001b[0m\u001b[0mvalue\u001b[0m\u001b[1;33m)\u001b[0m\u001b[1;33m\u001b[0m\u001b[1;33m\u001b[0m\u001b[0m\n\u001b[1;32m-> 3792\u001b[1;33m     \u001b[0moutputs\u001b[0m \u001b[1;33m=\u001b[0m \u001b[0mself\u001b[0m\u001b[1;33m.\u001b[0m\u001b[0m_graph_fn\u001b[0m\u001b[1;33m(\u001b[0m\u001b[1;33m*\u001b[0m\u001b[0mconverted_inputs\u001b[0m\u001b[1;33m)\u001b[0m\u001b[1;33m\u001b[0m\u001b[1;33m\u001b[0m\u001b[0m\n\u001b[0m\u001b[0;32m   3793\u001b[0m \u001b[1;33m\u001b[0m\u001b[0m\n\u001b[0;32m   3794\u001b[0m     \u001b[1;31m# EagerTensor.numpy() will often make a copy to ensure memory safety.\u001b[0m\u001b[1;33m\u001b[0m\u001b[1;33m\u001b[0m\u001b[1;33m\u001b[0m\u001b[0m\n",
      "\u001b[1;32mE:\\Program Files\\Python38\\lib\\site-packages\\tensorflow\\python\\eager\\function.py\u001b[0m in \u001b[0;36m__call__\u001b[1;34m(self, *args, **kwargs)\u001b[0m\n\u001b[0;32m   1603\u001b[0m       \u001b[0mTypeError\u001b[0m\u001b[1;33m:\u001b[0m \u001b[0mFor\u001b[0m \u001b[0minvalid\u001b[0m \u001b[0mpositional\u001b[0m\u001b[1;33m/\u001b[0m\u001b[0mkeyword\u001b[0m \u001b[0margument\u001b[0m \u001b[0mcombinations\u001b[0m\u001b[1;33m.\u001b[0m\u001b[1;33m\u001b[0m\u001b[1;33m\u001b[0m\u001b[0m\n\u001b[0;32m   1604\u001b[0m     \"\"\"\n\u001b[1;32m-> 1605\u001b[1;33m     \u001b[1;32mreturn\u001b[0m \u001b[0mself\u001b[0m\u001b[1;33m.\u001b[0m\u001b[0m_call_impl\u001b[0m\u001b[1;33m(\u001b[0m\u001b[0margs\u001b[0m\u001b[1;33m,\u001b[0m \u001b[0mkwargs\u001b[0m\u001b[1;33m)\u001b[0m\u001b[1;33m\u001b[0m\u001b[1;33m\u001b[0m\u001b[0m\n\u001b[0m\u001b[0;32m   1606\u001b[0m \u001b[1;33m\u001b[0m\u001b[0m\n\u001b[0;32m   1607\u001b[0m   \u001b[1;32mdef\u001b[0m \u001b[0m_call_impl\u001b[0m\u001b[1;33m(\u001b[0m\u001b[0mself\u001b[0m\u001b[1;33m,\u001b[0m \u001b[0margs\u001b[0m\u001b[1;33m,\u001b[0m \u001b[0mkwargs\u001b[0m\u001b[1;33m,\u001b[0m \u001b[0mcancellation_manager\u001b[0m\u001b[1;33m=\u001b[0m\u001b[1;32mNone\u001b[0m\u001b[1;33m)\u001b[0m\u001b[1;33m:\u001b[0m\u001b[1;33m\u001b[0m\u001b[1;33m\u001b[0m\u001b[0m\n",
      "\u001b[1;32mE:\\Program Files\\Python38\\lib\\site-packages\\tensorflow\\python\\eager\\function.py\u001b[0m in \u001b[0;36m_call_impl\u001b[1;34m(self, args, kwargs, cancellation_manager)\u001b[0m\n\u001b[0;32m   1643\u001b[0m       raise TypeError(\"Keyword arguments {} unknown. Expected {}.\".format(\n\u001b[0;32m   1644\u001b[0m           list(kwargs.keys()), list(self._arg_keywords)))\n\u001b[1;32m-> 1645\u001b[1;33m     \u001b[1;32mreturn\u001b[0m \u001b[0mself\u001b[0m\u001b[1;33m.\u001b[0m\u001b[0m_call_flat\u001b[0m\u001b[1;33m(\u001b[0m\u001b[0margs\u001b[0m\u001b[1;33m,\u001b[0m \u001b[0mself\u001b[0m\u001b[1;33m.\u001b[0m\u001b[0mcaptured_inputs\u001b[0m\u001b[1;33m,\u001b[0m \u001b[0mcancellation_manager\u001b[0m\u001b[1;33m)\u001b[0m\u001b[1;33m\u001b[0m\u001b[1;33m\u001b[0m\u001b[0m\n\u001b[0m\u001b[0;32m   1646\u001b[0m \u001b[1;33m\u001b[0m\u001b[0m\n\u001b[0;32m   1647\u001b[0m   \u001b[1;32mdef\u001b[0m \u001b[0m_filtered_call\u001b[0m\u001b[1;33m(\u001b[0m\u001b[0mself\u001b[0m\u001b[1;33m,\u001b[0m \u001b[0margs\u001b[0m\u001b[1;33m,\u001b[0m \u001b[0mkwargs\u001b[0m\u001b[1;33m)\u001b[0m\u001b[1;33m:\u001b[0m\u001b[1;33m\u001b[0m\u001b[1;33m\u001b[0m\u001b[0m\n",
      "\u001b[1;32mE:\\Program Files\\Python38\\lib\\site-packages\\tensorflow\\python\\eager\\function.py\u001b[0m in \u001b[0;36m_call_flat\u001b[1;34m(self, args, captured_inputs, cancellation_manager)\u001b[0m\n\u001b[0;32m   1743\u001b[0m         and executing_eagerly):\n\u001b[0;32m   1744\u001b[0m       \u001b[1;31m# No tape is watching; skip to running the function.\u001b[0m\u001b[1;33m\u001b[0m\u001b[1;33m\u001b[0m\u001b[1;33m\u001b[0m\u001b[0m\n\u001b[1;32m-> 1745\u001b[1;33m       return self._build_call_outputs(self._inference_function.call(\n\u001b[0m\u001b[0;32m   1746\u001b[0m           ctx, args, cancellation_manager=cancellation_manager))\n\u001b[0;32m   1747\u001b[0m     forward_backward = self._select_forward_and_backward_functions(\n",
      "\u001b[1;32mE:\\Program Files\\Python38\\lib\\site-packages\\tensorflow\\python\\eager\\function.py\u001b[0m in \u001b[0;36mcall\u001b[1;34m(self, ctx, args, cancellation_manager)\u001b[0m\n\u001b[0;32m    591\u001b[0m       \u001b[1;32mwith\u001b[0m \u001b[0m_InterpolateFunctionError\u001b[0m\u001b[1;33m(\u001b[0m\u001b[0mself\u001b[0m\u001b[1;33m)\u001b[0m\u001b[1;33m:\u001b[0m\u001b[1;33m\u001b[0m\u001b[1;33m\u001b[0m\u001b[0m\n\u001b[0;32m    592\u001b[0m         \u001b[1;32mif\u001b[0m \u001b[0mcancellation_manager\u001b[0m \u001b[1;32mis\u001b[0m \u001b[1;32mNone\u001b[0m\u001b[1;33m:\u001b[0m\u001b[1;33m\u001b[0m\u001b[1;33m\u001b[0m\u001b[0m\n\u001b[1;32m--> 593\u001b[1;33m           outputs = execute.execute(\n\u001b[0m\u001b[0;32m    594\u001b[0m               \u001b[0mstr\u001b[0m\u001b[1;33m(\u001b[0m\u001b[0mself\u001b[0m\u001b[1;33m.\u001b[0m\u001b[0msignature\u001b[0m\u001b[1;33m.\u001b[0m\u001b[0mname\u001b[0m\u001b[1;33m)\u001b[0m\u001b[1;33m,\u001b[0m\u001b[1;33m\u001b[0m\u001b[1;33m\u001b[0m\u001b[0m\n\u001b[0;32m    595\u001b[0m               \u001b[0mnum_outputs\u001b[0m\u001b[1;33m=\u001b[0m\u001b[0mself\u001b[0m\u001b[1;33m.\u001b[0m\u001b[0m_num_outputs\u001b[0m\u001b[1;33m,\u001b[0m\u001b[1;33m\u001b[0m\u001b[1;33m\u001b[0m\u001b[0m\n",
      "\u001b[1;32mE:\\Program Files\\Python38\\lib\\site-packages\\tensorflow\\python\\eager\\execute.py\u001b[0m in \u001b[0;36mquick_execute\u001b[1;34m(op_name, num_outputs, inputs, attrs, ctx, name)\u001b[0m\n\u001b[0;32m     57\u001b[0m   \u001b[1;32mtry\u001b[0m\u001b[1;33m:\u001b[0m\u001b[1;33m\u001b[0m\u001b[1;33m\u001b[0m\u001b[0m\n\u001b[0;32m     58\u001b[0m     \u001b[0mctx\u001b[0m\u001b[1;33m.\u001b[0m\u001b[0mensure_initialized\u001b[0m\u001b[1;33m(\u001b[0m\u001b[1;33m)\u001b[0m\u001b[1;33m\u001b[0m\u001b[1;33m\u001b[0m\u001b[0m\n\u001b[1;32m---> 59\u001b[1;33m     tensors = pywrap_tfe.TFE_Py_Execute(ctx._handle, device_name, op_name,\n\u001b[0m\u001b[0;32m     60\u001b[0m                                         inputs, attrs, num_outputs)\n\u001b[0;32m     61\u001b[0m   \u001b[1;32mexcept\u001b[0m \u001b[0mcore\u001b[0m\u001b[1;33m.\u001b[0m\u001b[0m_NotOkStatusException\u001b[0m \u001b[1;32mas\u001b[0m \u001b[0me\u001b[0m\u001b[1;33m:\u001b[0m\u001b[1;33m\u001b[0m\u001b[1;33m\u001b[0m\u001b[0m\n",
      "\u001b[1;31mKeyboardInterrupt\u001b[0m: "
     ]
    }
   ],
   "source": [
    "from numpy import array\n",
    "from numpy import hstack\n",
    "from keras.models import Sequential\n",
    "from keras.layers import LSTM\n",
    "from keras.layers import Dense\n",
    "\n",
    "# split a multivariate sequence into samples\n",
    "def split_sequences(sequences, n_steps_in, n_steps_out):\n",
    "\tX, y = list(), list()\n",
    "\tfor i in range(len(sequences)):\n",
    "\t\t# find the end of this pattern\n",
    "\t\tend_ix = i + n_steps_in\n",
    "\t\tout_end_ix = end_ix + n_steps_out-1\n",
    "\t\t# check if we are beyond the dataset\n",
    "\t\tif out_end_ix > len(sequences):\n",
    "\t\t\tbreak\n",
    "\t\t# gather input and output parts of the pattern\n",
    "\t\tseq_x, seq_y = sequences[i:end_ix-1,:], sequences[end_ix-1:out_end_ix, :4]\n",
    "\t\tX.append(seq_x)\n",
    "\t\ty.append(seq_y)\n",
    "\treturn array(X), array(y).reshape(len(y),4)\n",
    "\n",
    "\n",
    "# choose a number of time steps\n",
    "n_steps_in, n_steps_out = 336, 1\n",
    "\n",
    "# covert into input/output\n",
    "X, y = split_sequences(myData.values[:num_train], n_steps_in, n_steps_out)\n",
    "# the dataset knows the number of features, e.g. 2\n",
    "n_steps_in=n_steps_in-1\n",
    "n_features = X.shape[2]\n",
    "print(X.shape,y.shape)\n",
    "#pd.DataFrame(np.vstack([X[0],y[0]])).tail(10)\n",
    "print(X[0],y[0])\n",
    "# define model\n",
    "#del model\n",
    "model = Sequential()\n",
    "model.add(LSTM(768, activation='selu', return_sequences=True, input_shape=(n_steps_in, n_features)))\n",
    "model.add(LSTM(768, activation='selu'))\n",
    "model.add(Dense(4, activation='selu'))\n",
    "model.compile(optimizer='adam', loss='mse')\n",
    "# fit model\n",
    "model.fit(X, y, epochs=200, verbose=1)\n",
    "# demonstrate prediction\n",
    "x_input,y_output = split_sequences(myData.values[num_train:], n_steps_in+1, n_steps_out)\n",
    "x_input[0].shape,y_output[0].shape\n",
    "print(x_input[0],y_output[0])\n",
    "print(myData.values[num_train:num_train+n_steps_in+1])\n",
    "x_input = x_input.reshape((1, n_steps_in, n_features))\n",
    "yhat = model.predict(x_input, verbose=1)\n",
    "print(yhat)"
   ]
  },
  {
   "cell_type": "markdown",
   "metadata": {},
   "source": [
    "## Multivariate multi-step encoder-decoder lstm example"
   ]
  },
  {
   "cell_type": "code",
   "execution_count": 55,
   "metadata": {},
   "outputs": [
    {
     "output_type": "error",
     "ename": "NameError",
     "evalue": "name 'hstack' is not defined",
     "traceback": [
      "\u001b[1;31m---------------------------------------------------------------------------\u001b[0m",
      "\u001b[1;31mNameError\u001b[0m                                 Traceback (most recent call last)",
      "\u001b[1;32m<ipython-input-55-74d16e6d4567>\u001b[0m in \u001b[0;36m<module>\u001b[1;34m\u001b[0m\n\u001b[0;32m     24\u001b[0m \u001b[0mout_seq\u001b[0m \u001b[1;33m=\u001b[0m \u001b[0mout_seq\u001b[0m\u001b[1;33m.\u001b[0m\u001b[0mreshape\u001b[0m\u001b[1;33m(\u001b[0m\u001b[1;33m(\u001b[0m\u001b[0mlen\u001b[0m\u001b[1;33m(\u001b[0m\u001b[0mout_seq\u001b[0m\u001b[1;33m)\u001b[0m\u001b[1;33m,\u001b[0m \u001b[1;36m1\u001b[0m\u001b[1;33m)\u001b[0m\u001b[1;33m)\u001b[0m\u001b[1;33m\u001b[0m\u001b[1;33m\u001b[0m\u001b[0m\n\u001b[0;32m     25\u001b[0m \u001b[1;31m# horizontally stack columns\u001b[0m\u001b[1;33m\u001b[0m\u001b[1;33m\u001b[0m\u001b[1;33m\u001b[0m\u001b[0m\n\u001b[1;32m---> 26\u001b[1;33m \u001b[0mdataset\u001b[0m \u001b[1;33m=\u001b[0m \u001b[0mhstack\u001b[0m\u001b[1;33m(\u001b[0m\u001b[1;33m(\u001b[0m\u001b[0min_seq1\u001b[0m\u001b[1;33m,\u001b[0m \u001b[0min_seq2\u001b[0m\u001b[1;33m,\u001b[0m \u001b[0mout_seq\u001b[0m\u001b[1;33m)\u001b[0m\u001b[1;33m)\u001b[0m\u001b[1;33m\u001b[0m\u001b[1;33m\u001b[0m\u001b[0m\n\u001b[0m\u001b[0;32m     27\u001b[0m \u001b[0mprint\u001b[0m\u001b[1;33m(\u001b[0m\u001b[0mdataset\u001b[0m\u001b[1;33m)\u001b[0m\u001b[1;33m\u001b[0m\u001b[1;33m\u001b[0m\u001b[0m\n\u001b[0;32m     28\u001b[0m \u001b[1;31m# choose a number of time steps\u001b[0m\u001b[1;33m\u001b[0m\u001b[1;33m\u001b[0m\u001b[1;33m\u001b[0m\u001b[0m\n",
      "\u001b[1;31mNameError\u001b[0m: name 'hstack' is not defined"
     ]
    }
   ],
   "source": [
    "# split a multivariate sequence into samples\n",
    "def split_sequences(sequences, n_steps_in, n_steps_out):\n",
    "\tX, y = list(), list()\n",
    "\tfor i in range(len(sequences)):\n",
    "\t\t# find the end of this pattern\n",
    "\t\tend_ix = i + n_steps_in\n",
    "\t\tout_end_ix = end_ix + n_steps_out\n",
    "\t\t# check if we are beyond the dataset\n",
    "\t\tif out_end_ix > len(sequences):\n",
    "\t\t\tbreak\n",
    "\t\t# gather input and output parts of the pattern\n",
    "\t\tseq_x, seq_y = sequences[i:end_ix, :], sequences[end_ix:out_end_ix, :]\n",
    "\t\tX.append(seq_x)\n",
    "\t\ty.append(seq_y)\n",
    "\treturn array(X), array(y)\n",
    "\n",
    "# define input sequence\n",
    "in_seq1 = array([10, 20, 30, 40, 50, 60, 70, 80, 90])\n",
    "in_seq2 = array([15, 25, 35, 45, 55, 65, 75, 85, 95])\n",
    "out_seq = array([in_seq1[i]+in_seq2[i] for i in range(len(in_seq1))])\n",
    "# convert to [rows, columns] structure\n",
    "in_seq1 = in_seq1.reshape((len(in_seq1), 1))\n",
    "in_seq2 = in_seq2.reshape((len(in_seq2), 1))\n",
    "out_seq = out_seq.reshape((len(out_seq), 1))\n",
    "# horizontally stack columns\n",
    "dataset = hstack((in_seq1, in_seq2, out_seq))\n",
    "print(dataset)\n",
    "# choose a number of time steps\n",
    "n_steps_in, n_steps_out = 3, 2\n",
    "# covert into input/output\n",
    "X, y = split_sequences(dataset, n_steps_in, n_steps_out)\n",
    "# the dataset knows the number of features, e.g. 2\n",
    "for i in range(len(y)): print(X[i],y[i])\n",
    "n_features = X.shape[2]\n",
    "print(X.shape)\n",
    "# define model\n",
    "model = Sequential()\n",
    "model.add(LSTM(200, activation='relu', input_shape=(n_steps_in, n_features)))\n",
    "model.add(RepeatVector(n_steps_out))\n",
    "model.add(LSTM(200, activation='relu', return_sequences=True))\n",
    "model.add(TimeDistributed(Dense(n_features)))\n",
    "model.compile(optimizer='adam', loss='mse')\n",
    "# fit model\n",
    "#model.fit(X, y, epochs=300, verbose=0)\n",
    "# demonstrate prediction\n",
    "x_input = array([[60, 65, 125], [70, 75, 145], [80, 85, 165]])\n",
    "x_input = x_input.reshape((1, n_steps_in, n_features))\n",
    "yhat = model.predict(x_input, verbose=0)\n",
    "print(yhat)"
   ]
  },
  {
   "cell_type": "code",
   "execution_count": null,
   "metadata": {},
   "outputs": [],
   "source": []
  }
 ],
 "metadata": {
  "anaconda-cloud": {},
  "kernelspec": {
   "name": "python38264bitad33d1ee1d09461ead214b7fdb01f87d",
   "display_name": "Python 3.8.2 64-bit"
  },
  "language_info": {
   "codemirror_mode": {
    "name": "ipython",
    "version": 3
   },
   "file_extension": ".py",
   "mimetype": "text/x-python",
   "name": "python",
   "nbconvert_exporter": "python",
   "pygments_lexer": "ipython3",
   "version": "3.8.2"
  },
  "metadata": {
   "interpreter": {
    "hash": "e588a23f49329b9290dda077d79a9005879a30fe97c1fa2c6a93e79fd5926943"
   }
  }
 },
 "nbformat": 4,
 "nbformat_minor": 1
}